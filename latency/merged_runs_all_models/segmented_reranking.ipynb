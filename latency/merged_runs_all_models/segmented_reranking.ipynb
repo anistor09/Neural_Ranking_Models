{
 "cells": [
  {
   "cell_type": "code",
   "execution_count": 1,
   "outputs": [
    {
     "name": "stderr",
     "output_type": "stream",
     "text": [
      "PyTerrier 0.10.0 has loaded Terrier 5.9 (built by craigm on 2024-05-02 17:40) and terrier-helper 0.0.8\n",
      "\n",
      "No etc/terrier.properties, using terrier.default.properties for bootstrap configuration.\n"
     ]
    }
   ],
   "source": [
    "import io\n",
    "\n",
    "import pyterrier as pt\n",
    "from experiment_utils.experiments_helper import get_timeit_dependencies_name, getOptimalAlpha, latency_per_query, \\\n",
    "    load_dense_index_from_disk\n",
    "from latency.latency_utils import preprocess_data, get_vector_ids\n",
    "\n",
    "if not pt.started():\n",
    "    pt.init()"
   ],
   "metadata": {
    "collapsed": false
   }
  },
  {
   "cell_type": "code",
   "execution_count": 2,
   "outputs": [],
   "source": [
    "from encoders.bge_base_en import BgeQueryEncoder\n",
    "\n",
    "package = \"BAAI/\"\n",
    "model_name = \"bge-base-en-v1.5\"\n",
    "q_encoder = BgeQueryEncoder(package + model_name)\n",
    "model_directory = 'bge'\n",
    "path_to_root = \"../../\"\n",
    "pipeline_name = \"BM25 >> bge-base-en-v1.5\""
   ],
   "metadata": {
    "collapsed": false
   }
  },
  {
   "cell_type": "code",
   "execution_count": 3,
   "outputs": [],
   "source": [
    "prefix = \"irds:beir/\"\n",
    "test_suffix = \"/test\""
   ],
   "metadata": {
    "collapsed": false
   }
  },
  {
   "cell_type": "code",
   "execution_count": 4,
   "outputs": [],
   "source": [
    "def get_timeit_dep(dataset_name):\n",
    "    results_lexical_retriever, semantic_reranker = get_timeit_dependencies_name(prefix + dataset_name,\n",
    "                                                                                prefix + dataset_name + test_suffix,\n",
    "                                                                                q_encoder,\n",
    "                                                                                model_name,\n",
    "                                                                                path_to_root, model_directory,\n",
    "                                                                                alpha=getOptimalAlpha(\n",
    "                                                                                    prefix + dataset_name,\n",
    "                                                                                    pipeline_name, model_directory))\n",
    "    dense_index = load_dense_index_from_disk(prefix + dataset_name, q_encoder,\n",
    "                                             model_name,\n",
    "                                             path_to_root, model_directory)\n",
    "\n",
    "    processed_df, queries = preprocess_data(results_lexical_retriever)\n",
    "\n",
    "    return processed_df, queries, dense_index, results_lexical_retriever, semantic_reranker"
   ],
   "metadata": {
    "collapsed": false
   }
  },
  {
   "cell_type": "code",
   "execution_count": 5,
   "outputs": [],
   "source": [
    "from contextlib import redirect_stdout\n",
    "\n",
    "\n",
    "def measure_latency(dataset_name):\n",
    "    processed_df, queries, dense_index, results_lexical_retriever, semantic_reranker = get_timeit_dep(dataset_name)\n",
    "\n",
    "    f = io.StringIO()\n",
    "    with redirect_stdout(f):\n",
    "        %timeit dense_index.encode_queries(queries)\n",
    "    timeit_output = f.getvalue()\n",
    "\n",
    "    result = latency_per_query(timeit_output, prefix + dataset_name, test_suffix, pipeline_name, model_directory,\n",
    "                               \"query_encoding_\")\n",
    "    print(\"Query encoding time: \" + result)\n",
    "\n",
    "    vector_ids = get_vector_ids(processed_df)\n",
    "\n",
    "    f = io.StringIO()\n",
    "    with redirect_stdout(f):\n",
    "        %timeit dense_index.get_current_vectors(vector_ids)\n",
    "    timeit_output = f.getvalue()\n",
    "\n",
    "    result = latency_per_query(timeit_output, prefix + dataset_name, test_suffix, pipeline_name, model_directory,\n",
    "                               \"vector_embedding_\")\n",
    "    print(\"Document retrieval time: \" + result)\n"
   ],
   "metadata": {
    "collapsed": false
   }
  },
  {
   "cell_type": "code",
   "execution_count": 6,
   "outputs": [],
   "source": [
    "import traceback\n",
    "\n",
    "\n",
    "def run_latency_datasets():\n",
    "    for dataset_name in dataset_list:\n",
    "        try:\n",
    "            measure_latency(dataset_name)\n",
    "        except Exception as e:\n",
    "            traceback.print_exc()"
   ],
   "metadata": {
    "collapsed": false
   }
  },
  {
   "cell_type": "code",
   "execution_count": 7,
   "outputs": [],
   "source": [
    "dataset_list = [\"fiqa\", \"nfcorpus\", \"scifact\"]"
   ],
   "metadata": {
    "collapsed": false
   }
  },
  {
   "cell_type": "code",
   "execution_count": 8,
   "outputs": [
    {
     "name": "stderr",
     "output_type": "stream",
     "text": [
      "100%|██████████| 57638/57638 [00:00<00:00, 464498.11it/s]\n",
      "100%|██████████| 57638/57638 [00:00<00:00, 1552414.46it/s]\n"
     ]
    },
    {
     "name": "stdout",
     "output_type": "stream",
     "text": [
      "16 s +- 599 ms per loop (mean +- std. dev. of 7 runs, 1 loop each)\n",
      "\n",
      "Query encoding time: Latency per query: 24.6914 ms. Experiment details: 16 s +- 599 ms per loop (mean +- std. dev. of 7 runs, 1 loop each)\n",
      "\n",
      "158 ms +- 16.5 ms per loop (mean +- std. dev. of 7 runs, 10 loops each)\n",
      "\n",
      "Document retrieval time: Latency per query: 0.2438 ms. Experiment details: 158 ms +- 16.5 ms per loop (mean +- std. dev. of 7 runs, 10 loops each)\n",
      "\n"
     ]
    },
    {
     "name": "stderr",
     "output_type": "stream",
     "text": [
      "100%|██████████| 3633/3633 [00:00<00:00, 1838328.68it/s]\n",
      "100%|██████████| 3633/3633 [00:00<00:00, 1554729.77it/s]\n"
     ]
    },
    {
     "name": "stdout",
     "output_type": "stream",
     "text": [
      "4.59 s +- 52.7 ms per loop (mean +- std. dev. of 7 runs, 1 loop each)\n",
      "\n",
      "Query encoding time: Latency per query: 14.2105 ms. Experiment details: 4.59 s +- 52.7 ms per loop (mean +- std. dev. of 7 runs, 1 loop each)\n",
      "\n",
      "6.17 ms +- 15.6 us per loop (mean +- std. dev. of 7 runs, 100 loops each)\n",
      "\n",
      "Document retrieval time: Latency per query: 0.0191 ms. Experiment details: 6.17 ms +- 15.6 us per loop (mean +- std. dev. of 7 runs, 100 loops each)\n",
      "\n"
     ]
    },
    {
     "name": "stderr",
     "output_type": "stream",
     "text": [
      "100%|██████████| 5183/5183 [00:00<00:00, 1453924.40it/s]\n",
      "100%|██████████| 5183/5183 [00:00<00:00, 1610898.68it/s]\n"
     ]
    },
    {
     "name": "stdout",
     "output_type": "stream",
     "text": [
      "10.4 s +- 156 ms per loop (mean +- std. dev. of 7 runs, 1 loop each)\n",
      "\n",
      "Query encoding time: Latency per query: 34.6667 ms. Experiment details: 10.4 s +- 156 ms per loop (mean +- std. dev. of 7 runs, 1 loop each)\n",
      "\n",
      "9.6 ms +- 86.4 us per loop (mean +- std. dev. of 7 runs, 100 loops each)\n",
      "\n",
      "Document retrieval time: Latency per query: 0.032 ms. Experiment details: 9.6 ms +- 86.4 us per loop (mean +- std. dev. of 7 runs, 100 loops each)\n",
      "\n"
     ]
    }
   ],
   "source": [
    "run_latency_datasets()"
   ],
   "metadata": {
    "collapsed": false
   }
  },
  {
   "cell_type": "code",
   "execution_count": 9,
   "outputs": [
    {
     "name": "stderr",
     "output_type": "stream",
     "text": [
      "100%|██████████| 57638/57638 [00:00<00:00, 1512741.97it/s]\n",
      "100%|██████████| 57638/57638 [00:00<00:00, 1467801.40it/s]\n"
     ]
    },
    {
     "name": "stdout",
     "output_type": "stream",
     "text": [
      "4.76 s +- 282 ms per loop (mean +- std. dev. of 7 runs, 1 loop each)\n",
      "\n",
      "Query encoding time: Latency per query: 7.3457 ms. Experiment details: 4.76 s +- 282 ms per loop (mean +- std. dev. of 7 runs, 1 loop each)\n",
      "\n",
      "143 ms +- 4.76 ms per loop (mean +- std. dev. of 7 runs, 1 loop each)\n",
      "\n",
      "Document retrieval time: Latency per query: 0.2207 ms. Experiment details: 143 ms +- 4.76 ms per loop (mean +- std. dev. of 7 runs, 1 loop each)\n",
      "\n"
     ]
    },
    {
     "name": "stderr",
     "output_type": "stream",
     "text": [
      "100%|██████████| 3633/3633 [00:00<00:00, 1083700.05it/s]\n",
      "100%|██████████| 3633/3633 [00:00<00:00, 880142.46it/s]\n"
     ]
    },
    {
     "name": "stdout",
     "output_type": "stream",
     "text": [
      "1.64 s +- 63.8 ms per loop (mean +- std. dev. of 7 runs, 1 loop each)\n",
      "\n",
      "Query encoding time: Latency per query: 5.0774 ms. Experiment details: 1.64 s +- 63.8 ms per loop (mean +- std. dev. of 7 runs, 1 loop each)\n",
      "\n",
      "5.43 ms +- 232 us per loop (mean +- std. dev. of 7 runs, 100 loops each)\n",
      "\n",
      "Document retrieval time: Latency per query: 0.0168 ms. Experiment details: 5.43 ms +- 232 us per loop (mean +- std. dev. of 7 runs, 100 loops each)\n",
      "\n"
     ]
    },
    {
     "name": "stderr",
     "output_type": "stream",
     "text": [
      "100%|██████████| 5183/5183 [00:00<00:00, 741290.24it/s]\n",
      "100%|██████████| 5183/5183 [00:00<00:00, 772862.54it/s]\n"
     ]
    },
    {
     "name": "stdout",
     "output_type": "stream",
     "text": [
      "3.84 s +- 90.4 ms per loop (mean +- std. dev. of 7 runs, 1 loop each)\n",
      "\n",
      "Query encoding time: Latency per query: 12.8 ms. Experiment details: 3.84 s +- 90.4 ms per loop (mean +- std. dev. of 7 runs, 1 loop each)\n",
      "\n",
      "8.04 ms +- 597 us per loop (mean +- std. dev. of 7 runs, 100 loops each)\n",
      "\n",
      "Document retrieval time: Latency per query: 0.0268 ms. Experiment details: 8.04 ms +- 597 us per loop (mean +- std. dev. of 7 runs, 100 loops each)\n",
      "\n"
     ]
    }
   ],
   "source": [
    "model_name = \"bge-small-en-v1.5\"\n",
    "pipeline_name = \"BM25 >> \" + model_name\n",
    "q_encoder = BgeQueryEncoder(package + model_name)\n",
    "\n",
    "run_latency_datasets()"
   ],
   "metadata": {
    "collapsed": false
   }
  },
  {
   "cell_type": "code",
   "execution_count": 10,
   "outputs": [
    {
     "name": "stderr",
     "output_type": "stream",
     "text": [
      "100%|██████████| 57638/57638 [00:00<00:00, 1259672.43it/s]\n",
      "100%|██████████| 57638/57638 [00:00<00:00, 1392552.51it/s]\n"
     ]
    },
    {
     "name": "stdout",
     "output_type": "stream",
     "text": [
      "16.3 s +- 546 ms per loop (mean +- std. dev. of 7 runs, 1 loop each)\n",
      "\n",
      "Query encoding time: Latency per query: 25.1543 ms. Experiment details: 16.3 s +- 546 ms per loop (mean +- std. dev. of 7 runs, 1 loop each)\n",
      "\n",
      "158 ms +- 3.5 ms per loop (mean +- std. dev. of 7 runs, 1 loop each)\n",
      "\n",
      "Document retrieval time: Latency per query: 0.2438 ms. Experiment details: 158 ms +- 3.5 ms per loop (mean +- std. dev. of 7 runs, 1 loop each)\n",
      "\n"
     ]
    },
    {
     "name": "stderr",
     "output_type": "stream",
     "text": [
      "100%|██████████| 3633/3633 [00:00<00:00, 1501567.45it/s]\n",
      "100%|██████████| 3633/3633 [00:00<00:00, 1348367.97it/s]\n"
     ]
    },
    {
     "name": "stdout",
     "output_type": "stream",
     "text": [
      "4.28 s +- 305 ms per loop (mean +- std. dev. of 7 runs, 1 loop each)\n",
      "\n",
      "Query encoding time: Latency per query: 13.2508 ms. Experiment details: 4.28 s +- 305 ms per loop (mean +- std. dev. of 7 runs, 1 loop each)\n",
      "\n",
      "6.18 ms +- 17.5 us per loop (mean +- std. dev. of 7 runs, 100 loops each)\n",
      "\n",
      "Document retrieval time: Latency per query: 0.0191 ms. Experiment details: 6.18 ms +- 17.5 us per loop (mean +- std. dev. of 7 runs, 100 loops each)\n",
      "\n"
     ]
    },
    {
     "name": "stderr",
     "output_type": "stream",
     "text": [
      "100%|██████████| 5183/5183 [00:00<00:00, 1595997.18it/s]\n",
      "100%|██████████| 5183/5183 [00:00<00:00, 1745549.83it/s]\n"
     ]
    },
    {
     "name": "stdout",
     "output_type": "stream",
     "text": [
      "11.9 s +- 153 ms per loop (mean +- std. dev. of 7 runs, 1 loop each)\n",
      "\n",
      "Query encoding time: Latency per query: 39.6667 ms. Experiment details: 11.9 s +- 153 ms per loop (mean +- std. dev. of 7 runs, 1 loop each)\n",
      "\n",
      "9.77 ms +- 24.6 us per loop (mean +- std. dev. of 7 runs, 100 loops each)\n",
      "\n",
      "Document retrieval time: Latency per query: 0.0326 ms. Experiment details: 9.77 ms +- 24.6 us per loop (mean +- std. dev. of 7 runs, 100 loops each)\n",
      "\n"
     ]
    }
   ],
   "source": [
    "from encoders.gte_base_en_encoder import GTEBaseEncoder\n",
    "\n",
    "package = \"Alibaba-NLP/\"\n",
    "model_name = \"gte-base-en-v1.5\"\n",
    "q_encoder = GTEBaseEncoder(package + model_name)\n",
    "model_directory = 'gte_base_en_v1_5'\n",
    "pipeline_name = \"BM25 >> \" + model_name\n",
    "\n",
    "run_latency_datasets()"
   ],
   "metadata": {
    "collapsed": false
   }
  },
  {
   "cell_type": "code",
   "execution_count": 8,
   "outputs": [
    {
     "name": "stderr",
     "output_type": "stream",
     "text": [
      "100%|██████████| 57638/57638 [00:00<00:00, 1024044.45it/s]\n",
      "100%|██████████| 57638/57638 [00:00<00:00, 1299353.92it/s]\n"
     ]
    },
    {
     "name": "stdout",
     "output_type": "stream",
     "text": [
      "18.9 s +- 461 ms per loop (mean +- std. dev. of 7 runs, 1 loop each)\n",
      "\n",
      "Query encoding time: Latency per query: 29.1667 ms. Experiment details: 18.9 s +- 461 ms per loop (mean +- std. dev. of 7 runs, 1 loop each)\n",
      "\n",
      "151 ms +- 3.8 ms per loop (mean +- std. dev. of 7 runs, 1 loop each)\n",
      "\n",
      "Document retrieval time: Latency per query: 0.233 ms. Experiment details: 151 ms +- 3.8 ms per loop (mean +- std. dev. of 7 runs, 1 loop each)\n",
      "\n"
     ]
    },
    {
     "name": "stderr",
     "output_type": "stream",
     "text": [
      "100%|██████████| 3633/3633 [00:00<00:00, 1581515.98it/s]\n",
      "100%|██████████| 3633/3633 [00:00<00:00, 1643787.10it/s]\n"
     ]
    },
    {
     "name": "stdout",
     "output_type": "stream",
     "text": [
      "6.06 s +- 168 ms per loop (mean +- std. dev. of 7 runs, 1 loop each)\n",
      "\n",
      "Query encoding time: Latency per query: 18.7616 ms. Experiment details: 6.06 s +- 168 ms per loop (mean +- std. dev. of 7 runs, 1 loop each)\n",
      "\n",
      "6.95 ms +- 349 us per loop (mean +- std. dev. of 7 runs, 100 loops each)\n",
      "\n",
      "Document retrieval time: Latency per query: 0.0215 ms. Experiment details: 6.95 ms +- 349 us per loop (mean +- std. dev. of 7 runs, 100 loops each)\n",
      "\n"
     ]
    },
    {
     "name": "stderr",
     "output_type": "stream",
     "text": [
      "100%|██████████| 5183/5183 [00:00<00:00, 1358607.44it/s]\n",
      "100%|██████████| 5183/5183 [00:00<00:00, 1390588.99it/s]\n"
     ]
    },
    {
     "name": "stdout",
     "output_type": "stream",
     "text": [
      "13.1 s +- 523 ms per loop (mean +- std. dev. of 7 runs, 1 loop each)\n",
      "\n",
      "Query encoding time: Latency per query: 43.6667 ms. Experiment details: 13.1 s +- 523 ms per loop (mean +- std. dev. of 7 runs, 1 loop each)\n",
      "\n",
      "9.74 ms +- 43.8 us per loop (mean +- std. dev. of 7 runs, 100 loops each)\n",
      "\n",
      "Document retrieval time: Latency per query: 0.0325 ms. Experiment details: 9.74 ms +- 43.8 us per loop (mean +- std. dev. of 7 runs, 100 loops each)\n",
      "\n"
     ]
    }
   ],
   "source": [
    "from encoders.snowflake_arctic_embed_m import SnowFlakeQueryEncoder\n",
    "\n",
    "package = \"Snowflake/\"\n",
    "model_name = \"snowflake-arctic-embed-m\"\n",
    "q_encoder = SnowFlakeQueryEncoder(package + model_name)\n",
    "model_directory = 'snowflake'\n",
    "pipeline_name = \"BM25 >> \" + model_name\n",
    "\n",
    "run_latency_datasets()"
   ],
   "metadata": {
    "collapsed": false
   }
  },
  {
   "cell_type": "code",
   "execution_count": 12,
   "outputs": [
    {
     "name": "stderr",
     "output_type": "stream",
     "text": [
      "100%|██████████| 57638/57638 [00:00<00:00, 1453635.99it/s]\n",
      "100%|██████████| 57638/57638 [00:00<00:00, 1351743.94it/s]\n"
     ]
    },
    {
     "name": "stdout",
     "output_type": "stream",
     "text": [
      "2.28 s +- 80.3 ms per loop (mean +- std. dev. of 7 runs, 1 loop each)\n",
      "\n",
      "Query encoding time: Latency per query: 3.5185 ms. Experiment details: 2.28 s +- 80.3 ms per loop (mean +- std. dev. of 7 runs, 1 loop each)\n",
      "\n",
      "130 ms +- 1.87 ms per loop (mean +- std. dev. of 7 runs, 10 loops each)\n",
      "\n",
      "Document retrieval time: Latency per query: 0.2006 ms. Experiment details: 130 ms +- 1.87 ms per loop (mean +- std. dev. of 7 runs, 10 loops each)\n",
      "\n"
     ]
    },
    {
     "name": "stderr",
     "output_type": "stream",
     "text": [
      "100%|██████████| 3633/3633 [00:00<00:00, 1079630.61it/s]\n",
      "100%|██████████| 3633/3633 [00:00<00:00, 1597264.83it/s]\n"
     ]
    },
    {
     "name": "stdout",
     "output_type": "stream",
     "text": [
      "691 ms +- 15.4 ms per loop (mean +- std. dev. of 7 runs, 1 loop each)\n",
      "\n",
      "Query encoding time: Latency per query: 2.1393 ms. Experiment details: 691 ms +- 15.4 ms per loop (mean +- std. dev. of 7 runs, 1 loop each)\n",
      "\n",
      "4.7 ms +- 43 us per loop (mean +- std. dev. of 7 runs, 100 loops each)\n",
      "\n",
      "Document retrieval time: Latency per query: 0.0146 ms. Experiment details: 4.7 ms +- 43 us per loop (mean +- std. dev. of 7 runs, 100 loops each)\n",
      "\n"
     ]
    },
    {
     "name": "stderr",
     "output_type": "stream",
     "text": [
      "100%|██████████| 5183/5183 [00:00<00:00, 1494916.63it/s]\n",
      "100%|██████████| 5183/5183 [00:00<00:00, 1235525.87it/s]\n"
     ]
    },
    {
     "name": "stdout",
     "output_type": "stream",
     "text": [
      "1.65 s +- 24.9 ms per loop (mean +- std. dev. of 7 runs, 1 loop each)\n",
      "\n",
      "Query encoding time: Latency per query: 5.5 ms. Experiment details: 1.65 s +- 24.9 ms per loop (mean +- std. dev. of 7 runs, 1 loop each)\n",
      "\n",
      "7.55 ms +- 17.4 us per loop (mean +- std. dev. of 7 runs, 100 loops each)\n",
      "\n",
      "Document retrieval time: Latency per query: 0.0252 ms. Experiment details: 7.55 ms +- 17.4 us per loop (mean +- std. dev. of 7 runs, 100 loops each)\n",
      "\n"
     ]
    }
   ],
   "source": [
    "from encoders.snowflake_arctic_embed_m import SnowFlakeQueryEncoder\n",
    "\n",
    "package = \"Snowflake/\"\n",
    "model_name = \"snowflake-arctic-embed-xs\"\n",
    "model_directory = 'snowflake'\n",
    "q_encoder = SnowFlakeQueryEncoder(package + model_name)\n",
    "pipeline_name = \"BM25 >> \" + model_name\n",
    "\n",
    "for dataset_name in dataset_list:\n",
    "    measure_latency(dataset_name)"
   ],
   "metadata": {
    "collapsed": false
   }
  },
  {
   "cell_type": "code",
   "execution_count": 13,
   "outputs": [
    {
     "name": "stderr",
     "output_type": "stream",
     "text": [
      "/home/anistor/.local/lib/python3.10/site-packages/huggingface_hub/file_download.py:1132: FutureWarning: `resume_download` is deprecated and will be removed in version 1.0.0. Downloads always resume when possible. If you want to force a new download, use `force_download=True`.\n",
      "  warnings.warn(\n",
      "100%|██████████| 57638/57638 [00:00<00:00, 1450217.72it/s]\n",
      "100%|██████████| 57638/57638 [00:00<00:00, 1376990.25it/s]\n"
     ]
    },
    {
     "name": "stdout",
     "output_type": "stream",
     "text": [
      "20.3 s +- 725 ms per loop (mean +- std. dev. of 7 runs, 1 loop each)\n",
      "\n",
      "Query encoding time: Latency per query: 31.3272 ms. Experiment details: 20.3 s +- 725 ms per loop (mean +- std. dev. of 7 runs, 1 loop each)\n",
      "\n",
      "203 ms +- 20.5 ms per loop (mean +- std. dev. of 7 runs, 1 loop each)\n",
      "\n",
      "Document retrieval time: Latency per query: 0.3133 ms. Experiment details: 203 ms +- 20.5 ms per loop (mean +- std. dev. of 7 runs, 1 loop each)\n",
      "\n"
     ]
    },
    {
     "name": "stderr",
     "output_type": "stream",
     "text": [
      "100%|██████████| 3633/3633 [00:00<00:00, 1351237.60it/s]\n",
      "100%|██████████| 3633/3633 [00:00<00:00, 1476827.53it/s]\n"
     ]
    },
    {
     "name": "stdout",
     "output_type": "stream",
     "text": [
      "8.09 s +- 177 ms per loop (mean +- std. dev. of 7 runs, 1 loop each)\n",
      "\n",
      "Query encoding time: Latency per query: 25.0464 ms. Experiment details: 8.09 s +- 177 ms per loop (mean +- std. dev. of 7 runs, 1 loop each)\n",
      "\n",
      "6.62 ms +- 333 us per loop (mean +- std. dev. of 7 runs, 100 loops each)\n",
      "\n",
      "Document retrieval time: Latency per query: 0.0205 ms. Experiment details: 6.62 ms +- 333 us per loop (mean +- std. dev. of 7 runs, 100 loops each)\n",
      "\n"
     ]
    },
    {
     "name": "stderr",
     "output_type": "stream",
     "text": [
      "100%|██████████| 5183/5183 [00:00<00:00, 1396395.02it/s]\n",
      "100%|██████████| 5183/5183 [00:00<00:00, 1523411.19it/s]\n"
     ]
    },
    {
     "name": "stdout",
     "output_type": "stream",
     "text": [
      "7.84 s +- 128 ms per loop (mean +- std. dev. of 7 runs, 1 loop each)\n",
      "\n",
      "Query encoding time: Latency per query: 26.1333 ms. Experiment details: 7.84 s +- 128 ms per loop (mean +- std. dev. of 7 runs, 1 loop each)\n",
      "\n",
      "9.73 ms +- 583 us per loop (mean +- std. dev. of 7 runs, 100 loops each)\n",
      "\n",
      "Document retrieval time: Latency per query: 0.0324 ms. Experiment details: 9.73 ms +- 583 us per loop (mean +- std. dev. of 7 runs, 100 loops each)\n",
      "\n"
     ]
    }
   ],
   "source": [
    "from fast_forward.encoder import TCTColBERTQueryEncoder\n",
    "\n",
    "package = \"castorini/\"\n",
    "model_name = \"tct_colbert-msmarco\"\n",
    "q_encoder = TCTColBERTQueryEncoder(package + model_name)\n",
    "model_directory = 'tct_colbert'\n",
    "pipeline_name = \"BM25 >> \" + 'tct_colbert_msmarco'\n",
    "\n",
    "run_latency_datasets()"
   ],
   "metadata": {
    "collapsed": false
   }
  },
  {
   "cell_type": "code",
   "execution_count": 14,
   "outputs": [
    {
     "name": "stderr",
     "output_type": "stream",
     "text": [
      "100%|██████████| 57638/57638 [00:00<00:00, 405769.35it/s]\n",
      "100%|██████████| 57638/57638 [00:00<00:00, 1392111.47it/s]\n"
     ]
    },
    {
     "name": "stdout",
     "output_type": "stream",
     "text": [
      "12.7 s +- 217 ms per loop (mean +- std. dev. of 7 runs, 1 loop each)\n",
      "\n",
      "Query encoding time: Latency per query: 19.5988 ms. Experiment details: 12.7 s +- 217 ms per loop (mean +- std. dev. of 7 runs, 1 loop each)\n",
      "\n",
      "166 ms +- 3.79 ms per loop (mean +- std. dev. of 7 runs, 10 loops each)\n",
      "\n",
      "Document retrieval time: Latency per query: 0.2562 ms. Experiment details: 166 ms +- 3.79 ms per loop (mean +- std. dev. of 7 runs, 10 loops each)\n",
      "\n"
     ]
    },
    {
     "name": "stderr",
     "output_type": "stream",
     "text": [
      "100%|██████████| 3633/3633 [00:00<00:00, 1316336.08it/s]\n",
      "100%|██████████| 3633/3633 [00:00<00:00, 1505870.78it/s]\n"
     ]
    },
    {
     "name": "stdout",
     "output_type": "stream",
     "text": [
      "3.47 s +- 84.4 ms per loop (mean +- std. dev. of 7 runs, 1 loop each)\n",
      "\n",
      "Query encoding time: Latency per query: 10.743 ms. Experiment details: 3.47 s +- 84.4 ms per loop (mean +- std. dev. of 7 runs, 1 loop each)\n",
      "\n",
      "6.28 ms +- 63.2 us per loop (mean +- std. dev. of 7 runs, 100 loops each)\n",
      "\n",
      "Document retrieval time: Latency per query: 0.0194 ms. Experiment details: 6.28 ms +- 63.2 us per loop (mean +- std. dev. of 7 runs, 100 loops each)\n",
      "\n"
     ]
    },
    {
     "name": "stderr",
     "output_type": "stream",
     "text": [
      "100%|██████████| 5183/5183 [00:00<00:00, 1128130.65it/s]\n",
      "100%|██████████| 5183/5183 [00:00<00:00, 1321604.82it/s]\n"
     ]
    },
    {
     "name": "stdout",
     "output_type": "stream",
     "text": [
      "9.82 s +- 660 ms per loop (mean +- std. dev. of 7 runs, 1 loop each)\n",
      "\n",
      "Query encoding time: Latency per query: 32.7333 ms. Experiment details: 9.82 s +- 660 ms per loop (mean +- std. dev. of 7 runs, 1 loop each)\n",
      "\n",
      "9.97 ms +- 283 us per loop (mean +- std. dev. of 7 runs, 100 loops each)\n",
      "\n",
      "Document retrieval time: Latency per query: 0.0332 ms. Experiment details: 9.97 ms +- 283 us per loop (mean +- std. dev. of 7 runs, 100 loops each)\n",
      "\n"
     ]
    }
   ],
   "source": [
    "from encoders.e5 import E5QueryEncoder\n",
    "\n",
    "package = \"intfloat/\"\n",
    "model_name = \"e5-base-v2\"\n",
    "model_directory = 'e5'\n",
    "q_encoder = E5QueryEncoder(package + model_name)\n",
    "pipeline_name = \"BM25 >> \" + model_name\n",
    "\n",
    "run_latency_datasets()"
   ],
   "metadata": {
    "collapsed": false
   }
  },
  {
   "cell_type": "code",
   "execution_count": 15,
   "outputs": [
    {
     "name": "stderr",
     "output_type": "stream",
     "text": [
      "100%|██████████| 57638/57638 [00:00<00:00, 1574383.40it/s]\n",
      "100%|██████████| 57638/57638 [00:00<00:00, 357079.88it/s]\n"
     ]
    },
    {
     "name": "stdout",
     "output_type": "stream",
     "text": [
      "3.7 s +- 43.3 ms per loop (mean +- std. dev. of 7 runs, 1 loop each)\n",
      "\n",
      "Query encoding time: Latency per query: 5.7099 ms. Experiment details: 3.7 s +- 43.3 ms per loop (mean +- std. dev. of 7 runs, 1 loop each)\n",
      "\n",
      "121 ms +- 218 us per loop (mean +- std. dev. of 7 runs, 10 loops each)\n",
      "\n",
      "Document retrieval time: Latency per query: 0.1867 ms. Experiment details: 121 ms +- 218 us per loop (mean +- std. dev. of 7 runs, 10 loops each)\n",
      "\n"
     ]
    },
    {
     "name": "stderr",
     "output_type": "stream",
     "text": [
      "100%|██████████| 3633/3633 [00:00<00:00, 1435236.55it/s]\n",
      "100%|██████████| 3633/3633 [00:00<00:00, 1524858.04it/s]\n"
     ]
    },
    {
     "name": "stdout",
     "output_type": "stream",
     "text": [
      "1.01 s +- 7.79 ms per loop (mean +- std. dev. of 7 runs, 1 loop each)\n",
      "\n",
      "Query encoding time: Latency per query: 3.1269 ms. Experiment details: 1.01 s +- 7.79 ms per loop (mean +- std. dev. of 7 runs, 1 loop each)\n",
      "\n",
      "4.91 ms +- 144 us per loop (mean +- std. dev. of 7 runs, 100 loops each)\n",
      "\n",
      "Document retrieval time: Latency per query: 0.0152 ms. Experiment details: 4.91 ms +- 144 us per loop (mean +- std. dev. of 7 runs, 100 loops each)\n",
      "\n"
     ]
    },
    {
     "name": "stderr",
     "output_type": "stream",
     "text": [
      "100%|██████████| 5183/5183 [00:00<00:00, 1430014.32it/s]\n",
      "100%|██████████| 5183/5183 [00:00<00:00, 1579415.70it/s]\n"
     ]
    },
    {
     "name": "stdout",
     "output_type": "stream",
     "text": [
      "2.88 s +- 48.5 ms per loop (mean +- std. dev. of 7 runs, 1 loop each)\n",
      "\n",
      "Query encoding time: Latency per query: 9.6 ms. Experiment details: 2.88 s +- 48.5 ms per loop (mean +- std. dev. of 7 runs, 1 loop each)\n",
      "\n",
      "7.58 ms +- 11.1 us per loop (mean +- std. dev. of 7 runs, 100 loops each)\n",
      "\n",
      "Document retrieval time: Latency per query: 0.0253 ms. Experiment details: 7.58 ms +- 11.1 us per loop (mean +- std. dev. of 7 runs, 100 loops each)\n",
      "\n"
     ]
    }
   ],
   "source": [
    "from encoders.e5 import E5QueryEncoder\n",
    "\n",
    "model_name = \"e5-small-v2\"\n",
    "q_encoder = E5QueryEncoder(package + model_name)\n",
    "pipeline_name = \"BM25 >> \" + model_name\n",
    "\n",
    "run_latency_datasets()"
   ],
   "metadata": {
    "collapsed": false
   }
  },
  {
   "cell_type": "code",
   "execution_count": 16,
   "outputs": [
    {
     "name": "stderr",
     "output_type": "stream",
     "text": [
      "100%|██████████| 57638/57638 [00:00<00:00, 1451166.59it/s]\n",
      "100%|██████████| 57638/57638 [00:00<00:00, 1325754.29it/s]\n"
     ]
    },
    {
     "name": "stdout",
     "output_type": "stream",
     "text": [
      "13 s +- 1.88 s per loop (mean +- std. dev. of 7 runs, 1 loop each)\n",
      "\n",
      "Query encoding time: Latency per query: 20.0617 ms. Experiment details: 13 s +- 1.88 s per loop (mean +- std. dev. of 7 runs, 1 loop each)\n",
      "\n",
      "166 ms +- 5.56 ms per loop (mean +- std. dev. of 7 runs, 1 loop each)\n",
      "\n",
      "Document retrieval time: Latency per query: 0.2562 ms. Experiment details: 166 ms +- 5.56 ms per loop (mean +- std. dev. of 7 runs, 1 loop each)\n",
      "\n"
     ]
    },
    {
     "name": "stderr",
     "output_type": "stream",
     "text": [
      "100%|██████████| 3633/3633 [00:00<00:00, 1224518.36it/s]\n",
      "100%|██████████| 3633/3633 [00:00<00:00, 1495378.45it/s]\n"
     ]
    },
    {
     "name": "stdout",
     "output_type": "stream",
     "text": [
      "4.3 s +- 66 ms per loop (mean +- std. dev. of 7 runs, 1 loop each)\n",
      "\n",
      "Query encoding time: Latency per query: 13.3127 ms. Experiment details: 4.3 s +- 66 ms per loop (mean +- std. dev. of 7 runs, 1 loop each)\n",
      "\n",
      "6.64 ms +- 121 us per loop (mean +- std. dev. of 7 runs, 100 loops each)\n",
      "\n",
      "Document retrieval time: Latency per query: 0.0206 ms. Experiment details: 6.64 ms +- 121 us per loop (mean +- std. dev. of 7 runs, 100 loops each)\n",
      "\n"
     ]
    },
    {
     "name": "stderr",
     "output_type": "stream",
     "text": [
      "100%|██████████| 5183/5183 [00:00<00:00, 1364577.09it/s]\n",
      "100%|██████████| 5183/5183 [00:00<00:00, 1425700.26it/s]\n"
     ]
    },
    {
     "name": "stdout",
     "output_type": "stream",
     "text": [
      "10.9 s +- 242 ms per loop (mean +- std. dev. of 7 runs, 1 loop each)\n",
      "\n",
      "Query encoding time: Latency per query: 36.3333 ms. Experiment details: 10.9 s +- 242 ms per loop (mean +- std. dev. of 7 runs, 1 loop each)\n",
      "\n",
      "9.86 ms +- 59 us per loop (mean +- std. dev. of 7 runs, 100 loops each)\n",
      "\n",
      "Document retrieval time: Latency per query: 0.0329 ms. Experiment details: 9.86 ms +- 59 us per loop (mean +- std. dev. of 7 runs, 100 loops each)\n",
      "\n"
     ]
    }
   ],
   "source": [
    "from encoders.e5 import E5QueryEncoder\n",
    "\n",
    "model_name = \"e5-base-unsupervised\"\n",
    "q_encoder = E5QueryEncoder(package + model_name)\n",
    "pipeline_name = \"BM25 >> \" + model_name\n",
    "\n",
    "run_latency_datasets()"
   ],
   "metadata": {
    "collapsed": false
   }
  },
  {
   "cell_type": "code",
   "execution_count": 17,
   "outputs": [
    {
     "name": "stderr",
     "output_type": "stream",
     "text": [
      "<All keys matched successfully>\n",
      "100%|██████████| 57638/57638 [00:00<00:00, 1254996.83it/s]\n",
      "100%|██████████| 57638/57638 [00:00<00:00, 1227369.53it/s]\n"
     ]
    },
    {
     "name": "stdout",
     "output_type": "stream",
     "text": [
      "21.8 s +- 342 ms per loop (mean +- std. dev. of 7 runs, 1 loop each)\n",
      "\n",
      "Query encoding time: Latency per query: 33.642 ms. Experiment details: 21.8 s +- 342 ms per loop (mean +- std. dev. of 7 runs, 1 loop each)\n",
      "\n",
      "162 ms +- 3.33 ms per loop (mean +- std. dev. of 7 runs, 1 loop each)\n",
      "\n",
      "Document retrieval time: Latency per query: 0.25 ms. Experiment details: 162 ms +- 3.33 ms per loop (mean +- std. dev. of 7 runs, 1 loop each)\n",
      "\n"
     ]
    },
    {
     "name": "stderr",
     "output_type": "stream",
     "text": [
      "100%|██████████| 3633/3633 [00:00<00:00, 1367855.16it/s]\n",
      "100%|██████████| 3633/3633 [00:00<00:00, 1108856.53it/s]\n"
     ]
    },
    {
     "name": "stdout",
     "output_type": "stream",
     "text": [
      "6.29 s +- 27.5 ms per loop (mean +- std. dev. of 7 runs, 1 loop each)\n",
      "\n",
      "Query encoding time: Latency per query: 19.4737 ms. Experiment details: 6.29 s +- 27.5 ms per loop (mean +- std. dev. of 7 runs, 1 loop each)\n",
      "\n",
      "6.57 ms +- 43.7 us per loop (mean +- std. dev. of 7 runs, 100 loops each)\n",
      "\n",
      "Document retrieval time: Latency per query: 0.0203 ms. Experiment details: 6.57 ms +- 43.7 us per loop (mean +- std. dev. of 7 runs, 100 loops each)\n",
      "\n"
     ]
    },
    {
     "name": "stderr",
     "output_type": "stream",
     "text": [
      "100%|██████████| 5183/5183 [00:00<00:00, 1501836.11it/s]\n",
      "100%|██████████| 5183/5183 [00:00<00:00, 1352184.96it/s]\n"
     ]
    },
    {
     "name": "stdout",
     "output_type": "stream",
     "text": [
      "16.1 s +- 511 ms per loop (mean +- std. dev. of 7 runs, 1 loop each)\n",
      "\n",
      "Query encoding time: Latency per query: 53.6667 ms. Experiment details: 16.1 s +- 511 ms per loop (mean +- std. dev. of 7 runs, 1 loop each)\n",
      "\n",
      "12.2 ms +- 1.84 ms per loop (mean +- std. dev. of 7 runs, 100 loops each)\n",
      "\n",
      "Document retrieval time: Latency per query: 0.0407 ms. Experiment details: 12.2 ms +- 1.84 ms per loop (mean +- std. dev. of 7 runs, 100 loops each)\n",
      "\n"
     ]
    }
   ],
   "source": [
    "from encoders.nomic import NomicQueryEncoder\n",
    "\n",
    "package = \"nomic-ai/\"\n",
    "model_name = \"nomic-embed-text-v1\"\n",
    "q_encoder = NomicQueryEncoder(package + model_name)\n",
    "model_directory = 'nomic'\n",
    "pipeline_name = \"BM25 >> \" + model_name\n",
    "\n",
    "run_latency_datasets()"
   ],
   "metadata": {
    "collapsed": false
   }
  },
  {
   "cell_type": "code",
   "execution_count": 17,
   "outputs": [],
   "source": [],
   "metadata": {
    "collapsed": false
   }
  }
 ],
 "metadata": {
  "kernelspec": {
   "display_name": "Python 3",
   "language": "python",
   "name": "python3"
  },
  "language_info": {
   "codemirror_mode": {
    "name": "ipython",
    "version": 2
   },
   "file_extension": ".py",
   "mimetype": "text/x-python",
   "name": "python",
   "nbconvert_exporter": "python",
   "pygments_lexer": "ipython2",
   "version": "2.7.6"
  }
 },
 "nbformat": 4,
 "nbformat_minor": 0
}
