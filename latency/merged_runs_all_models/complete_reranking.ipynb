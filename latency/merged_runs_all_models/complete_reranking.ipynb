{
 "cells": [
  {
   "cell_type": "code",
   "execution_count": 1,
   "outputs": [
    {
     "name": "stderr",
     "output_type": "stream",
     "text": [
      "PyTerrier 0.10.0 has loaded Terrier 5.9 (built by craigm on 2024-05-02 17:40) and terrier-helper 0.0.8\n",
      "\n",
      "No etc/terrier.properties, using terrier.default.properties for bootstrap configuration.\n"
     ]
    }
   ],
   "source": [
    "import io\n",
    "\n",
    "import pyterrier as pt\n",
    "from experiment_utils.experiments_helper import get_timeit_dependencies_name, getOptimalAlpha, latency_per_query\n",
    "\n",
    "if not pt.started():\n",
    "    pt.init()"
   ],
   "metadata": {
    "collapsed": false
   }
  },
  {
   "cell_type": "code",
   "execution_count": 2,
   "outputs": [],
   "source": [
    "from encoders.bge_base_en import BgeQueryEncoder\n",
    "\n",
    "package = \"BAAI/\"\n",
    "model_name = \"bge-base-en-v1.5\"\n",
    "q_encoder = BgeQueryEncoder(package + model_name)\n",
    "model_directory = 'bge'\n",
    "path_to_root = \"../../\"\n",
    "pipeline_name = \"BM25 >> bge-base-en-v1.5\""
   ],
   "metadata": {
    "collapsed": false
   }
  },
  {
   "cell_type": "code",
   "execution_count": 3,
   "outputs": [],
   "source": [
    "prefix = \"irds:beir/\"\n",
    "test_suffix = \"/test\""
   ],
   "metadata": {
    "collapsed": false
   }
  },
  {
   "cell_type": "code",
   "execution_count": 4,
   "outputs": [],
   "source": [
    "def get_timeit_dep(dataset_name):\n",
    "    return get_timeit_dependencies_name(prefix + dataset_name, prefix + dataset_name + test_suffix,\n",
    "                                        q_encoder,\n",
    "                                        model_name,\n",
    "                                        path_to_root, model_directory,\n",
    "                                        alpha=getOptimalAlpha(prefix + dataset_name, pipeline_name, model_directory))"
   ],
   "metadata": {
    "collapsed": false
   }
  },
  {
   "cell_type": "code",
   "execution_count": 5,
   "outputs": [],
   "source": [
    "from contextlib import redirect_stdout\n",
    "\n",
    "\n",
    "def measure_latency(dataset_name):\n",
    "    results_lexical_retriever, semantic_reranker = get_timeit_dep(dataset_name)\n",
    "    f = io.StringIO()\n",
    "    with redirect_stdout(f):\n",
    "        %timeit semantic_reranker(results_lexical_retriever)\n",
    "\n",
    "    timeit_output = f.getvalue()\n",
    "    result = latency_per_query(timeit_output, prefix + dataset_name, test_suffix, pipeline_name, model_directory)\n",
    "    print(result)\n"
   ],
   "metadata": {
    "collapsed": false
   }
  },
  {
   "cell_type": "code",
   "execution_count": 6,
   "outputs": [],
   "source": [
    "import traceback\n",
    "\n",
    "\n",
    "def run_latency_datasets():\n",
    "    for dataset_name in dataset_list:\n",
    "        try:\n",
    "            measure_latency(dataset_name)\n",
    "        except Exception as e:\n",
    "            traceback.print_exc()"
   ],
   "metadata": {
    "collapsed": false
   }
  },
  {
   "cell_type": "code",
   "execution_count": 7,
   "outputs": [],
   "source": [
    "dataset_list = [\"nfcorpus\", \"fiqa\", \"scifact\"]"
   ],
   "metadata": {
    "collapsed": false
   }
  },
  {
   "cell_type": "code",
   "execution_count": 8,
   "outputs": [
    {
     "name": "stderr",
     "output_type": "stream",
     "text": [
      "100%|██████████| 3633/3633 [00:00<00:00, 1498908.76it/s]\n"
     ]
    },
    {
     "name": "stdout",
     "output_type": "stream",
     "text": [
      "8.77 s +- 774 ms per loop (mean +- std. dev. of 7 runs, 1 loop each)\n",
      "\n",
      "Latency per query: 27.1517 ms. Experiment details: 8.77 s +- 774 ms per loop (mean +- std. dev. of 7 runs, 1 loop each)\n",
      "\n"
     ]
    }
   ],
   "source": [
    "run_latency_datasets()"
   ],
   "metadata": {
    "collapsed": false
   }
  },
  {
   "cell_type": "code",
   "execution_count": 8,
   "outputs": [
    {
     "name": "stderr",
     "output_type": "stream",
     "text": [
      "100%|██████████| 57638/57638 [00:00<00:00, 1005353.37it/s]\n"
     ]
    },
    {
     "name": "stdout",
     "output_type": "stream",
     "text": [
      "12.1 s +- 299 ms per loop (mean +- std. dev. of 7 runs, 1 loop each)\n",
      "\n",
      "Latency per query: 18.6728 ms. Experiment details: 12.1 s +- 299 ms per loop (mean +- std. dev. of 7 runs, 1 loop each)\n",
      "\n"
     ]
    },
    {
     "name": "stderr",
     "output_type": "stream",
     "text": [
      "100%|██████████| 5183/5183 [00:00<00:00, 120780.03it/s]\n"
     ]
    },
    {
     "name": "stdout",
     "output_type": "stream",
     "text": [
      "6.29 s +- 151 ms per loop (mean +- std. dev. of 7 runs, 1 loop each)\n",
      "\n",
      "Latency per query: 20.9667 ms. Experiment details: 6.29 s +- 151 ms per loop (mean +- std. dev. of 7 runs, 1 loop each)\n",
      "\n"
     ]
    }
   ],
   "source": [
    "dataset_list = [\"fiqa\", \"scifact\"]\n",
    "model_name = \"bge-small-en-v1.5\"\n",
    "pipeline_name = \"BM25 >> \" + model_name\n",
    "q_encoder = BgeQueryEncoder(package + model_name)\n",
    "\n",
    "run_latency_datasets()"
   ],
   "metadata": {
    "collapsed": false
   }
  },
  {
   "cell_type": "code",
   "execution_count": 9,
   "outputs": [
    {
     "name": "stderr",
     "output_type": "stream",
     "text": [
      "100%|██████████| 57638/57638 [00:00<00:00, 1420837.83it/s]\n"
     ]
    },
    {
     "name": "stdout",
     "output_type": "stream",
     "text": [
      "28.1 s +- 2.11 s per loop (mean +- std. dev. of 7 runs, 1 loop each)\n",
      "\n",
      "Latency per query: 43.3642 ms. Experiment details: 28.1 s +- 2.11 s per loop (mean +- std. dev. of 7 runs, 1 loop each)\n",
      "\n"
     ]
    }
   ],
   "source": [
    "from encoders.gte_base_en_encoder import GTEBaseEncoder\n",
    "\n",
    "package = \"Alibaba-NLP/\"\n",
    "model_name = \"gte-base-en-v1.5\"\n",
    "q_encoder = GTEBaseEncoder(package + model_name)\n",
    "model_directory = 'gte_base_en_v1_5'\n",
    "pipeline_name = \"BM25 >> \" + model_name\n",
    "\n",
    "run_latency_datasets()"
   ],
   "metadata": {
    "collapsed": false
   }
  },
  {
   "cell_type": "code",
   "execution_count": 8,
   "outputs": [
    {
     "name": "stderr",
     "output_type": "stream",
     "text": [
      "100%|██████████| 3633/3633 [00:00<00:00, 1181782.72it/s]\n"
     ]
    },
    {
     "name": "stdout",
     "output_type": "stream",
     "text": [
      "6.58 s +- 289 ms per loop (mean +- std. dev. of 7 runs, 1 loop each)\n",
      "\n",
      "Latency per query: 20.3715 ms. Experiment details: 6.58 s +- 289 ms per loop (mean +- std. dev. of 7 runs, 1 loop each)\n",
      "\n"
     ]
    },
    {
     "name": "stderr",
     "output_type": "stream",
     "text": [
      "100%|██████████| 57638/57638 [00:00<00:00, 284806.99it/s]\n"
     ]
    },
    {
     "name": "stdout",
     "output_type": "stream",
     "text": [
      "32.6 s +- 3.77 s per loop (mean +- std. dev. of 7 runs, 1 loop each)\n",
      "\n",
      "Latency per query: 50.3086 ms. Experiment details: 32.6 s +- 3.77 s per loop (mean +- std. dev. of 7 runs, 1 loop each)\n",
      "\n"
     ]
    },
    {
     "name": "stderr",
     "output_type": "stream",
     "text": [
      "100%|██████████| 5183/5183 [00:00<00:00, 1341256.02it/s]\n"
     ]
    },
    {
     "name": "stdout",
     "output_type": "stream",
     "text": [
      "15.4 s +- 1.05 s per loop (mean +- std. dev. of 7 runs, 1 loop each)\n",
      "\n",
      "Latency per query: 51.3333 ms. Experiment details: 15.4 s +- 1.05 s per loop (mean +- std. dev. of 7 runs, 1 loop each)\n",
      "\n"
     ]
    }
   ],
   "source": [
    "from encoders.snowflake_arctic_embed_m import SnowFlakeQueryEncoder\n",
    "\n",
    "package = \"Snowflake/\"\n",
    "model_name = \"snowflake-arctic-embed-m\"\n",
    "q_encoder = SnowFlakeQueryEncoder(package + model_name)\n",
    "model_directory = 'snowflake'\n",
    "pipeline_name = \"BM25 >> \" + model_name\n",
    "\n",
    "run_latency_datasets()"
   ],
   "metadata": {
    "collapsed": false
   }
  },
  {
   "cell_type": "code",
   "execution_count": 7,
   "outputs": [],
   "source": [
    "dataset_list = [\"fiqa\", \"nfcorpus\", \"scifact\"]"
   ],
   "metadata": {
    "collapsed": false
   }
  },
  {
   "cell_type": "code",
   "execution_count": 9,
   "outputs": [
    {
     "name": "stderr",
     "output_type": "stream",
     "text": [
      "100%|██████████| 3633/3633 [00:00<00:00, 1397844.82it/s]\n"
     ]
    },
    {
     "name": "stdout",
     "output_type": "stream",
     "text": [
      "1.72 s +- 104 ms per loop (mean +- std. dev. of 7 runs, 1 loop each)\n",
      "\n",
      "Latency per query: 5.3251 ms. Experiment details: 1.72 s +- 104 ms per loop (mean +- std. dev. of 7 runs, 1 loop each)\n",
      "\n"
     ]
    },
    {
     "name": "stderr",
     "output_type": "stream",
     "text": [
      "100%|██████████| 57638/57638 [00:00<00:00, 1665332.30it/s]\n"
     ]
    },
    {
     "name": "stdout",
     "output_type": "stream",
     "text": [
      "9.27 s +- 228 ms per loop (mean +- std. dev. of 7 runs, 1 loop each)\n",
      "\n",
      "Latency per query: 14.3056 ms. Experiment details: 9.27 s +- 228 ms per loop (mean +- std. dev. of 7 runs, 1 loop each)\n",
      "\n"
     ]
    },
    {
     "name": "stderr",
     "output_type": "stream",
     "text": [
      "100%|██████████| 5183/5183 [00:00<00:00, 1575523.82it/s]\n"
     ]
    },
    {
     "name": "stdout",
     "output_type": "stream",
     "text": [
      "4.31 s +- 134 ms per loop (mean +- std. dev. of 7 runs, 1 loop each)\n",
      "\n",
      "Latency per query: 14.3667 ms. Experiment details: 4.31 s +- 134 ms per loop (mean +- std. dev. of 7 runs, 1 loop each)\n",
      "\n"
     ]
    }
   ],
   "source": [
    "from encoders.snowflake_arctic_embed_m import SnowFlakeQueryEncoder\n",
    "package = \"Snowflake/\"\n",
    "model_name = \"snowflake-arctic-embed-xs\"\n",
    "model_directory = 'snowflake'\n",
    "q_encoder = SnowFlakeQueryEncoder(package + model_name)\n",
    "pipeline_name = \"BM25 >> \" + model_name\n",
    "\n",
    "for dataset_name in dataset_list:\n",
    "    measure_latency(dataset_name)"
   ],
   "metadata": {
    "collapsed": false
   }
  },
  {
   "cell_type": "code",
   "execution_count": 8,
   "outputs": [
    {
     "name": "stderr",
     "output_type": "stream",
     "text": [
      "/home/anistor/.local/lib/python3.10/site-packages/huggingface_hub/file_download.py:1132: FutureWarning: `resume_download` is deprecated and will be removed in version 1.0.0. Downloads always resume when possible. If you want to force a new download, use `force_download=True`.\n",
      "  warnings.warn(\n",
      "100%|██████████| 57638/57638 [00:00<00:00, 1372004.42it/s]\n"
     ]
    },
    {
     "name": "stdout",
     "output_type": "stream",
     "text": [
      "31.1 s +- 2.65 s per loop (mean +- std. dev. of 7 runs, 1 loop each)\n",
      "\n",
      "Latency per query: 47.9938 ms. Experiment details: 31.1 s +- 2.65 s per loop (mean +- std. dev. of 7 runs, 1 loop each)\n",
      "\n"
     ]
    },
    {
     "name": "stderr",
     "output_type": "stream",
     "text": [
      "100%|██████████| 3633/3633 [00:00<00:00, 1394518.75it/s]\n"
     ]
    },
    {
     "name": "stdout",
     "output_type": "stream",
     "text": [
      "10.9 s +- 321 ms per loop (mean +- std. dev. of 7 runs, 1 loop each)\n",
      "\n",
      "Latency per query: 33.7461 ms. Experiment details: 10.9 s +- 321 ms per loop (mean +- std. dev. of 7 runs, 1 loop each)\n",
      "\n"
     ]
    },
    {
     "name": "stderr",
     "output_type": "stream",
     "text": [
      "100%|██████████| 5183/5183 [00:00<00:00, 1342747.23it/s]\n"
     ]
    },
    {
     "name": "stdout",
     "output_type": "stream",
     "text": [
      "13 s +- 251 ms per loop (mean +- std. dev. of 7 runs, 1 loop each)\n",
      "\n",
      "Latency per query: 43.3333 ms. Experiment details: 13 s +- 251 ms per loop (mean +- std. dev. of 7 runs, 1 loop each)\n",
      "\n"
     ]
    }
   ],
   "source": [
    "from fast_forward.encoder import TCTColBERTQueryEncoder\n",
    "\n",
    "package = \"castorini/\"\n",
    "model_name = \"tct_colbert-msmarco\"\n",
    "q_encoder = TCTColBERTQueryEncoder(package + model_name)\n",
    "model_directory = 'tct_colbert'\n",
    "pipeline_name = \"BM25 >> \" + 'tct_colbert_msmarco'\n",
    "\n",
    "run_latency_datasets()"
   ],
   "metadata": {
    "collapsed": false
   }
  },
  {
   "cell_type": "code",
   "execution_count": 7,
   "outputs": [],
   "source": [
    "dataset_list = [\"fiqa\", \"nfcorpus\", \"scifact\"]"
   ],
   "metadata": {
    "collapsed": false
   }
  },
  {
   "cell_type": "code",
   "execution_count": 9,
   "outputs": [],
   "source": [
    "from encoders.e5 import E5QueryEncoder\n",
    "dataset_list = [\"fiqa\", \"scifact\"]\n",
    "package = \"intfloat/\"\n",
    "model_name = \"e5-base-v2\"\n",
    "model_directory = 'e5'\n",
    "q_encoder = E5QueryEncoder(package + model_name)\n",
    "pipeline_name = \"BM25 >> \" + model_name\n",
    "\n",
    "# run_latency_datasets()"
   ],
   "metadata": {
    "collapsed": false
   }
  },
  {
   "cell_type": "code",
   "execution_count": 10,
   "outputs": [
    {
     "name": "stderr",
     "output_type": "stream",
     "text": [
      "100%|██████████| 57638/57638 [00:00<00:00, 1527557.78it/s]\n"
     ]
    },
    {
     "name": "stdout",
     "output_type": "stream",
     "text": [
      "11.4 s +- 523 ms per loop (mean +- std. dev. of 7 runs, 1 loop each)\n",
      "\n",
      "Latency per query: 17.5926 ms. Experiment details: 11.4 s +- 523 ms per loop (mean +- std. dev. of 7 runs, 1 loop each)\n",
      "\n"
     ]
    },
    {
     "name": "stderr",
     "output_type": "stream",
     "text": [
      "100%|██████████| 5183/5183 [00:00<00:00, 1784524.51it/s]\n"
     ]
    },
    {
     "name": "stdout",
     "output_type": "stream",
     "text": [
      "5.98 s +- 140 ms per loop (mean +- std. dev. of 7 runs, 1 loop each)\n",
      "\n",
      "Latency per query: 19.9333 ms. Experiment details: 5.98 s +- 140 ms per loop (mean +- std. dev. of 7 runs, 1 loop each)\n",
      "\n"
     ]
    }
   ],
   "source": [
    "from encoders.e5 import E5QueryEncoder\n",
    "model_name = \"e5-small-v2\"\n",
    "q_encoder = E5QueryEncoder(package + model_name)\n",
    "pipeline_name = \"BM25 >> \" + model_name\n",
    "\n",
    "run_latency_datasets()"
   ],
   "metadata": {
    "collapsed": false
   }
  },
  {
   "cell_type": "code",
   "execution_count": 10,
   "outputs": [
    {
     "name": "stderr",
     "output_type": "stream",
     "text": [
      "100%|██████████| 57638/57638 [00:00<00:00, 1397850.73it/s]\n"
     ]
    },
    {
     "name": "stdout",
     "output_type": "stream",
     "text": [
      "23.4 s +- 1.6 s per loop (mean +- std. dev. of 7 runs, 1 loop each)\n",
      "\n",
      "Latency per query: 36.1111 ms. Experiment details: 23.4 s +- 1.6 s per loop (mean +- std. dev. of 7 runs, 1 loop each)\n",
      "\n"
     ]
    },
    {
     "name": "stderr",
     "output_type": "stream",
     "text": [
      "100%|██████████| 3633/3633 [00:00<00:00, 1267712.68it/s]\n"
     ]
    },
    {
     "name": "stdout",
     "output_type": "stream",
     "text": [
      "5.32 s +- 192 ms per loop (mean +- std. dev. of 7 runs, 1 loop each)\n",
      "\n",
      "Latency per query: 16.4706 ms. Experiment details: 5.32 s +- 192 ms per loop (mean +- std. dev. of 7 runs, 1 loop each)\n",
      "\n"
     ]
    },
    {
     "name": "stderr",
     "output_type": "stream",
     "text": [
      "100%|██████████| 5183/5183 [00:00<00:00, 1334422.54it/s]\n"
     ]
    },
    {
     "name": "stdout",
     "output_type": "stream",
     "text": [
      "13.4 s +- 215 ms per loop (mean +- std. dev. of 7 runs, 1 loop each)\n",
      "\n",
      "Latency per query: 44.6667 ms. Experiment details: 13.4 s +- 215 ms per loop (mean +- std. dev. of 7 runs, 1 loop each)\n",
      "\n"
     ]
    }
   ],
   "source": [
    "from encoders.e5 import E5QueryEncoder\n",
    "model_name = \"e5-base-unsupervised\"\n",
    "q_encoder = E5QueryEncoder(package + model_name)\n",
    "pipeline_name = \"BM25 >> \" + model_name\n",
    "\n",
    "run_latency_datasets()"
   ],
   "metadata": {
    "collapsed": false
   }
  },
  {
   "cell_type": "code",
   "execution_count": 7,
   "outputs": [],
   "source": [
    "dataset_list = [\"fiqa\", \"nfcorpus\", \"scifact\"]"
   ],
   "metadata": {
    "collapsed": false
   }
  },
  {
   "cell_type": "code",
   "execution_count": 8,
   "outputs": [
    {
     "name": "stderr",
     "output_type": "stream",
     "text": [
      "<All keys matched successfully>\n",
      "100%|██████████| 57638/57638 [00:00<00:00, 1614312.00it/s]\n"
     ]
    },
    {
     "name": "stdout",
     "output_type": "stream",
     "text": [
      "31.8 s +- 623 ms per loop (mean +- std. dev. of 7 runs, 1 loop each)\n",
      "\n",
      "Latency per query: 49.0741 ms. Experiment details: 31.8 s +- 623 ms per loop (mean +- std. dev. of 7 runs, 1 loop each)\n",
      "\n"
     ]
    },
    {
     "name": "stderr",
     "output_type": "stream",
     "text": [
      "100%|██████████| 3633/3633 [00:00<00:00, 1423704.24it/s]\n"
     ]
    },
    {
     "name": "stdout",
     "output_type": "stream",
     "text": [
      "7.24 s +- 179 ms per loop (mean +- std. dev. of 7 runs, 1 loop each)\n",
      "\n",
      "Latency per query: 22.4149 ms. Experiment details: 7.24 s +- 179 ms per loop (mean +- std. dev. of 7 runs, 1 loop each)\n",
      "\n"
     ]
    },
    {
     "name": "stderr",
     "output_type": "stream",
     "text": [
      "100%|██████████| 5183/5183 [00:00<00:00, 925027.77it/s]\n"
     ]
    },
    {
     "name": "stdout",
     "output_type": "stream",
     "text": [
      "18 s +- 211 ms per loop (mean +- std. dev. of 7 runs, 1 loop each)\n",
      "\n",
      "Latency per query: 60.0 ms. Experiment details: 18 s +- 211 ms per loop (mean +- std. dev. of 7 runs, 1 loop each)\n",
      "\n"
     ]
    }
   ],
   "source": [
    "from encoders.nomic import NomicQueryEncoder\n",
    "package = \"nomic-ai/\"\n",
    "model_name=\"nomic-embed-text-v1\"\n",
    "q_encoder = NomicQueryEncoder(package + model_name)\n",
    "model_directory = 'nomic'\n",
    "pipeline_name = \"BM25 >> \" + model_name\n",
    "\n",
    "run_latency_datasets()"
   ],
   "metadata": {
    "collapsed": false
   }
  },
  {
   "cell_type": "code",
   "execution_count": null,
   "outputs": [],
   "source": [],
   "metadata": {
    "collapsed": false
   }
  }
 ],
 "metadata": {
  "kernelspec": {
   "display_name": "Python 3",
   "language": "python",
   "name": "python3"
  },
  "language_info": {
   "codemirror_mode": {
    "name": "ipython",
    "version": 2
   },
   "file_extension": ".py",
   "mimetype": "text/x-python",
   "name": "python",
   "nbconvert_exporter": "python",
   "pygments_lexer": "ipython2",
   "version": "2.7.6"
  }
 },
 "nbformat": 4,
 "nbformat_minor": 0
}
