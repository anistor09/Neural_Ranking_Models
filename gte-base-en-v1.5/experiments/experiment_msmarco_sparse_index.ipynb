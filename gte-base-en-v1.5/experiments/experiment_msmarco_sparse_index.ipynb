{
 "cells": [
  {
   "cell_type": "code",
   "execution_count": 7,
   "metadata": {
    "collapsed": true
   },
   "outputs": [],
   "source": [
    "import pyterrier as pt\n",
    "from experiments_helper import time_fct\n",
    "\n",
    "if not pt.started():\n",
    "    pt.init()"
   ]
  },
  {
   "cell_type": "code",
   "execution_count": 8,
   "outputs": [],
   "source": [
    "from pyterrier.measures import RR, nDCG, MAP\n",
    "\n",
    "eval_metrics = [RR @ 10, nDCG @ 10, MAP @ 100]"
   ],
   "metadata": {
    "collapsed": false
   }
  },
  {
   "cell_type": "markdown",
   "source": [
    "Download ms marco index"
   ],
   "metadata": {
    "collapsed": false
   }
  },
  {
   "cell_type": "code",
   "execution_count": 6,
   "outputs": [
    {
     "name": "stderr",
     "output_type": "stream",
     "text": [
      "data.inverted.bf:   0%|          | 4.54M/1.35G [00:02<11:36, 2.07MiB/s]\n"
     ]
    },
    {
     "ename": "KeyboardInterrupt",
     "evalue": "",
     "output_type": "error",
     "traceback": [
      "\u001B[0;31m---------------------------------------------------------------------------\u001B[0m",
      "\u001B[0;31mKeyboardInterrupt\u001B[0m                         Traceback (most recent call last)",
      "Cell \u001B[0;32mIn[6], line 6\u001B[0m\n\u001B[1;32m      2\u001B[0m index_variant \u001B[38;5;241m=\u001B[39m \u001B[38;5;124m'\u001B[39m\u001B[38;5;124mterrier_stemmed\u001B[39m\u001B[38;5;124m'\u001B[39m\n\u001B[1;32m      4\u001B[0m dataset \u001B[38;5;241m=\u001B[39m pt\u001B[38;5;241m.\u001B[39mdatasets\u001B[38;5;241m.\u001B[39mget_dataset(dataset_name)\n\u001B[0;32m----> 6\u001B[0m indexref \u001B[38;5;241m=\u001B[39m \u001B[43mdataset\u001B[49m\u001B[38;5;241;43m.\u001B[39;49m\u001B[43mget_index\u001B[49m\u001B[43m(\u001B[49m\u001B[43mindex_variant\u001B[49m\u001B[43m)\u001B[49m\n\u001B[1;32m      8\u001B[0m retriever \u001B[38;5;241m=\u001B[39m bm25 \u001B[38;5;241m=\u001B[39m pt\u001B[38;5;241m.\u001B[39mBatchRetrieve(indexref, wmodel\u001B[38;5;241m=\u001B[39m\u001B[38;5;124m\"\u001B[39m\u001B[38;5;124mBM25\u001B[39m\u001B[38;5;124m\"\u001B[39m)\n",
      "File \u001B[0;32m~/.local/lib/python3.10/site-packages/pyterrier/datasets.py:372\u001B[0m, in \u001B[0;36mRemoteDataset.get_index\u001B[0;34m(self, variant, **kwargs)\u001B[0m\n\u001B[1;32m    370\u001B[0m \u001B[38;5;28;01mif\u001B[39;00m \u001B[38;5;28mself\u001B[39m\u001B[38;5;241m.\u001B[39mname \u001B[38;5;241m==\u001B[39m \u001B[38;5;124m\"\u001B[39m\u001B[38;5;124m50pct\u001B[39m\u001B[38;5;124m\"\u001B[39m \u001B[38;5;129;01mand\u001B[39;00m variant \u001B[38;5;129;01mis\u001B[39;00m \u001B[38;5;28;01mNone\u001B[39;00m:\n\u001B[1;32m    371\u001B[0m     variant\u001B[38;5;241m=\u001B[39m\u001B[38;5;124m\"\u001B[39m\u001B[38;5;124mex1\u001B[39m\u001B[38;5;124m\"\u001B[39m\n\u001B[0;32m--> 372\u001B[0m thedir \u001B[38;5;241m=\u001B[39m \u001B[38;5;28;43mself\u001B[39;49m\u001B[38;5;241;43m.\u001B[39;49m\u001B[43m_get_all_files\u001B[49m\u001B[43m(\u001B[49m\u001B[38;5;124;43m\"\u001B[39;49m\u001B[38;5;124;43mindex\u001B[39;49m\u001B[38;5;124;43m\"\u001B[39;49m\u001B[43m,\u001B[49m\u001B[43m \u001B[49m\u001B[43mvariant\u001B[49m\u001B[38;5;241;43m=\u001B[39;49m\u001B[43mvariant\u001B[49m\u001B[43m,\u001B[49m\u001B[43m \u001B[49m\u001B[38;5;241;43m*\u001B[39;49m\u001B[38;5;241;43m*\u001B[39;49m\u001B[43mkwargs\u001B[49m\u001B[43m)\u001B[49m\n\u001B[1;32m    373\u001B[0m \u001B[38;5;28;01mreturn\u001B[39;00m thedir\n",
      "File \u001B[0;32m~/.local/lib/python3.10/site-packages/pyterrier/datasets.py:310\u001B[0m, in \u001B[0;36mRemoteDataset._get_all_files\u001B[0;34m(self, component, variant, **kwargs)\u001B[0m\n\u001B[1;32m    308\u001B[0m \u001B[38;5;28;01melse\u001B[39;00m:\n\u001B[1;32m    309\u001B[0m     \u001B[38;5;28;01mtry\u001B[39;00m:\n\u001B[0;32m--> 310\u001B[0m         \u001B[43mRemoteDataset\u001B[49m\u001B[38;5;241;43m.\u001B[39;49m\u001B[43mdownload\u001B[49m\u001B[43m(\u001B[49m\u001B[43mURL\u001B[49m\u001B[43m,\u001B[49m\u001B[43m \u001B[49m\u001B[43mlocal\u001B[49m\u001B[43m,\u001B[49m\u001B[43m \u001B[49m\u001B[38;5;241;43m*\u001B[39;49m\u001B[38;5;241;43m*\u001B[39;49m\u001B[43mkwargs\u001B[49m\u001B[43m)\u001B[49m\n\u001B[1;32m    311\u001B[0m     \u001B[38;5;28;01mexcept\u001B[39;00m urllib\u001B[38;5;241m.\u001B[39merror\u001B[38;5;241m.\u001B[39mHTTPError \u001B[38;5;28;01mas\u001B[39;00m he:\n\u001B[1;32m    312\u001B[0m         \u001B[38;5;28;01mraise\u001B[39;00m \u001B[38;5;167;01mValueError\u001B[39;00m(\u001B[38;5;124m\"\u001B[39m\u001B[38;5;124mCould not fetch \u001B[39m\u001B[38;5;124m\"\u001B[39m \u001B[38;5;241m+\u001B[39m URL) \u001B[38;5;28;01mfrom\u001B[39;00m \u001B[38;5;21;01mhe\u001B[39;00m\n",
      "File \u001B[0;32m~/.local/lib/python3.10/site-packages/pyterrier/datasets.py:158\u001B[0m, in \u001B[0;36mRemoteDataset.download\u001B[0;34m(URLs, filename, **kwargs)\u001B[0m\n\u001B[1;32m    150\u001B[0m total \u001B[38;5;241m=\u001B[39m \u001B[38;5;28mint\u001B[39m(r\u001B[38;5;241m.\u001B[39mheaders\u001B[38;5;241m.\u001B[39mget(\u001B[38;5;124m'\u001B[39m\u001B[38;5;124mcontent-length\u001B[39m\u001B[38;5;124m'\u001B[39m, \u001B[38;5;241m0\u001B[39m))\n\u001B[1;32m    151\u001B[0m \u001B[38;5;28;01mwith\u001B[39;00m pt\u001B[38;5;241m.\u001B[39mio\u001B[38;5;241m.\u001B[39mfinalized_open(filename, \u001B[38;5;124m'\u001B[39m\u001B[38;5;124mb\u001B[39m\u001B[38;5;124m'\u001B[39m) \u001B[38;5;28;01mas\u001B[39;00m file, tqdm(\n\u001B[1;32m    152\u001B[0m         desc\u001B[38;5;241m=\u001B[39mbasename,\n\u001B[1;32m    153\u001B[0m         total\u001B[38;5;241m=\u001B[39mtotal,\n\u001B[0;32m   (...)\u001B[0m\n\u001B[1;32m    156\u001B[0m         unit_divisor\u001B[38;5;241m=\u001B[39m\u001B[38;5;241m1024\u001B[39m,\n\u001B[1;32m    157\u001B[0m ) \u001B[38;5;28;01mas\u001B[39;00m bar:\n\u001B[0;32m--> 158\u001B[0m     \u001B[38;5;28;01mfor\u001B[39;00m data \u001B[38;5;129;01min\u001B[39;00m r\u001B[38;5;241m.\u001B[39miter_content(chunk_size\u001B[38;5;241m=\u001B[39m\u001B[38;5;241m1024\u001B[39m):\n\u001B[1;32m    159\u001B[0m         size \u001B[38;5;241m=\u001B[39m file\u001B[38;5;241m.\u001B[39mwrite(data)\n\u001B[1;32m    160\u001B[0m         bar\u001B[38;5;241m.\u001B[39mupdate(size)\n",
      "File \u001B[0;32m/usr/local/lib/python3.10/dist-packages/requests/models.py:816\u001B[0m, in \u001B[0;36mResponse.iter_content.<locals>.generate\u001B[0;34m()\u001B[0m\n\u001B[1;32m    814\u001B[0m \u001B[38;5;28;01mif\u001B[39;00m \u001B[38;5;28mhasattr\u001B[39m(\u001B[38;5;28mself\u001B[39m\u001B[38;5;241m.\u001B[39mraw, \u001B[38;5;124m\"\u001B[39m\u001B[38;5;124mstream\u001B[39m\u001B[38;5;124m\"\u001B[39m):\n\u001B[1;32m    815\u001B[0m     \u001B[38;5;28;01mtry\u001B[39;00m:\n\u001B[0;32m--> 816\u001B[0m         \u001B[38;5;28;01myield from\u001B[39;00m \u001B[38;5;28mself\u001B[39m\u001B[38;5;241m.\u001B[39mraw\u001B[38;5;241m.\u001B[39mstream(chunk_size, decode_content\u001B[38;5;241m=\u001B[39m\u001B[38;5;28;01mTrue\u001B[39;00m)\n\u001B[1;32m    817\u001B[0m     \u001B[38;5;28;01mexcept\u001B[39;00m ProtocolError \u001B[38;5;28;01mas\u001B[39;00m e:\n\u001B[1;32m    818\u001B[0m         \u001B[38;5;28;01mraise\u001B[39;00m ChunkedEncodingError(e)\n",
      "File \u001B[0;32m/usr/lib/python3/dist-packages/urllib3/response.py:576\u001B[0m, in \u001B[0;36mHTTPResponse.stream\u001B[0;34m(self, amt, decode_content)\u001B[0m\n\u001B[1;32m    574\u001B[0m \u001B[38;5;28;01melse\u001B[39;00m:\n\u001B[1;32m    575\u001B[0m     \u001B[38;5;28;01mwhile\u001B[39;00m \u001B[38;5;129;01mnot\u001B[39;00m is_fp_closed(\u001B[38;5;28mself\u001B[39m\u001B[38;5;241m.\u001B[39m_fp):\n\u001B[0;32m--> 576\u001B[0m         data \u001B[38;5;241m=\u001B[39m \u001B[38;5;28;43mself\u001B[39;49m\u001B[38;5;241;43m.\u001B[39;49m\u001B[43mread\u001B[49m\u001B[43m(\u001B[49m\u001B[43mamt\u001B[49m\u001B[38;5;241;43m=\u001B[39;49m\u001B[43mamt\u001B[49m\u001B[43m,\u001B[49m\u001B[43m \u001B[49m\u001B[43mdecode_content\u001B[49m\u001B[38;5;241;43m=\u001B[39;49m\u001B[43mdecode_content\u001B[49m\u001B[43m)\u001B[49m\n\u001B[1;32m    578\u001B[0m         \u001B[38;5;28;01mif\u001B[39;00m data:\n\u001B[1;32m    579\u001B[0m             \u001B[38;5;28;01myield\u001B[39;00m data\n",
      "File \u001B[0;32m/usr/lib/python3/dist-packages/urllib3/response.py:519\u001B[0m, in \u001B[0;36mHTTPResponse.read\u001B[0;34m(self, amt, decode_content, cache_content)\u001B[0m\n\u001B[1;32m    517\u001B[0m \u001B[38;5;28;01melse\u001B[39;00m:\n\u001B[1;32m    518\u001B[0m     cache_content \u001B[38;5;241m=\u001B[39m \u001B[38;5;28;01mFalse\u001B[39;00m\n\u001B[0;32m--> 519\u001B[0m     data \u001B[38;5;241m=\u001B[39m \u001B[38;5;28;43mself\u001B[39;49m\u001B[38;5;241;43m.\u001B[39;49m\u001B[43m_fp\u001B[49m\u001B[38;5;241;43m.\u001B[39;49m\u001B[43mread\u001B[49m\u001B[43m(\u001B[49m\u001B[43mamt\u001B[49m\u001B[43m)\u001B[49m \u001B[38;5;28;01mif\u001B[39;00m \u001B[38;5;129;01mnot\u001B[39;00m fp_closed \u001B[38;5;28;01melse\u001B[39;00m \u001B[38;5;124mb\u001B[39m\u001B[38;5;124m\"\u001B[39m\u001B[38;5;124m\"\u001B[39m\n\u001B[1;32m    520\u001B[0m     \u001B[38;5;28;01mif\u001B[39;00m (\n\u001B[1;32m    521\u001B[0m         amt \u001B[38;5;241m!=\u001B[39m \u001B[38;5;241m0\u001B[39m \u001B[38;5;129;01mand\u001B[39;00m \u001B[38;5;129;01mnot\u001B[39;00m data\n\u001B[1;32m    522\u001B[0m     ):  \u001B[38;5;66;03m# Platform-specific: Buggy versions of Python.\u001B[39;00m\n\u001B[0;32m   (...)\u001B[0m\n\u001B[1;32m    528\u001B[0m         \u001B[38;5;66;03m# not properly close the connection in all cases. There is\u001B[39;00m\n\u001B[1;32m    529\u001B[0m         \u001B[38;5;66;03m# no harm in redundantly calling close.\u001B[39;00m\n\u001B[1;32m    530\u001B[0m         \u001B[38;5;28mself\u001B[39m\u001B[38;5;241m.\u001B[39m_fp\u001B[38;5;241m.\u001B[39mclose()\n",
      "File \u001B[0;32m/usr/lib/python3.10/http/client.py:466\u001B[0m, in \u001B[0;36mHTTPResponse.read\u001B[0;34m(self, amt)\u001B[0m\n\u001B[1;32m    463\u001B[0m \u001B[38;5;28;01mif\u001B[39;00m \u001B[38;5;28mself\u001B[39m\u001B[38;5;241m.\u001B[39mlength \u001B[38;5;129;01mis\u001B[39;00m \u001B[38;5;129;01mnot\u001B[39;00m \u001B[38;5;28;01mNone\u001B[39;00m \u001B[38;5;129;01mand\u001B[39;00m amt \u001B[38;5;241m>\u001B[39m \u001B[38;5;28mself\u001B[39m\u001B[38;5;241m.\u001B[39mlength:\n\u001B[1;32m    464\u001B[0m     \u001B[38;5;66;03m# clip the read to the \"end of response\"\u001B[39;00m\n\u001B[1;32m    465\u001B[0m     amt \u001B[38;5;241m=\u001B[39m \u001B[38;5;28mself\u001B[39m\u001B[38;5;241m.\u001B[39mlength\n\u001B[0;32m--> 466\u001B[0m s \u001B[38;5;241m=\u001B[39m \u001B[38;5;28;43mself\u001B[39;49m\u001B[38;5;241;43m.\u001B[39;49m\u001B[43mfp\u001B[49m\u001B[38;5;241;43m.\u001B[39;49m\u001B[43mread\u001B[49m\u001B[43m(\u001B[49m\u001B[43mamt\u001B[49m\u001B[43m)\u001B[49m\n\u001B[1;32m    467\u001B[0m \u001B[38;5;28;01mif\u001B[39;00m \u001B[38;5;129;01mnot\u001B[39;00m s \u001B[38;5;129;01mand\u001B[39;00m amt:\n\u001B[1;32m    468\u001B[0m     \u001B[38;5;66;03m# Ideally, we would raise IncompleteRead if the content-length\u001B[39;00m\n\u001B[1;32m    469\u001B[0m     \u001B[38;5;66;03m# wasn't satisfied, but it might break compatibility.\u001B[39;00m\n\u001B[1;32m    470\u001B[0m     \u001B[38;5;28mself\u001B[39m\u001B[38;5;241m.\u001B[39m_close_conn()\n",
      "File \u001B[0;32m/usr/lib/python3.10/socket.py:705\u001B[0m, in \u001B[0;36mSocketIO.readinto\u001B[0;34m(self, b)\u001B[0m\n\u001B[1;32m    703\u001B[0m \u001B[38;5;28;01mwhile\u001B[39;00m \u001B[38;5;28;01mTrue\u001B[39;00m:\n\u001B[1;32m    704\u001B[0m     \u001B[38;5;28;01mtry\u001B[39;00m:\n\u001B[0;32m--> 705\u001B[0m         \u001B[38;5;28;01mreturn\u001B[39;00m \u001B[38;5;28;43mself\u001B[39;49m\u001B[38;5;241;43m.\u001B[39;49m\u001B[43m_sock\u001B[49m\u001B[38;5;241;43m.\u001B[39;49m\u001B[43mrecv_into\u001B[49m\u001B[43m(\u001B[49m\u001B[43mb\u001B[49m\u001B[43m)\u001B[49m\n\u001B[1;32m    706\u001B[0m     \u001B[38;5;28;01mexcept\u001B[39;00m timeout:\n\u001B[1;32m    707\u001B[0m         \u001B[38;5;28mself\u001B[39m\u001B[38;5;241m.\u001B[39m_timeout_occurred \u001B[38;5;241m=\u001B[39m \u001B[38;5;28;01mTrue\u001B[39;00m\n",
      "\u001B[0;31mKeyboardInterrupt\u001B[0m: "
     ]
    }
   ],
   "source": [
    "dataset_name = \"msmarco_document\"\n",
    "index_variant = 'terrier_stemmed'\n",
    "\n",
    "dataset = pt.datasets.get_dataset(dataset_name)\n",
    "\n",
    "indexref = dataset.get_index(index_variant)\n",
    "\n",
    "retriever = bm25 = pt.BatchRetrieve(indexref, wmodel=\"BM25\")"
   ],
   "metadata": {
    "collapsed": false
   }
  },
  {
   "cell_type": "markdown",
   "source": [
    "Run downloaded index"
   ],
   "metadata": {
    "collapsed": false
   }
  },
  {
   "cell_type": "code",
   "execution_count": null,
   "outputs": [
    {
     "name": "stderr",
     "output_type": "stream",
     "text": [
      "data.direct.bf: 100%|██████████| 1.29G/1.29G [01:46<00:00, 13.0MiB/s]\n",
      "data.document.fsarrayfile: 100%|██████████| 52.1M/52.1M [00:03<00:00, 16.9MiB/s]\n",
      "data.inverted.bf:  12%|█▏        | 171M/1.35G [00:10<01:47, 11.8MiB/s] "
     ]
    }
   ],
   "source": [
    "dataset_name = \"msmarco_document\"\n",
    "index_variant = 'terrier_stemmed'\n",
    "\n",
    "retriever = pt.BatchRetrieve.from_dataset(dataset_name, index_variant, wmodel='BM25')"
   ],
   "metadata": {
    "collapsed": false,
    "pycharm": {
     "is_executing": true
    }
   }
  },
  {
   "cell_type": "code",
   "execution_count": 8,
   "outputs": [
    {
     "name": "stderr",
     "output_type": "stream",
     "text": [
      "[INFO] [starting] https://msmarco.z22.web.core.windows.net/msmarcoranking/msmarco-test2019-queries.tsv.gz\n",
      "[INFO] [finished] https://msmarco.z22.web.core.windows.net/msmarcoranking/msmarco-test2019-queries.tsv.gz: [00:00] [4.28kB] [4.70MB/s]\n",
      "[INFO] [starting] https://msmarco.z22.web.core.windows.net/msmarcoranking/docv2_trec2019_qrels.txt.gz               \n",
      "[INFO] [finished] https://msmarco.z22.web.core.windows.net/msmarcoranking/docv2_trec2019_qrels.txt.gz: [00:00] [107kB] [231kB/s]\n",
      "                                                                                                              \r"
     ]
    },
    {
     "name": "stdout",
     "output_type": "stream",
     "text": [
      "Experiment took 70.998 seconds to execute.\n"
     ]
    },
    {
     "data": {
      "text/plain": "                       name     RR@10   nDCG@10    AP@100\n0  msmarcov2_document: BM25  0.536074  0.248707  0.090859",
      "text/html": "<div>\n<style scoped>\n    .dataframe tbody tr th:only-of-type {\n        vertical-align: middle;\n    }\n\n    .dataframe tbody tr th {\n        vertical-align: top;\n    }\n\n    .dataframe thead th {\n        text-align: right;\n    }\n</style>\n<table border=\"1\" class=\"dataframe\">\n  <thead>\n    <tr style=\"text-align: right;\">\n      <th></th>\n      <th>name</th>\n      <th>RR@10</th>\n      <th>nDCG@10</th>\n      <th>AP@100</th>\n    </tr>\n  </thead>\n  <tbody>\n    <tr>\n      <th>0</th>\n      <td>msmarcov2_document: BM25</td>\n      <td>0.536074</td>\n      <td>0.248707</td>\n      <td>0.090859</td>\n    </tr>\n  </tbody>\n</table>\n</div>"
     },
     "execution_count": 8,
     "metadata": {},
     "output_type": "execute_result"
    }
   ],
   "source": [
    "from experiments_helper import run_single_experiment_name\n",
    "\n",
    "dataset_test_name = \"irds:msmarco-document-v2/trec-dl-2019\"\n",
    "time_fct(run_single_experiment_name, retriever, dataset_test_name, eval_metrics, dataset_name + \": BM25\")"
   ],
   "metadata": {
    "collapsed": false
   }
  },
  {
   "cell_type": "markdown",
   "source": [
    "### Download the passage index( other option than the dataset.get_index(index_variant)) one"
   ],
   "metadata": {
    "collapsed": false
   }
  },
  {
   "cell_type": "code",
   "execution_count": 3,
   "outputs": [],
   "source": [
    "dataset_name = \"msmarco_passage\"\n",
    "index_variant = 'terrier_stemmed'\n",
    "\n",
    "retriever = pt.BatchRetrieve.from_dataset(dataset_name, index_variant, wmodel='BM25')"
   ],
   "metadata": {
    "collapsed": false
   }
  },
  {
   "cell_type": "code",
   "execution_count": 6,
   "outputs": [
    {
     "name": "stderr",
     "output_type": "stream",
     "text": [
      "[INFO] Please confirm you agree to the MSMARCO data usage agreement found at <http://www.msmarco.org/dataset.aspx>\n",
      "[INFO] [starting] https://msmarco.z22.web.core.windows.net/msmarcoranking/msmarco-test2019-queries.tsv.gz\n",
      "[INFO] [finished] https://msmarco.z22.web.core.windows.net/msmarcoranking/msmarco-test2019-queries.tsv.gz: [00:00] [4.28kB] [4.22MB/s]\n",
      "[INFO] [starting] https://trec.nist.gov/data/deep/2019qrels-pass.txt                                                \n",
      "[INFO] [finished] https://trec.nist.gov/data/deep/2019qrels-pass.txt: [00:00] [187kB] [422kB/s]\n",
      "                                                                             \r"
     ]
    },
    {
     "name": "stdout",
     "output_type": "stream",
     "text": [
      "Experiment took 12.249 seconds to execute.\n"
     ]
    },
    {
     "data": {
      "text/plain": "                    name    RR@10  nDCG@10    AP@100\n0  msmarco_passage: BM25  0.79438  0.47954  0.290692",
      "text/html": "<div>\n<style scoped>\n    .dataframe tbody tr th:only-of-type {\n        vertical-align: middle;\n    }\n\n    .dataframe tbody tr th {\n        vertical-align: top;\n    }\n\n    .dataframe thead th {\n        text-align: right;\n    }\n</style>\n<table border=\"1\" class=\"dataframe\">\n  <thead>\n    <tr style=\"text-align: right;\">\n      <th></th>\n      <th>name</th>\n      <th>RR@10</th>\n      <th>nDCG@10</th>\n      <th>AP@100</th>\n    </tr>\n  </thead>\n  <tbody>\n    <tr>\n      <th>0</th>\n      <td>msmarco_passage: BM25</td>\n      <td>0.79438</td>\n      <td>0.47954</td>\n      <td>0.290692</td>\n    </tr>\n  </tbody>\n</table>\n</div>"
     },
     "execution_count": 6,
     "metadata": {},
     "output_type": "execute_result"
    }
   ],
   "source": [
    "from experiments_helper import run_single_experiment_name\n",
    "\n",
    "dataset_test_name = \"irds:msmarco-passage/trec-dl-2019\"\n",
    "time_fct(run_single_experiment_name, retriever, dataset_test_name, eval_metrics, dataset_name + \": BM25\")"
   ],
   "metadata": {
    "collapsed": false
   }
  },
  {
   "cell_type": "markdown",
   "source": [
    "### Retrieve index( the one for passage) from memory given absolute path(this is where dataset.get_index(index_variant) stores it and I would not find an option for changing the path) and run an experiment. ! Fill in your absolute path"
   ],
   "metadata": {
    "collapsed": false
   }
  },
  {
   "cell_type": "code",
   "execution_count": 27,
   "outputs": [
    {
     "name": "stdout",
     "output_type": "stream",
     "text": [
      "Experiment took 10.578 seconds to execute.\n"
     ]
    },
    {
     "data": {
      "text/plain": "                    name    RR@10  nDCG@10    AP@100\n0  msmarco_passage: BM25  0.79438  0.47954  0.290692",
      "text/html": "<div>\n<style scoped>\n    .dataframe tbody tr th:only-of-type {\n        vertical-align: middle;\n    }\n\n    .dataframe tbody tr th {\n        vertical-align: top;\n    }\n\n    .dataframe thead th {\n        text-align: right;\n    }\n</style>\n<table border=\"1\" class=\"dataframe\">\n  <thead>\n    <tr style=\"text-align: right;\">\n      <th></th>\n      <th>name</th>\n      <th>RR@10</th>\n      <th>nDCG@10</th>\n      <th>AP@100</th>\n    </tr>\n  </thead>\n  <tbody>\n    <tr>\n      <th>0</th>\n      <td>msmarco_passage: BM25</td>\n      <td>0.79438</td>\n      <td>0.47954</td>\n      <td>0.290692</td>\n    </tr>\n  </tbody>\n</table>\n</div>"
     },
     "execution_count": 27,
     "metadata": {},
     "output_type": "execute_result"
    }
   ],
   "source": [
    "from experiments_helper import run_single_experiment_name\n",
    "\n",
    "index_absolute_path = \"/home/anistor/.pyterrier/corpora/msmarco_passage/index/terrier_stemmed\"\n",
    "\n",
    "\n",
    "index = pt.IndexFactory.of(index_absolute_path)\n",
    "\n",
    "bm25_stored = pt.BatchRetrieve(index, wmodel=\"BM25\")\n",
    "\n",
    "dataset_name = \"msmarco_passage\"\n",
    "\n",
    "dataset_test_name = \"irds:msmarco-passage/trec-dl-2019\"\n",
    "time_fct(run_single_experiment_name, bm25_stored, dataset_test_name, eval_metrics, dataset_name + \": BM25\")\n"
   ],
   "metadata": {
    "collapsed": false
   }
  },
  {
   "cell_type": "code",
   "execution_count": 7,
   "outputs": [],
   "source": [
    "from pathlib import Path\n",
    "from gte_base_en_encoder import GTEBaseDocumentEncoder\n",
    "import torch\n",
    "from fast_forward import OnDiskIndex, Mode, Indexer\n",
    "\n",
    "q_encoder = GTEBaseDocumentEncoder(\"Alibaba-NLP/gte-base-en-v1.5\")\n",
    "d_encoder = GTEBaseDocumentEncoder(\n",
    "    \"Alibaba-NLP/gte-base-en-v1.5\",\n",
    "    device=\"cuda:0\" if torch.cuda.is_available() else \"cpu\",\n",
    ")"
   ],
   "metadata": {
    "collapsed": false
   }
  },
  {
   "cell_type": "code",
   "execution_count": 11,
   "outputs": [],
   "source": [
    "def docs_iter(dataset, limit=1000):\n",
    "    # Iterate over the documents and yield up to 'limit' documents\n",
    "    for count, d in enumerate(dataset.get_corpus_iter()):\n",
    "        if count >= limit:\n",
    "            break\n",
    "        yield {\"doc_id\": d[\"docno\"], \"text\": d[\"text\"]}"
   ],
   "metadata": {
    "collapsed": false
   }
  },
  {
   "cell_type": "code",
   "execution_count": 9,
   "outputs": [],
   "source": [
    "def format_dataset_name(text):\n",
    "    if ':' in text:\n",
    "        return text.split(':')[0] + \"_\" + text.split(':')[1]\n",
    "    else:\n",
    "        return text\n"
   ],
   "metadata": {
    "collapsed": false
   }
  },
  {
   "cell_type": "code",
   "execution_count": 7,
   "outputs": [],
   "source": [
    "dataset_name = \"msmarco_passage\"\n",
    "dataset = pt.get_dataset(dataset_name)"
   ],
   "metadata": {
    "collapsed": false
   }
  },
  {
   "cell_type": "code",
   "execution_count": null,
   "outputs": [],
   "source": [
    "index_path = \"../dense_indexes/ffindex_\" + dataset_name + \"_gte-base-en-v1.5.h5\"\n",
    "ff_index = OnDiskIndex(\n",
    "    Path(index_path), dim=768, query_encoder=q_encoder, mode=Mode.MAXP, max_id_length=47\n",
    ")"
   ],
   "metadata": {
    "collapsed": false
   }
  },
  {
   "cell_type": "code",
   "execution_count": 10,
   "outputs": [
    {
     "name": "stderr",
     "output_type": "stream",
     "text": [
      "0it [00:00, ?it/s]"
     ]
    },
    {
     "name": "stdout",
     "output_type": "stream",
     "text": [
      "Downloading msmarco_passage tars to /home/anistor/.pyterrier/corpora/msmarco_passage/collection.tar.gz\n"
     ]
    },
    {
     "name": "stderr",
     "output_type": "stream",
     "text": [
      "0it [00:00, ?it/s]\n"
     ]
    },
    {
     "ename": "HTTPError",
     "evalue": "404 Client Error: The specified resource does not exist. for url: https://msmarco.blob.core.windows.net/msmarcoranking/collection.tar.gz",
     "output_type": "error",
     "traceback": [
      "\u001B[0;31m---------------------------------------------------------------------------\u001B[0m",
      "\u001B[0;31mHTTPError\u001B[0m                                 Traceback (most recent call last)",
      "Cell \u001B[0;32mIn[10], line 2\u001B[0m\n\u001B[1;32m      1\u001B[0m ff_indexer \u001B[38;5;241m=\u001B[39m Indexer(ff_index, d_encoder, batch_size\u001B[38;5;241m=\u001B[39m\u001B[38;5;241m8\u001B[39m)\n\u001B[0;32m----> 2\u001B[0m \u001B[43mff_indexer\u001B[49m\u001B[38;5;241;43m.\u001B[39;49m\u001B[43mindex_dicts\u001B[49m\u001B[43m(\u001B[49m\u001B[43mdocs_iter\u001B[49m\u001B[43m(\u001B[49m\u001B[43mdataset\u001B[49m\u001B[43m)\u001B[49m\u001B[43m)\u001B[49m\n",
      "File \u001B[0;32m~/.local/lib/python3.10/site-packages/fast_forward/indexer.py:36\u001B[0m, in \u001B[0;36mIndexer.index_dicts\u001B[0;34m(self, data)\u001B[0m\n\u001B[1;32m     29\u001B[0m \u001B[38;5;250m\u001B[39m\u001B[38;5;124;03m\"\"\"Index data from dictionaries.\u001B[39;00m\n\u001B[1;32m     30\u001B[0m \u001B[38;5;124;03mThe dictionaries should have the key \"text\" and at least one of \"doc_id\" and \"psg_id\".\u001B[39;00m\n\u001B[1;32m     31\u001B[0m \n\u001B[1;32m     32\u001B[0m \u001B[38;5;124;03mArgs:\u001B[39;00m\n\u001B[1;32m     33\u001B[0m \u001B[38;5;124;03m    data (Iterable[Dict[str, str]]): An iterable of the dictionaries.\u001B[39;00m\n\u001B[1;32m     34\u001B[0m \u001B[38;5;124;03m\"\"\"\u001B[39;00m\n\u001B[1;32m     35\u001B[0m texts, doc_ids, psg_ids \u001B[38;5;241m=\u001B[39m [], [], []\n\u001B[0;32m---> 36\u001B[0m \u001B[38;5;28;01mfor\u001B[39;00m d \u001B[38;5;129;01min\u001B[39;00m tqdm(data):\n\u001B[1;32m     37\u001B[0m     texts\u001B[38;5;241m.\u001B[39mappend(d[\u001B[38;5;124m\"\u001B[39m\u001B[38;5;124mtext\u001B[39m\u001B[38;5;124m\"\u001B[39m])\n\u001B[1;32m     38\u001B[0m     \u001B[38;5;28;01mif\u001B[39;00m \u001B[38;5;124m\"\u001B[39m\u001B[38;5;124mdoc_id\u001B[39m\u001B[38;5;124m\"\u001B[39m \u001B[38;5;129;01min\u001B[39;00m d:\n",
      "File \u001B[0;32m~/.local/lib/python3.10/site-packages/tqdm/std.py:1181\u001B[0m, in \u001B[0;36mtqdm.__iter__\u001B[0;34m(self)\u001B[0m\n\u001B[1;32m   1178\u001B[0m time \u001B[38;5;241m=\u001B[39m \u001B[38;5;28mself\u001B[39m\u001B[38;5;241m.\u001B[39m_time\n\u001B[1;32m   1180\u001B[0m \u001B[38;5;28;01mtry\u001B[39;00m:\n\u001B[0;32m-> 1181\u001B[0m     \u001B[38;5;28;01mfor\u001B[39;00m obj \u001B[38;5;129;01min\u001B[39;00m iterable:\n\u001B[1;32m   1182\u001B[0m         \u001B[38;5;28;01myield\u001B[39;00m obj\n\u001B[1;32m   1183\u001B[0m         \u001B[38;5;66;03m# Update and possibly print the progressbar.\u001B[39;00m\n\u001B[1;32m   1184\u001B[0m         \u001B[38;5;66;03m# Note: does not call self.update(1) for speed optimisation.\u001B[39;00m\n",
      "Cell \u001B[0;32mIn[9], line 3\u001B[0m, in \u001B[0;36mdocs_iter\u001B[0;34m(dataset, limit)\u001B[0m\n\u001B[1;32m      1\u001B[0m \u001B[38;5;28;01mdef\u001B[39;00m \u001B[38;5;21mdocs_iter\u001B[39m(dataset, limit\u001B[38;5;241m=\u001B[39m\u001B[38;5;241m1000\u001B[39m):\n\u001B[1;32m      2\u001B[0m     \u001B[38;5;66;03m# Iterate over the documents and yield up to 'limit' documents\u001B[39;00m\n\u001B[0;32m----> 3\u001B[0m     \u001B[38;5;28;01mfor\u001B[39;00m count, d \u001B[38;5;129;01min\u001B[39;00m \u001B[38;5;28menumerate\u001B[39m(dataset\u001B[38;5;241m.\u001B[39mget_corpus_iter()):\n\u001B[1;32m      4\u001B[0m         \u001B[38;5;28;01mif\u001B[39;00m count \u001B[38;5;241m>\u001B[39m\u001B[38;5;241m=\u001B[39m limit:\n\u001B[1;32m      5\u001B[0m             \u001B[38;5;28;01mbreak\u001B[39;00m\n",
      "File \u001B[0;32m~/.local/lib/python3.10/site-packages/pyterrier/datasets.py:555\u001B[0m, in \u001B[0;36mpassage_generate\u001B[0;34m(dataset)\u001B[0m\n\u001B[1;32m    554\u001B[0m \u001B[38;5;28;01mdef\u001B[39;00m \u001B[38;5;21mpassage_generate\u001B[39m(dataset):\n\u001B[0;32m--> 555\u001B[0m     \u001B[38;5;28;01mfor\u001B[39;00m filename \u001B[38;5;129;01min\u001B[39;00m \u001B[43mdataset\u001B[49m\u001B[38;5;241;43m.\u001B[39;49m\u001B[43mget_corpus\u001B[49m\u001B[43m(\u001B[49m\u001B[43m)\u001B[49m:\n\u001B[1;32m    556\u001B[0m         \u001B[38;5;28;01mwith\u001B[39;00m autoopen(filename, \u001B[38;5;124m'\u001B[39m\u001B[38;5;124mrt\u001B[39m\u001B[38;5;124m'\u001B[39m) \u001B[38;5;28;01mas\u001B[39;00m corpusfile:\n\u001B[1;32m    557\u001B[0m             \u001B[38;5;28;01mfor\u001B[39;00m l \u001B[38;5;129;01min\u001B[39;00m corpusfile: \u001B[38;5;66;03m#for each line\u001B[39;00m\n",
      "File \u001B[0;32m~/.local/lib/python3.10/site-packages/pyterrier/datasets.py:335\u001B[0m, in \u001B[0;36mRemoteDataset.get_corpus\u001B[0;34m(self, **kwargs)\u001B[0m\n\u001B[1;32m    333\u001B[0m \u001B[38;5;28;01mdef\u001B[39;00m \u001B[38;5;21mget_corpus\u001B[39m(\u001B[38;5;28mself\u001B[39m, \u001B[38;5;241m*\u001B[39m\u001B[38;5;241m*\u001B[39mkwargs):\n\u001B[1;32m    334\u001B[0m     \u001B[38;5;28;01mimport\u001B[39;00m \u001B[38;5;21;01mpyterrier\u001B[39;00m \u001B[38;5;28;01mas\u001B[39;00m \u001B[38;5;21;01mpt\u001B[39;00m\n\u001B[0;32m--> 335\u001B[0m     \u001B[38;5;28;01mreturn\u001B[39;00m \u001B[38;5;28mlist\u001B[39m(\u001B[38;5;28mfilter\u001B[39m(\u001B[38;5;28;01mlambda\u001B[39;00m f : \u001B[38;5;129;01mnot\u001B[39;00m f\u001B[38;5;241m.\u001B[39mendswith(\u001B[38;5;124m\"\u001B[39m\u001B[38;5;124m.complete\u001B[39m\u001B[38;5;124m\"\u001B[39m), pt\u001B[38;5;241m.\u001B[39mio\u001B[38;5;241m.\u001B[39mfind_files(\u001B[38;5;28;43mself\u001B[39;49m\u001B[38;5;241;43m.\u001B[39;49m\u001B[43m_get_all_files\u001B[49m\u001B[43m(\u001B[49m\u001B[38;5;124;43m\"\u001B[39;49m\u001B[38;5;124;43mcorpus\u001B[39;49m\u001B[38;5;124;43m\"\u001B[39;49m\u001B[43m,\u001B[49m\u001B[43m \u001B[49m\u001B[38;5;241;43m*\u001B[39;49m\u001B[38;5;241;43m*\u001B[39;49m\u001B[43mkwargs\u001B[49m\u001B[43m)\u001B[49m)))\n",
      "File \u001B[0;32m~/.local/lib/python3.10/site-packages/pyterrier/datasets.py:302\u001B[0m, in \u001B[0;36mRemoteDataset._get_all_files\u001B[0;34m(self, component, variant, **kwargs)\u001B[0m\n\u001B[1;32m    300\u001B[0m \u001B[38;5;28;01massert\u001B[39;00m \u001B[38;5;129;01mnot\u001B[39;00m \u001B[38;5;124m\"\u001B[39m\u001B[38;5;124m/\u001B[39m\u001B[38;5;124m\"\u001B[39m \u001B[38;5;129;01min\u001B[39;00m intarfile\n\u001B[1;32m    301\u001B[0m \u001B[38;5;28;01massert\u001B[39;00m \u001B[38;5;124m\"\u001B[39m\u001B[38;5;124m.tar\u001B[39m\u001B[38;5;124m\"\u001B[39m \u001B[38;5;129;01min\u001B[39;00m tarname \u001B[38;5;129;01mor\u001B[39;00m \u001B[38;5;124m\"\u001B[39m\u001B[38;5;124m.tgz\u001B[39m\u001B[38;5;124m\"\u001B[39m \u001B[38;5;129;01min\u001B[39;00m tarname\n\u001B[0;32m--> 302\u001B[0m localtarfile, _ \u001B[38;5;241m=\u001B[39m \u001B[38;5;28;43mself\u001B[39;49m\u001B[38;5;241;43m.\u001B[39;49m\u001B[43m_get_one_file\u001B[49m\u001B[43m(\u001B[49m\u001B[38;5;124;43m\"\u001B[39;49m\u001B[38;5;124;43mtars\u001B[39;49m\u001B[38;5;124;43m\"\u001B[39;49m\u001B[43m,\u001B[49m\u001B[43m \u001B[49m\u001B[43mtarname\u001B[49m\u001B[43m)\u001B[49m\n\u001B[1;32m    303\u001B[0m tarobj \u001B[38;5;241m=\u001B[39m tarfile\u001B[38;5;241m.\u001B[39mopen(localtarfile, \u001B[38;5;124m\"\u001B[39m\u001B[38;5;124mr\u001B[39m\u001B[38;5;124m\"\u001B[39m)\n\u001B[1;32m    304\u001B[0m tarobj\u001B[38;5;241m.\u001B[39mextract(intarfile, path\u001B[38;5;241m=\u001B[39m\u001B[38;5;28mself\u001B[39m\u001B[38;5;241m.\u001B[39mcorpus_home)\n",
      "File \u001B[0;32m~/.local/lib/python3.10/site-packages/pyterrier/datasets.py:226\u001B[0m, in \u001B[0;36mRemoteDataset._get_one_file\u001B[0;34m(self, component, variant)\u001B[0m\n\u001B[1;32m    224\u001B[0m     \u001B[38;5;28;01mif\u001B[39;00m \u001B[38;5;28mself\u001B[39m\u001B[38;5;241m.\u001B[39muser \u001B[38;5;129;01mis\u001B[39;00m \u001B[38;5;129;01mnot\u001B[39;00m \u001B[38;5;28;01mNone\u001B[39;00m:\n\u001B[1;32m    225\u001B[0m         kwargs[\u001B[38;5;124m\"\u001B[39m\u001B[38;5;124mauth\u001B[39m\u001B[38;5;124m\"\u001B[39m]\u001B[38;5;241m=\u001B[39m(\u001B[38;5;28mself\u001B[39m\u001B[38;5;241m.\u001B[39muser, \u001B[38;5;28mself\u001B[39m\u001B[38;5;241m.\u001B[39mpassword)\n\u001B[0;32m--> 226\u001B[0m     \u001B[43mRemoteDataset\u001B[49m\u001B[38;5;241;43m.\u001B[39;49m\u001B[43mdownload\u001B[49m\u001B[43m(\u001B[49m\u001B[43mURL\u001B[49m\u001B[43m,\u001B[49m\u001B[43m \u001B[49m\u001B[43mlocal\u001B[49m\u001B[43m,\u001B[49m\u001B[43m \u001B[49m\u001B[38;5;241;43m*\u001B[39;49m\u001B[38;5;241;43m*\u001B[39;49m\u001B[43mkwargs\u001B[49m\u001B[43m)\u001B[49m\n\u001B[1;32m    227\u001B[0m \u001B[38;5;28;01mexcept\u001B[39;00m urllib\u001B[38;5;241m.\u001B[39merror\u001B[38;5;241m.\u001B[39mHTTPError \u001B[38;5;28;01mas\u001B[39;00m he:\n\u001B[1;32m    228\u001B[0m     \u001B[38;5;28;01mraise\u001B[39;00m \u001B[38;5;167;01mValueError\u001B[39;00m(\u001B[38;5;124m\"\u001B[39m\u001B[38;5;124mCould not fetch \u001B[39m\u001B[38;5;124m\"\u001B[39m \u001B[38;5;241m+\u001B[39m URL) \u001B[38;5;28;01mfrom\u001B[39;00m \u001B[38;5;21;01mhe\u001B[39;00m\n",
      "File \u001B[0;32m~/.local/lib/python3.10/site-packages/pyterrier/datasets.py:167\u001B[0m, in \u001B[0;36mRemoteDataset.download\u001B[0;34m(URLs, filename, **kwargs)\u001B[0m\n\u001B[1;32m    165\u001B[0m error \u001B[38;5;241m=\u001B[39m e\n\u001B[1;32m    166\u001B[0m \u001B[38;5;28;01mif\u001B[39;00m i \u001B[38;5;241m==\u001B[39m finalattempt:\n\u001B[0;32m--> 167\u001B[0m     \u001B[38;5;28;01mraise\u001B[39;00m error\n\u001B[1;32m    168\u001B[0m \u001B[38;5;28;01melse\u001B[39;00m:\n\u001B[1;32m    169\u001B[0m     warn(\u001B[38;5;124m\"\u001B[39m\u001B[38;5;124mProblem fetching \u001B[39m\u001B[38;5;132;01m%s\u001B[39;00m\u001B[38;5;124m, resorting to next mirror\u001B[39m\u001B[38;5;124m\"\u001B[39m \u001B[38;5;241m%\u001B[39m url)\n",
      "File \u001B[0;32m~/.local/lib/python3.10/site-packages/pyterrier/datasets.py:149\u001B[0m, in \u001B[0;36mRemoteDataset.download\u001B[0;34m(URLs, filename, **kwargs)\u001B[0m\n\u001B[1;32m    147\u001B[0m \u001B[38;5;28;01mtry\u001B[39;00m:\n\u001B[1;32m    148\u001B[0m     r \u001B[38;5;241m=\u001B[39m requests\u001B[38;5;241m.\u001B[39mget(url, allow_redirects\u001B[38;5;241m=\u001B[39m\u001B[38;5;28;01mTrue\u001B[39;00m, stream\u001B[38;5;241m=\u001B[39m\u001B[38;5;28;01mTrue\u001B[39;00m, \u001B[38;5;241m*\u001B[39m\u001B[38;5;241m*\u001B[39mkwargs)\n\u001B[0;32m--> 149\u001B[0m     \u001B[43mr\u001B[49m\u001B[38;5;241;43m.\u001B[39;49m\u001B[43mraise_for_status\u001B[49m\u001B[43m(\u001B[49m\u001B[43m)\u001B[49m\n\u001B[1;32m    150\u001B[0m     total \u001B[38;5;241m=\u001B[39m \u001B[38;5;28mint\u001B[39m(r\u001B[38;5;241m.\u001B[39mheaders\u001B[38;5;241m.\u001B[39mget(\u001B[38;5;124m'\u001B[39m\u001B[38;5;124mcontent-length\u001B[39m\u001B[38;5;124m'\u001B[39m, \u001B[38;5;241m0\u001B[39m))\n\u001B[1;32m    151\u001B[0m     \u001B[38;5;28;01mwith\u001B[39;00m pt\u001B[38;5;241m.\u001B[39mio\u001B[38;5;241m.\u001B[39mfinalized_open(filename, \u001B[38;5;124m'\u001B[39m\u001B[38;5;124mb\u001B[39m\u001B[38;5;124m'\u001B[39m) \u001B[38;5;28;01mas\u001B[39;00m file, tqdm(\n\u001B[1;32m    152\u001B[0m             desc\u001B[38;5;241m=\u001B[39mbasename,\n\u001B[1;32m    153\u001B[0m             total\u001B[38;5;241m=\u001B[39mtotal,\n\u001B[0;32m   (...)\u001B[0m\n\u001B[1;32m    156\u001B[0m             unit_divisor\u001B[38;5;241m=\u001B[39m\u001B[38;5;241m1024\u001B[39m,\n\u001B[1;32m    157\u001B[0m     ) \u001B[38;5;28;01mas\u001B[39;00m bar:\n",
      "File \u001B[0;32m/usr/local/lib/python3.10/dist-packages/requests/models.py:1021\u001B[0m, in \u001B[0;36mResponse.raise_for_status\u001B[0;34m(self)\u001B[0m\n\u001B[1;32m   1016\u001B[0m     http_error_msg \u001B[38;5;241m=\u001B[39m (\n\u001B[1;32m   1017\u001B[0m         \u001B[38;5;124mf\u001B[39m\u001B[38;5;124m\"\u001B[39m\u001B[38;5;132;01m{\u001B[39;00m\u001B[38;5;28mself\u001B[39m\u001B[38;5;241m.\u001B[39mstatus_code\u001B[38;5;132;01m}\u001B[39;00m\u001B[38;5;124m Server Error: \u001B[39m\u001B[38;5;132;01m{\u001B[39;00mreason\u001B[38;5;132;01m}\u001B[39;00m\u001B[38;5;124m for url: \u001B[39m\u001B[38;5;132;01m{\u001B[39;00m\u001B[38;5;28mself\u001B[39m\u001B[38;5;241m.\u001B[39murl\u001B[38;5;132;01m}\u001B[39;00m\u001B[38;5;124m\"\u001B[39m\n\u001B[1;32m   1018\u001B[0m     )\n\u001B[1;32m   1020\u001B[0m \u001B[38;5;28;01mif\u001B[39;00m http_error_msg:\n\u001B[0;32m-> 1021\u001B[0m     \u001B[38;5;28;01mraise\u001B[39;00m HTTPError(http_error_msg, response\u001B[38;5;241m=\u001B[39m\u001B[38;5;28mself\u001B[39m)\n",
      "\u001B[0;31mHTTPError\u001B[0m: 404 Client Error: The specified resource does not exist. for url: https://msmarco.blob.core.windows.net/msmarcoranking/collection.tar.gz"
     ]
    }
   ],
   "source": [
    "ff_indexer = Indexer(ff_index, d_encoder, batch_size=8)\n",
    "ff_indexer.index_dicts(docs_iter(dataset))"
   ],
   "metadata": {
    "collapsed": false
   }
  },
  {
   "cell_type": "code",
   "execution_count": 12,
   "outputs": [],
   "source": [
    "dataset_name = \"irds:msmarco-passage\"\n",
    "dataset = pt.get_dataset(dataset_name)"
   ],
   "metadata": {
    "collapsed": false
   }
  },
  {
   "cell_type": "code",
   "execution_count": 14,
   "outputs": [],
   "source": [
    "from pathlib import Path\n",
    "from fast_forward import OnDiskIndex, Mode, Indexer\n",
    "\n",
    "index_path = \"../dense_indexes/ffindex_\" + format_dataset_name(dataset_name) + \"_gte-base-en-v1.5.h5\"\n",
    "ff_index = OnDiskIndex(\n",
    "    Path(index_path), dim=768, query_encoder=q_encoder, mode=Mode.MAXP, max_id_length=47\n",
    ")"
   ],
   "metadata": {
    "collapsed": false
   }
  },
  {
   "cell_type": "code",
   "execution_count": null,
   "outputs": [
    {
     "name": "stderr",
     "output_type": "stream",
     "text": [
      "0it [00:00, ?it/s]\n",
      "                  cuments:   0%|          | 0/8841823 [00:00<?, ?it/s]\u001B[A\r\n",
      "\u001B[A                                                                   [INFO] Please confirm you agree to the MSMARCO data usage agreement found at <http://www.msmarco.org/dataset.aspx>\n",
      "0it [00:00, ?it/s]\n",
      "                  cuments:   0%|          | 0/8841823 [00:00<?, ?it/s]\u001B[A\r\n",
      "\u001B[A                                                                   [INFO] If you have a local copy of https://msmarco.z22.web.core.windows.net/msmarcoranking/collectionandqueries.tar.gz, you can symlink it here to avoid downloading it again: /home/anistor/.ir_datasets/downloads/31644046b18952c1386cd4564ba2ae69\n",
      "0it [00:00, ?it/s]\n",
      "                  cuments:   0%|          | 0/8841823 [00:00<?, ?it/s]\u001B[A\r\n",
      "\u001B[A                                                                   [INFO] [starting] https://msmarco.z22.web.core.windows.net/msmarcoranking/collectionandqueries.tar.gz\n",
      "0it [00:00, ?it/s]\n",
      "msmarco-passage documents:   0%|          | 0/8841823 [00:00<?, ?it/s]\u001B[A\n",
      "\n",
      "https://msmarco.z22.web.core.windows.net/msmarcoranking/collectionandqueries.tar.gz: 0.0%| 0.00/1.06G [00:00<?, ?B/s]\u001B[A\u001B[A\n",
      "\n",
      "https://msmarco.z22.web.core.windows.net/msmarcoranking/collectionandqueries.tar.gz: 0.0%| 16.4k/1.06G [00:00<2:32:19, 116kB/s]\u001B[A\u001B[A\n",
      "\n",
      "https://msmarco.z22.web.core.windows.net/msmarcoranking/collectionandqueries.tar.gz: 0.0%| 49.2k/1.06G [00:00<1:47:33, 164kB/s]\u001B[A\u001B[A\n",
      "\n",
      "https://msmarco.z22.web.core.windows.net/msmarcoranking/collectionandqueries.tar.gz: 0.0%| 81.9k/1.06G [00:00<1:38:03, 180kB/s]\u001B[A\u001B[A\n",
      "\n",
      "https://msmarco.z22.web.core.windows.net/msmarcoranking/collectionandqueries.tar.gz: 0.0%| 131k/1.06G [00:00<1:22:57, 212kB/s] \u001B[A\u001B[A\n",
      "\n",
      "https://msmarco.z22.web.core.windows.net/msmarcoranking/collectionandqueries.tar.gz: 0.0%| 213k/1.06G [00:00<1:03:53, 276kB/s]\u001B[A\u001B[A\n",
      "\n",
      "https://msmarco.z22.web.core.windows.net/msmarcoranking/collectionandqueries.tar.gz: 0.0%| 344k/1.06G [00:00<47:30, 371kB/s]  \u001B[A\u001B[A\n",
      "\n",
      "https://msmarco.z22.web.core.windows.net/msmarcoranking/collectionandqueries.tar.gz: 0.1%| 557k/1.06G [00:01<34:14, 515kB/s]\u001B[A\u001B[A\n",
      "\n",
      "https://msmarco.z22.web.core.windows.net/msmarcoranking/collectionandqueries.tar.gz: 0.1%| 852k/1.06G [00:01<25:36, 688kB/s]\u001B[A\u001B[A\n",
      "\n",
      "https://msmarco.z22.web.core.windows.net/msmarcoranking/collectionandqueries.tar.gz: 0.1%| 1.31M/1.06G [00:01<18:26, 954kB/s]\u001B[A\u001B[A\n",
      "\n",
      "https://msmarco.z22.web.core.windows.net/msmarcoranking/collectionandqueries.tar.gz: 0.2%| 2.02M/1.06G [00:01<13:22, 1.32MB/s]\u001B[A\u001B[A\n",
      "\n",
      "https://msmarco.z22.web.core.windows.net/msmarcoranking/collectionandqueries.tar.gz: 0.3%| 2.90M/1.06G [00:01<09:53, 1.78MB/s]\u001B[A\u001B[A\n",
      "\n",
      "https://msmarco.z22.web.core.windows.net/msmarcoranking/collectionandqueries.tar.gz: 0.4%| 3.78M/1.06G [00:01<08:16, 2.12MB/s]\u001B[A\u001B[A\n",
      "\n",
      "https://msmarco.z22.web.core.windows.net/msmarcoranking/collectionandqueries.tar.gz: 0.4%| 4.67M/1.06G [00:01<07:17, 2.41MB/s]\u001B[A\u001B[A\n",
      "\n",
      "https://msmarco.z22.web.core.windows.net/msmarcoranking/collectionandqueries.tar.gz: 0.5%| 5.55M/1.06G [00:02<06:26, 2.72MB/s]\u001B[A\u001B[A\n",
      "\n",
      "https://msmarco.z22.web.core.windows.net/msmarcoranking/collectionandqueries.tar.gz: 0.6%| 6.46M/1.06G [00:02<05:48, 3.02MB/s]\u001B[A\u001B[A\n",
      "\n",
      "https://msmarco.z22.web.core.windows.net/msmarcoranking/collectionandqueries.tar.gz: 0.7%| 7.37M/1.06G [00:02<05:24, 3.23MB/s]\u001B[A\u001B[A\n",
      "\n",
      "https://msmarco.z22.web.core.windows.net/msmarcoranking/collectionandqueries.tar.gz: 0.8%| 8.46M/1.06G [00:02<04:55, 3.55MB/s]\u001B[A\u001B[A\n",
      "\n",
      "https://msmarco.z22.web.core.windows.net/msmarcoranking/collectionandqueries.tar.gz: 0.9%| 9.55M/1.06G [00:02<04:34, 3.82MB/s]\u001B[A\u001B[A\n",
      "\n",
      "https://msmarco.z22.web.core.windows.net/msmarcoranking/collectionandqueries.tar.gz: 1.0%| 10.6M/1.06G [00:02<04:20, 4.02MB/s]\u001B[A\u001B[A\n",
      "\n",
      "https://msmarco.z22.web.core.windows.net/msmarcoranking/collectionandqueries.tar.gz: 1.1%| 11.7M/1.06G [00:02<04:06, 4.24MB/s]\u001B[A\u001B[A\n",
      "\n",
      "https://msmarco.z22.web.core.windows.net/msmarcoranking/collectionandqueries.tar.gz: 1.2%| 12.8M/1.06G [00:02<03:53, 4.47MB/s]\u001B[A\u001B[A\n",
      "\n",
      "https://msmarco.z22.web.core.windows.net/msmarcoranking/collectionandqueries.tar.gz: 1.3%| 13.9M/1.06G [00:02<03:44, 4.65MB/s]\u001B[A\u001B[A\n",
      "\n",
      "https://msmarco.z22.web.core.windows.net/msmarcoranking/collectionandqueries.tar.gz: 1.4%| 15.0M/1.06G [00:03<03:36, 4.83MB/s]\u001B[A\u001B[A\n",
      "\n",
      "https://msmarco.z22.web.core.windows.net/msmarcoranking/collectionandqueries.tar.gz: 1.5%| 16.1M/1.06G [00:03<03:28, 4.99MB/s]\u001B[A\u001B[A\n",
      "\n",
      "https://msmarco.z22.web.core.windows.net/msmarcoranking/collectionandqueries.tar.gz: 1.6%| 17.3M/1.06G [00:03<03:19, 5.21MB/s]\u001B[A\u001B[A\n",
      "\n",
      "https://msmarco.z22.web.core.windows.net/msmarcoranking/collectionandqueries.tar.gz: 1.8%| 18.5M/1.06G [00:03<03:13, 5.36MB/s]\u001B[A\u001B[A\n",
      "\n",
      "https://msmarco.z22.web.core.windows.net/msmarcoranking/collectionandqueries.tar.gz: 1.9%| 19.8M/1.06G [00:03<03:08, 5.52MB/s]\u001B[A\u001B[A\n",
      "\n",
      "https://msmarco.z22.web.core.windows.net/msmarcoranking/collectionandqueries.tar.gz: 2.0%| 21.0M/1.06G [00:03<03:02, 5.68MB/s]\u001B[A\u001B[A\n",
      "\n",
      "https://msmarco.z22.web.core.windows.net/msmarcoranking/collectionandqueries.tar.gz: 2.1%| 22.2M/1.06G [00:03<02:57, 5.85MB/s]\u001B[A\u001B[A\n",
      "\n",
      "https://msmarco.z22.web.core.windows.net/msmarcoranking/collectionandqueries.tar.gz: 2.2%| 23.4M/1.06G [00:03<02:53, 5.95MB/s]\u001B[A\u001B[A\n",
      "\n",
      "https://msmarco.z22.web.core.windows.net/msmarcoranking/collectionandqueries.tar.gz: 2.3%| 24.6M/1.06G [00:04<02:49, 6.10MB/s]\u001B[A\u001B[A\n",
      "\n",
      "https://msmarco.z22.web.core.windows.net/msmarcoranking/collectionandqueries.tar.gz: 2.5%| 25.9M/1.06G [00:04<02:44, 6.27MB/s]\u001B[A\u001B[A\n",
      "\n",
      "https://msmarco.z22.web.core.windows.net/msmarcoranking/collectionandqueries.tar.gz: 2.6%| 27.3M/1.06G [00:04<02:41, 6.39MB/s]\u001B[A\u001B[A\n",
      "\n",
      "https://msmarco.z22.web.core.windows.net/msmarcoranking/collectionandqueries.tar.gz: 2.7%| 28.6M/1.06G [00:04<02:39, 6.45MB/s]\u001B[A\u001B[A\n",
      "\n",
      "https://msmarco.z22.web.core.windows.net/msmarcoranking/collectionandqueries.tar.gz: 2.9%| 30.3M/1.06G [00:04<02:33, 6.68MB/s]\u001B[A\u001B[A\n",
      "\n",
      "https://msmarco.z22.web.core.windows.net/msmarcoranking/collectionandqueries.tar.gz: 3.0%| 32.0M/1.06G [00:04<02:30, 6.83MB/s]\u001B[A\u001B[A\n",
      "\n",
      "https://msmarco.z22.web.core.windows.net/msmarcoranking/collectionandqueries.tar.gz: 3.2%| 33.8M/1.06G [00:04<02:27, 6.94MB/s]\u001B[A\u001B[A\n",
      "\n",
      "https://msmarco.z22.web.core.windows.net/msmarcoranking/collectionandqueries.tar.gz: 3.4%| 35.5M/1.06G [00:05<02:24, 7.08MB/s]\u001B[A\u001B[A\n",
      "\n",
      "https://msmarco.z22.web.core.windows.net/msmarcoranking/collectionandqueries.tar.gz: 3.5%| 37.2M/1.06G [00:05<02:21, 7.22MB/s]\u001B[A\u001B[A\n",
      "\n",
      "https://msmarco.z22.web.core.windows.net/msmarcoranking/collectionandqueries.tar.gz: 3.7%| 39.0M/1.06G [00:05<02:18, 7.36MB/s]\u001B[A\u001B[A\n",
      "\n",
      "https://msmarco.z22.web.core.windows.net/msmarcoranking/collectionandqueries.tar.gz: 3.9%| 40.7M/1.06G [00:05<02:15, 7.49MB/s]\u001B[A\u001B[A\n",
      "\n",
      "https://msmarco.z22.web.core.windows.net/msmarcoranking/collectionandqueries.tar.gz: 4.0%| 42.5M/1.06G [00:05<02:13, 7.59MB/s]\u001B[A\u001B[A\n",
      "\n",
      "https://msmarco.z22.web.core.windows.net/msmarcoranking/collectionandqueries.tar.gz: 4.2%| 44.2M/1.06G [00:05<02:11, 7.71MB/s]\u001B[A\u001B[A\n",
      "\n",
      "https://msmarco.z22.web.core.windows.net/msmarcoranking/collectionandqueries.tar.gz: 4.3%| 45.9M/1.06G [00:05<02:09, 7.81MB/s]\u001B[A\u001B[A\n",
      "\n",
      "https://msmarco.z22.web.core.windows.net/msmarcoranking/collectionandqueries.tar.gz: 4.5%| 47.7M/1.06G [00:06<02:07, 7.94MB/s]\u001B[A\u001B[A\n",
      "\n",
      "https://msmarco.z22.web.core.windows.net/msmarcoranking/collectionandqueries.tar.gz: 4.7%| 49.4M/1.06G [00:06<02:08, 7.85MB/s]\u001B[A\u001B[A\n",
      "\n",
      "https://msmarco.z22.web.core.windows.net/msmarcoranking/collectionandqueries.tar.gz: 4.8%| 51.2M/1.06G [00:06<02:06, 7.98MB/s]\u001B[A\u001B[A\n",
      "\n",
      "https://msmarco.z22.web.core.windows.net/msmarcoranking/collectionandqueries.tar.gz: 5.0%| 53.1M/1.06G [00:06<02:07, 7.85MB/s]\u001B[A\u001B[A\n",
      "\n"
     ]
    }
   ],
   "source": [
    "ff_indexer = Indexer(ff_index, d_encoder, batch_size=8)\n",
    "ff_indexer.index_dicts(docs_iter(dataset))"
   ],
   "metadata": {
    "collapsed": false,
    "pycharm": {
     "is_executing": true
    }
   }
  },
  {
   "cell_type": "code",
   "execution_count": null,
   "outputs": [],
   "source": [],
   "metadata": {
    "collapsed": false
   }
  }
 ],
 "metadata": {
  "kernelspec": {
   "display_name": "Python 3",
   "language": "python",
   "name": "python3"
  },
  "language_info": {
   "codemirror_mode": {
    "name": "ipython",
    "version": 2
   },
   "file_extension": ".py",
   "mimetype": "text/x-python",
   "name": "python",
   "nbconvert_exporter": "python",
   "pygments_lexer": "ipython2",
   "version": "2.7.6"
  }
 },
 "nbformat": 4,
 "nbformat_minor": 0
}
