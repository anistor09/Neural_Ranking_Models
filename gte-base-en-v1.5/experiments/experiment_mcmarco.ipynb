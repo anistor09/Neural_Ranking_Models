{
 "cells": [
  {
   "cell_type": "code",
   "execution_count": 1,
   "metadata": {
    "collapsed": true
   },
   "outputs": [
    {
     "name": "stderr",
     "output_type": "stream",
     "text": [
      "PyTerrier 0.10.0 has loaded Terrier 5.9 (built by craigm on 2024-05-02 17:40) and terrier-helper 0.0.8\n",
      "\n",
      "No etc/terrier.properties, using terrier.default.properties for bootstrap configuration.\n"
     ]
    }
   ],
   "source": [
    "import pyterrier as pt\n",
    "from experiments_helper import time_fct\n",
    "\n",
    "if not pt.started():\n",
    "    pt.init()"
   ]
  },
  {
   "cell_type": "code",
   "execution_count": 2,
   "outputs": [],
   "source": [
    "from pyterrier.measures import RR, nDCG, MAP\n",
    "\n",
    "eval_metrics = [RR @ 10, nDCG @ 10, MAP @ 100]"
   ],
   "metadata": {
    "collapsed": false
   }
  },
  {
   "cell_type": "markdown",
   "source": [
    "### Should I also load the MC_MARCO index in memory considering that it has 37.7GB and I don t have that memory available. For the dense indexes, should I also keep them on disk?"
   ],
   "metadata": {
    "collapsed": false
   }
  },
  {
   "cell_type": "code",
   "execution_count": null,
   "outputs": [
    {
     "name": "stderr",
     "output_type": "stream",
     "text": [
      "/home/anistor/.local/lib/python3.10/site-packages/pyterrier/datasets.py:278: UserWarning: Downloading index of > 2GB.\n",
      "  warn(\"Downloading index of > 2GB.\")\n"
     ]
    },
    {
     "name": "stdout",
     "output_type": "stream",
     "text": [
      "Downloading msmarcov2_document index to /home/anistor/.pyterrier/corpora/msmarcov2_document/index/terrier_stemmed\n"
     ]
    },
    {
     "name": "stderr",
     "output_type": "stream",
     "text": [
      "data.direct.bf:  73%|███████▎  | 6.79G/9.31G [44:01<03:19, 13.6MiB/s]  "
     ]
    }
   ],
   "source": [
    "dataset_name = \"msmarcov2_document\"\n",
    "index_variant = 'terrier_stemmed'\n",
    "\n",
    "retriever = pt.BatchRetrieve.from_dataset(dataset_name, index_variant, wmodel='BM25')"
   ],
   "metadata": {
    "collapsed": false,
    "pycharm": {
     "is_executing": true
    }
   }
  },
  {
   "cell_type": "code",
   "execution_count": null,
   "outputs": [],
   "source": [
    "from experiments_helper import run_single_experiment_name\n",
    "\n",
    "dataset_test_name = \"msmarco-document/trec-dl-2019\"\n",
    "time_fct(run_single_experiment_name, retriever, dataset_test_name, eval_metrics, dataset_name + \": BM25\")"
   ],
   "metadata": {
    "collapsed": false,
    "pycharm": {
     "is_executing": true
    }
   }
  },
  {
   "cell_type": "code",
   "execution_count": null,
   "outputs": [],
   "source": [],
   "metadata": {
    "collapsed": false
   }
  }
 ],
 "metadata": {
  "kernelspec": {
   "display_name": "Python 3",
   "language": "python",
   "name": "python3"
  },
  "language_info": {
   "codemirror_mode": {
    "name": "ipython",
    "version": 2
   },
   "file_extension": ".py",
   "mimetype": "text/x-python",
   "name": "python",
   "nbconvert_exporter": "python",
   "pygments_lexer": "ipython2",
   "version": "2.7.6"
  }
 },
 "nbformat": 4,
 "nbformat_minor": 0
}
