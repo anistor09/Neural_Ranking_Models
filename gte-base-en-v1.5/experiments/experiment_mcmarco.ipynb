{
 "cells": [
  {
   "cell_type": "code",
   "execution_count": 1,
   "metadata": {
    "collapsed": true
   },
   "outputs": [
    {
     "name": "stderr",
     "output_type": "stream",
     "text": [
      "PyTerrier 0.10.0 has loaded Terrier 5.9 (built by craigm on 2024-05-02 17:40) and terrier-helper 0.0.8\n",
      "\n",
      "No etc/terrier.properties, using terrier.default.properties for bootstrap configuration.\n"
     ]
    }
   ],
   "source": [
    "import pyterrier as pt\n",
    "from experiments_helper import time_fct\n",
    "\n",
    "if not pt.started():\n",
    "    pt.init()"
   ]
  },
  {
   "cell_type": "code",
   "execution_count": 2,
   "outputs": [],
   "source": [
    "from pyterrier.measures import RR, nDCG, MAP\n",
    "\n",
    "eval_metrics = [RR @ 10, nDCG @ 10, MAP @ 100]"
   ],
   "metadata": {
    "collapsed": false
   }
  },
  {
   "cell_type": "markdown",
   "source": [
    "### Should I also load the MC_MARCO index in memory considering that it has 37.7GB and I don t have that memory available. For the dense indexes, should I also keep them on disk?"
   ],
   "metadata": {
    "collapsed": false
   }
  },
  {
   "cell_type": "code",
   "execution_count": 3,
   "outputs": [
    {
     "name": "stderr",
     "output_type": "stream",
     "text": [
      "/home/anistor/.local/lib/python3.10/site-packages/pyterrier/datasets.py:278: UserWarning: Downloading index of > 2GB.\n",
      "  warn(\"Downloading index of > 2GB.\")\n",
      "data.direct.bf: 100%|██████████| 9.31G/9.31G [10:44<00:00, 15.5MiB/s]\n",
      "data.document.fsarrayfile: 100%|██████████| 376M/376M [00:31<00:00, 12.5MiB/s] \n",
      "data.inverted.bf: 100%|██████████| 8.22G/8.22G [08:35<00:00, 17.1MiB/s]\n",
      "data.lexicon.fsomapfile: 100%|██████████| 1.93G/1.93G [02:16<00:00, 15.2MiB/s]\n",
      "data.lexicon.fsomaphash: 100%|██████████| 0.99k/0.99k [00:00<00:00, 1.45MiB/s]\n",
      "data.lexicon.fsomapid: 100%|██████████| 77.7M/77.7M [00:04<00:00, 17.5MiB/s]\n",
      "data.meta-0.fsomapfile: 100%|██████████| 17.2G/17.2G [19:48<00:00, 15.5MiB/s] \n",
      "data.meta.idx: 100%|██████████| 91.2M/91.2M [00:10<00:00, 9.23MiB/s]\n",
      "data.meta.zdata: 100%|██████████| 484M/484M [00:43<00:00, 11.6MiB/s] \n",
      "data.properties: 100%|██████████| 4.43k/4.43k [00:00<00:00, 7.86MiB/s]\n",
      "md5sums: 100%|██████████| 537/537 [00:00<00:00, 3.59MiB/s]\n"
     ]
    },
    {
     "name": "stdout",
     "output_type": "stream",
     "text": [
      "16:38:30.442 [main] WARN org.terrier.structures.FSADocumentIndex - This index has fields, but FSADocumentIndex is used (which stores fields lengths on disk); If using field-based models such as BM25F, change to index.document.class in the index  properties file to FSAFieldDocumentIndex or FSADocumentIndexInMemFields to support efficient retrieval. If you don't use (e.g.) BM25F, this warning can be ignored\n",
      "16:38:35.026 [main] WARN org.terrier.structures.BaseCompressingMetaIndex - Structure meta reading data file directly from disk (SLOW) - try index.meta.data-source=fileinmem in the index properties file. 483.7 MiB of memory would be required.\n"
     ]
    }
   ],
   "source": [
    "dataset_name = \"msmarcov2_document\"\n",
    "index_variant = 'terrier_stemmed'\n",
    "\n",
    "retriever = pt.BatchRetrieve.from_dataset(dataset_name, index_variant, wmodel='BM25')"
   ],
   "metadata": {
    "collapsed": false
   }
  },
  {
   "cell_type": "code",
   "execution_count": 8,
   "outputs": [
    {
     "name": "stderr",
     "output_type": "stream",
     "text": [
      "[INFO] [starting] https://msmarco.z22.web.core.windows.net/msmarcoranking/msmarco-test2019-queries.tsv.gz\n",
      "[INFO] [finished] https://msmarco.z22.web.core.windows.net/msmarcoranking/msmarco-test2019-queries.tsv.gz: [00:00] [4.28kB] [4.70MB/s]\n",
      "[INFO] [starting] https://msmarco.z22.web.core.windows.net/msmarcoranking/docv2_trec2019_qrels.txt.gz               \n",
      "[INFO] [finished] https://msmarco.z22.web.core.windows.net/msmarcoranking/docv2_trec2019_qrels.txt.gz: [00:00] [107kB] [231kB/s]\n",
      "                                                                                                              \r"
     ]
    },
    {
     "name": "stdout",
     "output_type": "stream",
     "text": [
      "Experiment took 70.998 seconds to execute.\n"
     ]
    },
    {
     "data": {
      "text/plain": "                       name     RR@10   nDCG@10    AP@100\n0  msmarcov2_document: BM25  0.536074  0.248707  0.090859",
      "text/html": "<div>\n<style scoped>\n    .dataframe tbody tr th:only-of-type {\n        vertical-align: middle;\n    }\n\n    .dataframe tbody tr th {\n        vertical-align: top;\n    }\n\n    .dataframe thead th {\n        text-align: right;\n    }\n</style>\n<table border=\"1\" class=\"dataframe\">\n  <thead>\n    <tr style=\"text-align: right;\">\n      <th></th>\n      <th>name</th>\n      <th>RR@10</th>\n      <th>nDCG@10</th>\n      <th>AP@100</th>\n    </tr>\n  </thead>\n  <tbody>\n    <tr>\n      <th>0</th>\n      <td>msmarcov2_document: BM25</td>\n      <td>0.536074</td>\n      <td>0.248707</td>\n      <td>0.090859</td>\n    </tr>\n  </tbody>\n</table>\n</div>"
     },
     "execution_count": 8,
     "metadata": {},
     "output_type": "execute_result"
    }
   ],
   "source": [
    "from experiments_helper import run_single_experiment_name\n",
    "\n",
    "dataset_test_name = \"irds:msmarco-document-v2/trec-dl-2019\"\n",
    "time_fct(run_single_experiment_name, retriever, dataset_test_name, eval_metrics, dataset_name + \": BM25\")"
   ],
   "metadata": {
    "collapsed": false
   }
  },
  {
   "cell_type": "code",
   "execution_count": null,
   "outputs": [],
   "source": [],
   "metadata": {
    "collapsed": false
   }
  }
 ],
 "metadata": {
  "kernelspec": {
   "display_name": "Python 3",
   "language": "python",
   "name": "python3"
  },
  "language_info": {
   "codemirror_mode": {
    "name": "ipython",
    "version": 2
   },
   "file_extension": ".py",
   "mimetype": "text/x-python",
   "name": "python",
   "nbconvert_exporter": "python",
   "pygments_lexer": "ipython2",
   "version": "2.7.6"
  }
 },
 "nbformat": 4,
 "nbformat_minor": 0
}
