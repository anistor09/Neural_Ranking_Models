{
 "cells": [
  {
   "cell_type": "markdown",
   "source": [
    "General Setup for all the datasets"
   ],
   "metadata": {
    "collapsed": false
   }
  },
  {
   "cell_type": "code",
   "execution_count": 1,
   "outputs": [
    {
     "name": "stderr",
     "output_type": "stream",
     "text": [
      "PyTerrier 0.10.0 has loaded Terrier 5.9 (built by craigm on 2024-05-02 17:40) and terrier-helper 0.0.8\n",
      "\n",
      "No etc/terrier.properties, using terrier.default.properties for bootstrap configuration.\n"
     ]
    }
   ],
   "source": [
    "import pyterrier as pt\n",
    "from experiments_helper import time_fct\n",
    "\n",
    "if not pt.started():\n",
    "    pt.init()"
   ],
   "metadata": {
    "collapsed": false
   }
  },
  {
   "cell_type": "markdown",
   "source": [
    "Evaluation metrics used for all the datasets"
   ],
   "metadata": {
    "collapsed": false
   }
  },
  {
   "cell_type": "code",
   "execution_count": 2,
   "outputs": [],
   "source": [
    "from pyterrier.measures import RR, nDCG, MAP\n",
    "\n",
    "eval_metrics = [RR @ 10, nDCG @ 10, MAP @ 100]"
   ],
   "metadata": {
    "collapsed": false
   }
  },
  {
   "cell_type": "markdown",
   "source": [
    "Create the query encoder that will run on CPU. Encoder used for embedding all the datasets/queries"
   ],
   "metadata": {
    "collapsed": false
   }
  },
  {
   "cell_type": "code",
   "execution_count": 3,
   "outputs": [],
   "source": [
    "from gte_base_en_encoder import GTEBaseDocumentEncoder\n",
    "\n",
    "q_encoder = GTEBaseDocumentEncoder(\"Alibaba-NLP/gte-base-en-v1.5\")\n"
   ],
   "metadata": {
    "collapsed": false
   }
  },
  {
   "cell_type": "markdown",
   "source": [
    "## NFCorpus"
   ],
   "metadata": {
    "collapsed": false
   }
  },
  {
   "cell_type": "code",
   "execution_count": 17,
   "outputs": [],
   "source": [
    "from experiments_helper import load_sparse_index_from_disk\n",
    "\n",
    "dataset_name = \"nfcorpus\"\n",
    "\n",
    "retriever = load_sparse_index_from_disk(dataset_name)"
   ],
   "metadata": {
    "collapsed": false
   }
  },
  {
   "cell_type": "markdown",
   "source": [
    "Testing the sparse retrieval"
   ],
   "metadata": {
    "collapsed": false
   }
  },
  {
   "cell_type": "code",
   "execution_count": 23,
   "outputs": [
    {
     "name": "stdout",
     "output_type": "stream",
     "text": [
      "Experiment took 2.896 seconds to execute.\n"
     ]
    },
    {
     "data": {
      "text/plain": "             name     RR@10   nDCG@10    AP@100\n0  nfcorpus: BM25  0.534378  0.322219  0.143582",
      "text/html": "<div>\n<style scoped>\n    .dataframe tbody tr th:only-of-type {\n        vertical-align: middle;\n    }\n\n    .dataframe tbody tr th {\n        vertical-align: top;\n    }\n\n    .dataframe thead th {\n        text-align: right;\n    }\n</style>\n<table border=\"1\" class=\"dataframe\">\n  <thead>\n    <tr style=\"text-align: right;\">\n      <th></th>\n      <th>name</th>\n      <th>RR@10</th>\n      <th>nDCG@10</th>\n      <th>AP@100</th>\n    </tr>\n  </thead>\n  <tbody>\n    <tr>\n      <th>0</th>\n      <td>nfcorpus: BM25</td>\n      <td>0.534378</td>\n      <td>0.322219</td>\n      <td>0.143582</td>\n    </tr>\n  </tbody>\n</table>\n</div>"
     },
     "execution_count": 23,
     "metadata": {},
     "output_type": "execute_result"
    }
   ],
   "source": [
    "from experiments_helper import run_single_experiment_name\n",
    "\n",
    "dataset_test_name = \"irds:beir/nfcorpus/test\"\n",
    "time_fct(run_single_experiment_name, retriever, dataset_test_name, eval_metrics, dataset_name + \": BM25\")"
   ],
   "metadata": {
    "collapsed": false
   }
  },
  {
   "cell_type": "markdown",
   "source": [
    "Retrieve the dense index(already loaded into memory)"
   ],
   "metadata": {
    "collapsed": false
   }
  },
  {
   "cell_type": "code",
   "execution_count": 24,
   "outputs": [
    {
     "name": "stderr",
     "output_type": "stream",
     "text": [
      "100%|██████████| 3633/3633 [00:00<00:00, 1158159.64it/s]\n"
     ]
    }
   ],
   "source": [
    "from experiments_helper import load_dense_index_from_disk\n",
    "\n",
    "dense_index = load_dense_index_from_disk(dataset_name, q_encoder)"
   ],
   "metadata": {
    "collapsed": false
   }
  },
  {
   "cell_type": "code",
   "execution_count": 25,
   "outputs": [],
   "source": [
    "from fast_forward.util.pyterrier import FFScore\n",
    "\n",
    "from fast_forward.util.pyterrier import FFInterpolate\n",
    "\n",
    "ff_score = FFScore(dense_index)\n",
    "ff_int = FFInterpolate(alpha=0.05)"
   ],
   "metadata": {
    "collapsed": false
   }
  },
  {
   "cell_type": "markdown",
   "source": [
    "Find most optimal alpha from default set [0.25, 0.05, 0.1, 0.5, 0.9]"
   ],
   "metadata": {
    "collapsed": false
   }
  },
  {
   "cell_type": "code",
   "execution_count": 9,
   "outputs": [
    {
     "name": "stderr",
     "output_type": "stream",
     "text": [
      "GridScan: 100%|██████████| 5/5 [00:31<00:00,  6.35s/it]"
     ]
    },
    {
     "name": "stdout",
     "output_type": "stream",
     "text": [
      "Best map is 0.124061\n",
      "Best setting is ['<fast_forward.util.pyterrier.FFInterpolate object at 0x7fab8adf6290> alpha=0.05']\n"
     ]
    },
    {
     "name": "stderr",
     "output_type": "stream",
     "text": [
      "\n"
     ]
    }
   ],
   "source": [
    "from experiments_helper import find_optimal_alpha_name\n",
    "\n",
    "dev_set_name = \"irds:beir/nfcorpus/dev\"\n",
    "pipeline_find_alpha = retriever % 100 >> ff_score >> ff_int\n",
    "find_optimal_alpha_name(pipeline_find_alpha, ff_int, dev_set_name)"
   ],
   "metadata": {
    "collapsed": false
   }
  },
  {
   "cell_type": "markdown",
   "source": [
    "Create pipeline with 1000 docs retrieved per query"
   ],
   "metadata": {
    "collapsed": false
   }
  },
  {
   "cell_type": "code",
   "execution_count": 27,
   "outputs": [
    {
     "name": "stdout",
     "output_type": "stream",
     "text": [
      "Experiment took 8.140 seconds to execute.\n"
     ]
    },
    {
     "data": {
      "text/plain": "                                 name     RR@10   nDCG@10   AP@100\n0  nfcorpus: BM25 >> gte-base-en-v1.5  0.553675  0.343964  0.15507",
      "text/html": "<div>\n<style scoped>\n    .dataframe tbody tr th:only-of-type {\n        vertical-align: middle;\n    }\n\n    .dataframe tbody tr th {\n        vertical-align: top;\n    }\n\n    .dataframe thead th {\n        text-align: right;\n    }\n</style>\n<table border=\"1\" class=\"dataframe\">\n  <thead>\n    <tr style=\"text-align: right;\">\n      <th></th>\n      <th>name</th>\n      <th>RR@10</th>\n      <th>nDCG@10</th>\n      <th>AP@100</th>\n    </tr>\n  </thead>\n  <tbody>\n    <tr>\n      <th>0</th>\n      <td>nfcorpus: BM25 &gt;&gt; gte-base-en-v1.5</td>\n      <td>0.553675</td>\n      <td>0.343964</td>\n      <td>0.15507</td>\n    </tr>\n  </tbody>\n</table>\n</div>"
     },
     "execution_count": 27,
     "metadata": {},
     "output_type": "execute_result"
    }
   ],
   "source": [
    "from experiments_helper import run_single_experiment_name\n",
    "\n",
    "dataset_test_name = \"irds:beir/nfcorpus/test\"\n",
    "\n",
    "pipeline = retriever % 1000 >> ff_score >> ff_int\n",
    "\n",
    "time_fct(run_single_experiment_name, pipeline, dataset_test_name, eval_metrics,\n",
    "         dataset_name + \": BM25 >> gte-base-en-v1.5\")\n"
   ],
   "metadata": {
    "collapsed": false
   }
  },
  {
   "cell_type": "markdown",
   "source": [
    "Same experiment as above using the default_complete_test_pipeline_name methods"
   ],
   "metadata": {
    "collapsed": false
   }
  },
  {
   "cell_type": "code",
   "execution_count": 28,
   "outputs": [
    {
     "name": "stderr",
     "output_type": "stream",
     "text": [
      "100%|██████████| 3633/3633 [00:00<00:00, 833674.71it/s]\n"
     ]
    },
    {
     "name": "stdout",
     "output_type": "stream",
     "text": [
      "Experiment took 8.307 seconds to execute.\n"
     ]
    },
    {
     "data": {
      "text/plain": "                                 name     RR@10   nDCG@10   AP@100\n0  nfcorpus: BM25 >> gte-base-en-v1.5  0.553675  0.343964  0.15507",
      "text/html": "<div>\n<style scoped>\n    .dataframe tbody tr th:only-of-type {\n        vertical-align: middle;\n    }\n\n    .dataframe tbody tr th {\n        vertical-align: top;\n    }\n\n    .dataframe thead th {\n        text-align: right;\n    }\n</style>\n<table border=\"1\" class=\"dataframe\">\n  <thead>\n    <tr style=\"text-align: right;\">\n      <th></th>\n      <th>name</th>\n      <th>RR@10</th>\n      <th>nDCG@10</th>\n      <th>AP@100</th>\n    </tr>\n  </thead>\n  <tbody>\n    <tr>\n      <th>0</th>\n      <td>nfcorpus: BM25 &gt;&gt; gte-base-en-v1.5</td>\n      <td>0.553675</td>\n      <td>0.343964</td>\n      <td>0.15507</td>\n    </tr>\n  </tbody>\n</table>\n</div>"
     },
     "execution_count": 28,
     "metadata": {},
     "output_type": "execute_result"
    }
   ],
   "source": [
    "from experiments_helper import default_complete_test_pipeline_name\n",
    "\n",
    "dataset_name = \"nfcorpus\"\n",
    "# dev_set_name = \"irds:beir/nfcorpus/dev\"\n",
    "dataset_test_name = \"irds:beir/nfcorpus/test\"\n",
    "\n",
    "time_fct(default_complete_test_pipeline_name, dataset_name, dataset_test_name,\n",
    "         q_encoder, eval_metrics)\n",
    "\n"
   ],
   "metadata": {
    "collapsed": false
   }
  },
  {
   "cell_type": "markdown",
   "source": [
    "Run pipeline for FIQA dataset"
   ],
   "metadata": {
    "collapsed": false
   }
  },
  {
   "cell_type": "code",
   "execution_count": 29,
   "outputs": [
    {
     "name": "stderr",
     "output_type": "stream",
     "text": [
      "100%|██████████| 57638/57638 [00:00<00:00, 822787.06it/s]\n"
     ]
    },
    {
     "name": "stdout",
     "output_type": "stream",
     "text": [
      "Experiment took 56.576 seconds to execute.\n"
     ]
    },
    {
     "data": {
      "text/plain": "                             name     RR@10   nDCG@10    AP@100\n0  fiqa: BM25 >> gte-base-en-v1.5  0.399449  0.335966  0.274557",
      "text/html": "<div>\n<style scoped>\n    .dataframe tbody tr th:only-of-type {\n        vertical-align: middle;\n    }\n\n    .dataframe tbody tr th {\n        vertical-align: top;\n    }\n\n    .dataframe thead th {\n        text-align: right;\n    }\n</style>\n<table border=\"1\" class=\"dataframe\">\n  <thead>\n    <tr style=\"text-align: right;\">\n      <th></th>\n      <th>name</th>\n      <th>RR@10</th>\n      <th>nDCG@10</th>\n      <th>AP@100</th>\n    </tr>\n  </thead>\n  <tbody>\n    <tr>\n      <th>0</th>\n      <td>fiqa: BM25 &gt;&gt; gte-base-en-v1.5</td>\n      <td>0.399449</td>\n      <td>0.335966</td>\n      <td>0.274557</td>\n    </tr>\n  </tbody>\n</table>\n</div>"
     },
     "execution_count": 29,
     "metadata": {},
     "output_type": "execute_result"
    }
   ],
   "source": [
    "from experiments_helper import default_complete_test_pipeline_name\n",
    "\n",
    "dataset_name = \"fiqa\"\n",
    "# dev_set_name = \"irds:beir/fiqa/dev\"\n",
    "dataset_test_name = \"irds:beir/fiqa/test\"\n",
    "\n",
    "time_fct(\n",
    "    default_complete_test_pipeline_name, dataset_name, dataset_test_name, q_encoder, eval_metrics)\n",
    "\n"
   ],
   "metadata": {
    "collapsed": false
   }
  },
  {
   "cell_type": "markdown",
   "source": [
    "## For the Scidocs dataset, considering the lack of a dev set, the train set was used for finetuning the alpha value."
   ],
   "metadata": {
    "collapsed": false
   }
  },
  {
   "cell_type": "markdown",
   "source": [
    "Given that the scidocs dataset offers only one dataset, we will split it into dev and test set. More exactly, we will split the topics because that is what we are testing against. I chose the 'text' topics as this dataset offers 2 topics categories."
   ],
   "metadata": {
    "collapsed": false
   }
  },
  {
   "cell_type": "code",
   "execution_count": 5,
   "outputs": [
    {
     "name": "stderr",
     "output_type": "stream",
     "text": [
      "100%|██████████| 25657/25657 [00:00<00:00, 679372.34it/s]\n"
     ]
    },
    {
     "name": "stdout",
     "output_type": "stream",
     "text": [
      "Experiment took 76.129 seconds to execute.\n"
     ]
    },
    {
     "data": {
      "text/plain": "                                name     RR@10   nDCG@10    AP@100\n0  scidocs: BM25 >> gte-base-en-v1.5  0.292146  0.165924  0.113075",
      "text/html": "<div>\n<style scoped>\n    .dataframe tbody tr th:only-of-type {\n        vertical-align: middle;\n    }\n\n    .dataframe tbody tr th {\n        vertical-align: top;\n    }\n\n    .dataframe thead th {\n        text-align: right;\n    }\n</style>\n<table border=\"1\" class=\"dataframe\">\n  <thead>\n    <tr style=\"text-align: right;\">\n      <th></th>\n      <th>name</th>\n      <th>RR@10</th>\n      <th>nDCG@10</th>\n      <th>AP@100</th>\n    </tr>\n  </thead>\n  <tbody>\n    <tr>\n      <th>0</th>\n      <td>scidocs: BM25 &gt;&gt; gte-base-en-v1.5</td>\n      <td>0.292146</td>\n      <td>0.165924</td>\n      <td>0.113075</td>\n    </tr>\n  </tbody>\n</table>\n</div>"
     },
     "execution_count": 5,
     "metadata": {},
     "output_type": "execute_result"
    }
   ],
   "source": [
    "from experiments_helper import split_dev_test, default_complete_test_pipeline\n",
    "\n",
    "dataset_name = \"scidocs\"\n",
    "dataset = pt.get_dataset(\"irds:beir/scidocs\")\n",
    "topics = dataset.get_topics('text')\n",
    "\n",
    "dev_topics, test_topics = split_dev_test(topics, test_size=0.8)\n",
    "\n",
    "time_fct(default_complete_test_pipeline, dataset_name, dataset.get_qrels(), test_topics, q_encoder,\n",
    "         eval_metrics)\n"
   ],
   "metadata": {
    "collapsed": false
   }
  },
  {
   "cell_type": "markdown",
   "source": [
    "A similar approach is also followed for the \"cqadupstack/english\" dataset."
   ],
   "metadata": {
    "collapsed": false
   }
  },
  {
   "cell_type": "code",
   "execution_count": 4,
   "outputs": [
    {
     "name": "stderr",
     "output_type": "stream",
     "text": [
      "100%|██████████| 40221/40221 [00:00<00:00, 1227563.21it/s]\n"
     ]
    },
    {
     "name": "stdout",
     "output_type": "stream",
     "text": [
      "Experiment took 153.739 seconds to execute.\n"
     ]
    },
    {
     "data": {
      "text/plain": "                                            name     RR@10   nDCG@10    AP@100\n0  cqadupstack/english: BM25 >> gte-base-en-v1.5  0.366865  0.356954  0.326041",
      "text/html": "<div>\n<style scoped>\n    .dataframe tbody tr th:only-of-type {\n        vertical-align: middle;\n    }\n\n    .dataframe tbody tr th {\n        vertical-align: top;\n    }\n\n    .dataframe thead th {\n        text-align: right;\n    }\n</style>\n<table border=\"1\" class=\"dataframe\">\n  <thead>\n    <tr style=\"text-align: right;\">\n      <th></th>\n      <th>name</th>\n      <th>RR@10</th>\n      <th>nDCG@10</th>\n      <th>AP@100</th>\n    </tr>\n  </thead>\n  <tbody>\n    <tr>\n      <th>0</th>\n      <td>cqadupstack/english: BM25 &gt;&gt; gte-base-en-v1.5</td>\n      <td>0.366865</td>\n      <td>0.356954</td>\n      <td>0.326041</td>\n    </tr>\n  </tbody>\n</table>\n</div>"
     },
     "execution_count": 4,
     "metadata": {},
     "output_type": "execute_result"
    }
   ],
   "source": [
    "from experiments_helper import split_dev_test, default_complete_test_pipeline\n",
    "\n",
    "dataset_name = \"cqadupstack/english\"\n",
    "dataset = pt.get_dataset(\"irds:beir/cqadupstack/english\")\n",
    "topics = dataset.get_topics('text')\n",
    "\n",
    "dev_topics, test_topics = split_dev_test(topics, test_size=0.8)\n",
    "\n",
    "time_fct(default_complete_test_pipeline, dataset_name, dataset.get_qrels(), test_topics, q_encoder, eval_metrics)\n"
   ],
   "metadata": {
    "collapsed": false
   }
  },
  {
   "cell_type": "markdown",
   "source": [
    "A similar approach is also followed for the \"arguana\" dataset.\n",
    "\n",
    "### DelftBlue runtime : 15 minutes"
   ],
   "metadata": {
    "collapsed": false
   }
  },
  {
   "cell_type": "code",
   "execution_count": 10,
   "outputs": [
    {
     "name": "stderr",
     "output_type": "stream",
     "text": [
      "100%|██████████| 8674/8674 [00:00<00:00, 851624.37it/s]\n"
     ]
    },
    {
     "name": "stdout",
     "output_type": "stream",
     "text": [
      "Experiment took 1163.829 seconds to execute.\n"
     ]
    },
    {
     "data": {
      "text/plain": "                                name     RR@10   nDCG@10    AP@100\n0  arguana: BM25 >> gte-base-en-v1.5  0.252108  0.376144  0.262613",
      "text/html": "<div>\n<style scoped>\n    .dataframe tbody tr th:only-of-type {\n        vertical-align: middle;\n    }\n\n    .dataframe tbody tr th {\n        vertical-align: top;\n    }\n\n    .dataframe thead th {\n        text-align: right;\n    }\n</style>\n<table border=\"1\" class=\"dataframe\">\n  <thead>\n    <tr style=\"text-align: right;\">\n      <th></th>\n      <th>name</th>\n      <th>RR@10</th>\n      <th>nDCG@10</th>\n      <th>AP@100</th>\n    </tr>\n  </thead>\n  <tbody>\n    <tr>\n      <th>0</th>\n      <td>arguana: BM25 &gt;&gt; gte-base-en-v1.5</td>\n      <td>0.252108</td>\n      <td>0.376144</td>\n      <td>0.262613</td>\n    </tr>\n  </tbody>\n</table>\n</div>"
     },
     "execution_count": 10,
     "metadata": {},
     "output_type": "execute_result"
    }
   ],
   "source": [
    "from experiments_helper import split_dev_test, default_complete_test_pipeline\n",
    "\n",
    "dataset_name = \"arguana\"\n",
    "dataset = pt.get_dataset(\"irds:beir/arguana\")\n",
    "topics = dataset.get_topics()\n",
    "\n",
    "dev_topics, test_topics = split_dev_test(topics, test_size=0.8)\n",
    "\n",
    "time_fct(default_complete_test_pipeline, dataset_name, dataset.get_qrels(), test_topics, q_encoder,\n",
    "         eval_metrics)\n",
    "\n"
   ],
   "metadata": {
    "collapsed": false
   }
  },
  {
   "cell_type": "markdown",
   "source": [
    "Will rerun this cell after reindexing the dense index as there is a problem with some documents not being found( no vectors for...)."
   ],
   "metadata": {
    "collapsed": false
   }
  },
  {
   "cell_type": "code",
   "execution_count": 6,
   "outputs": [
    {
     "name": "stderr",
     "output_type": "stream",
     "text": [
      "100%|██████████| 5136/5136 [00:00<00:00, 526878.28it/s]\n",
      "no vectors for 121581019\n",
      "no vectors for 154050141\n",
      "no vectors for 195680777\n",
      "no vectors for 140098548\n",
      "no vectors for 198133135\n",
      "no vectors for 99829811\n",
      "no vectors for 195317463\n",
      "no vectors for 116075383\n",
      "no vectors for 143381103\n",
      "no vectors for 140907540\n",
      "no vectors for 198309074\n",
      "no vectors for 154549459\n",
      "no vectors for 167944455\n",
      "no vectors for 129199129\n",
      "no vectors for 195689316\n",
      "no vectors for 146653163\n",
      "no vectors for 154796494\n",
      "no vectors for 117907685\n",
      "no vectors for 116556376\n",
      "no vectors for 195683603\n",
      "no vectors for 155200372\n",
      "no vectors for 195689757\n",
      "no vectors for 143796742\n",
      "no vectors for 142562844\n",
      "no vectors for 144801076\n",
      "no vectors for 145716849\n",
      "no vectors for 145416918\n",
      "no vectors for 196664003\n",
      "no vectors for 168265642\n",
      "no vectors for 121001457\n",
      "no vectors for 154243324\n",
      "no vectors for 154763124\n",
      "no vectors for 144555102\n",
      "no vectors for 109946221\n",
      "no vectors for 104143831\n",
      "no vectors for 145335387\n",
      "no vectors for 118215171\n",
      "no vectors for 109795294\n",
      "no vectors for 108886332\n",
      "no vectors for 143868995\n",
      "no vectors for 153755807\n",
      "no vectors for 145383432\n",
      "no vectors for 167469018\n",
      "no vectors for 142559798\n",
      "no vectors for 147107523\n",
      "no vectors for 126549848\n",
      "no vectors for 120385993\n"
     ]
    },
    {
     "name": "stdout",
     "output_type": "stream",
     "text": [
      "Experiment took 33.600 seconds to execute.\n"
     ]
    },
    {
     "data": {
      "text/plain": "                                name    RR@10   nDCG@10    AP@100\n0  scifact: BM25 >> gte-base-en-v1.5  0.67003  0.709237  0.664663",
      "text/html": "<div>\n<style scoped>\n    .dataframe tbody tr th:only-of-type {\n        vertical-align: middle;\n    }\n\n    .dataframe tbody tr th {\n        vertical-align: top;\n    }\n\n    .dataframe thead th {\n        text-align: right;\n    }\n</style>\n<table border=\"1\" class=\"dataframe\">\n  <thead>\n    <tr style=\"text-align: right;\">\n      <th></th>\n      <th>name</th>\n      <th>RR@10</th>\n      <th>nDCG@10</th>\n      <th>AP@100</th>\n    </tr>\n  </thead>\n  <tbody>\n    <tr>\n      <th>0</th>\n      <td>scifact: BM25 &gt;&gt; gte-base-en-v1.5</td>\n      <td>0.67003</td>\n      <td>0.709237</td>\n      <td>0.664663</td>\n    </tr>\n  </tbody>\n</table>\n</div>"
     },
     "execution_count": 6,
     "metadata": {},
     "output_type": "execute_result"
    }
   ],
   "source": [
    "from experiments_helper import default_complete_test_pipeline_name\n",
    "\n",
    "dataset_name = \"scifact\"\n",
    "# dev_set_name = \"irds:beir/scifact/train\"\n",
    "dataset_test_name = \"irds:beir/scifact/test\"\n",
    "\n",
    "time_fct(\n",
    "    default_complete_test_pipeline_name, dataset_name, dataset_test_name, q_encoder, eval_metrics)"
   ],
   "metadata": {
    "collapsed": false
   }
  },
  {
   "cell_type": "code",
   "execution_count": null,
   "outputs": [],
   "source": [],
   "metadata": {
    "collapsed": false
   }
  }
 ],
 "metadata": {
  "kernelspec": {
   "display_name": "Python 3",
   "language": "python",
   "name": "python3"
  },
  "language_info": {
   "codemirror_mode": {
    "name": "ipython",
    "version": 2
   },
   "file_extension": ".py",
   "mimetype": "text/x-python",
   "name": "python",
   "nbconvert_exporter": "python",
   "pygments_lexer": "ipython2",
   "version": "2.7.6"
  }
 },
 "nbformat": 4,
 "nbformat_minor": 0
}
