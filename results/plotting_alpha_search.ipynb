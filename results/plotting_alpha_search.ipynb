{
 "cells": [
  {
   "cell_type": "code",
   "execution_count": null,
   "metadata": {
    "collapsed": true
   },
   "outputs": [],
   "source": [
    "import matplotlib.pyplot as plt\n",
    "import pandas as pd\n",
    "\n",
    "# Retrieve dataframe\n",
    "import os, pandas as pd\n",
    "\n",
    "# Usage\n",
    "path_to_root = \"/\"\n",
    "dir = \"gte_base_en_v1_5\"\n",
    "\n",
    "plots_path = os.path.abspath(os.getcwd()) + \"/plots/\"\n",
    "output_file = os.path.abspath(os.getcwd()) + \"../\" + dir + \"/results/alpha_search_dev.csv\"\n",
    "\n",
    "\n",
    "df = pd.read_csv(output_file)\n",
    "\n",
    "df = df[df['dataset'] == 'passage']\n",
    "\n",
    "# Calculate the remaining latency\n",
    "df['remaining_latency'] = df['total_latency'] - df['query_embedding']\n",
    "\n",
    "# Plotting the stacked bar chart\n",
    "fig, ax = plt.subplots(figsize=(15, 8))\n",
    "\n",
    "# Define bar positions\n",
    "bar_positions = range(len(df))\n",
    "\n",
    "colors = {\n",
    "    'query_embedding': '#1f77b4', 'remaining_latency': '#2ca02c'\n",
    "}\n",
    "\n",
    "# Plot the bars\n",
    "ax.bar(bar_positions, df['query_embedding'], label='Query Embedding', color=colors['query_embedding'])\n",
    "# # ax.bar(bar_positions, df['doc_retrieval'], bottom=df['query_embedding'], label='Embeddings Retrieval')\n",
    "# ax.bar(bar_positions, df['remaining_latency'], bottom=df['query_embedding'] + df['doc_retrieval'], label='Other operations')\n",
    "\n",
    "ax.bar(bar_positions, df['remaining_latency'], bottom=df['query_embedding'], label='Other operations',\n",
    "       color=colors['remaining_latency'])\n",
    "\n",
    "# Set labels and title\n",
    "ax.set_ylabel('Time (ms)', fontsize=20)\n",
    "# ax.set_title('Mean Time per Query by Component')\n",
    "ax.set_xticks(bar_positions)\n",
    "ax.set_xticklabels(df['model'], rotation=45, ha='right', fontsize=20)\n",
    "\n",
    "ax.legend(fontsize=15)  # Increased the legend fontsize\n",
    "\n",
    "# Show the plot\n",
    "plt.show()\n"
   ]
  }
 ],
 "metadata": {
  "kernelspec": {
   "display_name": "Python 3",
   "language": "python",
   "name": "python3"
  },
  "language_info": {
   "codemirror_mode": {
    "name": "ipython",
    "version": 2
   },
   "file_extension": ".py",
   "mimetype": "text/x-python",
   "name": "python",
   "nbconvert_exporter": "python",
   "pygments_lexer": "ipython2",
   "version": "2.7.6"
  }
 },
 "nbformat": 4,
 "nbformat_minor": 0
}
