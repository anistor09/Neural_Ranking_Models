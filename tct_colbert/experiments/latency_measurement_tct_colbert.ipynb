{
 "cells": [
  {
   "cell_type": "code",
   "execution_count": 1,
   "outputs": [
    {
     "name": "stderr",
     "output_type": "stream",
     "text": [
      "PyTerrier 0.10.0 has loaded Terrier 5.9 (built by craigm on 2024-05-02 17:40) and terrier-helper 0.0.8\n",
      "\n",
      "No etc/terrier.properties, using terrier.default.properties for bootstrap configuration.\n"
     ]
    }
   ],
   "source": [
    "import pyterrier as pt\n",
    "from experiment_utils.experiments_helper import get_timeit_dependencies_name, getOptimalAlpha, latency_per_query\n",
    "\n",
    "if not pt.started():\n",
    "    pt.init()"
   ],
   "metadata": {
    "collapsed": false
   }
  },
  {
   "cell_type": "code",
   "execution_count": 2,
   "outputs": [
    {
     "name": "stderr",
     "output_type": "stream",
     "text": [
      "/home/anistor/.local/lib/python3.10/site-packages/huggingface_hub/file_download.py:1132: FutureWarning: `resume_download` is deprecated and will be removed in version 1.0.0. Downloads always resume when possible. If you want to force a new download, use `force_download=True`.\n",
      "  warnings.warn(\n"
     ]
    }
   ],
   "source": [
    "from fast_forward.encoder import TCTColBERTQueryEncoder\n",
    "\n",
    "package = \"castorini/\"\n",
    "model_name = \"tct_colbert-msmarco\"\n",
    "q_encoder = TCTColBERTQueryEncoder(package + model_name)\n",
    "model_directory = 'tct_colbert'\n",
    "path_to_root = \"../../\"\n",
    "pipeline_name = \"BM25 >> \" + \"tct_colbert_msmarco\""
   ],
   "metadata": {
    "collapsed": false
   }
  },
  {
   "cell_type": "code",
   "execution_count": 3,
   "outputs": [],
   "source": [
    "prefix = \"irds:beir/\"\n",
    "test_suffix = \"/test\""
   ],
   "metadata": {
    "collapsed": false
   }
  },
  {
   "cell_type": "code",
   "execution_count": 4,
   "outputs": [],
   "source": [
    "def get_timeit_dep(dataset_name):\n",
    "    return get_timeit_dependencies_name(prefix + dataset_name, prefix + dataset_name + test_suffix,\n",
    "                                        q_encoder,\n",
    "                                        model_name,\n",
    "                                        path_to_root, model_directory,\n",
    "                                        alpha=getOptimalAlpha(prefix + dataset_name, pipeline_name))"
   ],
   "metadata": {
    "collapsed": false
   }
  },
  {
   "cell_type": "code",
   "execution_count": 5,
   "outputs": [
    {
     "name": "stderr",
     "output_type": "stream",
     "text": [
      "100%|██████████| 57638/57638 [00:00<00:00, 282216.65it/s]\n"
     ]
    }
   ],
   "source": [
    "dataset_name = \"fiqa\"\n",
    "results_lexical_retriever, semantic_reranker = get_timeit_dep(dataset_name)"
   ],
   "metadata": {
    "collapsed": false
   }
  },
  {
   "cell_type": "code",
   "execution_count": 6,
   "outputs": [],
   "source": [
    "%%capture captured_timeit_output\n",
    "%timeit semantic_reranker(results_lexical_retriever)"
   ],
   "metadata": {
    "collapsed": false
   }
  },
  {
   "cell_type": "code",
   "execution_count": 7,
   "outputs": [
    {
     "data": {
      "text/plain": "'Latency per query: 22.8019 ms. (Info: 7 runs, 1 loop each)'"
     },
     "execution_count": 7,
     "metadata": {},
     "output_type": "execute_result"
    }
   ],
   "source": [
    "latency_per_query(captured_timeit_output.stdout, prefix + dataset_name + test_suffix)"
   ],
   "metadata": {
    "collapsed": false
   }
  },
  {
   "cell_type": "code",
   "execution_count": 8,
   "outputs": [
    {
     "name": "stderr",
     "output_type": "stream",
     "text": [
      "100%|██████████| 3633/3633 [00:00<00:00, 931298.52it/s]\n"
     ]
    }
   ],
   "source": [
    "dataset_name = \"nfcorpus\"\n",
    "results_lexical_retriever, semantic_reranker = get_timeit_dep(dataset_name)"
   ],
   "metadata": {
    "collapsed": false
   }
  },
  {
   "cell_type": "code",
   "execution_count": 9,
   "outputs": [],
   "source": [
    "%%capture captured_timeit_output\n",
    "%timeit semantic_reranker(results_lexical_retriever)"
   ],
   "metadata": {
    "collapsed": false
   }
  },
  {
   "cell_type": "code",
   "execution_count": 10,
   "outputs": [
    {
     "data": {
      "text/plain": "'Latency per query: 0.8594 ms. (Info: 7 runs, 1 loop each)'"
     },
     "execution_count": 10,
     "metadata": {},
     "output_type": "execute_result"
    }
   ],
   "source": [
    "latency_per_query(captured_timeit_output.stdout, prefix + dataset_name + test_suffix)"
   ],
   "metadata": {
    "collapsed": false
   }
  },
  {
   "cell_type": "code",
   "execution_count": 11,
   "outputs": [
    {
     "name": "stderr",
     "output_type": "stream",
     "text": [
      "100%|██████████| 5183/5183 [00:00<00:00, 1548146.82it/s]\n"
     ]
    }
   ],
   "source": [
    "dataset_name = \"scifact\"\n",
    "results_lexical_retriever, semantic_reranker = get_timeit_dep(dataset_name)"
   ],
   "metadata": {
    "collapsed": false
   }
  },
  {
   "cell_type": "code",
   "execution_count": 12,
   "outputs": [],
   "source": [
    "%%capture captured_timeit_output\n",
    "%timeit semantic_reranker(results_lexical_retriever)"
   ],
   "metadata": {
    "collapsed": false
   }
  },
  {
   "cell_type": "code",
   "execution_count": 13,
   "outputs": [
    {
     "data": {
      "text/plain": "'Latency per query: 37.1681 ms. (Info: 7 runs, 1 loop each)'"
     },
     "execution_count": 13,
     "metadata": {},
     "output_type": "execute_result"
    }
   ],
   "source": [
    "latency_per_query(captured_timeit_output.stdout, prefix + dataset_name + test_suffix)"
   ],
   "metadata": {
    "collapsed": false
   }
  }
 ],
 "metadata": {
  "kernelspec": {
   "display_name": "Python 3",
   "language": "python",
   "name": "python3"
  },
  "language_info": {
   "codemirror_mode": {
    "name": "ipython",
    "version": 2
   },
   "file_extension": ".py",
   "mimetype": "text/x-python",
   "name": "python",
   "nbconvert_exporter": "python",
   "pygments_lexer": "ipython2",
   "version": "2.7.6"
  }
 },
 "nbformat": 4,
 "nbformat_minor": 0
}
