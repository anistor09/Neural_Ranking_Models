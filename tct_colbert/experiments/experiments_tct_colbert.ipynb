{
 "cells": [
  {
   "cell_type": "markdown",
   "source": [
    "## In this notebook we will showcase the experiments realised using the FFI framework with the tct_colbert finetuned on the msmarco dataset encoder for the following datasets:\n",
    "\n",
    "* irds:beir/nfcorpus\n",
    "* irds:beir/fiqa\n",
    "* irds:beir/scidocs\n",
    "* irds:beir/cqadupstack/english\n",
    "* irds:beir/arguana\n",
    "* irds:beir/scifact"
   ],
   "metadata": {
    "collapsed": false
   }
  },
  {
   "cell_type": "markdown",
   "source": [
    "General Setup for all the datasets( first 4 cells)"
   ],
   "metadata": {
    "collapsed": false
   }
  },
  {
   "cell_type": "code",
   "execution_count": 1,
   "outputs": [
    {
     "name": "stderr",
     "output_type": "stream",
     "text": [
      "PyTerrier 0.10.0 has loaded Terrier 5.9 (built by craigm on 2024-05-02 17:40) and terrier-helper 0.0.8\n",
      "\n",
      "No etc/terrier.properties, using terrier.default.properties for bootstrap configuration.\n"
     ]
    }
   ],
   "source": [
    "import pyterrier as pt\n",
    "\n",
    "if not pt.started():\n",
    "    pt.init()"
   ],
   "metadata": {
    "collapsed": false
   }
  },
  {
   "cell_type": "markdown",
   "source": [
    "Evaluation metrics used for all the datasets"
   ],
   "metadata": {
    "collapsed": false
   }
  },
  {
   "cell_type": "code",
   "execution_count": 2,
   "outputs": [],
   "source": [
    "from pyterrier.measures import RR, nDCG, MAP\n",
    "\n",
    "eval_metrics = [RR @ 10, nDCG @ 10, MAP @ 100]"
   ],
   "metadata": {
    "collapsed": false
   }
  },
  {
   "cell_type": "markdown",
   "source": [
    "Create the query encoder that will run on CPU. Encoder used for embedding all the datasets/queries"
   ],
   "metadata": {
    "collapsed": false
   }
  },
  {
   "cell_type": "code",
   "execution_count": 3,
   "outputs": [
    {
     "name": "stderr",
     "output_type": "stream",
     "text": [
      "/home/anistor/.local/lib/python3.10/site-packages/huggingface_hub/file_download.py:1132: FutureWarning: `resume_download` is deprecated and will be removed in version 1.0.0. Downloads always resume when possible. If you want to force a new download, use `force_download=True`.\n",
      "  warnings.warn(\n"
     ]
    }
   ],
   "source": [
    "from fast_forward.encoder import TCTColBERTQueryEncoder\n",
    "\n",
    "model_name = \"tct_colbert_msmarco\"\n",
    "q_encoder = TCTColBERTQueryEncoder(\"castorini/tct_colbert-msmarco\")\n"
   ],
   "metadata": {
    "collapsed": false
   }
  },
  {
   "cell_type": "markdown",
   "source": [
    "Defined the path to root"
   ],
   "metadata": {
    "collapsed": false
   }
  },
  {
   "cell_type": "code",
   "execution_count": 4,
   "outputs": [],
   "source": [
    "path_to_root = \"../../\""
   ],
   "metadata": {
    "collapsed": false
   }
  },
  {
   "cell_type": "markdown",
   "source": [
    "In the following cells, for each dataset we will run FFI using BM25 for the first stage retrieval and bge-base-en-v1.5 for the semantic re-ranking:"
   ],
   "metadata": {
    "collapsed": false
   }
  },
  {
   "cell_type": "markdown",
   "source": [
    "#### BM25 >> tct_colbert irds:beir/nfcorpus"
   ],
   "metadata": {
    "collapsed": false
   }
  },
  {
   "cell_type": "code",
   "execution_count": 5,
   "outputs": [
    {
     "name": "stderr",
     "output_type": "stream",
     "text": [
      "100%|██████████| 3633/3633 [00:00<00:00, 1566235.63it/s]\n",
      "GridScan: 100%|██████████| 7/7 [01:20<00:00, 11.53s/it]\n"
     ]
    },
    {
     "name": "stdout",
     "output_type": "stream",
     "text": [
      "Best map is 0.118544\n",
      "Best setting is ['<fast_forward.util.pyterrier.FFInterpolate object at 0x7fe54e3caf80> alpha=0.2']\n",
      "Experiment took 18.696 seconds to execute.\n"
     ]
    },
    {
     "data": {
      "text/plain": "                                    name     RR@10  nDCG@10    AP@100\n0  nfcorpus: BM25 >> tct_colbert_msmarco  0.551017  0.33851  0.151468",
      "text/html": "<div>\n<style scoped>\n    .dataframe tbody tr th:only-of-type {\n        vertical-align: middle;\n    }\n\n    .dataframe tbody tr th {\n        vertical-align: top;\n    }\n\n    .dataframe thead th {\n        text-align: right;\n    }\n</style>\n<table border=\"1\" class=\"dataframe\">\n  <thead>\n    <tr style=\"text-align: right;\">\n      <th></th>\n      <th>name</th>\n      <th>RR@10</th>\n      <th>nDCG@10</th>\n      <th>AP@100</th>\n    </tr>\n  </thead>\n  <tbody>\n    <tr>\n      <th>0</th>\n      <td>nfcorpus: BM25 &gt;&gt; tct_colbert_msmarco</td>\n      <td>0.551017</td>\n      <td>0.33851</td>\n      <td>0.151468</td>\n    </tr>\n  </tbody>\n</table>\n</div>"
     },
     "execution_count": 5,
     "metadata": {},
     "output_type": "execute_result"
    }
   ],
   "source": [
    "from experiment_utils.experiments_helper import default_test_pipeline_name\n",
    "\n",
    "dataset_name = \"irds:beir/nfcorpus\"\n",
    "dev_set_name = \"irds:beir/nfcorpus/dev\"\n",
    "dataset_test_name = \"irds:beir/nfcorpus/test\"\n",
    "pipeline_name = \"BM25 >> \" + model_name\n",
    "\n",
    "default_test_pipeline_name(dataset_name, dataset_test_name, q_encoder, eval_metrics, model_name, pipeline_name,\n",
    "                           path_to_root, dev_set_name=dev_set_name, timed=True)"
   ],
   "metadata": {
    "collapsed": false
   }
  },
  {
   "cell_type": "markdown",
   "source": [
    "#### BM25 >> tct_colbert irds:beir/fiqa"
   ],
   "metadata": {
    "collapsed": false
   }
  },
  {
   "cell_type": "code",
   "execution_count": 6,
   "outputs": [
    {
     "name": "stderr",
     "output_type": "stream",
     "text": [
      "100%|██████████| 57638/57638 [00:00<00:00, 1503512.60it/s]\n",
      "GridScan: 100%|██████████| 7/7 [02:43<00:00, 23.29s/it]\n"
     ]
    },
    {
     "name": "stdout",
     "output_type": "stream",
     "text": [
      "Best map is 0.282656\n",
      "Best setting is ['<fast_forward.util.pyterrier.FFInterpolate object at 0x7fe54603b850> alpha=0.1']\n",
      "Experiment took 93.072 seconds to execute.\n"
     ]
    },
    {
     "data": {
      "text/plain": "                                name     RR@10   nDCG@10   AP@100\n0  fiqa: BM25 >> tct_colbert_msmarco  0.384861  0.315708  0.26389",
      "text/html": "<div>\n<style scoped>\n    .dataframe tbody tr th:only-of-type {\n        vertical-align: middle;\n    }\n\n    .dataframe tbody tr th {\n        vertical-align: top;\n    }\n\n    .dataframe thead th {\n        text-align: right;\n    }\n</style>\n<table border=\"1\" class=\"dataframe\">\n  <thead>\n    <tr style=\"text-align: right;\">\n      <th></th>\n      <th>name</th>\n      <th>RR@10</th>\n      <th>nDCG@10</th>\n      <th>AP@100</th>\n    </tr>\n  </thead>\n  <tbody>\n    <tr>\n      <th>0</th>\n      <td>fiqa: BM25 &gt;&gt; tct_colbert_msmarco</td>\n      <td>0.384861</td>\n      <td>0.315708</td>\n      <td>0.26389</td>\n    </tr>\n  </tbody>\n</table>\n</div>"
     },
     "execution_count": 6,
     "metadata": {},
     "output_type": "execute_result"
    }
   ],
   "source": [
    "from experiment_utils.experiments_helper import default_test_pipeline_name\n",
    "\n",
    "dataset_name = \"irds:beir/fiqa\"\n",
    "dev_set_name = \"irds:beir/fiqa/dev\"\n",
    "dataset_test_name = \"irds:beir/fiqa/test\"\n",
    "pipeline_name = \"BM25 >> \" + model_name\n",
    "\n",
    "default_test_pipeline_name(dataset_name, dataset_test_name, q_encoder, eval_metrics, model_name, pipeline_name,\n",
    "                           path_to_root, dev_set_name=dev_set_name, timed=True)"
   ],
   "metadata": {
    "collapsed": false
   }
  },
  {
   "cell_type": "markdown",
   "source": [
    "#### BM25 >> tct_colbert irds:beir/scidocs"
   ],
   "metadata": {
    "collapsed": false
   }
  },
  {
   "cell_type": "code",
   "execution_count": 11,
   "outputs": [],
   "source": [
    "from experiment_utils.experiments_helper import default_test_pipeline\n",
    "\n",
    "dataset_name = \"irds:beir/scidocs\"\n",
    "dataset = pt.get_dataset(dataset_name)\n",
    "test_topics = dataset.get_topics('text')\n",
    "test_qrels = dataset.get_qrels()\n",
    "pipeline_name = \"BM25 >> \" + model_name\n",
    "\n",
    "default_test_pipeline(dataset_name, test_topics, test_qrels, q_encoder, eval_metrics, model_name, pipeline_name,\n",
    "                      path_to_root, timed=True, alpha=0.05)\n"
   ],
   "metadata": {
    "collapsed": false
   }
  },
  {
   "cell_type": "markdown",
   "source": [
    "#### BM25 >> tct_colbert irds:beir/cscqadupstack/english"
   ],
   "metadata": {
    "collapsed": false
   }
  },
  {
   "cell_type": "code",
   "execution_count": 12,
   "outputs": [],
   "source": [
    "from experiment_utils.experiments_helper import default_test_pipeline\n",
    "\n",
    "dataset_name = \"irds:beir/cqadupstack/english\"\n",
    "dataset = pt.get_dataset(\"irds:beir/cqadupstack/english\")\n",
    "test_topics = dataset.get_topics('text')\n",
    "test_qrels = dataset.get_qrels()\n",
    "pipeline_name = \"BM25 >> \" + model_name\n",
    "\n",
    "default_test_pipeline(dataset_name, test_topics, test_qrels, q_encoder, eval_metrics, model_name, pipeline_name,\n",
    "                      path_to_root, timed=True, alpha=0.05)\n"
   ],
   "metadata": {
    "collapsed": false
   }
  },
  {
   "cell_type": "markdown",
   "source": [
    "#### BM25 >> tct_colbert irds:beir/arguana\n",
    "\n",
    "#### Local runtime : x minutes"
   ],
   "metadata": {
    "collapsed": false
   }
  },
  {
   "cell_type": "code",
   "execution_count": 13,
   "outputs": [
    {
     "name": "stderr",
     "output_type": "stream",
     "text": [
      "100%|██████████| 8674/8674 [00:00<00:00, 1027258.67it/s]\n"
     ]
    },
    {
     "name": "stdout",
     "output_type": "stream",
     "text": [
      "Experiment took 214.066 seconds to execute.\n"
     ]
    },
    {
     "data": {
      "text/plain": "                                   name     RR@10   nDCG@10    AP@100\n0  arguana: BM25 >> tct_colbert_msmarco  0.187759  0.288036  0.202261",
      "text/html": "<div>\n<style scoped>\n    .dataframe tbody tr th:only-of-type {\n        vertical-align: middle;\n    }\n\n    .dataframe tbody tr th {\n        vertical-align: top;\n    }\n\n    .dataframe thead th {\n        text-align: right;\n    }\n</style>\n<table border=\"1\" class=\"dataframe\">\n  <thead>\n    <tr style=\"text-align: right;\">\n      <th></th>\n      <th>name</th>\n      <th>RR@10</th>\n      <th>nDCG@10</th>\n      <th>AP@100</th>\n    </tr>\n  </thead>\n  <tbody>\n    <tr>\n      <th>0</th>\n      <td>arguana: BM25 &gt;&gt; tct_colbert_msmarco</td>\n      <td>0.187759</td>\n      <td>0.288036</td>\n      <td>0.202261</td>\n    </tr>\n  </tbody>\n</table>\n</div>"
     },
     "execution_count": 13,
     "metadata": {},
     "output_type": "execute_result"
    }
   ],
   "source": [
    "from experiment_utils.experiments_helper import default_test_pipeline_name\n",
    "\n",
    "dataset_name = \"irds:beir/arguana\"\n",
    "pipeline_name = \"BM25 >> \" + model_name\n",
    "\n",
    "default_test_pipeline_name(dataset_name, dataset_name, q_encoder, eval_metrics, model_name, pipeline_name, path_to_root,\n",
    "                           timed=True)"
   ],
   "metadata": {
    "collapsed": false
   }
  },
  {
   "cell_type": "markdown",
   "source": [
    "#### BM25 >> tct_colbert irds:beir/scifact"
   ],
   "metadata": {
    "collapsed": false
   }
  },
  {
   "cell_type": "code",
   "execution_count": 7,
   "outputs": [
    {
     "name": "stderr",
     "output_type": "stream",
     "text": [
      "100%|██████████| 5183/5183 [00:00<00:00, 1589462.43it/s]\n",
      "GridScan: 100%|██████████| 7/7 [04:18<00:00, 36.93s/it]\n"
     ]
    },
    {
     "name": "stdout",
     "output_type": "stream",
     "text": [
      "Best map is 0.676926\n",
      "Best setting is ['<fast_forward.util.pyterrier.FFInterpolate object at 0x7fe4b6a27790> alpha=0.2']\n",
      "Experiment took 17.215 seconds to execute.\n"
     ]
    },
    {
     "data": {
      "text/plain": "                                   name     RR@10   nDCG@10   AP@100\n0  scifact: BM25 >> tct_colbert_msmarco  0.661993  0.698182  0.65603",
      "text/html": "<div>\n<style scoped>\n    .dataframe tbody tr th:only-of-type {\n        vertical-align: middle;\n    }\n\n    .dataframe tbody tr th {\n        vertical-align: top;\n    }\n\n    .dataframe thead th {\n        text-align: right;\n    }\n</style>\n<table border=\"1\" class=\"dataframe\">\n  <thead>\n    <tr style=\"text-align: right;\">\n      <th></th>\n      <th>name</th>\n      <th>RR@10</th>\n      <th>nDCG@10</th>\n      <th>AP@100</th>\n    </tr>\n  </thead>\n  <tbody>\n    <tr>\n      <th>0</th>\n      <td>scifact: BM25 &gt;&gt; tct_colbert_msmarco</td>\n      <td>0.661993</td>\n      <td>0.698182</td>\n      <td>0.65603</td>\n    </tr>\n  </tbody>\n</table>\n</div>"
     },
     "execution_count": 7,
     "metadata": {},
     "output_type": "execute_result"
    }
   ],
   "source": [
    "from experiment_utils.experiments_helper import default_test_pipeline_name\n",
    "\n",
    "dataset_name = \"irds:beir/scifact\"\n",
    "dataset_test_name = \"irds:beir/scifact/test\"\n",
    "dev_set_name = \"irds:beir/scifact/train\"\n",
    "pipeline_name = \"BM25 >> \" + model_name\n",
    "\n",
    "default_test_pipeline_name(dataset_name, dataset_test_name, q_encoder, eval_metrics, model_name, pipeline_name,\n",
    "                           path_to_root, dev_set_name=dev_set_name, timed=True)"
   ],
   "metadata": {
    "collapsed": false
   }
  },
  {
   "cell_type": "markdown",
   "source": [
    "#### BM25 >> tct_colbert irds:msmarco-passage/trec-dl-2019"
   ],
   "metadata": {
    "collapsed": false
   }
  },
  {
   "cell_type": "code",
   "execution_count": null,
   "outputs": [
    {
     "name": "stderr",
     "output_type": "stream",
     "text": [
      "[INFO] [starting] opening zip file\n",
      "[INFO] If you have a local copy of https://public.ukp.informatik.tu-darmstadt.de/thakur/BEIR/datasets/msmarco.zip, you can symlink it here to avoid downloading it again: /home/anistor/.ir_datasets/downloads/444067daf65d982533ea17ebd59501e4\n",
      "[INFO] [starting] https://public.ukp.informatik.tu-darmstadt.de/thakur/BEIR/datasets/msmarco.zip\n",
      "[INFO] [finished] https://public.ukp.informatik.tu-darmstadt.de/thakur/BEIR/datasets/msmarco.zip: [00:38] [1.08GB] [27.8MB/s]\n",
      "[INFO] [finished] opening zip file [39.18s]                                                                \n",
      "[INFO] [starting] opening zip file\n",
      "[INFO] [finished] opening zip file [0ms]\n",
      "100%|██████████| 8841823/8841823 [00:11<00:00, 793875.48it/s] \n",
      "GridScan:   0%|          | 0/7 [00:00<?, ?it/s]"
     ]
    }
   ],
   "source": [
    "from experiment_utils.experiments_helper import default_test_pipeline_name\n",
    "from config.sparse_pyterrier_index_global_paths import MSMARCO_PASSAGE_TERRIER_STEMMED_PATH\n",
    "\n",
    "dataset_test_name = \"irds:msmarco-passage/trec-dl-2019\"\n",
    "dev_set_name = \"irds:beir/msmarco/dev\"\n",
    "pipeline_name = \"BM25 >> \" + model_name\n",
    "default_test_pipeline_name(dataset_test_name, dataset_test_name, q_encoder, eval_metrics, model_name, pipeline_name,\n",
    "                           path_to_root, dev_set_name=dev_set_name, timed=True, in_memory_sparse=False,\n",
    "                           in_memory_dense=False, index_path=MSMARCO_PASSAGE_TERRIER_STEMMED_PATH)"
   ],
   "metadata": {
    "collapsed": false,
    "pycharm": {
     "is_executing": true
    }
   }
  },
  {
   "cell_type": "markdown",
   "source": [
    "## Find out sensitivity of alpha value"
   ],
   "metadata": {
    "collapsed": false
   }
  },
  {
   "cell_type": "code",
   "execution_count": 8,
   "outputs": [
    {
     "name": "stderr",
     "output_type": "stream",
     "text": [
      "100%|██████████| 5183/5183 [00:00<00:00, 661003.33it/s]\n"
     ]
    },
    {
     "name": "stdout",
     "output_type": "stream",
     "text": [
      "Experiment took 88.443 seconds to execute.\n",
      "                                   name     RR@10   nDCG@10   AP@100\n",
      "0  scifact: BM25 >> tct_colbert_msmarco  0.555393  0.586517  0.54873\n"
     ]
    },
    {
     "name": "stderr",
     "output_type": "stream",
     "text": [
      "100%|██████████| 5183/5183 [00:00<00:00, 1415857.60it/s]\n"
     ]
    },
    {
     "name": "stdout",
     "output_type": "stream",
     "text": [
      "Experiment took 70.431 seconds to execute.\n",
      "                                   name     RR@10  nDCG@10  AP@100\n",
      "0  scifact: BM25 >> tct_colbert_msmarco  0.575409  0.60577  0.5678\n"
     ]
    },
    {
     "name": "stderr",
     "output_type": "stream",
     "text": [
      "100%|██████████| 5183/5183 [00:00<00:00, 1334340.64it/s]\n"
     ]
    },
    {
     "name": "stdout",
     "output_type": "stream",
     "text": [
      "Experiment took 49.942 seconds to execute.\n",
      "                                   name    RR@10   nDCG@10    AP@100\n",
      "0  scifact: BM25 >> tct_colbert_msmarco  0.59718  0.627204  0.588833\n"
     ]
    },
    {
     "name": "stderr",
     "output_type": "stream",
     "text": [
      "100%|██████████| 5183/5183 [00:00<00:00, 1528660.27it/s]\n"
     ]
    },
    {
     "name": "stdout",
     "output_type": "stream",
     "text": [
      "Experiment took 48.299 seconds to execute.\n",
      "                                   name     RR@10   nDCG@10    AP@100\n",
      "0  scifact: BM25 >> tct_colbert_msmarco  0.622516  0.652288  0.614314\n"
     ]
    },
    {
     "name": "stderr",
     "output_type": "stream",
     "text": [
      "100%|██████████| 5183/5183 [00:00<00:00, 1479553.37it/s]\n"
     ]
    },
    {
     "name": "stdout",
     "output_type": "stream",
     "text": [
      "Experiment took 50.169 seconds to execute.\n",
      "                                   name     RR@10   nDCG@10    AP@100\n",
      "0  scifact: BM25 >> tct_colbert_msmarco  0.661816  0.694801  0.655253\n"
     ]
    },
    {
     "name": "stderr",
     "output_type": "stream",
     "text": [
      "100%|██████████| 5183/5183 [00:00<00:00, 1275692.60it/s]\n"
     ]
    },
    {
     "name": "stdout",
     "output_type": "stream",
     "text": [
      "Experiment took 69.577 seconds to execute.\n",
      "                                   name     RR@10   nDCG@10    AP@100\n",
      "0  scifact: BM25 >> tct_colbert_msmarco  0.681321  0.715563  0.676635\n"
     ]
    },
    {
     "name": "stderr",
     "output_type": "stream",
     "text": [
      "100%|██████████| 5183/5183 [00:00<00:00, 888215.63it/s]\n"
     ]
    },
    {
     "name": "stdout",
     "output_type": "stream",
     "text": [
      "Experiment took 184.317 seconds to execute.\n",
      "                                   name     RR@10   nDCG@10    AP@100\n",
      "0  scifact: BM25 >> tct_colbert_msmarco  0.681982  0.714012  0.678134\n"
     ]
    },
    {
     "name": "stderr",
     "output_type": "stream",
     "text": [
      "100%|██████████| 5183/5183 [00:00<00:00, 351412.46it/s]\n"
     ]
    },
    {
     "name": "stdout",
     "output_type": "stream",
     "text": [
      "Experiment took 103.536 seconds to execute.\n",
      "                                   name     RR@10   nDCG@10    AP@100\n",
      "0  scifact: BM25 >> tct_colbert_msmarco  0.661731  0.695691  0.657452\n"
     ]
    },
    {
     "name": "stderr",
     "output_type": "stream",
     "text": [
      "100%|██████████| 5183/5183 [00:00<00:00, 667231.75it/s]\n"
     ]
    },
    {
     "name": "stdout",
     "output_type": "stream",
     "text": [
      "Experiment took 108.069 seconds to execute.\n",
      "                                   name     RR@10   nDCG@10   AP@100\n",
      "0  scifact: BM25 >> tct_colbert_msmarco  0.652321  0.687148  0.64768\n"
     ]
    },
    {
     "name": "stderr",
     "output_type": "stream",
     "text": [
      "100%|██████████| 5183/5183 [00:00<00:00, 1057142.46it/s]\n"
     ]
    },
    {
     "name": "stdout",
     "output_type": "stream",
     "text": [
      "Experiment took 89.397 seconds to execute.\n",
      "                                   name     RR@10   nDCG@10    AP@100\n",
      "0  scifact: BM25 >> tct_colbert_msmarco  0.549832  0.581373  0.543131\n"
     ]
    },
    {
     "name": "stderr",
     "output_type": "stream",
     "text": [
      "100%|██████████| 5183/5183 [00:00<00:00, 880623.74it/s]\n"
     ]
    },
    {
     "name": "stdout",
     "output_type": "stream",
     "text": [
      "Experiment took 121.884 seconds to execute.\n",
      "                                   name     RR@10   nDCG@10    AP@100\n",
      "0  scifact: BM25 >> tct_colbert_msmarco  0.623265  0.654808  0.618561\n"
     ]
    }
   ],
   "source": [
    "from experiment_utils.experiments_helper import default_test_pipeline_name\n",
    "\n",
    "dataset_name = \"irds:beir/scifact\"\n",
    "dataset_test_name = \"irds:beir/scifact/train\"  #choosen as dev is not available\n",
    "pipeline_name = \"BM25 >> \" + model_name\n",
    "alpha_vals = [0.001, 0.005, 0.01, 0.02, 0.05, 0.1, 0.2, 0.5, 0.7, 0,9]\n",
    "\n",
    "for alpha in alpha_vals:\n",
    "    result = default_test_pipeline_name(dataset_name, dataset_test_name, q_encoder, eval_metrics, model_name, pipeline_name,\n",
    "                           path_to_root, timed=True, alpha=alpha)\n",
    "    print(result)"
   ],
   "metadata": {
    "collapsed": false
   }
  },
  {
   "cell_type": "code",
   "execution_count": null,
   "outputs": [
    {
     "name": "stderr",
     "output_type": "stream",
     "text": [
      "100%|██████████| 5183/5183 [00:00<00:00, 225147.09it/s]\n"
     ]
    },
    {
     "name": "stdout",
     "output_type": "stream",
     "text": [
      "Experiment took 83.504 seconds to execute.\n",
      "0.6349634005693594\n"
     ]
    },
    {
     "name": "stderr",
     "output_type": "stream",
     "text": [
      "100%|██████████| 5183/5183 [00:00<00:00, 758013.80it/s]\n"
     ]
    }
   ],
   "source": [
    "from experiment_utils.experiments_helper import default_test_pipeline_name\n",
    "\n",
    "dataset_name = \"irds:beir/scifact\"\n",
    "dataset_test_name = \"irds:beir/scifact/train\"  #choosen as dev is not available\n",
    "pipeline_name = \"BM25 >> \" + model_name\n",
    "# alpha_vals = [0.001, 0.005, 0.01, 0.02, 0.05, 0.1, 0.2, 0.5, 0.7, 0.9]\n",
    "alpha_vals = [0.1, 0.2, 0.3, 0.4, 0.5, 0.6, 0.6, 0.8, 0.9]\n",
    "maxi = 0\n",
    "max_alpha = 0\n",
    "for alpha in alpha_vals:\n",
    "    result = default_test_pipeline_name(dataset_name, dataset_test_name, q_encoder, eval_metrics, model_name, pipeline_name,\n",
    "                           path_to_root, timed=True, alpha=alpha)\n",
    "    print( result[\"nDCG@10\"].iloc[0])\n",
    "    if  result[\"nDCG@10\"].iloc[0] > maxi:\n",
    "        maxi = result[\"nDCG@10\"].iloc[0]\n",
    "        max_alpha = alpha\n",
    "\n",
    "print(max_alpha)"
   ],
   "metadata": {
    "collapsed": false,
    "pycharm": {
     "is_executing": true
    }
   }
  },
  {
   "cell_type": "code",
   "execution_count": 5,
   "outputs": [
    {
     "name": "stderr",
     "output_type": "stream",
     "text": [
      "100%|██████████| 57638/57638 [00:00<00:00, 421723.47it/s]\n",
      "100%|██████████| 57638/57638 [00:00<00:00, 1021413.85it/s]\n",
      "100%|██████████| 57638/57638 [00:00<00:00, 239432.39it/s]\n",
      "100%|██████████| 57638/57638 [00:00<00:00, 1266515.93it/s]\n",
      "100%|██████████| 57638/57638 [00:00<00:00, 1369261.28it/s]\n",
      "100%|██████████| 57638/57638 [00:00<00:00, 1254182.98it/s]\n",
      "100%|██████████| 57638/57638 [00:00<00:00, 1132425.34it/s]\n",
      "100%|██████████| 57638/57638 [00:00<00:00, 1474677.73it/s]\n",
      "100%|██████████| 57638/57638 [00:00<00:00, 1297443.20it/s]\n"
     ]
    },
    {
     "name": "stdout",
     "output_type": "stream",
     "text": [
      "RESULTS\n",
      "0.33523034524498424\n",
      "0.5\n"
     ]
    }
   ],
   "source": [
    "from experiment_utils.experiments_helper import default_test_pipeline_name\n",
    "\n",
    "dataset_name = \"irds:beir/fiqa\"\n",
    "dataset_test_name = \"irds:beir/fiqa/dev\"  #choosen as dev is not available\n",
    "pipeline_name = \"BM25 >> \" + model_name\n",
    "# alpha_vals = [0.001, 0.005, 0.01, 0.02, 0.05, 0.1, 0.2, 0.5, 0.7, 0.9]\n",
    "alpha_vals = [0.1, 0.2, 0.3, 0.4, 0.5, 0.6, 0.6, 0.8, 0.9]\n",
    "maxi = 0\n",
    "max_alpha = 0\n",
    "for alpha in alpha_vals:\n",
    "    result = default_test_pipeline_name(dataset_name, dataset_test_name, q_encoder, eval_metrics, model_name,\n",
    "                                        pipeline_name,\n",
    "                                        path_to_root, alpha=alpha)\n",
    "\n",
    "    if result[\"nDCG@10\"].iloc[0] > maxi:\n",
    "        maxi = result[\"nDCG@10\"].iloc[0]\n",
    "        max_alpha = alpha\n",
    "print(\"RESULTS\")\n",
    "print(maxi)\n",
    "print(max_alpha)"
   ],
   "metadata": {
    "collapsed": false
   }
  },
  {
   "cell_type": "code",
   "execution_count": null,
   "outputs": [],
   "source": [
    "from experiment_utils.experiments_helper import default_test_pipeline_name\n",
    "\n",
    "dataset_name = \"irds:beir/nfcorpus\"\n",
    "dataset_test_name = \"irds:beir/nfcorpus/dev\"  #choosen as dev is not available\n",
    "pipeline_name = \"BM25 >> \" + model_name\n",
    "# alpha_vals = [0.001, 0.005, 0.01, 0.02, 0.05, 0.1, 0.2, 0.5, 0.7, 0.9]\n",
    "alpha_vals = [0.1, 0.2, 0.3, 0.4, 0.5, 0.6, 0.6, 0.8, 0.9]\n",
    "maxi = 0\n",
    "max_alpha = 0\n",
    "for alpha in alpha_vals:\n",
    "    result = default_test_pipeline_name(dataset_name, dataset_test_name, q_encoder, eval_metrics, model_name,\n",
    "                                        pipeline_name,\n",
    "                                        path_to_root, alpha=alpha)\n",
    "\n",
    "    if result[\"nDCG@10\"].iloc[0] > maxi:\n",
    "        maxi = result[\"nDCG@10\"].iloc[0]\n",
    "        max_alpha = alpha\n",
    "print(\"RESULTS\")\n",
    "print(maxi)\n",
    "print(max_alpha)"
   ],
   "metadata": {
    "collapsed": false,
    "pycharm": {
     "is_executing": true
    }
   }
  },
  {
   "cell_type": "markdown",
   "source": [],
   "metadata": {
    "collapsed": false
   }
  }
 ],
 "metadata": {
  "kernelspec": {
   "display_name": "Python 3",
   "language": "python",
   "name": "python3"
  },
  "language_info": {
   "codemirror_mode": {
    "name": "ipython",
    "version": 2
   },
   "file_extension": ".py",
   "mimetype": "text/x-python",
   "name": "python",
   "nbconvert_exporter": "python",
   "pygments_lexer": "ipython2",
   "version": "2.7.6"
  }
 },
 "nbformat": 4,
 "nbformat_minor": 0
}
