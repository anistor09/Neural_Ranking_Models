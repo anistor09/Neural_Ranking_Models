{
 "cells": [
  {
   "cell_type": "markdown",
   "source": [
    "## In this notebook we will showcase the experiments realised using the FFI framework with the gte-base-en-1.5 encoder for the following datasets:\n",
    "\n",
    "* irds:beir/nfcorpus\n",
    "* irds:beir/fiqa\n",
    "* irds:beir/scidocs\n",
    "* irds:beir/cqadupstack/english\n",
    "* irds:beir/arguana\n",
    "* irds:beir/scifact"
   ],
   "metadata": {
    "collapsed": false
   }
  },
  {
   "cell_type": "markdown",
   "source": [
    "General Setup for all the datasets( first 4 cells)"
   ],
   "metadata": {
    "collapsed": false
   }
  },
  {
   "cell_type": "code",
   "execution_count": 1,
   "outputs": [
    {
     "name": "stderr",
     "output_type": "stream",
     "text": [
      "PyTerrier 0.10.0 has loaded Terrier 5.9 (built by craigm on 2024-05-02 17:40) and terrier-helper 0.0.8\n",
      "\n",
      "No etc/terrier.properties, using terrier.default.properties for bootstrap configuration.\n"
     ]
    }
   ],
   "source": [
    "import pyterrier as pt\n",
    "\n",
    "if not pt.started():\n",
    "    pt.init()"
   ],
   "metadata": {
    "collapsed": false
   }
  },
  {
   "cell_type": "markdown",
   "source": [
    "Evaluation metrics used for all the datasets"
   ],
   "metadata": {
    "collapsed": false
   }
  },
  {
   "cell_type": "code",
   "execution_count": 2,
   "outputs": [],
   "source": [
    "from pyterrier.measures import RR, nDCG, MAP\n",
    "\n",
    "eval_metrics = [RR @ 10, nDCG @ 10, MAP @ 100]"
   ],
   "metadata": {
    "collapsed": false
   }
  },
  {
   "cell_type": "markdown",
   "source": [
    "Create the query encoder that will run on CPU. Encoder used for embedding all the datasets/queries"
   ],
   "metadata": {
    "collapsed": false
   }
  },
  {
   "cell_type": "code",
   "execution_count": 3,
   "outputs": [],
   "source": [
    "from encoders.gte_base_en_encoder import GTEBaseEncoder\n",
    "\n",
    "package = \"Alibaba-NLP/\"\n",
    "model_name = \"gte-base-en-v1.5\"\n",
    "q_encoder = GTEBaseEncoder(\"Alibaba-NLP/gte-base-en-v1.5\")\n"
   ],
   "metadata": {
    "collapsed": false
   }
  },
  {
   "cell_type": "markdown",
   "source": [
    "Defined the path to root"
   ],
   "metadata": {
    "collapsed": false
   }
  },
  {
   "cell_type": "code",
   "execution_count": 4,
   "outputs": [],
   "source": [
    "path_to_root = \"../../\""
   ],
   "metadata": {
    "collapsed": false
   }
  },
  {
   "cell_type": "markdown",
   "source": [
    "#### BM25 >> gte-base-en-v1.5 irds:beir/nfcorpus"
   ],
   "metadata": {
    "collapsed": false
   }
  },
  {
   "cell_type": "code",
   "execution_count": 9,
   "outputs": [
    {
     "name": "stderr",
     "output_type": "stream",
     "text": [
      "100%|██████████| 3633/3633 [00:00<00:00, 1669541.63it/s]\n",
      "GridScan: 100%|██████████| 4/4 [00:24<00:00,  6.16s/it]\n"
     ]
    },
    {
     "name": "stdout",
     "output_type": "stream",
     "text": [
      "Best map is 0.126401\n",
      "Best setting is ['<fast_forward.util.pyterrier.FFInterpolate object at 0x7fd97302ebf0> alpha=0.01']\n",
      "Experiment took 7.976 seconds to execute.\n"
     ]
    },
    {
     "data": {
      "text/plain": "                                 name     RR@10   nDCG@10    AP@100\n0  nfcorpus: BM25 >> gte-base-en-v1.5  0.582751  0.364177  0.166036",
      "text/html": "<div>\n<style scoped>\n    .dataframe tbody tr th:only-of-type {\n        vertical-align: middle;\n    }\n\n    .dataframe tbody tr th {\n        vertical-align: top;\n    }\n\n    .dataframe thead th {\n        text-align: right;\n    }\n</style>\n<table border=\"1\" class=\"dataframe\">\n  <thead>\n    <tr style=\"text-align: right;\">\n      <th></th>\n      <th>name</th>\n      <th>RR@10</th>\n      <th>nDCG@10</th>\n      <th>AP@100</th>\n    </tr>\n  </thead>\n  <tbody>\n    <tr>\n      <th>0</th>\n      <td>nfcorpus: BM25 &gt;&gt; gte-base-en-v1.5</td>\n      <td>0.582751</td>\n      <td>0.364177</td>\n      <td>0.166036</td>\n    </tr>\n  </tbody>\n</table>\n</div>"
     },
     "execution_count": 9,
     "metadata": {},
     "output_type": "execute_result"
    }
   ],
   "source": [
    "from experiment_utils.experiments_helper import default_test_pipeline_name\n",
    "\n",
    "dataset_name = \"irds:beir/nfcorpus\"\n",
    "dev_set_name = \"irds:beir/nfcorpus/dev\"\n",
    "dataset_test_name = \"irds:beir/nfcorpus/test\"\n",
    "pipeline_name = \"BM25 >> \" + model_name\n",
    "\n",
    "default_test_pipeline_name(dataset_name, dataset_test_name, q_encoder, eval_metrics, model_name, pipeline_name,\n",
    "                           path_to_root, dev_set_name=dev_set_name, timed=True)"
   ],
   "metadata": {
    "collapsed": false
   }
  },
  {
   "cell_type": "markdown",
   "source": [
    "#### BM25 >> gte-base-en-v1.5 irds:beir/fiqa"
   ],
   "metadata": {
    "collapsed": false
   }
  },
  {
   "cell_type": "code",
   "execution_count": 10,
   "outputs": [
    {
     "name": "stderr",
     "output_type": "stream",
     "text": [
      "100%|██████████| 57638/57638 [00:00<00:00, 1485159.51it/s]\n",
      "GridScan: 100%|██████████| 4/4 [01:33<00:00, 23.34s/it]\n"
     ]
    },
    {
     "name": "stdout",
     "output_type": "stream",
     "text": [
      "Best map is 0.369902\n",
      "Best setting is ['<fast_forward.util.pyterrier.FFInterpolate object at 0x7fd972d16fb0> alpha=0.001']\n",
      "Experiment took 56.353 seconds to execute.\n"
     ]
    },
    {
     "data": {
      "text/plain": "                             name     RR@10   nDCG@10   AP@100\n0  fiqa: BM25 >> gte-base-en-v1.5  0.562507  0.474643  0.41231",
      "text/html": "<div>\n<style scoped>\n    .dataframe tbody tr th:only-of-type {\n        vertical-align: middle;\n    }\n\n    .dataframe tbody tr th {\n        vertical-align: top;\n    }\n\n    .dataframe thead th {\n        text-align: right;\n    }\n</style>\n<table border=\"1\" class=\"dataframe\">\n  <thead>\n    <tr style=\"text-align: right;\">\n      <th></th>\n      <th>name</th>\n      <th>RR@10</th>\n      <th>nDCG@10</th>\n      <th>AP@100</th>\n    </tr>\n  </thead>\n  <tbody>\n    <tr>\n      <th>0</th>\n      <td>fiqa: BM25 &gt;&gt; gte-base-en-v1.5</td>\n      <td>0.562507</td>\n      <td>0.474643</td>\n      <td>0.41231</td>\n    </tr>\n  </tbody>\n</table>\n</div>"
     },
     "execution_count": 10,
     "metadata": {},
     "output_type": "execute_result"
    }
   ],
   "source": [
    "from experiment_utils.experiments_helper import default_test_pipeline_name\n",
    "\n",
    "dataset_name = \"irds:beir/fiqa\"\n",
    "dev_set_name = \"irds:beir/fiqa/dev\"\n",
    "dataset_test_name = \"irds:beir/fiqa/test\"\n",
    "pipeline_name = \"BM25 >> \" + model_name\n",
    "\n",
    "default_test_pipeline_name(dataset_name, dataset_test_name, q_encoder, eval_metrics, model_name, pipeline_name,\n",
    "                           path_to_root, dev_set_name=dev_set_name, timed=True)"
   ],
   "metadata": {
    "collapsed": false
   }
  },
  {
   "cell_type": "markdown",
   "source": [
    "#### BM25 >> gte-base-en-v1.5 irds:beir/scidocs"
   ],
   "metadata": {
    "collapsed": false
   }
  },
  {
   "cell_type": "code",
   "execution_count": 6,
   "outputs": [
    {
     "name": "stderr",
     "output_type": "stream",
     "text": [
      "100%|██████████| 25657/25657 [00:00<00:00, 817910.16it/s]\n"
     ]
    },
    {
     "name": "stdout",
     "output_type": "stream",
     "text": [
      "Experiment took 87.282 seconds to execute.\n"
     ]
    },
    {
     "data": {
      "text/plain": "                                name     RR@10   nDCG@10    AP@100\n0  scidocs: BM25 >> gte-base-en-v1.5  0.359105  0.212301  0.147581",
      "text/html": "<div>\n<style scoped>\n    .dataframe tbody tr th:only-of-type {\n        vertical-align: middle;\n    }\n\n    .dataframe tbody tr th {\n        vertical-align: top;\n    }\n\n    .dataframe thead th {\n        text-align: right;\n    }\n</style>\n<table border=\"1\" class=\"dataframe\">\n  <thead>\n    <tr style=\"text-align: right;\">\n      <th></th>\n      <th>name</th>\n      <th>RR@10</th>\n      <th>nDCG@10</th>\n      <th>AP@100</th>\n    </tr>\n  </thead>\n  <tbody>\n    <tr>\n      <th>0</th>\n      <td>scidocs: BM25 &gt;&gt; gte-base-en-v1.5</td>\n      <td>0.359105</td>\n      <td>0.212301</td>\n      <td>0.147581</td>\n    </tr>\n  </tbody>\n</table>\n</div>"
     },
     "execution_count": 6,
     "metadata": {},
     "output_type": "execute_result"
    }
   ],
   "source": [
    "from experiment_utils.experiments_helper import default_test_pipeline\n",
    "\n",
    "dataset_name = \"irds:beir/scidocs\"\n",
    "dataset = pt.get_dataset(dataset_name)\n",
    "test_topics = dataset.get_topics('text')\n",
    "test_qrels = dataset.get_qrels()\n",
    "pipeline_name = \"BM25 >> \" + model_name\n",
    "\n",
    "default_test_pipeline(dataset_name, test_topics, test_qrels, q_encoder, eval_metrics, model_name, pipeline_name,\n",
    "                      path_to_root, timed=True)\n"
   ],
   "metadata": {
    "collapsed": false
   }
  },
  {
   "cell_type": "markdown",
   "source": [
    "#### BM25 >> gte-base-en-v1.5 irds:beir/cqadupstack/english"
   ],
   "metadata": {
    "collapsed": false
   }
  },
  {
   "cell_type": "code",
   "execution_count": 5,
   "outputs": [
    {
     "name": "stderr",
     "output_type": "stream",
     "text": [
      "100%|██████████| 40221/40221 [00:00<00:00, 1638046.19it/s]\n"
     ]
    },
    {
     "name": "stdout",
     "output_type": "stream",
     "text": [
      "Experiment took 179.060 seconds to execute.\n"
     ]
    },
    {
     "data": {
      "text/plain": "                                            name   RR@10   nDCG@10    AP@100\n0  cqadupstack_english: BM25 >> gte-base-en-v1.5  0.4057  0.394129  0.359377",
      "text/html": "<div>\n<style scoped>\n    .dataframe tbody tr th:only-of-type {\n        vertical-align: middle;\n    }\n\n    .dataframe tbody tr th {\n        vertical-align: top;\n    }\n\n    .dataframe thead th {\n        text-align: right;\n    }\n</style>\n<table border=\"1\" class=\"dataframe\">\n  <thead>\n    <tr style=\"text-align: right;\">\n      <th></th>\n      <th>name</th>\n      <th>RR@10</th>\n      <th>nDCG@10</th>\n      <th>AP@100</th>\n    </tr>\n  </thead>\n  <tbody>\n    <tr>\n      <th>0</th>\n      <td>cqadupstack_english: BM25 &gt;&gt; gte-base-en-v1.5</td>\n      <td>0.4057</td>\n      <td>0.394129</td>\n      <td>0.359377</td>\n    </tr>\n  </tbody>\n</table>\n</div>"
     },
     "execution_count": 5,
     "metadata": {},
     "output_type": "execute_result"
    }
   ],
   "source": [
    "from experiment_utils.experiments_helper import default_test_pipeline\n",
    "\n",
    "dataset_name = \"irds:beir/cqadupstack/english\"\n",
    "dataset = pt.get_dataset(\"irds:beir/cqadupstack/english\")\n",
    "test_topics = dataset.get_topics('text')\n",
    "test_qrels = dataset.get_qrels()\n",
    "pipeline_name = \"BM25 >> \" + model_name\n",
    "\n",
    "default_test_pipeline(dataset_name, test_topics, test_qrels, q_encoder, eval_metrics, model_name, pipeline_name,\n",
    "                      path_to_root, timed=True)\n"
   ],
   "metadata": {
    "collapsed": false
   }
  },
  {
   "cell_type": "markdown",
   "source": [
    "#### BM25 >> gte-base-en-v1.5 irds:beir/arguana\n",
    "\n",
    "#### DelftBlue runtime : 15 minutes. Local runtime : 20 minutes"
   ],
   "metadata": {
    "collapsed": false
   }
  },
  {
   "cell_type": "code",
   "execution_count": 7,
   "outputs": [
    {
     "name": "stderr",
     "output_type": "stream",
     "text": [
      "100%|██████████| 8674/8674 [00:00<00:00, 1273679.91it/s]\n"
     ]
    },
    {
     "name": "stdout",
     "output_type": "stream",
     "text": [
      "Experiment took 1095.980 seconds to execute.\n"
     ]
    },
    {
     "data": {
      "text/plain": "                                name     RR@10   nDCG@10    AP@100\n0  arguana: BM25 >> gte-base-en-v1.5  0.304558  0.444803  0.310985",
      "text/html": "<div>\n<style scoped>\n    .dataframe tbody tr th:only-of-type {\n        vertical-align: middle;\n    }\n\n    .dataframe tbody tr th {\n        vertical-align: top;\n    }\n\n    .dataframe thead th {\n        text-align: right;\n    }\n</style>\n<table border=\"1\" class=\"dataframe\">\n  <thead>\n    <tr style=\"text-align: right;\">\n      <th></th>\n      <th>name</th>\n      <th>RR@10</th>\n      <th>nDCG@10</th>\n      <th>AP@100</th>\n    </tr>\n  </thead>\n  <tbody>\n    <tr>\n      <th>0</th>\n      <td>arguana: BM25 &gt;&gt; gte-base-en-v1.5</td>\n      <td>0.304558</td>\n      <td>0.444803</td>\n      <td>0.310985</td>\n    </tr>\n  </tbody>\n</table>\n</div>"
     },
     "execution_count": 7,
     "metadata": {},
     "output_type": "execute_result"
    }
   ],
   "source": [
    "from experiment_utils.experiments_helper import default_test_pipeline_name\n",
    "\n",
    "dataset_name = \"irds:beir/arguana\"\n",
    "pipeline_name = \"BM25 >> \" + model_name\n",
    "\n",
    "default_test_pipeline_name(dataset_name, dataset_name, q_encoder, eval_metrics, model_name, pipeline_name, path_to_root,\n",
    "                           timed=True)"
   ],
   "metadata": {
    "collapsed": false
   }
  },
  {
   "cell_type": "markdown",
   "source": [],
   "metadata": {
    "collapsed": false
   }
  },
  {
   "cell_type": "markdown",
   "source": [
    "#### BM25 >> gte-base-en-v1.5 irds:beir/scifact"
   ],
   "metadata": {
    "collapsed": false
   }
  },
  {
   "cell_type": "code",
   "execution_count": 9,
   "outputs": [
    {
     "name": "stderr",
     "output_type": "stream",
     "text": [
      "100%|██████████| 5183/5183 [00:00<00:00, 1273973.14it/s]\n",
      "GridScan: 100%|██████████| 4/4 [03:06<00:00, 46.62s/it]\n"
     ]
    },
    {
     "name": "stdout",
     "output_type": "stream",
     "text": [
      "Best map is 0.723258\n",
      "Best setting is ['<fast_forward.util.pyterrier.FFInterpolate object at 0x7f8f50bb83d0> alpha=0.005']\n",
      "Experiment took 21.415 seconds to execute.\n"
     ]
    },
    {
     "data": {
      "text/plain": "                                name     RR@10   nDCG@10   AP@100\n0  scifact: BM25 >> gte-base-en-v1.5  0.719434  0.759086  0.71864",
      "text/html": "<div>\n<style scoped>\n    .dataframe tbody tr th:only-of-type {\n        vertical-align: middle;\n    }\n\n    .dataframe tbody tr th {\n        vertical-align: top;\n    }\n\n    .dataframe thead th {\n        text-align: right;\n    }\n</style>\n<table border=\"1\" class=\"dataframe\">\n  <thead>\n    <tr style=\"text-align: right;\">\n      <th></th>\n      <th>name</th>\n      <th>RR@10</th>\n      <th>nDCG@10</th>\n      <th>AP@100</th>\n    </tr>\n  </thead>\n  <tbody>\n    <tr>\n      <th>0</th>\n      <td>scifact: BM25 &gt;&gt; gte-base-en-v1.5</td>\n      <td>0.719434</td>\n      <td>0.759086</td>\n      <td>0.71864</td>\n    </tr>\n  </tbody>\n</table>\n</div>"
     },
     "execution_count": 9,
     "metadata": {},
     "output_type": "execute_result"
    }
   ],
   "source": [
    "from experiment_utils.experiments_helper import default_test_pipeline_name\n",
    "\n",
    "dataset_name = \"irds:beir/scifact\"\n",
    "dataset_test_name = \"irds:beir/scifact/test\"\n",
    "dev_set_name = \"irds:beir/scifact/train\"\n",
    "pipeline_name = \"BM25 >> \" + model_name\n",
    "\n",
    "default_test_pipeline_name(dataset_name, dataset_test_name, q_encoder, eval_metrics, model_name, pipeline_name,\n",
    "                           path_to_root, dev_set_name=dev_set_name, timed=True)"
   ],
   "metadata": {
    "collapsed": false
   }
  },
  {
   "cell_type": "markdown",
   "source": [
    "#### BM25 >> gte-base-en-v1.5 irds:msmarco-passage/trec-dl-2019"
   ],
   "metadata": {
    "collapsed": false
   }
  },
  {
   "cell_type": "code",
   "execution_count": 10,
   "outputs": [
    {
     "name": "stderr",
     "output_type": "stream",
     "text": [
      "100%|██████████| 8841823/8841823 [00:12<00:00, 720781.43it/s] \n"
     ]
    },
    {
     "name": "stdout",
     "output_type": "stream",
     "text": [
      "Experiment took 290.126 seconds to execute.\n"
     ]
    },
    {
     "data": {
      "text/plain": "                                             name     RR@10   nDCG@10  \\\n0  passage_trec_dl_2019: BM25 >> gte-base-en-v1.5  0.984496  0.718658   \n\n     AP@100  \n0  0.422681  ",
      "text/html": "<div>\n<style scoped>\n    .dataframe tbody tr th:only-of-type {\n        vertical-align: middle;\n    }\n\n    .dataframe tbody tr th {\n        vertical-align: top;\n    }\n\n    .dataframe thead th {\n        text-align: right;\n    }\n</style>\n<table border=\"1\" class=\"dataframe\">\n  <thead>\n    <tr style=\"text-align: right;\">\n      <th></th>\n      <th>name</th>\n      <th>RR@10</th>\n      <th>nDCG@10</th>\n      <th>AP@100</th>\n    </tr>\n  </thead>\n  <tbody>\n    <tr>\n      <th>0</th>\n      <td>passage_trec_dl_2019: BM25 &gt;&gt; gte-base-en-v1.5</td>\n      <td>0.984496</td>\n      <td>0.718658</td>\n      <td>0.422681</td>\n    </tr>\n  </tbody>\n</table>\n</div>"
     },
     "execution_count": 10,
     "metadata": {},
     "output_type": "execute_result"
    }
   ],
   "source": [
    "from experiment_utils.experiments_helper import default_test_pipeline_name\n",
    "from config.sparse_pyterrier_index_global_paths import MSMARCO_PASSAGE_TERRIER_STEMMED_PATH\n",
    "\n",
    "dataset_test_name = \"irds:msmarco-passage/trec-dl-2019\"\n",
    "pipeline_name = \"BM25 >> \" + model_name\n",
    "default_test_pipeline_name(dataset_test_name, dataset_test_name, q_encoder, eval_metrics, model_name,pipeline_name,path_to_root, timed=True, in_memory_sparse=False,\n",
    "in_memory_dense=False, index_path=MSMARCO_PASSAGE_TERRIER_STEMMED_PATH)"
   ],
   "metadata": {
    "collapsed": false
   }
  },
  {
   "cell_type": "code",
   "execution_count": 5,
   "outputs": [
    {
     "name": "stderr",
     "output_type": "stream",
     "text": [
      "100%|██████████| 5183/5183 [00:00<00:00, 1110099.46it/s]\n"
     ]
    },
    {
     "name": "stdout",
     "output_type": "stream",
     "text": [
      "Experiment took 87.996 seconds to execute.\n",
      "                                name    RR@10   nDCG@10    AP@100\n",
      "0  scifact: BM25 >> gte-base-en-v1.5  0.70743  0.739848  0.704782\n"
     ]
    },
    {
     "name": "stderr",
     "output_type": "stream",
     "text": [
      "100%|██████████| 5183/5183 [00:00<00:00, 1042691.62it/s]\n"
     ]
    },
    {
     "name": "stdout",
     "output_type": "stream",
     "text": [
      "Experiment took 84.112 seconds to execute.\n",
      "                                name     RR@10  nDCG@10    AP@100\n",
      "0  scifact: BM25 >> gte-base-en-v1.5  0.728565  0.76019  0.727808\n"
     ]
    },
    {
     "name": "stderr",
     "output_type": "stream",
     "text": [
      "100%|██████████| 5183/5183 [00:00<00:00, 1026299.58it/s]\n"
     ]
    },
    {
     "name": "stdout",
     "output_type": "stream",
     "text": [
      "Experiment took 74.502 seconds to execute.\n",
      "                                name     RR@10   nDCG@10    AP@100\n",
      "0  scifact: BM25 >> gte-base-en-v1.5  0.720289  0.753616  0.718874\n"
     ]
    },
    {
     "name": "stderr",
     "output_type": "stream",
     "text": [
      "100%|██████████| 5183/5183 [00:00<00:00, 1291149.11it/s]\n"
     ]
    },
    {
     "name": "stdout",
     "output_type": "stream",
     "text": [
      "Experiment took 74.330 seconds to execute.\n",
      "                                name     RR@10   nDCG@10    AP@100\n",
      "0  scifact: BM25 >> gte-base-en-v1.5  0.705533  0.742014  0.702155\n"
     ]
    },
    {
     "name": "stderr",
     "output_type": "stream",
     "text": [
      "100%|██████████| 5183/5183 [00:00<00:00, 495850.50it/s]\n"
     ]
    },
    {
     "name": "stdout",
     "output_type": "stream",
     "text": [
      "Experiment took 71.971 seconds to execute.\n",
      "                                name     RR@10   nDCG@10    AP@100\n",
      "0  scifact: BM25 >> gte-base-en-v1.5  0.680539  0.715878  0.676222\n"
     ]
    },
    {
     "name": "stderr",
     "output_type": "stream",
     "text": [
      "100%|██████████| 5183/5183 [00:00<00:00, 1415949.82it/s]\n"
     ]
    },
    {
     "name": "stdout",
     "output_type": "stream",
     "text": [
      "Experiment took 75.200 seconds to execute.\n",
      "                                name     RR@10   nDCG@10    AP@100\n",
      "0  scifact: BM25 >> gte-base-en-v1.5  0.661715  0.696382  0.657038\n"
     ]
    },
    {
     "name": "stderr",
     "output_type": "stream",
     "text": [
      "100%|██████████| 5183/5183 [00:00<00:00, 586433.17it/s]\n"
     ]
    },
    {
     "name": "stdout",
     "output_type": "stream",
     "text": [
      "Experiment took 74.257 seconds to execute.\n",
      "                                name     RR@10   nDCG@10    AP@100\n",
      "0  scifact: BM25 >> gte-base-en-v1.5  0.653517  0.687996  0.648555\n"
     ]
    },
    {
     "name": "stderr",
     "output_type": "stream",
     "text": [
      "100%|██████████| 5183/5183 [00:00<00:00, 1117116.01it/s]\n"
     ]
    },
    {
     "name": "stdout",
     "output_type": "stream",
     "text": [
      "Experiment took 73.727 seconds to execute.\n",
      "                                name     RR@10   nDCG@10    AP@100\n",
      "0  scifact: BM25 >> gte-base-en-v1.5  0.646598  0.681191  0.642089\n"
     ]
    },
    {
     "name": "stderr",
     "output_type": "stream",
     "text": [
      "100%|██████████| 5183/5183 [00:00<00:00, 1271068.10it/s]\n"
     ]
    },
    {
     "name": "stdout",
     "output_type": "stream",
     "text": [
      "Experiment took 70.629 seconds to execute.\n",
      "                                name     RR@10   nDCG@10    AP@100\n",
      "0  scifact: BM25 >> gte-base-en-v1.5  0.643701  0.678644  0.639047\n"
     ]
    },
    {
     "name": "stderr",
     "output_type": "stream",
     "text": [
      "100%|██████████| 5183/5183 [00:00<00:00, 1169333.42it/s]\n"
     ]
    },
    {
     "name": "stdout",
     "output_type": "stream",
     "text": [
      "Experiment took 69.514 seconds to execute.\n",
      "                                name     RR@10   nDCG@10    AP@100\n",
      "0  scifact: BM25 >> gte-base-en-v1.5  0.689084  0.722969  0.685904\n"
     ]
    },
    {
     "name": "stderr",
     "output_type": "stream",
     "text": [
      "100%|██████████| 5183/5183 [00:00<00:00, 307461.67it/s]\n"
     ]
    },
    {
     "name": "stdout",
     "output_type": "stream",
     "text": [
      "Experiment took 70.500 seconds to execute.\n",
      "                                name     RR@10   nDCG@10    AP@100\n",
      "0  scifact: BM25 >> gte-base-en-v1.5  0.641956  0.675832  0.637287\n"
     ]
    }
   ],
   "source": [
    "from experiment_utils.experiments_helper import default_test_pipeline_name\n",
    "\n",
    "dataset_name = \"irds:beir/scifact\"\n",
    "dataset_test_name = \"irds:beir/scifact/train\"  #choosen as dev is not available\n",
    "pipeline_name = \"BM25 >> \" + model_name\n",
    "alpha_vals = [0.001, 0.005, 0.01, 0.02, 0.05, 0.1, 0.2, 0.5, 0.7, 0,9]\n",
    "\n",
    "for alpha in alpha_vals:\n",
    "    result = default_test_pipeline_name(dataset_name, dataset_test_name, q_encoder, eval_metrics, model_name, pipeline_name,\n",
    "                           path_to_root, timed=True, alpha=alpha)\n",
    "    print(result)"
   ],
   "metadata": {
    "collapsed": false
   }
  },
  {
   "cell_type": "code",
   "execution_count": null,
   "outputs": [
    {
     "name": "stderr",
     "output_type": "stream",
     "text": [
      "100%|██████████| 5183/5183 [00:00<00:00, 499301.26it/s]\n"
     ]
    }
   ],
   "source": [
    "from experiment_utils.experiments_helper import default_test_pipeline_name\n",
    "\n",
    "dataset_name = \"irds:beir/scifact\"\n",
    "dataset_test_name = \"irds:beir/scifact/train\"  #choosen as dev is not available\n",
    "pipeline_name = \"BM25 >> \" + model_name\n",
    "# alpha_vals = [0.001, 0.005, 0.01, 0.02, 0.05, 0.1, 0.2, 0.5, 0.7, 0.9]\n",
    "alpha_vals = [0.1, 0.2, 0.3, 0.4, 0.5, 0.6, 0.6, 0.8, 0.9]\n",
    "maxi = 0\n",
    "max_alpha = 0\n",
    "for alpha in alpha_vals:\n",
    "    result = default_test_pipeline_name(dataset_name, dataset_test_name, q_encoder, eval_metrics, model_name, pipeline_name,\n",
    "                           path_to_root, timed=True, alpha=alpha)\n",
    "    print( result[\"nDCG@10\"].iloc[0])\n",
    "    if  result[\"nDCG@10\"].iloc[0] > maxi:\n",
    "        maxi = result[\"nDCG@10\"].iloc[0]\n",
    "        max_alpha = alpha\n",
    "print(\"Results\")\n",
    "print(maxi)\n",
    "print(max_alpha)"
   ],
   "metadata": {
    "collapsed": false,
    "pycharm": {
     "is_executing": true
    }
   }
  },
  {
   "cell_type": "code",
   "execution_count": null,
   "outputs": [],
   "source": [
    "from experiment_utils.experiments_helper import default_test_pipeline_name\n",
    "\n",
    "dataset_name = \"irds:beir/fiqa\"\n",
    "dataset_test_name = \"irds:beir/fiqa/dev\"  #choosen as dev is not available\n",
    "pipeline_name = \"BM25 >> \" + model_name\n",
    "# alpha_vals = [0.001, 0.005, 0.01, 0.02, 0.05, 0.1, 0.2, 0.5, 0.7, 0.9]\n",
    "alpha_vals = [0.1, 0.2, 0.3, 0.4, 0.5, 0.6, 0.6, 0.8, 0.9]\n",
    "maxi = 0\n",
    "max_alpha = 0\n",
    "for alpha in alpha_vals:\n",
    "    result = default_test_pipeline_name(dataset_name, dataset_test_name, q_encoder, eval_metrics, model_name,\n",
    "                                        pipeline_name,\n",
    "                                        path_to_root, alpha=alpha)\n",
    "\n",
    "    if result[\"nDCG@10\"].iloc[0] > maxi:\n",
    "        maxi = result[\"nDCG@10\"].iloc[0]\n",
    "        max_alpha = alpha\n",
    "print(\"RESULTS\")\n",
    "print(maxi)\n",
    "print(max_alpha)"
   ],
   "metadata": {
    "collapsed": false,
    "pycharm": {
     "is_executing": true
    }
   }
  },
  {
   "cell_type": "code",
   "execution_count": null,
   "outputs": [],
   "source": [
    "from experiment_utils.experiments_helper import default_test_pipeline_name\n",
    "\n",
    "dataset_name = \"irds:beir/nfcorpus\"\n",
    "dataset_test_name = \"irds:beir/nfcorpus/dev\"  #choosen as dev is not available\n",
    "pipeline_name = \"BM25 >> \" + model_name\n",
    "# alpha_vals = [0.001, 0.005, 0.01, 0.02, 0.05, 0.1, 0.2, 0.5, 0.7, 0.9]\n",
    "alpha_vals = [0.1, 0.2, 0.3, 0.4, 0.5, 0.6, 0.6, 0.8, 0.9]\n",
    "maxi = 0\n",
    "max_alpha = 0\n",
    "for alpha in alpha_vals:\n",
    "    result = default_test_pipeline_name(dataset_name, dataset_test_name, q_encoder, eval_metrics, model_name,\n",
    "                                        pipeline_name,\n",
    "                                        path_to_root, alpha=alpha)\n",
    "\n",
    "    if result[\"nDCG@10\"].iloc[0] > maxi:\n",
    "        maxi = result[\"nDCG@10\"].iloc[0]\n",
    "        max_alpha = alpha\n",
    "print(\"RESULTS\")\n",
    "print(maxi)\n",
    "print(max_alpha)"
   ],
   "metadata": {
    "collapsed": false
   }
  }
 ],
 "metadata": {
  "kernelspec": {
   "display_name": "Python 3",
   "language": "python",
   "name": "python3"
  },
  "language_info": {
   "codemirror_mode": {
    "name": "ipython",
    "version": 2
   },
   "file_extension": ".py",
   "mimetype": "text/x-python",
   "name": "python",
   "nbconvert_exporter": "python",
   "pygments_lexer": "ipython2",
   "version": "2.7.6"
  }
 },
 "nbformat": 4,
 "nbformat_minor": 0
}
