{
 "cells": [
  {
   "cell_type": "code",
   "execution_count": 1,
   "outputs": [
    {
     "name": "stderr",
     "output_type": "stream",
     "text": [
      "PyTerrier 0.10.0 has loaded Terrier 5.9 (built by craigm on 2024-05-02 17:40) and terrier-helper 0.0.8\n",
      "\n",
      "No etc/terrier.properties, using terrier.default.properties for bootstrap configuration.\n"
     ]
    }
   ],
   "source": [
    "import io\n",
    "\n",
    "import pyterrier as pt\n",
    "from experiment_utils.experiments_helper import get_timeit_dependencies_name, getOptimalAlpha, latency_per_query\n",
    "\n",
    "if not pt.started():\n",
    "    pt.init()"
   ],
   "metadata": {
    "collapsed": false
   }
  },
  {
   "cell_type": "code",
   "execution_count": 2,
   "outputs": [],
   "source": [
    "from encoders.gte_base_en_encoder import GTEBaseEncoder\n",
    "\n",
    "package = \"Alibaba-NLP/\"\n",
    "model_name = \"gte-base-en-v1.5\"\n",
    "q_encoder = GTEBaseEncoder(package + model_name)\n",
    "model_directory = 'gte_base_en_v1_5'\n",
    "path_to_root = \"../../\"\n",
    "pipeline_name = \"BM25 >> \" + model_name"
   ],
   "metadata": {
    "collapsed": false
   }
  },
  {
   "cell_type": "code",
   "execution_count": 3,
   "outputs": [],
   "source": [
    "prefix = \"irds:beir/\"\n",
    "test_suffix = \"/test\""
   ],
   "metadata": {
    "collapsed": false
   }
  },
  {
   "cell_type": "code",
   "execution_count": 4,
   "outputs": [],
   "source": [
    "def get_timeit_dep(dataset_name):\n",
    "    return get_timeit_dependencies_name(prefix + dataset_name, prefix + dataset_name + test_suffix,\n",
    "                                        q_encoder,\n",
    "                                        model_name,\n",
    "                                        path_to_root, model_directory,\n",
    "                                        alpha=getOptimalAlpha(prefix + dataset_name, pipeline_name))"
   ],
   "metadata": {
    "collapsed": false
   }
  },
  {
   "cell_type": "code",
   "execution_count": 5,
   "outputs": [],
   "source": [
    "from contextlib import redirect_stdout\n",
    "\n",
    "def measure_latency(dataset_name):\n",
    "    results_lexical_retriever, semantic_reranker = get_timeit_dep(dataset_name)\n",
    "    f = io.StringIO()\n",
    "    with redirect_stdout(f):\n",
    "        %timeit semantic_reranker(results_lexical_retriever)\n",
    "\n",
    "    timeit_output = f.getvalue()\n",
    "    result = latency_per_query(timeit_output, prefix + dataset_name, test_suffix, pipeline_name)\n",
    "    print(result)"
   ],
   "metadata": {
    "collapsed": false
   }
  },
  {
   "cell_type": "code",
   "execution_count": 6,
   "outputs": [
    {
     "name": "stderr",
     "output_type": "stream",
     "text": [
      "100%|██████████| 3633/3633 [00:00<00:00, 1600284.23it/s]\n"
     ]
    },
    {
     "name": "stdout",
     "output_type": "stream",
     "text": [
      "Latency per query: 17.8947 ms. Experiment details: 5.78 s +- 103 ms per loop (mean +- std. dev. of 7 runs, 1 loop each)\n",
      "\n"
     ]
    }
   ],
   "source": [
    "dataset_name = \"nfcorpus\"\n",
    "measure_latency(dataset_name)"
   ],
   "metadata": {
    "collapsed": false
   }
  },
  {
   "cell_type": "code",
   "execution_count": 6,
   "outputs": [
    {
     "name": "stdout",
     "output_type": "stream",
     "text": [
      "No third element available\n"
     ]
    },
    {
     "ename": "TypeError",
     "evalue": "unsupported operand type(s) for +: 'NoneType' and 'str'",
     "output_type": "error",
     "traceback": [
      "\u001B[0;31m---------------------------------------------------------------------------\u001B[0m",
      "\u001B[0;31mTypeError\u001B[0m                                 Traceback (most recent call last)",
      "Cell \u001B[0;32mIn[6], line 2\u001B[0m\n\u001B[1;32m      1\u001B[0m dataset_name \u001B[38;5;241m=\u001B[39m \u001B[38;5;124m\"\u001B[39m\u001B[38;5;124mfiqa\u001B[39m\u001B[38;5;124m\"\u001B[39m\n\u001B[0;32m----> 2\u001B[0m results_lexical_retriever, semantic_reranker \u001B[38;5;241m=\u001B[39m \u001B[43mget_timeit_dep\u001B[49m\u001B[43m(\u001B[49m\u001B[43mdataset_name\u001B[49m\u001B[43m)\u001B[49m\n",
      "Cell \u001B[0;32mIn[5], line 6\u001B[0m, in \u001B[0;36mget_timeit_dep\u001B[0;34m(dataset_name)\u001B[0m\n\u001B[1;32m      1\u001B[0m \u001B[38;5;28;01mdef\u001B[39;00m \u001B[38;5;21mget_timeit_dep\u001B[39m(dataset_name):\n\u001B[1;32m      2\u001B[0m     \u001B[38;5;28;01mreturn\u001B[39;00m get_timeit_dependencies_name(prefix \u001B[38;5;241m+\u001B[39m dataset_name, prefix \u001B[38;5;241m+\u001B[39m dataset_name \u001B[38;5;241m+\u001B[39m test_suffix,\n\u001B[1;32m      3\u001B[0m                                         q_encoder,\n\u001B[1;32m      4\u001B[0m                                         model_name,\n\u001B[1;32m      5\u001B[0m                                         path_to_root, model_directory,\n\u001B[0;32m----> 6\u001B[0m                                         alpha\u001B[38;5;241m=\u001B[39m\u001B[43mgetOptimalAlpha\u001B[49m\u001B[43m(\u001B[49m\u001B[43mprefix\u001B[49m\u001B[43m \u001B[49m\u001B[38;5;241;43m+\u001B[39;49m\u001B[43m \u001B[49m\u001B[43mdataset_name\u001B[49m\u001B[43m,\u001B[49m\u001B[43m \u001B[49m\u001B[43mpipeline_name\u001B[49m\u001B[43m)\u001B[49m)\n",
      "File \u001B[0;32m~/anistor-Neural-ranking-models/experiment_utils/experiments_helper.py:293\u001B[0m, in \u001B[0;36mgetOptimalAlpha\u001B[0;34m(dataset_name, pipeline_name)\u001B[0m\n\u001B[1;32m    292\u001B[0m \u001B[38;5;28;01mdef\u001B[39;00m \u001B[38;5;21mgetOptimalAlpha\u001B[39m(dataset_name, pipeline_name):\n\u001B[0;32m--> 293\u001B[0m     experiment_name \u001B[38;5;241m=\u001B[39m \u001B[43mget_dataset_name\u001B[49m\u001B[43m(\u001B[49m\u001B[43mdataset_name\u001B[49m\u001B[43m)\u001B[49m\u001B[43m \u001B[49m\u001B[38;5;241;43m+\u001B[39;49m\u001B[43m \u001B[49m\u001B[38;5;124;43m\"\u001B[39;49m\u001B[38;5;124;43m: \u001B[39;49m\u001B[38;5;124;43m\"\u001B[39;49m \u001B[38;5;241m+\u001B[39m pipeline_name\n\u001B[1;32m    294\u001B[0m     \u001B[38;5;28mprint\u001B[39m(experiment_name)\n\u001B[1;32m    295\u001B[0m     path_to_root \u001B[38;5;241m=\u001B[39m os\u001B[38;5;241m.\u001B[39mpath\u001B[38;5;241m.\u001B[39mabspath(os\u001B[38;5;241m.\u001B[39mgetcwd())\n",
      "\u001B[0;31mTypeError\u001B[0m: unsupported operand type(s) for +: 'NoneType' and 'str'"
     ]
    }
   ],
   "source": [
    "dataset_name = \"fiqa\"\n",
    "measure_latency(dataset_name)"
   ],
   "metadata": {
    "collapsed": false
   }
  },
  {
   "cell_type": "code",
   "execution_count": 6,
   "outputs": [],
   "source": [
    "dataset_name = \"scifact\"\n",
    "measure_latency(dataset_name)"
   ],
   "metadata": {
    "collapsed": false
   }
  }
 ],
 "metadata": {
  "kernelspec": {
   "display_name": "Python 3",
   "language": "python",
   "name": "python3"
  },
  "language_info": {
   "codemirror_mode": {
    "name": "ipython",
    "version": 2
   },
   "file_extension": ".py",
   "mimetype": "text/x-python",
   "name": "python",
   "nbconvert_exporter": "python",
   "pygments_lexer": "ipython2",
   "version": "2.7.6"
  }
 },
 "nbformat": 4,
 "nbformat_minor": 0
}
