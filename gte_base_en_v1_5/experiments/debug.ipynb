{
 "cells": [
  {
   "cell_type": "code",
   "execution_count": 1,
   "outputs": [
    {
     "name": "stderr",
     "output_type": "stream",
     "text": [
      "PyTerrier 0.10.0 has loaded Terrier 5.9 (built by craigm on 2024-05-02 17:40) and terrier-helper 0.0.8\n",
      "\n",
      "No etc/terrier.properties, using terrier.default.properties for bootstrap configuration.\n"
     ]
    }
   ],
   "source": [
    "import pyterrier as pt\n",
    "\n",
    "if not pt.started():\n",
    "    pt.init()"
   ],
   "metadata": {
    "collapsed": false
   }
  },
  {
   "cell_type": "code",
   "execution_count": 2,
   "outputs": [],
   "source": [
    "from pyterrier.measures import RR, nDCG, MAP\n",
    "\n",
    "eval_metrics = [RR @ 10, nDCG @ 10, MAP @ 100]"
   ],
   "metadata": {
    "collapsed": false
   }
  },
  {
   "cell_type": "code",
   "execution_count": 3,
   "outputs": [],
   "source": [
    "from gte_base_en_encoder import GTEBaseDocumentEncoder\n",
    "\n",
    "q_encoder = GTEBaseDocumentEncoder(\"Alibaba-NLP/gte-base-en-v1.5\")\n"
   ],
   "metadata": {
    "collapsed": false
   }
  },
  {
   "cell_type": "markdown",
   "source": [
    "Showcase the error"
   ],
   "metadata": {
    "collapsed": false
   }
  },
  {
   "cell_type": "code",
   "execution_count": 4,
   "outputs": [
    {
     "name": "stderr",
     "output_type": "stream",
     "text": [
      "100%|██████████| 5136/5136 [00:00<00:00, 1339090.28it/s]\n",
      "no vectors for 195680777\n",
      "no vectors for 195689316\n",
      "no vectors for 144801076\n",
      "no vectors for 154243324\n",
      "no vectors for 121001457\n",
      "no vectors for 140098548\n",
      "no vectors for 109795294\n",
      "no vectors for 109946221\n",
      "no vectors for 145416918\n",
      "no vectors for 167944455\n",
      "no vectors for 146653163\n",
      "no vectors for 143868995\n",
      "no vectors for 154050141\n",
      "no vectors for 145716849\n",
      "no vectors for 153755807\n",
      "no vectors for 144555102\n",
      "no vectors for 126549848\n",
      "no vectors for 195683603\n",
      "no vectors for 167469018\n",
      "no vectors for 147107523\n",
      "no vectors for 129199129\n",
      "no vectors for 198309074\n",
      "no vectors for 104143831\n",
      "no vectors for 195689757\n",
      "no vectors for 168265642\n",
      "no vectors for 154549459\n",
      "no vectors for 116075383\n",
      "no vectors for 108886332\n",
      "no vectors for 143796742\n",
      "no vectors for 198133135\n",
      "no vectors for 195317463\n",
      "no vectors for 99829811\n",
      "no vectors for 145335387\n",
      "no vectors for 120385993\n",
      "no vectors for 116556376\n",
      "no vectors for 196664003\n",
      "no vectors for 154796494\n",
      "no vectors for 145383432\n",
      "no vectors for 154763124\n"
     ]
    },
    {
     "data": {
      "text/plain": "                       name    RR@10   nDCG@10    AP@100\n0  BM25 >> gte-base-en-v1.5  0.67003  0.709237  0.663934",
      "text/html": "<div>\n<style scoped>\n    .dataframe tbody tr th:only-of-type {\n        vertical-align: middle;\n    }\n\n    .dataframe tbody tr th {\n        vertical-align: top;\n    }\n\n    .dataframe thead th {\n        text-align: right;\n    }\n</style>\n<table border=\"1\" class=\"dataframe\">\n  <thead>\n    <tr style=\"text-align: right;\">\n      <th></th>\n      <th>name</th>\n      <th>RR@10</th>\n      <th>nDCG@10</th>\n      <th>AP@100</th>\n    </tr>\n  </thead>\n  <tbody>\n    <tr>\n      <th>0</th>\n      <td>BM25 &gt;&gt; gte-base-en-v1.5</td>\n      <td>0.67003</td>\n      <td>0.709237</td>\n      <td>0.663934</td>\n    </tr>\n  </tbody>\n</table>\n</div>"
     },
     "execution_count": 4,
     "metadata": {},
     "output_type": "execute_result"
    }
   ],
   "source": [
    "from experiments_helper import load_sparse_index_from_disk\n",
    "from experiments_helper import run_single_experiment_name\n",
    "from experiments_helper import load_dense_index_from_disk\n",
    "from fast_forward.util.pyterrier import FFScore\n",
    "from fast_forward.util.pyterrier import FFInterpolate\n",
    "\n",
    "dataset_name = \"scifact\"\n",
    "\n",
    "retriever = load_sparse_index_from_disk(dataset_name)\n",
    "\n",
    "dataset_test_name = \"irds:beir/scifact/test\"\n",
    "dense_index = load_dense_index_from_disk(dataset_name, q_encoder)\n",
    "\n",
    "ff_score = FFScore(dense_index)\n",
    "ff_int = FFInterpolate(alpha=0.05)\n",
    "\n",
    "pipeline = retriever % 100 >> ff_score >> ff_int\n",
    "run_single_experiment_name(pipeline, dataset_test_name, eval_metrics, \"BM25 >> gte-base-en-v1.5\")\n"
   ],
   "metadata": {
    "collapsed": false
   }
  },
  {
   "cell_type": "markdown",
   "source": [
    "Run sparse only"
   ],
   "metadata": {
    "collapsed": false
   }
  },
  {
   "cell_type": "code",
   "execution_count": 5,
   "outputs": [
    {
     "data": {
      "text/plain": "                       name     RR@10   nDCG@10    AP@100\n0  BM25 >> gte-base-en-v1.5  0.632427  0.672167  0.626749",
      "text/html": "<div>\n<style scoped>\n    .dataframe tbody tr th:only-of-type {\n        vertical-align: middle;\n    }\n\n    .dataframe tbody tr th {\n        vertical-align: top;\n    }\n\n    .dataframe thead th {\n        text-align: right;\n    }\n</style>\n<table border=\"1\" class=\"dataframe\">\n  <thead>\n    <tr style=\"text-align: right;\">\n      <th></th>\n      <th>name</th>\n      <th>RR@10</th>\n      <th>nDCG@10</th>\n      <th>AP@100</th>\n    </tr>\n  </thead>\n  <tbody>\n    <tr>\n      <th>0</th>\n      <td>BM25 &gt;&gt; gte-base-en-v1.5</td>\n      <td>0.632427</td>\n      <td>0.672167</td>\n      <td>0.626749</td>\n    </tr>\n  </tbody>\n</table>\n</div>"
     },
     "execution_count": 5,
     "metadata": {},
     "output_type": "execute_result"
    }
   ],
   "source": [
    "pipeline = retriever\n",
    "run_single_experiment_name(pipeline, dataset_test_name, eval_metrics, \"BM25 >> gte-base-en-v1.5\")"
   ],
   "metadata": {
    "collapsed": false
   }
  },
  {
   "cell_type": "code",
   "execution_count": null,
   "outputs": [],
   "source": [],
   "metadata": {
    "collapsed": false
   }
  }
 ],
 "metadata": {
  "kernelspec": {
   "display_name": "Python 3",
   "language": "python",
   "name": "python3"
  },
  "language_info": {
   "codemirror_mode": {
    "name": "ipython",
    "version": 2
   },
   "file_extension": ".py",
   "mimetype": "text/x-python",
   "name": "python",
   "nbconvert_exporter": "python",
   "pygments_lexer": "ipython2",
   "version": "2.7.6"
  }
 },
 "nbformat": 4,
 "nbformat_minor": 0
}
