{
 "cells": [
  {
   "cell_type": "code",
   "execution_count": 35,
   "metadata": {
    "collapsed": true
   },
   "outputs": [],
   "source": [
    "import pyterrier as pt\n",
    "\n",
    "if not pt.started():\n",
    "\n",
    "    pt.init(tqdm=\"notebook\")"
   ]
  },
  {
   "cell_type": "code",
   "execution_count": 36,
   "outputs": [],
   "source": [
    "dataset = pt.get_dataset(\"irds:beir/fiqa\")"
   ],
   "metadata": {
    "collapsed": false
   }
  },
  {
   "cell_type": "code",
   "execution_count": 37,
   "outputs": [],
   "source": [
    "index_path = \"./sparse_index_fiqa\"\n",
    "# Load index to memory\n",
    "index = pt.IndexFactory.of(index_path, memory=True)"
   ],
   "metadata": {
    "collapsed": false
   }
  },
  {
   "cell_type": "code",
   "execution_count": 38,
   "outputs": [],
   "source": [
    "bm25 = pt.BatchRetrieve(index, wmodel=\"BM25\")"
   ],
   "metadata": {
    "collapsed": false
   }
  },
  {
   "cell_type": "code",
   "execution_count": 39,
   "outputs": [],
   "source": [
    "testset = pt.get_dataset(\"irds:beir/fiqa/test\")"
   ],
   "metadata": {
    "collapsed": false
   }
  },
  {
   "cell_type": "code",
   "execution_count": 40,
   "outputs": [],
   "source": [
    "bm25 = bm25 % 100"
   ],
   "metadata": {
    "collapsed": false
   }
  },
  {
   "cell_type": "code",
   "execution_count": 41,
   "outputs": [],
   "source": [
    "first_stage_res = bm25.transform( testset.get_topics())"
   ],
   "metadata": {
    "collapsed": false
   }
  },
  {
   "cell_type": "code",
   "execution_count": 42,
   "outputs": [],
   "source": [
    "from fast_forward.encoder import TCTColBERTQueryEncoder, TCTColBERTDocumentEncoder\n",
    "import torch\n",
    "\n",
    "q_encoder = TCTColBERTQueryEncoder(\"castorini/tct_colbert-msmarco\")\n",
    "d_encoder = TCTColBERTDocumentEncoder(\n",
    "    \"castorini/tct_colbert-msmarco\",\n",
    "    device=\"cuda:0\" if torch.cuda.is_available() else \"cpu\",\n",
    ")"
   ],
   "metadata": {
    "collapsed": false
   }
  },
  {
   "cell_type": "code",
   "execution_count": 43,
   "outputs": [
    {
     "name": "stderr",
     "output_type": "stream",
     "text": [
      "100%|██████████| 57638/57638 [00:00<00:00, 144974.64it/s]\n"
     ]
    }
   ],
   "source": [
    "from fast_forward import OnDiskIndex, Mode\n",
    "from pathlib import Path\n",
    "\n",
    "ff_index = OnDiskIndex.load(\n",
    "    Path(\"./dense_index_fiqa_GTE-base/ffindex_fiqa_gte-base-en-v1.5.h5\"), query_encoder=q_encoder, mode=Mode.MAXP\n",
    ").to_memory()"
   ],
   "metadata": {
    "collapsed": false
   }
  },
  {
   "cell_type": "code",
   "execution_count": 44,
   "outputs": [],
   "source": [
    "from fast_forward.util.pyterrier import FFScore\n",
    "from fast_forward.util.pyterrier import FFInterpolate\n",
    "\n",
    "ff_score = FFScore(ff_index)\n",
    "ff_int = FFInterpolate(alpha=0.05) #added the optimal version from the beginning in order to avoid running GridsSearch again"
   ],
   "metadata": {
    "collapsed": false
   }
  },
  {
   "cell_type": "code",
   "execution_count": 45,
   "outputs": [],
   "source": [
    "reranking_stage = ff_score >> ff_int"
   ],
   "metadata": {
    "collapsed": false
   }
  },
  {
   "cell_type": "code",
   "execution_count": 46,
   "outputs": [],
   "source": [
    "def time_reranking():\n",
    "    reranking_stage.transform(first_stage_res)"
   ],
   "metadata": {
    "collapsed": false
   }
  },
  {
   "cell_type": "code",
   "execution_count": 47,
   "outputs": [
    {
     "name": "stdout",
     "output_type": "stream",
     "text": [
      "77.57979716499904\n"
     ]
    }
   ],
   "source": [
    "import timeit\n",
    "execution_time = timeit.timeit(time_reranking, number=3)\n",
    "print(execution_time)"
   ],
   "metadata": {
    "collapsed": false
   }
  },
  {
   "cell_type": "code",
   "execution_count": null,
   "outputs": [],
   "source": [],
   "metadata": {
    "collapsed": false
   }
  }
 ],
 "metadata": {
  "kernelspec": {
   "display_name": "Python 3",
   "language": "python",
   "name": "python3"
  },
  "language_info": {
   "codemirror_mode": {
    "name": "ipython",
    "version": 2
   },
   "file_extension": ".py",
   "mimetype": "text/x-python",
   "name": "python",
   "nbconvert_exporter": "python",
   "pygments_lexer": "ipython2",
   "version": "2.7.6"
  }
 },
 "nbformat": 4,
 "nbformat_minor": 0
}
