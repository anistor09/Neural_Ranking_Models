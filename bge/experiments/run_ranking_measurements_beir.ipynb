{
 "cells": [
  {
   "cell_type": "code",
   "execution_count": 1,
   "outputs": [
    {
     "name": "stderr",
     "output_type": "stream",
     "text": [
      "PyTerrier 0.10.0 has loaded Terrier 5.9 (built by craigm on 2024-05-02 17:40) and terrier-helper 0.0.8\n",
      "\n",
      "No etc/terrier.properties, using terrier.default.properties for bootstrap configuration.\n"
     ]
    }
   ],
   "source": [
    "import pyterrier as pt\n",
    "\n",
    "if not pt.started():\n",
    "    pt.init()"
   ],
   "metadata": {
    "collapsed": false
   }
  },
  {
   "cell_type": "markdown",
   "source": [
    "Evaluation metrics used for all the datasets"
   ],
   "metadata": {
    "collapsed": false
   }
  },
  {
   "cell_type": "code",
   "execution_count": 2,
   "outputs": [],
   "source": [
    "from encoders.bge_base_en import BgeQueryEncoder\n",
    "\n",
    "package = \"BAAI/\"\n",
    "model_name = \"bge-base-en-v1.5\"\n",
    "q_encoder = BgeQueryEncoder(package + model_name)"
   ],
   "metadata": {
    "collapsed": false
   }
  },
  {
   "cell_type": "code",
   "execution_count": 3,
   "outputs": [],
   "source": [
    "path_to_root = \"../../\""
   ],
   "metadata": {
    "collapsed": false
   }
  },
  {
   "cell_type": "code",
   "execution_count": 4,
   "outputs": [],
   "source": [
    "prefix = \"irds:beir/\"\n",
    "test_suffix = \"/test\"\n",
    "dataset_names = [\"fiqa\", \"nfcorpus\"]\n",
    "devset_sufixes = [\"/dev\", \"/dev\"]"
   ],
   "metadata": {
    "collapsed": false
   }
  },
  {
   "cell_type": "code",
   "execution_count": 5,
   "outputs": [
    {
     "name": "stderr",
     "output_type": "stream",
     "text": [
      "100%|██████████| 57638/57638 [00:00<00:00, 498999.52it/s]\n",
      "GridScan: 100%|██████████| 9/9 [03:21<00:00, 22.43s/it]\n"
     ]
    },
    {
     "name": "stdout",
     "output_type": "stream",
     "text": [
      "Best ndcg_cut.10 is 0.399899\n",
      "Best setting is ['<fast_forward_indexes_library_enhancements.pipeline_transformers.FFInterpolateNormalized object at 0x7f0f743f91e0> alpha=0.3']\n",
      "Experiment took 56.431 seconds to execute.\n",
      "irds:beir/fiqa DONE\n"
     ]
    },
    {
     "name": "stderr",
     "output_type": "stream",
     "text": [
      "100%|██████████| 3633/3633 [00:00<00:00, 1673759.49it/s]\n",
      "GridScan: 100%|██████████| 9/9 [01:07<00:00,  7.52s/it]\n"
     ]
    },
    {
     "name": "stdout",
     "output_type": "stream",
     "text": [
      "Best ndcg_cut.10 is 0.328104\n",
      "Best setting is ['<fast_forward_indexes_library_enhancements.pipeline_transformers.FFInterpolateNormalized object at 0x7f0e6efa5210> alpha=0.1']\n",
      "Experiment took 9.162 seconds to execute.\n",
      "irds:beir/nfcorpus DONE\n"
     ]
    },
    {
     "data": {
      "text/plain": "                                 name     RR@10   nDCG@10    AP@100  alpha\n0      fiqa: BM25 >> bge-base-en-v1.5  0.490088  0.410261  0.345201    0.3\n1  nfcorpus: BM25 >> bge-base-en-v1.5  0.576675  0.362320  0.168788    0.1",
      "text/html": "<div>\n<style scoped>\n    .dataframe tbody tr th:only-of-type {\n        vertical-align: middle;\n    }\n\n    .dataframe tbody tr th {\n        vertical-align: top;\n    }\n\n    .dataframe thead th {\n        text-align: right;\n    }\n</style>\n<table border=\"1\" class=\"dataframe\">\n  <thead>\n    <tr style=\"text-align: right;\">\n      <th></th>\n      <th>name</th>\n      <th>RR@10</th>\n      <th>nDCG@10</th>\n      <th>AP@100</th>\n      <th>alpha</th>\n    </tr>\n  </thead>\n  <tbody>\n    <tr>\n      <th>0</th>\n      <td>fiqa: BM25 &gt;&gt; bge-base-en-v1.5</td>\n      <td>0.490088</td>\n      <td>0.410261</td>\n      <td>0.345201</td>\n      <td>0.3</td>\n    </tr>\n    <tr>\n      <th>1</th>\n      <td>nfcorpus: BM25 &gt;&gt; bge-base-en-v1.5</td>\n      <td>0.576675</td>\n      <td>0.362320</td>\n      <td>0.168788</td>\n      <td>0.1</td>\n    </tr>\n  </tbody>\n</table>\n</div>"
     },
     "execution_count": 5,
     "metadata": {},
     "output_type": "execute_result"
    }
   ],
   "source": [
    "from experiment_utils.experiments_helper import run_pipeline_multiple_datasets_metrics\n",
    "\n",
    "run_pipeline_multiple_datasets_metrics([prefix + dataset for dataset in dataset_names],[prefix + dataset + test_suffix for dataset in dataset_names],\n",
    "                                       [prefix + dataset for dataset in [a + b for a, b in zip(dataset_names, devset_sufixes)]], q_encoder, model_name,\n",
    "                                       path_to_root)"
   ],
   "metadata": {
    "collapsed": false
   }
  },
  {
   "cell_type": "code",
   "execution_count": 6,
   "outputs": [
    {
     "data": {
      "text/plain": "0.1"
     },
     "execution_count": 6,
     "metadata": {},
     "output_type": "execute_result"
    }
   ],
   "source": [
    "import pandas as pd\n",
    "df = pd.read_csv('../results/ranking_metrics_alpha.csv')\n",
    "optimal_alpha = df[df['name'] == \"nfcorpus: BM25 >> bge-base-en-v1.5\"]['alpha'].iloc[0]\n",
    "optimal_alpha"
   ],
   "metadata": {
    "collapsed": false
   }
  },
  {
   "cell_type": "code",
   "execution_count": 5,
   "outputs": [
    {
     "data": {
      "text/plain": "'/home/anistor/anistor-Neural-ranking-models/bge'"
     },
     "execution_count": 5,
     "metadata": {},
     "output_type": "execute_result"
    }
   ],
   "source": [
    "import os\n",
    "# Get the current working directory\n",
    "current_directory = os.getcwd()\n",
    "\n",
    "# Get the absolute path of the current directory\n",
    "absolute_path = os.path.abspath(current_directory)\n",
    "\n",
    "# Use os.path.dirname to move up one directory level\n",
    "parent_directory = os.path.dirname( os.path.abspath(current_directory))\n",
    "parent_directory"
   ],
   "metadata": {
    "collapsed": false
   }
  },
  {
   "cell_type": "code",
   "execution_count": null,
   "outputs": [],
   "source": [],
   "metadata": {
    "collapsed": false
   }
  }
 ],
 "metadata": {
  "kernelspec": {
   "display_name": "Python 3",
   "language": "python",
   "name": "python3"
  },
  "language_info": {
   "codemirror_mode": {
    "name": "ipython",
    "version": 2
   },
   "file_extension": ".py",
   "mimetype": "text/x-python",
   "name": "python",
   "nbconvert_exporter": "python",
   "pygments_lexer": "ipython2",
   "version": "2.7.6"
  }
 },
 "nbformat": 4,
 "nbformat_minor": 0
}
