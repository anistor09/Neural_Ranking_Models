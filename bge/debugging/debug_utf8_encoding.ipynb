{
 "cells": [
  {
   "cell_type": "code",
   "execution_count": 1,
   "outputs": [],
   "source": [
    "from experiment_utils.experiments_helper import load_dense_index_from_disk, load_sparse_index_from_disk"
   ],
   "metadata": {
    "collapsed": false
   }
  },
  {
   "cell_type": "code",
   "execution_count": 2,
   "outputs": [
    {
     "name": "stderr",
     "output_type": "stream",
     "text": [
      "PyTerrier 0.10.0 has loaded Terrier 5.9 (built by craigm on 2024-05-02 17:40) and terrier-helper 0.0.8\n",
      "\n",
      "No etc/terrier.properties, using terrier.default.properties for bootstrap configuration.\n"
     ]
    }
   ],
   "source": [
    "import pyterrier as pt\n",
    "\n",
    "if not pt.started():\n",
    "    pt.init()"
   ],
   "metadata": {
    "collapsed": false
   }
  },
  {
   "cell_type": "code",
   "execution_count": 3,
   "outputs": [],
   "source": [
    "from pyterrier.measures import RR, nDCG, MAP\n",
    "\n",
    "eval_metrics = [RR @ 10, nDCG @ 10, MAP @ 100]"
   ],
   "metadata": {
    "collapsed": false
   }
  },
  {
   "cell_type": "code",
   "execution_count": 4,
   "outputs": [],
   "source": [
    "from encoders.bge_base_en import BgeEncoder\n",
    "\n",
    "package = \"BAAI/\"\n",
    "model_name = \"bge-base-en-v1.5\"\n",
    "q_encoder = BgeEncoder(package + model_name)\n",
    "model_directory = 'bge'\n",
    "path_to_root = \"../../\"\n",
    "pipeline_name = \"BM25 >> \" + model_name"
   ],
   "metadata": {
    "collapsed": false
   }
  },
  {
   "cell_type": "code",
   "execution_count": 5,
   "outputs": [
    {
     "name": "stderr",
     "output_type": "stream",
     "text": [
      "100%|██████████| 5416568/5416568 [00:07<00:00, 766045.51it/s] \n"
     ]
    }
   ],
   "source": [
    "from experiment_utils.experiments_helper import get_test_dev_sets\n",
    "from fast_forward.util.pyterrier import FFScore\n",
    "from fast_forward_indexes_library_enhancements.pipeline_transformers import FFInterpolateNormalized, EncodeUTF\n",
    "\n",
    "dataset_name = \"irds:beir/fever\"\n",
    "dev_set_name = \"irds:beir/fever/dev\"\n",
    "dataset_test_name = \"irds:beir/fever/test\"\n",
    "pipeline_name = \"BM25 >> \" + model_name\n",
    "\n",
    "test_topics, test_qrels, dev_topics, dev_qrels = get_test_dev_sets(dataset_test_name, dev_set_name)\n",
    "\n",
    "# Spare index\n",
    "retriever = load_sparse_index_from_disk(dataset_name, path_to_root, in_memory=True)\n",
    "\n",
    "# Dense index\n",
    "dense_index = load_dense_index_from_disk(dataset_name, q_encoder, model_name, path_to_root, model_directory,\n",
    "                                         in_memory=False)\n",
    "\n",
    "# test_topics = test_topics.sample(frac=0.02, random_state=42)\n",
    "\n",
    "ff_score = FFScore(dense_index)\n",
    "# ff_int = FFInterpolate(alpha=alpha)\n",
    "ff_int = FFInterpolateNormalized(alpha=0.3)\n",
    "\n",
    "encode_utf = EncodeUTF()\n",
    "\n",
    "pipeline2 = retriever >> encode_utf\n"
   ],
   "metadata": {
    "collapsed": false
   }
  },
  {
   "cell_type": "code",
   "execution_count": 6,
   "outputs": [
    {
     "data": {
      "text/plain": "            qid    docid                           docno  rank      score  \\\n0        163803  5091106  Ukraine_and_the_United_Nations     0  49.160246   \n1        163803  1837460    Foreign_relations_of_Belarus     1  49.055587   \n2        163803  5025366              Ukrainian_Republic     2  47.396605   \n3        163803  5010017     Ukrainian_People's_Republic     3  46.124616   \n4        163803  5082311           USSR_(disambiguation)     4  44.123760   \n...         ...      ...                             ...   ...        ...   \n6660073   81957   501720                    Ananda_Lewis   995  15.888367   \n6660074   81957  1509524                   E._Roger_Muir   996  15.888367   \n6660075   81957  1729375         Farma_(Czech_TV_series)   997  15.888367   \n6660076   81957  1927868                        Go'kväll   998  15.888367   \n6660077   81957  3043468                    Lukas_Reiter   999  15.888367   \n\n                                                     query  \n0        ukrainian soviet socialist republic was a foun...  \n1        ukrainian soviet socialist republic was a foun...  \n2        ukrainian soviet socialist republic was a foun...  \n3        ukrainian soviet socialist republic was a foun...  \n4        ukrainian soviet socialist republic was a foun...  \n...                                                    ...  \n6660073        trouble with the curve is a television show  \n6660074        trouble with the curve is a television show  \n6660075        trouble with the curve is a television show  \n6660076        trouble with the curve is a television show  \n6660077        trouble with the curve is a television show  \n\n[6660078 rows x 6 columns]",
      "text/html": "<div>\n<style scoped>\n    .dataframe tbody tr th:only-of-type {\n        vertical-align: middle;\n    }\n\n    .dataframe tbody tr th {\n        vertical-align: top;\n    }\n\n    .dataframe thead th {\n        text-align: right;\n    }\n</style>\n<table border=\"1\" class=\"dataframe\">\n  <thead>\n    <tr style=\"text-align: right;\">\n      <th></th>\n      <th>qid</th>\n      <th>docid</th>\n      <th>docno</th>\n      <th>rank</th>\n      <th>score</th>\n      <th>query</th>\n    </tr>\n  </thead>\n  <tbody>\n    <tr>\n      <th>0</th>\n      <td>163803</td>\n      <td>5091106</td>\n      <td>Ukraine_and_the_United_Nations</td>\n      <td>0</td>\n      <td>49.160246</td>\n      <td>ukrainian soviet socialist republic was a foun...</td>\n    </tr>\n    <tr>\n      <th>1</th>\n      <td>163803</td>\n      <td>1837460</td>\n      <td>Foreign_relations_of_Belarus</td>\n      <td>1</td>\n      <td>49.055587</td>\n      <td>ukrainian soviet socialist republic was a foun...</td>\n    </tr>\n    <tr>\n      <th>2</th>\n      <td>163803</td>\n      <td>5025366</td>\n      <td>Ukrainian_Republic</td>\n      <td>2</td>\n      <td>47.396605</td>\n      <td>ukrainian soviet socialist republic was a foun...</td>\n    </tr>\n    <tr>\n      <th>3</th>\n      <td>163803</td>\n      <td>5010017</td>\n      <td>Ukrainian_People's_Republic</td>\n      <td>3</td>\n      <td>46.124616</td>\n      <td>ukrainian soviet socialist republic was a foun...</td>\n    </tr>\n    <tr>\n      <th>4</th>\n      <td>163803</td>\n      <td>5082311</td>\n      <td>USSR_(disambiguation)</td>\n      <td>4</td>\n      <td>44.123760</td>\n      <td>ukrainian soviet socialist republic was a foun...</td>\n    </tr>\n    <tr>\n      <th>...</th>\n      <td>...</td>\n      <td>...</td>\n      <td>...</td>\n      <td>...</td>\n      <td>...</td>\n      <td>...</td>\n    </tr>\n    <tr>\n      <th>6660073</th>\n      <td>81957</td>\n      <td>501720</td>\n      <td>Ananda_Lewis</td>\n      <td>995</td>\n      <td>15.888367</td>\n      <td>trouble with the curve is a television show</td>\n    </tr>\n    <tr>\n      <th>6660074</th>\n      <td>81957</td>\n      <td>1509524</td>\n      <td>E._Roger_Muir</td>\n      <td>996</td>\n      <td>15.888367</td>\n      <td>trouble with the curve is a television show</td>\n    </tr>\n    <tr>\n      <th>6660075</th>\n      <td>81957</td>\n      <td>1729375</td>\n      <td>Farma_(Czech_TV_series)</td>\n      <td>997</td>\n      <td>15.888367</td>\n      <td>trouble with the curve is a television show</td>\n    </tr>\n    <tr>\n      <th>6660076</th>\n      <td>81957</td>\n      <td>1927868</td>\n      <td>Go'kväll</td>\n      <td>998</td>\n      <td>15.888367</td>\n      <td>trouble with the curve is a television show</td>\n    </tr>\n    <tr>\n      <th>6660077</th>\n      <td>81957</td>\n      <td>3043468</td>\n      <td>Lukas_Reiter</td>\n      <td>999</td>\n      <td>15.888367</td>\n      <td>trouble with the curve is a television show</td>\n    </tr>\n  </tbody>\n</table>\n<p>6660078 rows × 6 columns</p>\n</div>"
     },
     "execution_count": 6,
     "metadata": {},
     "output_type": "execute_result"
    }
   ],
   "source": [
    "df1 = pipeline2(test_topics)\n",
    "df1"
   ],
   "metadata": {
    "collapsed": false
   }
  },
  {
   "cell_type": "code",
   "execution_count": 8,
   "outputs": [
    {
     "name": "stderr",
     "output_type": "stream",
     "text": [
      "100%|██████████| 4635922/4635922 [00:17<00:00, 262456.59it/s] \n"
     ]
    }
   ],
   "source": [
    "from experiment_utils.experiments_helper import get_test_dev_sets\n",
    "from fast_forward.util.pyterrier import FFScore\n",
    "from fast_forward_indexes_library_enhancements.pipeline_transformers import FFInterpolateNormalized, EncodeUTF\n",
    "\n",
    "from encoders.snowflake_arctic_embed_m import SnowFlakeQueryEncoder\n",
    "\n",
    "package = \"Snowflake/\"\n",
    "model_name = \"snowflake-arctic-embed-xs\"\n",
    "q_encoder = SnowFlakeQueryEncoder(package + model_name)\n",
    "model_directory = \"snowflake\"\n",
    "\n",
    "dataset_name = \"irds:beir/dbpedia-entity\"\n",
    "dev_set_name = \"irds:beir/dbpedia-entity/dev\"\n",
    "dataset_test_name = \"irds:beir/dbpedia-entity/test\"\n",
    "pipeline_name = \"BM25 >> \" + model_name\n",
    "\n",
    "test_topics, test_qrels, dev_topics, dev_qrels = get_test_dev_sets(dataset_test_name, dev_set_name)\n",
    "\n",
    "# Spare index\n",
    "retriever = load_sparse_index_from_disk(dataset_name, path_to_root, in_memory=True)\n",
    "\n",
    "# Dense index\n",
    "dense_index = load_dense_index_from_disk(dataset_name, q_encoder, model_name, path_to_root, model_directory,\n",
    "                                         in_memory=False)\n",
    "\n",
    "# test_topics = test_topics.sample(frac=0.02, random_state=42)\n",
    "\n",
    "ff_score = FFScore(dense_index)\n",
    "# ff_int = FFInterpolate(alpha=alpha)\n",
    "ff_int = FFInterpolateNormalized(alpha=0.3)\n",
    "\n",
    "encode_utf = EncodeUTF()\n",
    "\n",
    "pipeline2 = retriever >> encode_utf\n"
   ],
   "metadata": {
    "collapsed": false
   }
  },
  {
   "cell_type": "code",
   "execution_count": 9,
   "outputs": [
    {
     "data": {
      "text/plain": "                     qid    docid  \\\n0       INEX_LD-20120111   608628   \n1       INEX_LD-20120111   798656   \n2       INEX_LD-20120111  3184291   \n3       INEX_LD-20120111  3184310   \n4       INEX_LD-20120111  2007656   \n...                  ...      ...   \n396711    TREC_Entity-20  1182310   \n396712    TREC_Entity-20  2436093   \n396713    TREC_Entity-20  2646523   \n396714    TREC_Entity-20  3021099   \n396715    TREC_Entity-20  3353784   \n\n                                                   docno  rank      score  \\\n0                                      <dbpedia:R-Point>     0  25.479739   \n1                           <dbpedia:Heroes_(1977_film)>     1  24.629708   \n2                         <dbpedia:Coordinates_of_Death>     2  24.628593   \n3                       <dbpedia:The_Land_of_Vietnamese>     3  24.231664   \n4               <dbpedia:Terminology_of_the_Vietnam_War>     4  23.920315   \n...                                                  ...   ...        ...   \n396711       <dbpedia:Nick_Smith_(footballer_born_1988)>   995  12.910099   \n396712                         <dbpedia:Middleton_Lodge>   996  12.910099   \n396713  <dbpedia:Peace_Be_Still_(James_Cleveland_album)>   997  12.910099   \n396714      <dbpedia:Scots_Charitable_Society_of_Boston>   998  12.910099   \n396715                           <dbpedia:George_Halket>   999  12.910099   \n\n                                                    query  \n0                                       vietnam war movie  \n1                                       vietnam war movie  \n2                                       vietnam war movie  \n3                                       vietnam war movie  \n4                                       vietnam war movie  \n...                                                   ...  \n396711  scotch whisky distilleries on the island of islay  \n396712  scotch whisky distilleries on the island of islay  \n396713  scotch whisky distilleries on the island of islay  \n396714  scotch whisky distilleries on the island of islay  \n396715  scotch whisky distilleries on the island of islay  \n\n[396716 rows x 6 columns]",
      "text/html": "<div>\n<style scoped>\n    .dataframe tbody tr th:only-of-type {\n        vertical-align: middle;\n    }\n\n    .dataframe tbody tr th {\n        vertical-align: top;\n    }\n\n    .dataframe thead th {\n        text-align: right;\n    }\n</style>\n<table border=\"1\" class=\"dataframe\">\n  <thead>\n    <tr style=\"text-align: right;\">\n      <th></th>\n      <th>qid</th>\n      <th>docid</th>\n      <th>docno</th>\n      <th>rank</th>\n      <th>score</th>\n      <th>query</th>\n    </tr>\n  </thead>\n  <tbody>\n    <tr>\n      <th>0</th>\n      <td>INEX_LD-20120111</td>\n      <td>608628</td>\n      <td>&lt;dbpedia:R-Point&gt;</td>\n      <td>0</td>\n      <td>25.479739</td>\n      <td>vietnam war movie</td>\n    </tr>\n    <tr>\n      <th>1</th>\n      <td>INEX_LD-20120111</td>\n      <td>798656</td>\n      <td>&lt;dbpedia:Heroes_(1977_film)&gt;</td>\n      <td>1</td>\n      <td>24.629708</td>\n      <td>vietnam war movie</td>\n    </tr>\n    <tr>\n      <th>2</th>\n      <td>INEX_LD-20120111</td>\n      <td>3184291</td>\n      <td>&lt;dbpedia:Coordinates_of_Death&gt;</td>\n      <td>2</td>\n      <td>24.628593</td>\n      <td>vietnam war movie</td>\n    </tr>\n    <tr>\n      <th>3</th>\n      <td>INEX_LD-20120111</td>\n      <td>3184310</td>\n      <td>&lt;dbpedia:The_Land_of_Vietnamese&gt;</td>\n      <td>3</td>\n      <td>24.231664</td>\n      <td>vietnam war movie</td>\n    </tr>\n    <tr>\n      <th>4</th>\n      <td>INEX_LD-20120111</td>\n      <td>2007656</td>\n      <td>&lt;dbpedia:Terminology_of_the_Vietnam_War&gt;</td>\n      <td>4</td>\n      <td>23.920315</td>\n      <td>vietnam war movie</td>\n    </tr>\n    <tr>\n      <th>...</th>\n      <td>...</td>\n      <td>...</td>\n      <td>...</td>\n      <td>...</td>\n      <td>...</td>\n      <td>...</td>\n    </tr>\n    <tr>\n      <th>396711</th>\n      <td>TREC_Entity-20</td>\n      <td>1182310</td>\n      <td>&lt;dbpedia:Nick_Smith_(footballer_born_1988)&gt;</td>\n      <td>995</td>\n      <td>12.910099</td>\n      <td>scotch whisky distilleries on the island of islay</td>\n    </tr>\n    <tr>\n      <th>396712</th>\n      <td>TREC_Entity-20</td>\n      <td>2436093</td>\n      <td>&lt;dbpedia:Middleton_Lodge&gt;</td>\n      <td>996</td>\n      <td>12.910099</td>\n      <td>scotch whisky distilleries on the island of islay</td>\n    </tr>\n    <tr>\n      <th>396713</th>\n      <td>TREC_Entity-20</td>\n      <td>2646523</td>\n      <td>&lt;dbpedia:Peace_Be_Still_(James_Cleveland_album)&gt;</td>\n      <td>997</td>\n      <td>12.910099</td>\n      <td>scotch whisky distilleries on the island of islay</td>\n    </tr>\n    <tr>\n      <th>396714</th>\n      <td>TREC_Entity-20</td>\n      <td>3021099</td>\n      <td>&lt;dbpedia:Scots_Charitable_Society_of_Boston&gt;</td>\n      <td>998</td>\n      <td>12.910099</td>\n      <td>scotch whisky distilleries on the island of islay</td>\n    </tr>\n    <tr>\n      <th>396715</th>\n      <td>TREC_Entity-20</td>\n      <td>3353784</td>\n      <td>&lt;dbpedia:George_Halket&gt;</td>\n      <td>999</td>\n      <td>12.910099</td>\n      <td>scotch whisky distilleries on the island of islay</td>\n    </tr>\n  </tbody>\n</table>\n<p>396716 rows × 6 columns</p>\n</div>"
     },
     "execution_count": 9,
     "metadata": {},
     "output_type": "execute_result"
    }
   ],
   "source": [
    "df1 = pipeline2(test_topics)\n",
    "df1"
   ],
   "metadata": {
    "collapsed": false
   }
  },
  {
   "cell_type": "code",
   "execution_count": 10,
   "outputs": [
    {
     "name": "stdout",
     "output_type": "stream",
     "text": [
      "b'Suzukake_no_Ki_no_Michi_de_\"Kimi_no_Hohoemi_o_Yume_ni_Miru\"_to_Itte_Shimattara_Bokutachi_no_Kankei_wa_D\\xc5\\x8d_Kawatte_Shimau_no_ka,_Bokunari_ni_Nannichi_ka_Kangaeta_Ue_de_no_Yaya_Kihazukashii_Ketsuron_no_Y\\xc5\\x8d_na\n"
     ]
    },
    {
     "ename": "SyntaxError",
     "evalue": "unterminated string literal (detected at line 1) (<unknown>, line 1)",
     "output_type": "error",
     "traceback": [
      "Traceback \u001B[0;36m(most recent call last)\u001B[0m:\n",
      "\u001B[0m  File \u001B[1;32m/usr/local/lib/python3.10/dist-packages/IPython/core/interactiveshell.py:3577\u001B[0m in \u001B[1;35mrun_code\u001B[0m\n    exec(code_obj, self.user_global_ns, self.user_ns)\u001B[0m\n",
      "\u001B[0m  Cell \u001B[1;32mIn[10], line 7\u001B[0m\n    z = ast.literal_eval(y).decode(\"utf-8\")\u001B[0m\n",
      "\u001B[0m  File \u001B[1;32m/usr/lib/python3.10/ast.py:64\u001B[0m in \u001B[1;35mliteral_eval\u001B[0m\n    node_or_string = parse(node_or_string.lstrip(\" \\t\"), mode='eval')\u001B[0m\n",
      "\u001B[0;36m  File \u001B[0;32m/usr/lib/python3.10/ast.py:50\u001B[0;36m in \u001B[0;35mparse\u001B[0;36m\n\u001B[0;31m    return compile(source, filename, mode, flags,\u001B[0;36m\n",
      "\u001B[0;36m  File \u001B[0;32m<unknown>:1\u001B[0;36m\u001B[0m\n\u001B[0;31m    b'Suzukake_no_Ki_no_Michi_de_\"Kimi_no_Hohoemi_o_Yume_ni_Miru\"_to_Itte_Shimattara_Bokutachi_no_Kankei_wa_D\\xc5\\x8d_Kawatte_Shimau_no_ka,_Bokunari_ni_Nannichi_ka_Kangaeta_Ue_de_no_Yaya_Kihazukashii_Ketsuron_no_Y\\xc5\\x8d_na\u001B[0m\n\u001B[0m    ^\u001B[0m\n\u001B[0;31mSyntaxError\u001B[0m\u001B[0;31m:\u001B[0m unterminated string literal (detected at line 1)\n"
     ]
    }
   ],
   "source": [
    "import ast\n",
    "\n",
    "filtered_rows = df1[df1['docno'].str.contains('Suzukake')]['docno'].iloc[0]\n",
    "\n",
    "# Printing the filtered rows\n",
    "y = filtered_rows\n",
    "print(y)\n",
    "z = ast.literal_eval(y).decode(\"utf-8\")\n",
    "z"
   ],
   "metadata": {
    "collapsed": false
   }
  },
  {
   "cell_type": "code",
   "execution_count": 11,
   "outputs": [
    {
     "data": {
      "text/plain": "       qid    docid                           docno  rank      score  \\\n0   125440  4614283  b'Stomp_the_Yard_(soundtrack)'     0  36.388773   \n1   125440  4601990               b'Stomp_the_Yard'     1  35.434146   \n2   125440  1099148               b'Collins_Pennie'     2  32.134281   \n3   125440  4552761   b'Stomp_the_Yard:_Homecoming'     3  29.729887   \n4   125440  2153633               b'Harry_Shum_Jr.'     4  26.950157   \n..     ...      ...                             ...   ...        ...   \n95  125440  4489570             b'Spiers_and_Boden'    95  17.940394   \n96  125440  4599706              b'Sustain_(album)'    96  17.940394   \n97  125440   597033           b'Arthur_Whittington'    97  17.923718   \n98  125440  2609731                   b'Kenny_Mims'    98  17.902330   \n99  125440  2841542  b\"Let's_Go_(Trick_Daddy_song)\"    99  17.874469   \n\n                                             query  \n0   stomp the yard has meagan good in a minor role  \n1   stomp the yard has meagan good in a minor role  \n2   stomp the yard has meagan good in a minor role  \n3   stomp the yard has meagan good in a minor role  \n4   stomp the yard has meagan good in a minor role  \n..                                             ...  \n95  stomp the yard has meagan good in a minor role  \n96  stomp the yard has meagan good in a minor role  \n97  stomp the yard has meagan good in a minor role  \n98  stomp the yard has meagan good in a minor role  \n99  stomp the yard has meagan good in a minor role  \n\n[100 rows x 6 columns]",
      "text/html": "<div>\n<style scoped>\n    .dataframe tbody tr th:only-of-type {\n        vertical-align: middle;\n    }\n\n    .dataframe tbody tr th {\n        vertical-align: top;\n    }\n\n    .dataframe thead th {\n        text-align: right;\n    }\n</style>\n<table border=\"1\" class=\"dataframe\">\n  <thead>\n    <tr style=\"text-align: right;\">\n      <th></th>\n      <th>qid</th>\n      <th>docid</th>\n      <th>docno</th>\n      <th>rank</th>\n      <th>score</th>\n      <th>query</th>\n    </tr>\n  </thead>\n  <tbody>\n    <tr>\n      <th>0</th>\n      <td>125440</td>\n      <td>4614283</td>\n      <td>b'Stomp_the_Yard_(soundtrack)'</td>\n      <td>0</td>\n      <td>36.388773</td>\n      <td>stomp the yard has meagan good in a minor role</td>\n    </tr>\n    <tr>\n      <th>1</th>\n      <td>125440</td>\n      <td>4601990</td>\n      <td>b'Stomp_the_Yard'</td>\n      <td>1</td>\n      <td>35.434146</td>\n      <td>stomp the yard has meagan good in a minor role</td>\n    </tr>\n    <tr>\n      <th>2</th>\n      <td>125440</td>\n      <td>1099148</td>\n      <td>b'Collins_Pennie'</td>\n      <td>2</td>\n      <td>32.134281</td>\n      <td>stomp the yard has meagan good in a minor role</td>\n    </tr>\n    <tr>\n      <th>3</th>\n      <td>125440</td>\n      <td>4552761</td>\n      <td>b'Stomp_the_Yard:_Homecoming'</td>\n      <td>3</td>\n      <td>29.729887</td>\n      <td>stomp the yard has meagan good in a minor role</td>\n    </tr>\n    <tr>\n      <th>4</th>\n      <td>125440</td>\n      <td>2153633</td>\n      <td>b'Harry_Shum_Jr.'</td>\n      <td>4</td>\n      <td>26.950157</td>\n      <td>stomp the yard has meagan good in a minor role</td>\n    </tr>\n    <tr>\n      <th>...</th>\n      <td>...</td>\n      <td>...</td>\n      <td>...</td>\n      <td>...</td>\n      <td>...</td>\n      <td>...</td>\n    </tr>\n    <tr>\n      <th>95</th>\n      <td>125440</td>\n      <td>4489570</td>\n      <td>b'Spiers_and_Boden'</td>\n      <td>95</td>\n      <td>17.940394</td>\n      <td>stomp the yard has meagan good in a minor role</td>\n    </tr>\n    <tr>\n      <th>96</th>\n      <td>125440</td>\n      <td>4599706</td>\n      <td>b'Sustain_(album)'</td>\n      <td>96</td>\n      <td>17.940394</td>\n      <td>stomp the yard has meagan good in a minor role</td>\n    </tr>\n    <tr>\n      <th>97</th>\n      <td>125440</td>\n      <td>597033</td>\n      <td>b'Arthur_Whittington'</td>\n      <td>97</td>\n      <td>17.923718</td>\n      <td>stomp the yard has meagan good in a minor role</td>\n    </tr>\n    <tr>\n      <th>98</th>\n      <td>125440</td>\n      <td>2609731</td>\n      <td>b'Kenny_Mims'</td>\n      <td>98</td>\n      <td>17.902330</td>\n      <td>stomp the yard has meagan good in a minor role</td>\n    </tr>\n    <tr>\n      <th>99</th>\n      <td>125440</td>\n      <td>2841542</td>\n      <td>b\"Let's_Go_(Trick_Daddy_song)\"</td>\n      <td>99</td>\n      <td>17.874469</td>\n      <td>stomp the yard has meagan good in a minor role</td>\n    </tr>\n  </tbody>\n</table>\n<p>100 rows × 6 columns</p>\n</div>"
     },
     "execution_count": 11,
     "metadata": {},
     "output_type": "execute_result"
    }
   ],
   "source": [
    "df2 = (retriever % 100 >> encode_utf)(test_topics)\n",
    "df2"
   ],
   "metadata": {
    "collapsed": false
   }
  },
  {
   "cell_type": "code",
   "execution_count": 16,
   "outputs": [
    {
     "name": "stdout",
     "output_type": "stream",
     "text": [
      "       qid    docid     docno  rank      score  \\\n",
      "16  125440  1171956  Co_Stomp    16  22.429014   \n",
      "\n",
      "                                             query  \n",
      "16  stomp the yard has meagan good in a minor role  \n"
     ]
    }
   ],
   "source": [
    "row = df1[df1['docno'] == 'Co_Stomp']\n",
    "print(row)"
   ],
   "metadata": {
    "collapsed": false
   }
  },
  {
   "cell_type": "code",
   "execution_count": 17,
   "outputs": [
    {
     "name": "stdout",
     "output_type": "stream",
     "text": [
      "b'Co_Stomp'\n"
     ]
    }
   ],
   "source": [
    "print('Co_Stomp'.encode(\"utf-8\"))"
   ],
   "metadata": {
    "collapsed": false
   }
  },
  {
   "cell_type": "code",
   "execution_count": 20,
   "outputs": [
    {
     "data": {
      "text/plain": "       qid    docid                           docno  rank      score  \\\n0   125440  4614283  b'Stomp_the_Yard_(soundtrack)'     0  36.388773   \n1   125440  4601990               b'Stomp_the_Yard'     1  35.434146   \n2   125440  1099148               b'Collins_Pennie'     2  32.134281   \n3   125440  4552761   b'Stomp_the_Yard:_Homecoming'     3  29.729887   \n4   125440  2153633               b'Harry_Shum_Jr.'     4  26.950157   \n..     ...      ...                             ...   ...        ...   \n95  125440  4489570             b'Spiers_and_Boden'    95  17.940394   \n96  125440  4599706              b'Sustain_(album)'    96  17.940394   \n97  125440   597033           b'Arthur_Whittington'    97  17.923718   \n98  125440  2609731                   b'Kenny_Mims'    98  17.902330   \n99  125440  2841542  b\"Let's_Go_(Trick_Daddy_song)\"    99  17.874469   \n\n                                             query  \n0   stomp the yard has meagan good in a minor role  \n1   stomp the yard has meagan good in a minor role  \n2   stomp the yard has meagan good in a minor role  \n3   stomp the yard has meagan good in a minor role  \n4   stomp the yard has meagan good in a minor role  \n..                                             ...  \n95  stomp the yard has meagan good in a minor role  \n96  stomp the yard has meagan good in a minor role  \n97  stomp the yard has meagan good in a minor role  \n98  stomp the yard has meagan good in a minor role  \n99  stomp the yard has meagan good in a minor role  \n\n[100 rows x 6 columns]",
      "text/html": "<div>\n<style scoped>\n    .dataframe tbody tr th:only-of-type {\n        vertical-align: middle;\n    }\n\n    .dataframe tbody tr th {\n        vertical-align: top;\n    }\n\n    .dataframe thead th {\n        text-align: right;\n    }\n</style>\n<table border=\"1\" class=\"dataframe\">\n  <thead>\n    <tr style=\"text-align: right;\">\n      <th></th>\n      <th>qid</th>\n      <th>docid</th>\n      <th>docno</th>\n      <th>rank</th>\n      <th>score</th>\n      <th>query</th>\n    </tr>\n  </thead>\n  <tbody>\n    <tr>\n      <th>0</th>\n      <td>125440</td>\n      <td>4614283</td>\n      <td>b'Stomp_the_Yard_(soundtrack)'</td>\n      <td>0</td>\n      <td>36.388773</td>\n      <td>stomp the yard has meagan good in a minor role</td>\n    </tr>\n    <tr>\n      <th>1</th>\n      <td>125440</td>\n      <td>4601990</td>\n      <td>b'Stomp_the_Yard'</td>\n      <td>1</td>\n      <td>35.434146</td>\n      <td>stomp the yard has meagan good in a minor role</td>\n    </tr>\n    <tr>\n      <th>2</th>\n      <td>125440</td>\n      <td>1099148</td>\n      <td>b'Collins_Pennie'</td>\n      <td>2</td>\n      <td>32.134281</td>\n      <td>stomp the yard has meagan good in a minor role</td>\n    </tr>\n    <tr>\n      <th>3</th>\n      <td>125440</td>\n      <td>4552761</td>\n      <td>b'Stomp_the_Yard:_Homecoming'</td>\n      <td>3</td>\n      <td>29.729887</td>\n      <td>stomp the yard has meagan good in a minor role</td>\n    </tr>\n    <tr>\n      <th>4</th>\n      <td>125440</td>\n      <td>2153633</td>\n      <td>b'Harry_Shum_Jr.'</td>\n      <td>4</td>\n      <td>26.950157</td>\n      <td>stomp the yard has meagan good in a minor role</td>\n    </tr>\n    <tr>\n      <th>...</th>\n      <td>...</td>\n      <td>...</td>\n      <td>...</td>\n      <td>...</td>\n      <td>...</td>\n      <td>...</td>\n    </tr>\n    <tr>\n      <th>95</th>\n      <td>125440</td>\n      <td>4489570</td>\n      <td>b'Spiers_and_Boden'</td>\n      <td>95</td>\n      <td>17.940394</td>\n      <td>stomp the yard has meagan good in a minor role</td>\n    </tr>\n    <tr>\n      <th>96</th>\n      <td>125440</td>\n      <td>4599706</td>\n      <td>b'Sustain_(album)'</td>\n      <td>96</td>\n      <td>17.940394</td>\n      <td>stomp the yard has meagan good in a minor role</td>\n    </tr>\n    <tr>\n      <th>97</th>\n      <td>125440</td>\n      <td>597033</td>\n      <td>b'Arthur_Whittington'</td>\n      <td>97</td>\n      <td>17.923718</td>\n      <td>stomp the yard has meagan good in a minor role</td>\n    </tr>\n    <tr>\n      <th>98</th>\n      <td>125440</td>\n      <td>2609731</td>\n      <td>b'Kenny_Mims'</td>\n      <td>98</td>\n      <td>17.902330</td>\n      <td>stomp the yard has meagan good in a minor role</td>\n    </tr>\n    <tr>\n      <th>99</th>\n      <td>125440</td>\n      <td>2841542</td>\n      <td>b\"Let's_Go_(Trick_Daddy_song)\"</td>\n      <td>99</td>\n      <td>17.874469</td>\n      <td>stomp the yard has meagan good in a minor role</td>\n    </tr>\n  </tbody>\n</table>\n<p>100 rows × 6 columns</p>\n</div>"
     },
     "execution_count": 20,
     "metadata": {},
     "output_type": "execute_result"
    }
   ],
   "source": [
    "df2 = pipeline2(test_topics)\n",
    "df2"
   ],
   "metadata": {
    "collapsed": false
   }
  },
  {
   "cell_type": "code",
   "execution_count": 21,
   "outputs": [
    {
     "name": "stdout",
     "output_type": "stream",
     "text": [
      "       qid    docid        docno  rank      score  \\\n",
      "16  125440  1171956  b'Co_Stomp'    16  22.429014   \n",
      "\n",
      "                                             query  \n",
      "16  stomp the yard has meagan good in a minor role  \n"
     ]
    }
   ],
   "source": [
    "row = df2[df2['docno'] == 'Co_Stomp'.encode(\"utf-8\")]\n",
    "print(row)"
   ],
   "metadata": {
    "collapsed": false
   }
  },
  {
   "cell_type": "code",
   "execution_count": 22,
   "outputs": [],
   "source": [
    "pipeline3 = retriever % 100 >> encode_utf >> ff_score"
   ],
   "metadata": {
    "collapsed": false
   }
  },
  {
   "cell_type": "code",
   "execution_count": 23,
   "outputs": [
    {
     "name": "stderr",
     "output_type": "stream",
     "text": [
      "no vectors for Co_Stomp\n",
      "no vectors for Hiroki_Got\n"
     ]
    },
    {
     "data": {
      "text/plain": "Empty DataFrame\nColumns: [qid, docno, score_0, score, query]\nIndex: []",
      "text/html": "<div>\n<style scoped>\n    .dataframe tbody tr th:only-of-type {\n        vertical-align: middle;\n    }\n\n    .dataframe tbody tr th {\n        vertical-align: top;\n    }\n\n    .dataframe thead th {\n        text-align: right;\n    }\n</style>\n<table border=\"1\" class=\"dataframe\">\n  <thead>\n    <tr style=\"text-align: right;\">\n      <th></th>\n      <th>qid</th>\n      <th>docno</th>\n      <th>score_0</th>\n      <th>score</th>\n      <th>query</th>\n    </tr>\n  </thead>\n  <tbody>\n  </tbody>\n</table>\n</div>"
     },
     "execution_count": 23,
     "metadata": {},
     "output_type": "execute_result"
    }
   ],
   "source": [
    "df3 = pipeline3(test_topics)\n",
    "df3"
   ],
   "metadata": {
    "collapsed": false
   }
  },
  {
   "cell_type": "code",
   "execution_count": 24,
   "outputs": [],
   "source": [
    "pipeline4 = retriever % 100 >> ff_score"
   ],
   "metadata": {
    "collapsed": false
   }
  },
  {
   "cell_type": "code",
   "execution_count": 26,
   "outputs": [
    {
     "name": "stderr",
     "output_type": "stream",
     "text": [
      "huggingface/tokenizers: The current process just got forked, after parallelism has already been used. Disabling parallelism to avoid deadlocks...\n",
      "To disable this warning, you can either:\n",
      "\t- Avoid using `tokenizers` before the fork if possible\n",
      "\t- Explicitly set the environment variable TOKENIZERS_PARALLELISM=(true | false)\n"
     ]
    },
    {
     "name": "stdout",
     "output_type": "stream",
     "text": [
      "Defaulting to user installation because normal site-packages is not writeable\r\n",
      "\u001B[31mERROR: Could not find a version that satisfies the requirement pydev_jupyter_utils (from versions: none)\u001B[0m\u001B[31m\r\n",
      "\u001B[0m\u001B[31mERROR: No matching distribution found for pydev_jupyter_utils\u001B[0m\u001B[31m\r\n",
      "\u001B[0m"
     ]
    }
   ],
   "source": [
    "!pip install pydev_jupyter_utils"
   ],
   "metadata": {
    "collapsed": false
   }
  },
  {
   "cell_type": "code",
   "execution_count": 28,
   "outputs": [
    {
     "name": "stdout",
     "output_type": "stream",
     "text": [
      "NOTE: Enter 'c' at the ipdb>  prompt to continue execution.\n",
      "> \u001B[0;32m<string>\u001B[0m(1)\u001B[0;36m<module>\u001B[0;34m()\u001B[0m\n",
      "\n"
     ]
    },
    {
     "name": "stderr",
     "output_type": "stream",
     "text": [
      "no vectors for Co_Stomp\n",
      "no vectors for Hiroki_Got\n"
     ]
    }
   ],
   "source": [
    "pipeline4 = retriever % 100 >> ff_score\n",
    "% debug pipeline4(test_topics)"
   ],
   "metadata": {
    "collapsed": false
   }
  },
  {
   "cell_type": "code",
   "execution_count": 4,
   "outputs": [
    {
     "name": "stderr",
     "output_type": "stream",
     "text": [
      "beir/dbpedia-entity documents:   1%|          | 34576/4635922 [00:04<06:48, 11269.50it/s]"
     ]
    },
    {
     "name": "stdout",
     "output_type": "stream",
     "text": [
      "12:29:45.037 [ForkJoinPool-1-worker-3] WARN org.terrier.structures.indexing.Indexer - Adding an empty document to the index (b'<dbpedia:List_of_biblical_names_starting_with_C>') - further warnings are suppressed\n"
     ]
    },
    {
     "name": "stderr",
     "output_type": "stream",
     "text": [
      "beir/dbpedia-entity documents: 100%|██████████| 4635922/4635922 [06:44<00:00, 11451.32it/s]\n"
     ]
    },
    {
     "name": "stdout",
     "output_type": "stream",
     "text": [
      "12:39:07.041 [ForkJoinPool-1-worker-3] WARN org.terrier.structures.indexing.Indexer - Indexed 336 empty documents\n"
     ]
    }
   ],
   "source": [
    "from general_dense_indexers.dense_index_one_dataset import get_dataset_name\n",
    "\n",
    "\n",
    "def docs_iter(dataset):\n",
    "    for d in dataset.get_corpus_iter():\n",
    "        yield {'docno': str(d['docno'].encode('utf-8')), 'text': d['text']}\n",
    "\n",
    "\n",
    "def index_one(prefix_dataset, dataset_name, max_doc_id_length):\n",
    "    if not pt.started():\n",
    "        pt.init(tqdm=\"notebook\")\n",
    "\n",
    "    dataset = pt.get_dataset(prefix_dataset + dataset_name)\n",
    "\n",
    "    index_path = \"./sparse_indexes/sparse_index_\" + get_dataset_name(prefix_dataset + dataset_name)\n",
    "    indexer = pt.IterDictIndexer(index_path, meta={'docno': max_doc_id_length})\n",
    "\n",
    "    if 'dbpedia' in dataset_name or 'fever' in dataset_name:\n",
    "        indexer.index(docs_iter(dataset), fields=[\"text\"])\n",
    "    else:\n",
    "        indexer.index(dataset.get_corpus_iter(), fields=[\"text\"])\n",
    "\n",
    "\n",
    "prefix_dataset = \"irds:beir/\"\n",
    "dataset_name = \"dbpedia-entity\"\n",
    "max_id_length = 205\n",
    "index_one(prefix_dataset, dataset_name, max_id_length)"
   ],
   "metadata": {
    "collapsed": false
   }
  },
  {
   "cell_type": "code",
   "execution_count": 5,
   "outputs": [
    {
     "name": "stderr",
     "output_type": "stream",
     "text": [
      "beir/fever documents:   0%|          | 0/5416568 [00:00<?, ?it/s]"
     ]
    },
    {
     "name": "stdout",
     "output_type": "stream",
     "text": [
      "12:39:07.735 [ForkJoinPool-2-worker-3] WARN org.terrier.structures.indexing.Indexer - Adding an empty document to the index (b'1941_in_paleontology') - further warnings are suppressed\n"
     ]
    },
    {
     "name": "stderr",
     "output_type": "stream",
     "text": [
      "beir/fever documents: 100%|██████████| 5416568/5416568 [22:30<00:00, 4011.51it/s]\n"
     ]
    },
    {
     "name": "stdout",
     "output_type": "stream",
     "text": [
      "13:08:00.215 [ForkJoinPool-2-worker-3] WARN org.terrier.structures.indexing.Indexer - Indexed 20592 empty documents\n"
     ]
    }
   ],
   "source": [
    "prefix_dataset = \"irds:beir/\"\n",
    "dataset_name = \"fever\"\n",
    "max_id_length = 230\n",
    "index_one(prefix_dataset, dataset_name, max_id_length)"
   ],
   "metadata": {
    "collapsed": false
   }
  },
  {
   "cell_type": "code",
   "execution_count": 6,
   "outputs": [
    {
     "ename": "AttributeError",
     "evalue": "'str' object has no attribute 'hex'",
     "output_type": "error",
     "traceback": [
      "\u001B[0;31m---------------------------------------------------------------------------\u001B[0m",
      "\u001B[0;31mAttributeError\u001B[0m                            Traceback (most recent call last)",
      "Cell \u001B[0;32mIn[6], line 1\u001B[0m\n\u001B[0;32m----> 1\u001B[0m \u001B[38;5;28mprint\u001B[39m(\u001B[38;5;28;43mstr\u001B[39;49m\u001B[43m(\u001B[49m\u001B[38;5;124;43m'\u001B[39;49m\u001B[38;5;124;43mCo_Stompé\u001B[39;49m\u001B[38;5;124;43m'\u001B[39;49m\u001B[38;5;241;43m.\u001B[39;49m\u001B[43mencode\u001B[49m\u001B[43m(\u001B[49m\u001B[38;5;124;43m\"\u001B[39;49m\u001B[38;5;124;43mutf-8\u001B[39;49m\u001B[38;5;124;43m\"\u001B[39;49m\u001B[43m)\u001B[49m\u001B[43m)\u001B[49m\u001B[38;5;241;43m.\u001B[39;49m\u001B[43mhex\u001B[49m() \u001B[38;5;241m==\u001B[39m \u001B[38;5;124m'\u001B[39m\u001B[38;5;124mCo_Stompé\u001B[39m\u001B[38;5;124m'\u001B[39m\u001B[38;5;241m.\u001B[39mencode(\u001B[38;5;124m\"\u001B[39m\u001B[38;5;124mutf-8\u001B[39m\u001B[38;5;124m\"\u001B[39m))\n",
      "\u001B[0;31mAttributeError\u001B[0m: 'str' object has no attribute 'hex'"
     ]
    }
   ],
   "source": [
    "print(str('Co_Stompé'.encode(\"utf-8\")) == 'Co_Stompé'.encode(\"utf-8\"))"
   ],
   "metadata": {
    "collapsed": false
   }
  },
  {
   "cell_type": "code",
   "execution_count": 9,
   "outputs": [
    {
     "name": "stdout",
     "output_type": "stream",
     "text": [
      "True\n"
     ]
    }
   ],
   "source": [
    "import ast\n",
    "\n",
    "x = str('Co_Stompé'.encode(\"utf-8\"))\n",
    "\n",
    "# Converting the string representation back to bytes\n",
    "original_bytes = ast.literal_eval(x)\n",
    "\n",
    "print(original_bytes == 'Co_Stompé'.encode(\"utf-8\"))"
   ],
   "metadata": {
    "collapsed": false
   }
  },
  {
   "cell_type": "code",
   "execution_count": 5,
   "outputs": [
    {
     "name": "stderr",
     "output_type": "stream",
     "text": [
      "100%|██████████| 4635922/4635922 [00:08<00:00, 577583.05it/s] \n",
      "GridScan: 100%|██████████| 9/9 [00:21<00:00,  2.33s/it]\n"
     ]
    },
    {
     "name": "stdout",
     "output_type": "stream",
     "text": [
      "Best ndcg_cut.10 is 0.049423\n",
      "Best setting is ['<fast_forward_indexes_library_enhancements.pipeline_transformers.FFInterpolateNormalized object at 0x7f0cd0159390> alpha=0.1']\n",
      "Experiment took 127.699 seconds to execute.\n"
     ]
    },
    {
     "data": {
      "text/plain": "                                                name     RR@10   nDCG@10  \\\n0  dbpedia_entity: BM25 >> snowflake-arctic-embed-xs  0.685863  0.361272   \n\n     AP@100  \n0  0.241665  ",
      "text/html": "<div>\n<style scoped>\n    .dataframe tbody tr th:only-of-type {\n        vertical-align: middle;\n    }\n\n    .dataframe tbody tr th {\n        vertical-align: top;\n    }\n\n    .dataframe thead th {\n        text-align: right;\n    }\n</style>\n<table border=\"1\" class=\"dataframe\">\n  <thead>\n    <tr style=\"text-align: right;\">\n      <th></th>\n      <th>name</th>\n      <th>RR@10</th>\n      <th>nDCG@10</th>\n      <th>AP@100</th>\n    </tr>\n  </thead>\n  <tbody>\n    <tr>\n      <th>0</th>\n      <td>dbpedia_entity: BM25 &gt;&gt; snowflake-arctic-embed-xs</td>\n      <td>0.685863</td>\n      <td>0.361272</td>\n      <td>0.241665</td>\n    </tr>\n  </tbody>\n</table>\n</div>"
     },
     "execution_count": 5,
     "metadata": {},
     "output_type": "execute_result"
    }
   ],
   "source": [
    "from experiment_utils.experiments_helper import get_test_dev_sets, default_test_pipeline\n",
    "\n",
    "dataset_name = \"irds:beir/dbpedia-entity\"\n",
    "dev_set_name = \"irds:beir/dbpedia-entity/dev\"\n",
    "dataset_test_name = \"irds:beir/dbpedia-entity/test\"\n",
    "pipeline_name = \"BM25 >> \" + model_name\n",
    "\n",
    "test_topics, test_qrels, dev_topics, dev_qrels = get_test_dev_sets(dataset_test_name, dev_set_name)\n",
    "\n",
    "dev_topics = dev_topics.sample(frac=0.1, random_state=42)\n",
    "test_topics = test_topics.sample(frac=0.1, random_state=42)\n",
    "#\n",
    "# print(dev_topics)\n",
    "# print(\"ccccc\")\n",
    "# print(test_topics)\n",
    "res, alpha = default_test_pipeline(dataset_name, test_topics, test_qrels, q_encoder,\n",
    "                                   eval_metrics, model_name, pipeline_name, path_to_root, model_directory,\n",
    "                                   dev_topics, dev_qrels, timed=True, in_memory_sparse=True,\n",
    "                                   in_memory_dense=False)\n",
    "res"
   ],
   "metadata": {
    "collapsed": false
   }
  },
  {
   "cell_type": "code",
   "execution_count": null,
   "outputs": [],
   "source": [],
   "metadata": {
    "collapsed": false
   }
  }
 ],
 "metadata": {
  "kernelspec": {
   "display_name": "Python 3",
   "language": "python",
   "name": "python3"
  },
  "language_info": {
   "codemirror_mode": {
    "name": "ipython",
    "version": 2
   },
   "file_extension": ".py",
   "mimetype": "text/x-python",
   "name": "python",
   "nbconvert_exporter": "python",
   "pygments_lexer": "ipython2",
   "version": "2.7.6"
  }
 },
 "nbformat": 4,
 "nbformat_minor": 0
}
