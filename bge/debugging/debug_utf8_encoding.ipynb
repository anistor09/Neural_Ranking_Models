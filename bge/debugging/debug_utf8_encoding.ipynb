{
 "cells": [
  {
   "cell_type": "code",
   "execution_count": 1,
   "outputs": [],
   "source": [
    "from experiment_utils.experiments_helper import load_dense_index_from_disk, load_sparse_index_from_disk"
   ],
   "metadata": {
    "collapsed": false
   }
  },
  {
   "cell_type": "code",
   "execution_count": 2,
   "outputs": [
    {
     "name": "stderr",
     "output_type": "stream",
     "text": [
      "PyTerrier 0.10.0 has loaded Terrier 5.9 (built by craigm on 2024-05-02 17:40) and terrier-helper 0.0.8\n",
      "\n",
      "No etc/terrier.properties, using terrier.default.properties for bootstrap configuration.\n"
     ]
    }
   ],
   "source": [
    "import pyterrier as pt\n",
    "\n",
    "if not pt.started():\n",
    "    pt.init()"
   ],
   "metadata": {
    "collapsed": false
   }
  },
  {
   "cell_type": "code",
   "execution_count": 3,
   "outputs": [],
   "source": [
    "from pyterrier.measures import RR, nDCG, MAP\n",
    "\n",
    "eval_metrics = [RR @ 10, nDCG @ 10, MAP @ 100]"
   ],
   "metadata": {
    "collapsed": false
   }
  },
  {
   "cell_type": "code",
   "execution_count": 4,
   "outputs": [],
   "source": [
    "from encoders.snowflake_arctic_embed_m import SnowFlakeQueryEncoder\n",
    "\n",
    "package = \"Snowflake/\"\n",
    "model_name = \"snowflake-arctic-embed-xs\"\n",
    "q_encoder = SnowFlakeQueryEncoder(package + model_name)\n",
    "model_directory = 'snowflake'\n",
    "path_to_root = \"../../\"\n",
    "pipeline_name = \"BM25 >> \" + model_name"
   ],
   "metadata": {
    "collapsed": false
   }
  },
  {
   "cell_type": "code",
   "execution_count": null,
   "outputs": [],
   "source": [
    "from experiment_utils.experiments_helper import get_test_dev_sets\n",
    "from fast_forward.util.pyterrier import FFScore\n",
    "from fast_forward_indexes_library_enhancements.pipeline_transformers import FFInterpolateNormalized, EncodeUTF\n",
    "\n",
    "dataset_name = \"irds:beir/dbpedia-entity\"\n",
    "dev_set_name = \"irds:beir/dbpedia-entity/dev\"\n",
    "dataset_test_name = \"irds:beir/dbpedia-entity/test\"\n",
    "pipeline_name = \"BM25 >> \" + model_name\n",
    "\n",
    "test_topics, test_qrels, dev_topics, dev_qrels = get_test_dev_sets(dataset_test_name, dev_set_name)\n",
    "\n",
    "# Spare index\n",
    "retriever = load_sparse_index_from_disk(dataset_name, path_to_root, in_memory=True)\n",
    "\n",
    "# Dense index\n",
    "dense_index = load_dense_index_from_disk(dataset_name, q_encoder, model_name, path_to_root, model_directory,\n",
    "                                         in_memory=False)\n",
    "\n",
    "test_topics = test_topics.sample(frac=0.02, random_state=42)\n",
    "\n",
    "ff_score = FFScore(dense_index)\n",
    "# ff_int = FFInterpolate(alpha=alpha)\n",
    "ff_int = FFInterpolateNormalized(alpha=0.3)\n",
    "\n",
    "encode_utf = EncodeUTF()\n",
    "\n",
    "pipeline1 = retriever % 100 >> ff_score >> ff_int\n",
    "pipeline2 = retriever % 100 >> encode_utf >> ff_score >> ff_int\n",
    "\n",
    "# pipeline1 = retriever % 100\n",
    "# pipeline2 = retriever % 100 >> encode_utf"
   ],
   "metadata": {
    "collapsed": false,
    "pycharm": {
     "is_executing": true
    }
   }
  },
  {
   "cell_type": "code",
   "execution_count": 9,
   "outputs": [
    {
     "data": {
      "text/plain": "'Co_Stompé'"
     },
     "execution_count": 9,
     "metadata": {},
     "output_type": "execute_result"
    }
   ],
   "source": [
    "df1 = retriever(test_topics)\n",
    "filtered_df = df1[df1['docno'].str.contains('Co_Stomp', case=False, na=False)]\n",
    "import ast\n",
    "\n",
    "ast.literal_eval(filtered_df['docno'].iloc[0]).decode(\"utf-8\")"
   ],
   "metadata": {
    "collapsed": false
   }
  },
  {
   "cell_type": "code",
   "execution_count": 6,
   "outputs": [
    {
     "data": {
      "text/plain": "             qid                                              docno  \\\n0    QALD2_tr-24                 <dbpedia:The_Ascent_of_Rum_Doodle>   \n1    QALD2_tr-24                                <dbpedia:Kang_Guru>   \n2    QALD2_tr-24                         <dbpedia:Annapurna_(book)>   \n3    QALD2_tr-24                             <dbpedia:Tilicho_Peak>   \n4    QALD2_tr-24                               <dbpedia:Ian_Clough>   \n..           ...                                                ...   \n795  INEX_XER-86  <dbpedia:List_of_countries_by_number_of_mobile...   \n796  INEX_XER-86  <dbpedia:List_of_countries_by_electricity_expo...   \n797  INEX_XER-86  <dbpedia:List_of_countries_by_electricity_impo...   \n798  INEX_XER-86  <dbpedia:List_of_Little_League_World_Series_ap...   \n799  INEX_XER-86  <dbpedia:List_of_cricketers_who_were_killed_du...   \n\n                                                 query     score  \n0    which mountain is the highest after the annapurna  0.439051  \n1    which mountain is the highest after the annapurna  0.615751  \n2    which mountain is the highest after the annapurna  0.700364  \n3    which mountain is the highest after the annapurna  0.507932  \n4    which mountain is the highest after the annapurna  0.465899  \n..                                                 ...       ...  \n795                 list of countries in world war two  0.582014  \n796                 list of countries in world war two  0.554434  \n797                 list of countries in world war two  0.539364  \n798                 list of countries in world war two  0.495120  \n799                 list of countries in world war two  0.463176  \n\n[800 rows x 4 columns]",
      "text/html": "<div>\n<style scoped>\n    .dataframe tbody tr th:only-of-type {\n        vertical-align: middle;\n    }\n\n    .dataframe tbody tr th {\n        vertical-align: top;\n    }\n\n    .dataframe thead th {\n        text-align: right;\n    }\n</style>\n<table border=\"1\" class=\"dataframe\">\n  <thead>\n    <tr style=\"text-align: right;\">\n      <th></th>\n      <th>qid</th>\n      <th>docno</th>\n      <th>query</th>\n      <th>score</th>\n    </tr>\n  </thead>\n  <tbody>\n    <tr>\n      <th>0</th>\n      <td>QALD2_tr-24</td>\n      <td>&lt;dbpedia:The_Ascent_of_Rum_Doodle&gt;</td>\n      <td>which mountain is the highest after the annapurna</td>\n      <td>0.439051</td>\n    </tr>\n    <tr>\n      <th>1</th>\n      <td>QALD2_tr-24</td>\n      <td>&lt;dbpedia:Kang_Guru&gt;</td>\n      <td>which mountain is the highest after the annapurna</td>\n      <td>0.615751</td>\n    </tr>\n    <tr>\n      <th>2</th>\n      <td>QALD2_tr-24</td>\n      <td>&lt;dbpedia:Annapurna_(book)&gt;</td>\n      <td>which mountain is the highest after the annapurna</td>\n      <td>0.700364</td>\n    </tr>\n    <tr>\n      <th>3</th>\n      <td>QALD2_tr-24</td>\n      <td>&lt;dbpedia:Tilicho_Peak&gt;</td>\n      <td>which mountain is the highest after the annapurna</td>\n      <td>0.507932</td>\n    </tr>\n    <tr>\n      <th>4</th>\n      <td>QALD2_tr-24</td>\n      <td>&lt;dbpedia:Ian_Clough&gt;</td>\n      <td>which mountain is the highest after the annapurna</td>\n      <td>0.465899</td>\n    </tr>\n    <tr>\n      <th>...</th>\n      <td>...</td>\n      <td>...</td>\n      <td>...</td>\n      <td>...</td>\n    </tr>\n    <tr>\n      <th>795</th>\n      <td>INEX_XER-86</td>\n      <td>&lt;dbpedia:List_of_countries_by_number_of_mobile...</td>\n      <td>list of countries in world war two</td>\n      <td>0.582014</td>\n    </tr>\n    <tr>\n      <th>796</th>\n      <td>INEX_XER-86</td>\n      <td>&lt;dbpedia:List_of_countries_by_electricity_expo...</td>\n      <td>list of countries in world war two</td>\n      <td>0.554434</td>\n    </tr>\n    <tr>\n      <th>797</th>\n      <td>INEX_XER-86</td>\n      <td>&lt;dbpedia:List_of_countries_by_electricity_impo...</td>\n      <td>list of countries in world war two</td>\n      <td>0.539364</td>\n    </tr>\n    <tr>\n      <th>798</th>\n      <td>INEX_XER-86</td>\n      <td>&lt;dbpedia:List_of_Little_League_World_Series_ap...</td>\n      <td>list of countries in world war two</td>\n      <td>0.495120</td>\n    </tr>\n    <tr>\n      <th>799</th>\n      <td>INEX_XER-86</td>\n      <td>&lt;dbpedia:List_of_cricketers_who_were_killed_du...</td>\n      <td>list of countries in world war two</td>\n      <td>0.463176</td>\n    </tr>\n  </tbody>\n</table>\n<p>800 rows × 4 columns</p>\n</div>"
     },
     "execution_count": 6,
     "metadata": {},
     "output_type": "execute_result"
    }
   ],
   "source": [
    "pipeline2(test_topics)"
   ],
   "metadata": {
    "collapsed": false
   }
  },
  {
   "cell_type": "code",
   "execution_count": 11,
   "outputs": [
    {
     "data": {
      "text/plain": "       qid    docid                           docno  rank      score  \\\n0   125440  4614283  b'Stomp_the_Yard_(soundtrack)'     0  36.388773   \n1   125440  4601990               b'Stomp_the_Yard'     1  35.434146   \n2   125440  1099148               b'Collins_Pennie'     2  32.134281   \n3   125440  4552761   b'Stomp_the_Yard:_Homecoming'     3  29.729887   \n4   125440  2153633               b'Harry_Shum_Jr.'     4  26.950157   \n..     ...      ...                             ...   ...        ...   \n95  125440  4489570             b'Spiers_and_Boden'    95  17.940394   \n96  125440  4599706              b'Sustain_(album)'    96  17.940394   \n97  125440   597033           b'Arthur_Whittington'    97  17.923718   \n98  125440  2609731                   b'Kenny_Mims'    98  17.902330   \n99  125440  2841542  b\"Let's_Go_(Trick_Daddy_song)\"    99  17.874469   \n\n                                             query  \n0   stomp the yard has meagan good in a minor role  \n1   stomp the yard has meagan good in a minor role  \n2   stomp the yard has meagan good in a minor role  \n3   stomp the yard has meagan good in a minor role  \n4   stomp the yard has meagan good in a minor role  \n..                                             ...  \n95  stomp the yard has meagan good in a minor role  \n96  stomp the yard has meagan good in a minor role  \n97  stomp the yard has meagan good in a minor role  \n98  stomp the yard has meagan good in a minor role  \n99  stomp the yard has meagan good in a minor role  \n\n[100 rows x 6 columns]",
      "text/html": "<div>\n<style scoped>\n    .dataframe tbody tr th:only-of-type {\n        vertical-align: middle;\n    }\n\n    .dataframe tbody tr th {\n        vertical-align: top;\n    }\n\n    .dataframe thead th {\n        text-align: right;\n    }\n</style>\n<table border=\"1\" class=\"dataframe\">\n  <thead>\n    <tr style=\"text-align: right;\">\n      <th></th>\n      <th>qid</th>\n      <th>docid</th>\n      <th>docno</th>\n      <th>rank</th>\n      <th>score</th>\n      <th>query</th>\n    </tr>\n  </thead>\n  <tbody>\n    <tr>\n      <th>0</th>\n      <td>125440</td>\n      <td>4614283</td>\n      <td>b'Stomp_the_Yard_(soundtrack)'</td>\n      <td>0</td>\n      <td>36.388773</td>\n      <td>stomp the yard has meagan good in a minor role</td>\n    </tr>\n    <tr>\n      <th>1</th>\n      <td>125440</td>\n      <td>4601990</td>\n      <td>b'Stomp_the_Yard'</td>\n      <td>1</td>\n      <td>35.434146</td>\n      <td>stomp the yard has meagan good in a minor role</td>\n    </tr>\n    <tr>\n      <th>2</th>\n      <td>125440</td>\n      <td>1099148</td>\n      <td>b'Collins_Pennie'</td>\n      <td>2</td>\n      <td>32.134281</td>\n      <td>stomp the yard has meagan good in a minor role</td>\n    </tr>\n    <tr>\n      <th>3</th>\n      <td>125440</td>\n      <td>4552761</td>\n      <td>b'Stomp_the_Yard:_Homecoming'</td>\n      <td>3</td>\n      <td>29.729887</td>\n      <td>stomp the yard has meagan good in a minor role</td>\n    </tr>\n    <tr>\n      <th>4</th>\n      <td>125440</td>\n      <td>2153633</td>\n      <td>b'Harry_Shum_Jr.'</td>\n      <td>4</td>\n      <td>26.950157</td>\n      <td>stomp the yard has meagan good in a minor role</td>\n    </tr>\n    <tr>\n      <th>...</th>\n      <td>...</td>\n      <td>...</td>\n      <td>...</td>\n      <td>...</td>\n      <td>...</td>\n      <td>...</td>\n    </tr>\n    <tr>\n      <th>95</th>\n      <td>125440</td>\n      <td>4489570</td>\n      <td>b'Spiers_and_Boden'</td>\n      <td>95</td>\n      <td>17.940394</td>\n      <td>stomp the yard has meagan good in a minor role</td>\n    </tr>\n    <tr>\n      <th>96</th>\n      <td>125440</td>\n      <td>4599706</td>\n      <td>b'Sustain_(album)'</td>\n      <td>96</td>\n      <td>17.940394</td>\n      <td>stomp the yard has meagan good in a minor role</td>\n    </tr>\n    <tr>\n      <th>97</th>\n      <td>125440</td>\n      <td>597033</td>\n      <td>b'Arthur_Whittington'</td>\n      <td>97</td>\n      <td>17.923718</td>\n      <td>stomp the yard has meagan good in a minor role</td>\n    </tr>\n    <tr>\n      <th>98</th>\n      <td>125440</td>\n      <td>2609731</td>\n      <td>b'Kenny_Mims'</td>\n      <td>98</td>\n      <td>17.902330</td>\n      <td>stomp the yard has meagan good in a minor role</td>\n    </tr>\n    <tr>\n      <th>99</th>\n      <td>125440</td>\n      <td>2841542</td>\n      <td>b\"Let's_Go_(Trick_Daddy_song)\"</td>\n      <td>99</td>\n      <td>17.874469</td>\n      <td>stomp the yard has meagan good in a minor role</td>\n    </tr>\n  </tbody>\n</table>\n<p>100 rows × 6 columns</p>\n</div>"
     },
     "execution_count": 11,
     "metadata": {},
     "output_type": "execute_result"
    }
   ],
   "source": [
    "df2 = (retriever % 100 >> encode_utf)(test_topics)\n",
    "df2"
   ],
   "metadata": {
    "collapsed": false
   }
  },
  {
   "cell_type": "code",
   "execution_count": 16,
   "outputs": [
    {
     "name": "stdout",
     "output_type": "stream",
     "text": [
      "       qid    docid     docno  rank      score  \\\n",
      "16  125440  1171956  Co_Stomp    16  22.429014   \n",
      "\n",
      "                                             query  \n",
      "16  stomp the yard has meagan good in a minor role  \n"
     ]
    }
   ],
   "source": [
    "row = df1[df1['docno'] == 'Co_Stomp']\n",
    "print(row)"
   ],
   "metadata": {
    "collapsed": false
   }
  },
  {
   "cell_type": "code",
   "execution_count": 17,
   "outputs": [
    {
     "name": "stdout",
     "output_type": "stream",
     "text": [
      "b'Co_Stomp'\n"
     ]
    }
   ],
   "source": [
    "print('Co_Stomp'.encode(\"utf-8\"))"
   ],
   "metadata": {
    "collapsed": false
   }
  },
  {
   "cell_type": "code",
   "execution_count": 20,
   "outputs": [
    {
     "data": {
      "text/plain": "       qid    docid                           docno  rank      score  \\\n0   125440  4614283  b'Stomp_the_Yard_(soundtrack)'     0  36.388773   \n1   125440  4601990               b'Stomp_the_Yard'     1  35.434146   \n2   125440  1099148               b'Collins_Pennie'     2  32.134281   \n3   125440  4552761   b'Stomp_the_Yard:_Homecoming'     3  29.729887   \n4   125440  2153633               b'Harry_Shum_Jr.'     4  26.950157   \n..     ...      ...                             ...   ...        ...   \n95  125440  4489570             b'Spiers_and_Boden'    95  17.940394   \n96  125440  4599706              b'Sustain_(album)'    96  17.940394   \n97  125440   597033           b'Arthur_Whittington'    97  17.923718   \n98  125440  2609731                   b'Kenny_Mims'    98  17.902330   \n99  125440  2841542  b\"Let's_Go_(Trick_Daddy_song)\"    99  17.874469   \n\n                                             query  \n0   stomp the yard has meagan good in a minor role  \n1   stomp the yard has meagan good in a minor role  \n2   stomp the yard has meagan good in a minor role  \n3   stomp the yard has meagan good in a minor role  \n4   stomp the yard has meagan good in a minor role  \n..                                             ...  \n95  stomp the yard has meagan good in a minor role  \n96  stomp the yard has meagan good in a minor role  \n97  stomp the yard has meagan good in a minor role  \n98  stomp the yard has meagan good in a minor role  \n99  stomp the yard has meagan good in a minor role  \n\n[100 rows x 6 columns]",
      "text/html": "<div>\n<style scoped>\n    .dataframe tbody tr th:only-of-type {\n        vertical-align: middle;\n    }\n\n    .dataframe tbody tr th {\n        vertical-align: top;\n    }\n\n    .dataframe thead th {\n        text-align: right;\n    }\n</style>\n<table border=\"1\" class=\"dataframe\">\n  <thead>\n    <tr style=\"text-align: right;\">\n      <th></th>\n      <th>qid</th>\n      <th>docid</th>\n      <th>docno</th>\n      <th>rank</th>\n      <th>score</th>\n      <th>query</th>\n    </tr>\n  </thead>\n  <tbody>\n    <tr>\n      <th>0</th>\n      <td>125440</td>\n      <td>4614283</td>\n      <td>b'Stomp_the_Yard_(soundtrack)'</td>\n      <td>0</td>\n      <td>36.388773</td>\n      <td>stomp the yard has meagan good in a minor role</td>\n    </tr>\n    <tr>\n      <th>1</th>\n      <td>125440</td>\n      <td>4601990</td>\n      <td>b'Stomp_the_Yard'</td>\n      <td>1</td>\n      <td>35.434146</td>\n      <td>stomp the yard has meagan good in a minor role</td>\n    </tr>\n    <tr>\n      <th>2</th>\n      <td>125440</td>\n      <td>1099148</td>\n      <td>b'Collins_Pennie'</td>\n      <td>2</td>\n      <td>32.134281</td>\n      <td>stomp the yard has meagan good in a minor role</td>\n    </tr>\n    <tr>\n      <th>3</th>\n      <td>125440</td>\n      <td>4552761</td>\n      <td>b'Stomp_the_Yard:_Homecoming'</td>\n      <td>3</td>\n      <td>29.729887</td>\n      <td>stomp the yard has meagan good in a minor role</td>\n    </tr>\n    <tr>\n      <th>4</th>\n      <td>125440</td>\n      <td>2153633</td>\n      <td>b'Harry_Shum_Jr.'</td>\n      <td>4</td>\n      <td>26.950157</td>\n      <td>stomp the yard has meagan good in a minor role</td>\n    </tr>\n    <tr>\n      <th>...</th>\n      <td>...</td>\n      <td>...</td>\n      <td>...</td>\n      <td>...</td>\n      <td>...</td>\n      <td>...</td>\n    </tr>\n    <tr>\n      <th>95</th>\n      <td>125440</td>\n      <td>4489570</td>\n      <td>b'Spiers_and_Boden'</td>\n      <td>95</td>\n      <td>17.940394</td>\n      <td>stomp the yard has meagan good in a minor role</td>\n    </tr>\n    <tr>\n      <th>96</th>\n      <td>125440</td>\n      <td>4599706</td>\n      <td>b'Sustain_(album)'</td>\n      <td>96</td>\n      <td>17.940394</td>\n      <td>stomp the yard has meagan good in a minor role</td>\n    </tr>\n    <tr>\n      <th>97</th>\n      <td>125440</td>\n      <td>597033</td>\n      <td>b'Arthur_Whittington'</td>\n      <td>97</td>\n      <td>17.923718</td>\n      <td>stomp the yard has meagan good in a minor role</td>\n    </tr>\n    <tr>\n      <th>98</th>\n      <td>125440</td>\n      <td>2609731</td>\n      <td>b'Kenny_Mims'</td>\n      <td>98</td>\n      <td>17.902330</td>\n      <td>stomp the yard has meagan good in a minor role</td>\n    </tr>\n    <tr>\n      <th>99</th>\n      <td>125440</td>\n      <td>2841542</td>\n      <td>b\"Let's_Go_(Trick_Daddy_song)\"</td>\n      <td>99</td>\n      <td>17.874469</td>\n      <td>stomp the yard has meagan good in a minor role</td>\n    </tr>\n  </tbody>\n</table>\n<p>100 rows × 6 columns</p>\n</div>"
     },
     "execution_count": 20,
     "metadata": {},
     "output_type": "execute_result"
    }
   ],
   "source": [
    "df2 = pipeline2(test_topics)\n",
    "df2"
   ],
   "metadata": {
    "collapsed": false
   }
  },
  {
   "cell_type": "code",
   "execution_count": 21,
   "outputs": [
    {
     "name": "stdout",
     "output_type": "stream",
     "text": [
      "       qid    docid        docno  rank      score  \\\n",
      "16  125440  1171956  b'Co_Stomp'    16  22.429014   \n",
      "\n",
      "                                             query  \n",
      "16  stomp the yard has meagan good in a minor role  \n"
     ]
    }
   ],
   "source": [
    "row = df2[df2['docno'] == 'Co_Stomp'.encode(\"utf-8\")]\n",
    "print(row)"
   ],
   "metadata": {
    "collapsed": false
   }
  },
  {
   "cell_type": "code",
   "execution_count": 22,
   "outputs": [],
   "source": [
    "pipeline3 = retriever % 100 >> encode_utf >> ff_score"
   ],
   "metadata": {
    "collapsed": false
   }
  },
  {
   "cell_type": "code",
   "execution_count": 23,
   "outputs": [
    {
     "name": "stderr",
     "output_type": "stream",
     "text": [
      "no vectors for Co_Stomp\n",
      "no vectors for Hiroki_Got\n"
     ]
    },
    {
     "data": {
      "text/plain": "Empty DataFrame\nColumns: [qid, docno, score_0, score, query]\nIndex: []",
      "text/html": "<div>\n<style scoped>\n    .dataframe tbody tr th:only-of-type {\n        vertical-align: middle;\n    }\n\n    .dataframe tbody tr th {\n        vertical-align: top;\n    }\n\n    .dataframe thead th {\n        text-align: right;\n    }\n</style>\n<table border=\"1\" class=\"dataframe\">\n  <thead>\n    <tr style=\"text-align: right;\">\n      <th></th>\n      <th>qid</th>\n      <th>docno</th>\n      <th>score_0</th>\n      <th>score</th>\n      <th>query</th>\n    </tr>\n  </thead>\n  <tbody>\n  </tbody>\n</table>\n</div>"
     },
     "execution_count": 23,
     "metadata": {},
     "output_type": "execute_result"
    }
   ],
   "source": [
    "df3 = pipeline3(test_topics)\n",
    "df3"
   ],
   "metadata": {
    "collapsed": false
   }
  },
  {
   "cell_type": "code",
   "execution_count": 24,
   "outputs": [],
   "source": [
    "pipeline4 = retriever % 100 >> ff_score"
   ],
   "metadata": {
    "collapsed": false
   }
  },
  {
   "cell_type": "code",
   "execution_count": 26,
   "outputs": [
    {
     "name": "stderr",
     "output_type": "stream",
     "text": [
      "huggingface/tokenizers: The current process just got forked, after parallelism has already been used. Disabling parallelism to avoid deadlocks...\n",
      "To disable this warning, you can either:\n",
      "\t- Avoid using `tokenizers` before the fork if possible\n",
      "\t- Explicitly set the environment variable TOKENIZERS_PARALLELISM=(true | false)\n"
     ]
    },
    {
     "name": "stdout",
     "output_type": "stream",
     "text": [
      "Defaulting to user installation because normal site-packages is not writeable\r\n",
      "\u001B[31mERROR: Could not find a version that satisfies the requirement pydev_jupyter_utils (from versions: none)\u001B[0m\u001B[31m\r\n",
      "\u001B[0m\u001B[31mERROR: No matching distribution found for pydev_jupyter_utils\u001B[0m\u001B[31m\r\n",
      "\u001B[0m"
     ]
    }
   ],
   "source": [
    "!pip install pydev_jupyter_utils"
   ],
   "metadata": {
    "collapsed": false
   }
  },
  {
   "cell_type": "code",
   "execution_count": 28,
   "outputs": [
    {
     "name": "stdout",
     "output_type": "stream",
     "text": [
      "NOTE: Enter 'c' at the ipdb>  prompt to continue execution.\n",
      "> \u001B[0;32m<string>\u001B[0m(1)\u001B[0;36m<module>\u001B[0;34m()\u001B[0m\n",
      "\n"
     ]
    },
    {
     "name": "stderr",
     "output_type": "stream",
     "text": [
      "no vectors for Co_Stomp\n",
      "no vectors for Hiroki_Got\n"
     ]
    }
   ],
   "source": [
    "pipeline4 = retriever % 100 >> ff_score\n",
    "% debug pipeline4(test_topics)"
   ],
   "metadata": {
    "collapsed": false
   }
  },
  {
   "cell_type": "code",
   "execution_count": 3,
   "outputs": [
    {
     "name": "stderr",
     "output_type": "stream",
     "text": [
      "[INFO] [starting] building docstore\n",
      "[INFO] [starting] opening zip file                                              \n",
      "[INFO] [finished] opening zip file [9ms]                                        \n",
      "docs_iter: 100%|██████████████████| 4635922/4635922 [01:19<00:00, 57955.83doc/s]\n",
      "[INFO] [finished] docs_iter: [01:19] [4635922doc] [57955.25doc/s]\n",
      "[INFO] [finished] building docstore [01:20]\n",
      "beir/dbpedia-entity documents:   1%|          | 33689/4635922 [00:05<07:27, 10286.98it/s]"
     ]
    },
    {
     "name": "stdout",
     "output_type": "stream",
     "text": [
      "16:51:52.302 [ForkJoinPool-1-worker-3] WARN org.terrier.structures.indexing.Indexer - Adding an empty document to the index (b'<dbpedia:List_of_biblical_names_starting_with_C>') - further warnings are suppressed\n"
     ]
    },
    {
     "name": "stderr",
     "output_type": "stream",
     "text": [
      "beir/dbpedia-entity documents: 100%|██████████| 4635922/4635922 [06:45<00:00, 11439.90it/s]\n"
     ]
    },
    {
     "name": "stdout",
     "output_type": "stream",
     "text": [
      "17:01:29.559 [ForkJoinPool-1-worker-3] WARN org.terrier.structures.indexing.Indexer - Indexed 336 empty documents\n"
     ]
    }
   ],
   "source": [
    "from general_dense_indexers.dense_index_one_dataset import get_dataset_name\n",
    "\n",
    "\n",
    "def docs_iter(dataset):\n",
    "    for d in dataset.get_corpus_iter():\n",
    "        yield {'docno': str(d['docno'].encode('utf-8')), 'text': d['text']}\n",
    "\n",
    "\n",
    "def index_one(prefix_dataset, dataset_name, max_doc_id_length):\n",
    "    if not pt.started():\n",
    "        pt.init(tqdm=\"notebook\")\n",
    "\n",
    "    dataset = pt.get_dataset(prefix_dataset + dataset_name)\n",
    "\n",
    "    index_path = \"./sparse_indexes/sparse_index_\" + get_dataset_name(prefix_dataset + dataset_name)\n",
    "    indexer = pt.IterDictIndexer(index_path, meta={'docno': max_doc_id_length})\n",
    "\n",
    "    if 'dbpedia' in dataset_name or 'fever' in dataset_name:\n",
    "        indexer.index(docs_iter(dataset), fields=[\"text\"])\n",
    "    else:\n",
    "        indexer.index(dataset.get_corpus_iter(), fields=[\"text\"])\n",
    "\n",
    "\n",
    "prefix_dataset = \"irds:beir/\"\n",
    "dataset_name = \"dbpedia-entity\"\n",
    "max_id_length = 200\n",
    "index_one(prefix_dataset, dataset_name, max_id_length)"
   ],
   "metadata": {
    "collapsed": false
   }
  },
  {
   "cell_type": "code",
   "execution_count": 6,
   "outputs": [
    {
     "ename": "AttributeError",
     "evalue": "'str' object has no attribute 'hex'",
     "output_type": "error",
     "traceback": [
      "\u001B[0;31m---------------------------------------------------------------------------\u001B[0m",
      "\u001B[0;31mAttributeError\u001B[0m                            Traceback (most recent call last)",
      "Cell \u001B[0;32mIn[6], line 1\u001B[0m\n\u001B[0;32m----> 1\u001B[0m \u001B[38;5;28mprint\u001B[39m(\u001B[38;5;28;43mstr\u001B[39;49m\u001B[43m(\u001B[49m\u001B[38;5;124;43m'\u001B[39;49m\u001B[38;5;124;43mCo_Stompé\u001B[39;49m\u001B[38;5;124;43m'\u001B[39;49m\u001B[38;5;241;43m.\u001B[39;49m\u001B[43mencode\u001B[49m\u001B[43m(\u001B[49m\u001B[38;5;124;43m\"\u001B[39;49m\u001B[38;5;124;43mutf-8\u001B[39;49m\u001B[38;5;124;43m\"\u001B[39;49m\u001B[43m)\u001B[49m\u001B[43m)\u001B[49m\u001B[38;5;241;43m.\u001B[39;49m\u001B[43mhex\u001B[49m() \u001B[38;5;241m==\u001B[39m \u001B[38;5;124m'\u001B[39m\u001B[38;5;124mCo_Stompé\u001B[39m\u001B[38;5;124m'\u001B[39m\u001B[38;5;241m.\u001B[39mencode(\u001B[38;5;124m\"\u001B[39m\u001B[38;5;124mutf-8\u001B[39m\u001B[38;5;124m\"\u001B[39m))\n",
      "\u001B[0;31mAttributeError\u001B[0m: 'str' object has no attribute 'hex'"
     ]
    }
   ],
   "source": [
    "print(str('Co_Stompé'.encode(\"utf-8\")) == 'Co_Stompé'.encode(\"utf-8\"))"
   ],
   "metadata": {
    "collapsed": false
   }
  },
  {
   "cell_type": "code",
   "execution_count": 9,
   "outputs": [
    {
     "name": "stdout",
     "output_type": "stream",
     "text": [
      "True\n"
     ]
    }
   ],
   "source": [
    "import ast\n",
    "\n",
    "x = str('Co_Stompé'.encode(\"utf-8\"))\n",
    "\n",
    "# Converting the string representation back to bytes\n",
    "original_bytes = ast.literal_eval(x)\n",
    "\n",
    "print(original_bytes == 'Co_Stompé'.encode(\"utf-8\"))"
   ],
   "metadata": {
    "collapsed": false
   }
  },
  {
   "cell_type": "code",
   "execution_count": 5,
   "outputs": [
    {
     "name": "stderr",
     "output_type": "stream",
     "text": [
      "100%|██████████| 4635922/4635922 [00:08<00:00, 577583.05it/s] \n",
      "GridScan: 100%|██████████| 9/9 [00:21<00:00,  2.33s/it]\n"
     ]
    },
    {
     "name": "stdout",
     "output_type": "stream",
     "text": [
      "Best ndcg_cut.10 is 0.049423\n",
      "Best setting is ['<fast_forward_indexes_library_enhancements.pipeline_transformers.FFInterpolateNormalized object at 0x7f0cd0159390> alpha=0.1']\n",
      "Experiment took 127.699 seconds to execute.\n"
     ]
    },
    {
     "data": {
      "text/plain": "                                                name     RR@10   nDCG@10  \\\n0  dbpedia_entity: BM25 >> snowflake-arctic-embed-xs  0.685863  0.361272   \n\n     AP@100  \n0  0.241665  ",
      "text/html": "<div>\n<style scoped>\n    .dataframe tbody tr th:only-of-type {\n        vertical-align: middle;\n    }\n\n    .dataframe tbody tr th {\n        vertical-align: top;\n    }\n\n    .dataframe thead th {\n        text-align: right;\n    }\n</style>\n<table border=\"1\" class=\"dataframe\">\n  <thead>\n    <tr style=\"text-align: right;\">\n      <th></th>\n      <th>name</th>\n      <th>RR@10</th>\n      <th>nDCG@10</th>\n      <th>AP@100</th>\n    </tr>\n  </thead>\n  <tbody>\n    <tr>\n      <th>0</th>\n      <td>dbpedia_entity: BM25 &gt;&gt; snowflake-arctic-embed-xs</td>\n      <td>0.685863</td>\n      <td>0.361272</td>\n      <td>0.241665</td>\n    </tr>\n  </tbody>\n</table>\n</div>"
     },
     "execution_count": 5,
     "metadata": {},
     "output_type": "execute_result"
    }
   ],
   "source": [
    "from experiment_utils.experiments_helper import get_test_dev_sets, default_test_pipeline\n",
    "\n",
    "dataset_name = \"irds:beir/dbpedia-entity\"\n",
    "dev_set_name = \"irds:beir/dbpedia-entity/dev\"\n",
    "dataset_test_name = \"irds:beir/dbpedia-entity/test\"\n",
    "pipeline_name = \"BM25 >> \" + model_name\n",
    "\n",
    "test_topics, test_qrels, dev_topics, dev_qrels = get_test_dev_sets(dataset_test_name, dev_set_name)\n",
    "\n",
    "dev_topics = dev_topics.sample(frac= 0.1, random_state=42)\n",
    "test_topics = test_topics.sample(frac= 0.1, random_state=42)\n",
    "#\n",
    "# print(dev_topics)\n",
    "# print(\"ccccc\")\n",
    "# print(test_topics)\n",
    "res, alpha = default_test_pipeline(dataset_name, test_topics, test_qrels, q_encoder,\n",
    "                      eval_metrics, model_name, pipeline_name, path_to_root, model_directory,\n",
    "                      dev_topics, dev_qrels, timed=True, in_memory_sparse=True,\n",
    "                      in_memory_dense=False)\n",
    "res"
   ],
   "metadata": {
    "collapsed": false
   }
  },
  {
   "cell_type": "code",
   "execution_count": null,
   "outputs": [],
   "source": [],
   "metadata": {
    "collapsed": false
   }
  }
 ],
 "metadata": {
  "kernelspec": {
   "display_name": "Python 3",
   "language": "python",
   "name": "python3"
  },
  "language_info": {
   "codemirror_mode": {
    "name": "ipython",
    "version": 2
   },
   "file_extension": ".py",
   "mimetype": "text/x-python",
   "name": "python",
   "nbconvert_exporter": "python",
   "pygments_lexer": "ipython2",
   "version": "2.7.6"
  }
 },
 "nbformat": 4,
 "nbformat_minor": 0
}
