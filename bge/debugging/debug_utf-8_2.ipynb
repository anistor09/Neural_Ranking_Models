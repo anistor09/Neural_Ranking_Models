{
 "cells": [
  {
   "cell_type": "code",
   "execution_count": 7,
   "outputs": [],
   "source": [
    "import pyterrier as pt\n",
    "\n",
    "if not pt.started():\n",
    "    pt.init()"
   ],
   "metadata": {
    "collapsed": false
   }
  },
  {
   "cell_type": "code",
   "execution_count": 21,
   "metadata": {
    "collapsed": true
   },
   "outputs": [
    {
     "name": "stderr",
     "output_type": "stream",
     "text": [
      "beir/fever documents: 100%|██████████| 5416568/5416568 [00:20<00:00, 258299.77it/s]"
     ]
    },
    {
     "name": "stdout",
     "output_type": "stream",
     "text": [
      "max len :226\n"
     ]
    },
    {
     "name": "stderr",
     "output_type": "stream",
     "text": [
      "\n"
     ]
    }
   ],
   "source": [
    "\n",
    "from general_dense_indexers.dense_index_one_dataset import get_dataset_name\n",
    "import ast\n",
    "\n",
    "def docs_iter(dataset):\n",
    "    max_l = 0\n",
    "    for d in dataset.get_corpus_iter():\n",
    "        x = str(d['docno'].encode('utf-8'))\n",
    "        if len(x) > max_l:\n",
    "            max_l = len(x)\n",
    "\n",
    "\n",
    "    print(\"max len :\" + str(max_l))\n",
    "\n",
    "\n",
    "# yield {'docno': str(d['docno'].encode('utf-8')), 'text': d['text']}\n",
    "\n",
    "\n",
    "def index_one(prefix_dataset, dataset_name, max_doc_id_length):\n",
    "    if not pt.started():\n",
    "        pt.init(tqdm=\"notebook\")\n",
    "\n",
    "    dataset = pt.get_dataset(prefix_dataset + dataset_name)\n",
    "\n",
    "    index_path = \"./sparse_indexes/sparse_index_\" + get_dataset_name(prefix_dataset + dataset_name)\n",
    "    indexer = pt.IterDictIndexer(index_path, meta={'docno': max_doc_id_length})\n",
    "\n",
    "    if 'dbpedia' in dataset_name or 'fever' in dataset_name:\n",
    "        # indexer.index(docs_iter(dataset), fields=[\"text\"])\n",
    "        docs_iter(dataset)\n",
    "    else:\n",
    "        indexer.index(dataset.get_corpus_iter(), fields=[\"text\"])\n",
    "\n",
    "\n",
    "prefix_dataset = \"irds:beir/\"\n",
    "dataset_name = \"fever\"\n",
    "max_id_length = 221\n",
    "index_one(prefix_dataset, dataset_name, max_id_length)"
   ]
  },
  {
   "cell_type": "code",
   "execution_count": 8,
   "outputs": [],
   "source": [
    "after_pyterrier = 'b\\'Suzukake_no_Ki_no_Michi_de_\"Kimi_no_Hohoemi_o_Yume_ni_Miru\"_to_Itte_Shimattara_Bokutachi_no_Kankei_wa_D\\\\xc5\\\\x8d_Kawatte_Shimau_no_ka,_Bokunari_ni_Nannichi_ka_Kangaeta_Ue_de_no_Yaya_Kihazukashii_Ketsuron_no_Y\\\\xc5\\\\x8d_na'"
   ],
   "metadata": {
    "collapsed": false
   }
  },
  {
   "cell_type": "code",
   "execution_count": null,
   "outputs": [],
   "source": [],
   "metadata": {
    "collapsed": false
   }
  }
 ],
 "metadata": {
  "kernelspec": {
   "display_name": "Python 3",
   "language": "python",
   "name": "python3"
  },
  "language_info": {
   "codemirror_mode": {
    "name": "ipython",
    "version": 2
   },
   "file_extension": ".py",
   "mimetype": "text/x-python",
   "name": "python",
   "nbconvert_exporter": "python",
   "pygments_lexer": "ipython2",
   "version": "2.7.6"
  }
 },
 "nbformat": 4,
 "nbformat_minor": 0
}
