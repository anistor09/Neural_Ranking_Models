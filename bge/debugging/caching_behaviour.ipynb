{
 "cells": [
  {
   "cell_type": "markdown",
   "source": [
    "## This notebook explores the transformers caching behaviour within Pytherrier"
   ],
   "metadata": {
    "collapsed": false
   }
  },
  {
   "cell_type": "code",
   "execution_count": 1,
   "outputs": [],
   "source": [
    "from experiment_utils.experiments_helper import load_dense_index_from_disk, load_sparse_index_from_disk"
   ],
   "metadata": {
    "collapsed": false
   }
  },
  {
   "cell_type": "code",
   "execution_count": 2,
   "outputs": [
    {
     "name": "stderr",
     "output_type": "stream",
     "text": [
      "PyTerrier 0.10.0 has loaded Terrier 5.9 (built by craigm on 2024-05-02 17:40) and terrier-helper 0.0.8\n",
      "\n",
      "No etc/terrier.properties, using terrier.default.properties for bootstrap configuration.\n"
     ]
    }
   ],
   "source": [
    "import pyterrier as pt\n",
    "\n",
    "if not pt.started():\n",
    "    pt.init()"
   ],
   "metadata": {
    "collapsed": false
   }
  },
  {
   "cell_type": "code",
   "execution_count": 3,
   "outputs": [],
   "source": [
    "from pyterrier.measures import RR, nDCG, MAP\n",
    "\n",
    "eval_metrics = [RR @ 10, nDCG @ 10, MAP @ 100]"
   ],
   "metadata": {
    "collapsed": false
   }
  },
  {
   "cell_type": "code",
   "execution_count": 4,
   "outputs": [],
   "source": [
    "from encoders.bge_base_en import BgeQueryEncoder\n",
    "\n",
    "package = \"BAAI/\"\n",
    "model_name = \"bge-base-en-v1.5\"\n",
    "q_encoder = BgeQueryEncoder(package + model_name)\n",
    "model_directory = 'bge'\n",
    "path_to_root = \"../../\"\n",
    "pipeline_name = \"BM25 >> bge-base-en-v1.5\""
   ],
   "metadata": {
    "collapsed": false
   }
  },
  {
   "cell_type": "code",
   "execution_count": 5,
   "outputs": [
    {
     "name": "stderr",
     "output_type": "stream",
     "text": [
      "100%|██████████| 3633/3633 [00:00<00:00, 1658637.90it/s]\n"
     ]
    }
   ],
   "source": [
    "from experiment_utils.experiments_helper import get_test_dev_sets\n",
    "from fast_forward.util.pyterrier import FFScore\n",
    "from fast_forward_indexes_library_enhancements.pipeline_transformers import FFInterpolateNormalized\n",
    "\n",
    "dataset_name = \"irds:beir/nfcorpus\"\n",
    "dev_set_name = \"irds:beir/nfcorpus/dev\"\n",
    "dataset_test_name = \"irds:beir/nfcorpus/test\"\n",
    "pipeline_name = \"BM25 >> \" + model_name\n",
    "\n",
    "test_topics, test_qrels, dev_topics, dev_qrels = get_test_dev_sets(dataset_test_name, dev_set_name)\n",
    "\n",
    "# Spare index\n",
    "retriever = load_sparse_index_from_disk(dataset_name, path_to_root, in_memory=True)\n",
    "\n",
    "# Dense index\n",
    "dense_index = load_dense_index_from_disk(dataset_name, q_encoder, model_name, path_to_root, model_directory,\n",
    "                                         in_memory=True)\n",
    "\n",
    "ff_score = FFScore(dense_index)\n",
    "# ff_int = FFInterpolate(alpha=alpha)\n",
    "ff_int = FFInterpolateNormalized(alpha=0.3)\n",
    "\n",
    "pipeline1 = retriever % 1000 >> ff_score >> ff_int\n",
    "pipeline2 = ~retriever % 1000 >> ff_score >> ff_int"
   ],
   "metadata": {
    "collapsed": false
   }
  },
  {
   "cell_type": "code",
   "execution_count": 6,
   "outputs": [
    {
     "name": "stdout",
     "output_type": "stream",
     "text": [
      "8.76 s ± 600 ms per loop (mean ± std. dev. of 7 runs, 1 loop each)\n"
     ]
    }
   ],
   "source": [
    "%timeit pipeline1(test_topics)"
   ],
   "metadata": {
    "collapsed": false
   }
  },
  {
   "cell_type": "code",
   "execution_count": 8,
   "outputs": [
    {
     "name": "stdout",
     "output_type": "stream",
     "text": [
      "6.82 s ± 175 ms per loop (mean ± std. dev. of 7 runs, 1 loop each)\n"
     ]
    }
   ],
   "source": [
    "%timeit pipeline2(test_topics)"
   ],
   "metadata": {
    "collapsed": false
   }
  },
  {
   "cell_type": "code",
   "execution_count": 10,
   "outputs": [],
   "source": [
    "pipeline3 = retriever % 100 >> ff_score >> ff_int\n",
    "pipeline4 = ~retriever % 100 >> ff_score >> ff_int"
   ],
   "metadata": {
    "collapsed": false
   }
  },
  {
   "cell_type": "code",
   "execution_count": 11,
   "outputs": [
    {
     "name": "stdout",
     "output_type": "stream",
     "text": [
      "7.13 s ± 172 ms per loop (mean ± std. dev. of 7 runs, 1 loop each)\n"
     ]
    }
   ],
   "source": [
    "% timeit pipeline3(test_topics)"
   ],
   "metadata": {
    "collapsed": false
   }
  },
  {
   "cell_type": "code",
   "execution_count": 12,
   "outputs": [
    {
     "name": "stdout",
     "output_type": "stream",
     "text": [
      "5.52 s ± 251 ms per loop (mean ± std. dev. of 7 runs, 1 loop each)\n"
     ]
    }
   ],
   "source": [
    "% timeit pipeline4(test_topics)"
   ],
   "metadata": {
    "collapsed": false
   }
  },
  {
   "cell_type": "code",
   "execution_count": 13,
   "outputs": [
    {
     "name": "stderr",
     "output_type": "stream",
     "text": [
      "100%|██████████| 57638/57638 [00:00<00:00, 343937.06it/s]\n"
     ]
    }
   ],
   "source": [
    "from experiment_utils.experiments_helper import get_test_dev_sets\n",
    "from fast_forward.util.pyterrier import FFScore\n",
    "from fast_forward_indexes_library_enhancements.pipeline_transformers import FFInterpolateNormalized\n",
    "from fast_forward_indexes_library_enhancements.disk import OnDiskIndex\n",
    "\n",
    "dataset_name = \"irds:beir/fiqa\"\n",
    "dev_set_name = \"irds:beir/fiqa/dev\"\n",
    "dataset_test_name = \"irds:beir/fiqa/test\"\n",
    "pipeline_name = \"BM25 >> \" + model_name\n",
    "\n",
    "test_topics, test_qrels, dev_topics, dev_qrels = get_test_dev_sets(dataset_test_name, dev_set_name)\n",
    "\n",
    "# Spare index\n",
    "retriever = load_sparse_index_from_disk(dataset_name, path_to_root, in_memory=True)\n",
    "\n",
    "# Dense index\n",
    "dense_index = load_dense_index_from_disk(dataset_name, q_encoder, model_name, path_to_root, model_directory,\n",
    "                                         in_memory=True)\n",
    "\n",
    "ff_score = FFScore(dense_index)\n",
    "# ff_int = FFInterpolate(alpha=alpha)\n",
    "ff_int = FFInterpolateNormalized(alpha=0.3)\n",
    "\n",
    "pipeline5 = retriever % 1000 >> ff_score >> ff_int\n",
    "pipeline6 = ~retriever % 1000 >> ff_score >> ff_int"
   ],
   "metadata": {
    "collapsed": false
   }
  },
  {
   "cell_type": "code",
   "execution_count": 14,
   "outputs": [
    {
     "name": "stdout",
     "output_type": "stream",
     "text": [
      "49.7 s ± 12.7 s per loop (mean ± std. dev. of 7 runs, 1 loop each)\n"
     ]
    }
   ],
   "source": [
    "% timeit pipeline5(test_topics)"
   ],
   "metadata": {
    "collapsed": false
   }
  },
  {
   "cell_type": "code",
   "execution_count": 15,
   "outputs": [
    {
     "name": "stdout",
     "output_type": "stream",
     "text": [
      "33.9 s ± 4.67 s per loop (mean ± std. dev. of 7 runs, 1 loop each)\n"
     ]
    }
   ],
   "source": [
    "% timeit pipeline6(test_topics)"
   ],
   "metadata": {
    "collapsed": false
   }
  },
  {
   "cell_type": "code",
   "execution_count": 16,
   "outputs": [],
   "source": [
    "pipeline7 = retriever % 100 >> ff_score >> ff_int\n",
    "pipeline8 = ~retriever % 100 >> ff_score >> ff_int"
   ],
   "metadata": {
    "collapsed": false
   }
  },
  {
   "cell_type": "code",
   "execution_count": 5,
   "outputs": [
    {
     "name": "stderr",
     "output_type": "stream",
     "text": [
      "100%|██████████| 3633/3633 [00:00<00:00, 1484597.28it/s]\n"
     ]
    }
   ],
   "source": [
    "from experiment_utils.experiments_helper import get_test_dev_sets\n",
    "from fast_forward.util.pyterrier import FFScore\n",
    "from fast_forward_indexes_library_enhancements.pipeline_transformers import FFInterpolateNormalized\n",
    "\n",
    "dataset_name = \"irds:beir/nfcorpus\"\n",
    "dev_set_name = \"irds:beir/nfcorpus/dev\"\n",
    "dataset_test_name = \"irds:beir/nfcorpus/test\"\n",
    "pipeline_name = \"BM25 >> \" + model_name\n",
    "\n",
    "test_topics, test_qrels, dev_topics, dev_qrels = get_test_dev_sets(dataset_test_name, dev_set_name)\n",
    "\n",
    "# Spare index\n",
    "retriever = load_sparse_index_from_disk(dataset_name, path_to_root, in_memory=True)\n",
    "\n",
    "# Dense index\n",
    "dense_index = load_dense_index_from_disk(dataset_name, q_encoder, model_name, path_to_root, model_directory,\n",
    "                                         in_memory=True)\n",
    "\n",
    "ff_score = FFScore(dense_index)\n",
    "# ff_int = FFInterpolate(alpha=alpha)\n",
    "ff_int = FFInterpolateNormalized(alpha=0.3)\n",
    "\n",
    "pipeline9 = retriever\n",
    "pipeline10 = ~retriever"
   ],
   "metadata": {
    "collapsed": false
   }
  },
  {
   "cell_type": "code",
   "execution_count": 7,
   "outputs": [
    {
     "name": "stdout",
     "output_type": "stream",
     "text": [
      "1.98 s ± 253 ms per loop (mean ± std. dev. of 7 runs, 1 loop each)\n"
     ]
    }
   ],
   "source": [
    "%timeit pipeline9(test_topics)"
   ],
   "metadata": {
    "collapsed": false
   }
  },
  {
   "cell_type": "code",
   "execution_count": 8,
   "outputs": [
    {
     "name": "stdout",
     "output_type": "stream",
     "text": [
      "149 ms ± 6.68 ms per loop (mean ± std. dev. of 7 runs, 1 loop each)\n"
     ]
    }
   ],
   "source": [
    "%timeit pipeline10(test_topics)"
   ],
   "metadata": {
    "collapsed": false
   }
  },
  {
   "cell_type": "code",
   "execution_count": 12,
   "outputs": [
    {
     "data": {
      "text/plain": "           name     RR@10   nDCG@10    AP@100\n0           FFI  0.577725  0.363031  0.169080\n1  ~BM25 in FFI  0.577725  0.363031  0.169080\n2          BM25  0.534378  0.322219  0.143582\n3         ~BM25  0.534378  0.322219  0.143582",
      "text/html": "<div>\n<style scoped>\n    .dataframe tbody tr th:only-of-type {\n        vertical-align: middle;\n    }\n\n    .dataframe tbody tr th {\n        vertical-align: top;\n    }\n\n    .dataframe thead th {\n        text-align: right;\n    }\n</style>\n<table border=\"1\" class=\"dataframe\">\n  <thead>\n    <tr style=\"text-align: right;\">\n      <th></th>\n      <th>name</th>\n      <th>RR@10</th>\n      <th>nDCG@10</th>\n      <th>AP@100</th>\n    </tr>\n  </thead>\n  <tbody>\n    <tr>\n      <th>0</th>\n      <td>FFI</td>\n      <td>0.577725</td>\n      <td>0.363031</td>\n      <td>0.169080</td>\n    </tr>\n    <tr>\n      <th>1</th>\n      <td>~BM25 in FFI</td>\n      <td>0.577725</td>\n      <td>0.363031</td>\n      <td>0.169080</td>\n    </tr>\n    <tr>\n      <th>2</th>\n      <td>BM25</td>\n      <td>0.534378</td>\n      <td>0.322219</td>\n      <td>0.143582</td>\n    </tr>\n    <tr>\n      <th>3</th>\n      <td>~BM25</td>\n      <td>0.534378</td>\n      <td>0.322219</td>\n      <td>0.143582</td>\n    </tr>\n  </tbody>\n</table>\n</div>"
     },
     "execution_count": 12,
     "metadata": {},
     "output_type": "execute_result"
    }
   ],
   "source": [
    "pt.Experiment(\n",
    "    [pipeline1, pipeline2, pipeline9, pipeline10],\n",
    "     test_topics,\n",
    "     test_qrels,\n",
    "     eval_metrics = [RR @ 10, nDCG @ 10, MAP @ 100],\n",
    "    names=[\"FFI\", \"~BM25 in FFI\", \"BM25\", \"~BM25\"]\n",
    ")"
   ],
   "metadata": {
    "collapsed": false
   }
  },
  {
   "cell_type": "code",
   "execution_count": null,
   "outputs": [],
   "source": [],
   "metadata": {
    "collapsed": false
   }
  }
 ],
 "metadata": {
  "kernelspec": {
   "display_name": "Python 3",
   "language": "python",
   "name": "python3"
  },
  "language_info": {
   "codemirror_mode": {
    "name": "ipython",
    "version": 2
   },
   "file_extension": ".py",
   "mimetype": "text/x-python",
   "name": "python",
   "nbconvert_exporter": "python",
   "pygments_lexer": "ipython2",
   "version": "2.7.6"
  }
 },
 "nbformat": 4,
 "nbformat_minor": 0
}
