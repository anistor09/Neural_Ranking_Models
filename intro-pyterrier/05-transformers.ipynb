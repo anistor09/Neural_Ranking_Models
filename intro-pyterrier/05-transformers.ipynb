{
 "cells": [
  {
   "cell_type": "markdown",
   "metadata": {},
   "source": [
    "# Introduction to PyTerrier\n",
    "\n",
    "_IN4325: Information retrieval lecture, TU Delft_\n",
    "\n",
    "**Part 5: Transformers**\n",
    "\n",
    "This notebook introduces PyTerrier _transformers_ (not to be confused with [neural transformer models](<https://en.wikipedia.org/wiki/Transformer_(deep_learning_architecture)>)). We'll learn about the different types of data frames that PyTerrier uses and how the transformers operate on them.\n",
    "\n",
    "In order to run everything in this notebook, you'll need [pyspellchecker](https://github.com/barrust/pyspellchecker) installed:\n"
   ]
  },
  {
   "cell_type": "code",
   "execution_count": 1,
   "metadata": {
    "vscode": {
     "languageId": "shellscript"
    }
   },
   "outputs": [
    {
     "name": "stdout",
     "output_type": "stream",
     "text": [
      "Defaulting to user installation because normal site-packages is not writeable\r\n",
      "Requirement already satisfied: python-terrier==0.10.0 in /home/anistor/.local/lib/python3.10/site-packages (0.10.0)\r\n",
      "Requirement already satisfied: pyspellchecker in /home/anistor/.local/lib/python3.10/site-packages (0.8.1)\r\n",
      "Requirement already satisfied: numpy in /home/anistor/.local/lib/python3.10/site-packages (from python-terrier==0.10.0) (1.26.4)\r\n",
      "Requirement already satisfied: pandas in /home/anistor/.local/lib/python3.10/site-packages (from python-terrier==0.10.0) (2.2.2)\r\n",
      "Requirement already satisfied: wget in /home/anistor/.local/lib/python3.10/site-packages (from python-terrier==0.10.0) (3.2)\r\n",
      "Requirement already satisfied: tqdm in /home/anistor/.local/lib/python3.10/site-packages (from python-terrier==0.10.0) (4.66.2)\r\n",
      "Requirement already satisfied: pyjnius>=1.4.2 in /home/anistor/.local/lib/python3.10/site-packages (from python-terrier==0.10.0) (1.6.1)\r\n",
      "Requirement already satisfied: matchpy in /home/anistor/.local/lib/python3.10/site-packages (from python-terrier==0.10.0) (0.5.5)\r\n",
      "Requirement already satisfied: scikit-learn in /home/anistor/.local/lib/python3.10/site-packages (from python-terrier==0.10.0) (1.4.2)\r\n",
      "Requirement already satisfied: deprecated in /home/anistor/.local/lib/python3.10/site-packages (from python-terrier==0.10.0) (1.2.14)\r\n",
      "Requirement already satisfied: chest in /home/anistor/.local/lib/python3.10/site-packages (from python-terrier==0.10.0) (0.2.3)\r\n",
      "Requirement already satisfied: scipy in /home/anistor/.local/lib/python3.10/site-packages (from python-terrier==0.10.0) (1.13.0)\r\n",
      "Requirement already satisfied: requests in /usr/local/lib/python3.10/dist-packages (from python-terrier==0.10.0) (2.31.0)\r\n",
      "Requirement already satisfied: joblib in /home/anistor/.local/lib/python3.10/site-packages (from python-terrier==0.10.0) (1.4.0)\r\n",
      "Requirement already satisfied: nptyping==1.4.4 in /home/anistor/.local/lib/python3.10/site-packages (from python-terrier==0.10.0) (1.4.4)\r\n",
      "Requirement already satisfied: more-itertools in /usr/lib/python3/dist-packages (from python-terrier==0.10.0) (8.10.0)\r\n",
      "Requirement already satisfied: ir-datasets>=0.3.2 in /home/anistor/.local/lib/python3.10/site-packages (from python-terrier==0.10.0) (0.5.6)\r\n",
      "Requirement already satisfied: jinja2 in /usr/lib/python3/dist-packages (from python-terrier==0.10.0) (3.0.3)\r\n",
      "Requirement already satisfied: statsmodels in /home/anistor/.local/lib/python3.10/site-packages (from python-terrier==0.10.0) (0.14.2)\r\n",
      "Requirement already satisfied: ir-measures>=0.3.1 in /home/anistor/.local/lib/python3.10/site-packages (from python-terrier==0.10.0) (0.3.3)\r\n",
      "Requirement already satisfied: dill in /home/anistor/.local/lib/python3.10/site-packages (from python-terrier==0.10.0) (0.3.8)\r\n",
      "Requirement already satisfied: pytrec-eval-terrier>=0.5.3 in /home/anistor/.local/lib/python3.10/site-packages (from python-terrier==0.10.0) (0.5.6)\r\n",
      "Requirement already satisfied: typish>=1.7.0 in /home/anistor/.local/lib/python3.10/site-packages (from nptyping==1.4.4->python-terrier==0.10.0) (1.9.3)\r\n",
      "Requirement already satisfied: beautifulsoup4>=4.4.1 in /usr/local/lib/python3.10/dist-packages (from ir-datasets>=0.3.2->python-terrier==0.10.0) (4.12.3)\r\n",
      "Requirement already satisfied: inscriptis>=2.2.0 in /home/anistor/.local/lib/python3.10/site-packages (from ir-datasets>=0.3.2->python-terrier==0.10.0) (2.5.0)\r\n",
      "Requirement already satisfied: lxml>=4.5.2 in /home/anistor/.local/lib/python3.10/site-packages (from ir-datasets>=0.3.2->python-terrier==0.10.0) (5.2.1)\r\n",
      "Requirement already satisfied: pyyaml>=5.3.1 in /usr/lib/python3/dist-packages (from ir-datasets>=0.3.2->python-terrier==0.10.0) (5.4.1)\r\n",
      "Requirement already satisfied: trec-car-tools>=2.5.4 in /home/anistor/.local/lib/python3.10/site-packages (from ir-datasets>=0.3.2->python-terrier==0.10.0) (2.6)\r\n",
      "Requirement already satisfied: lz4>=3.1.10 in /home/anistor/.local/lib/python3.10/site-packages (from ir-datasets>=0.3.2->python-terrier==0.10.0) (4.3.3)\r\n",
      "Requirement already satisfied: warc3-wet>=0.2.3 in /home/anistor/.local/lib/python3.10/site-packages (from ir-datasets>=0.3.2->python-terrier==0.10.0) (0.2.3)\r\n",
      "Requirement already satisfied: warc3-wet-clueweb09>=0.2.5 in /home/anistor/.local/lib/python3.10/site-packages (from ir-datasets>=0.3.2->python-terrier==0.10.0) (0.2.5)\r\n",
      "Requirement already satisfied: zlib-state>=0.1.3 in /home/anistor/.local/lib/python3.10/site-packages (from ir-datasets>=0.3.2->python-terrier==0.10.0) (0.1.6)\r\n",
      "Requirement already satisfied: ijson>=3.1.3 in /home/anistor/.local/lib/python3.10/site-packages (from ir-datasets>=0.3.2->python-terrier==0.10.0) (3.2.3)\r\n",
      "Requirement already satisfied: pyautocorpus>=0.1.1 in /home/anistor/.local/lib/python3.10/site-packages (from ir-datasets>=0.3.2->python-terrier==0.10.0) (0.1.12)\r\n",
      "Requirement already satisfied: unlzw3>=0.2.1 in /home/anistor/.local/lib/python3.10/site-packages (from ir-datasets>=0.3.2->python-terrier==0.10.0) (0.2.2)\r\n",
      "Requirement already satisfied: cwl-eval>=1.0.10 in /home/anistor/.local/lib/python3.10/site-packages (from ir-measures>=0.3.1->python-terrier==0.10.0) (1.0.12)\r\n",
      "Requirement already satisfied: charset-normalizer<4,>=2 in /usr/local/lib/python3.10/dist-packages (from requests->python-terrier==0.10.0) (3.3.2)\r\n",
      "Requirement already satisfied: idna<4,>=2.5 in /usr/lib/python3/dist-packages (from requests->python-terrier==0.10.0) (3.3)\r\n",
      "Requirement already satisfied: urllib3<3,>=1.21.1 in /usr/lib/python3/dist-packages (from requests->python-terrier==0.10.0) (1.26.5)\r\n",
      "Requirement already satisfied: certifi>=2017.4.17 in /usr/lib/python3/dist-packages (from requests->python-terrier==0.10.0) (2020.6.20)\r\n",
      "Requirement already satisfied: heapdict in /home/anistor/.local/lib/python3.10/site-packages (from chest->python-terrier==0.10.0) (1.0.1)\r\n",
      "Requirement already satisfied: wrapt<2,>=1.10 in /home/anistor/.local/lib/python3.10/site-packages (from deprecated->python-terrier==0.10.0) (1.16.0)\r\n",
      "Requirement already satisfied: multiset<3.0,>=2.0 in /home/anistor/.local/lib/python3.10/site-packages (from matchpy->python-terrier==0.10.0) (2.1.1)\r\n",
      "Requirement already satisfied: python-dateutil>=2.8.2 in /usr/local/lib/python3.10/dist-packages (from pandas->python-terrier==0.10.0) (2.9.0.post0)\r\n",
      "Requirement already satisfied: pytz>=2020.1 in /usr/lib/python3/dist-packages (from pandas->python-terrier==0.10.0) (2022.1)\r\n",
      "Requirement already satisfied: tzdata>=2022.7 in /home/anistor/.local/lib/python3.10/site-packages (from pandas->python-terrier==0.10.0) (2024.1)\r\n",
      "Requirement already satisfied: threadpoolctl>=2.0.0 in /home/anistor/.local/lib/python3.10/site-packages (from scikit-learn->python-terrier==0.10.0) (3.4.0)\r\n",
      "Requirement already satisfied: patsy>=0.5.6 in /home/anistor/.local/lib/python3.10/site-packages (from statsmodels->python-terrier==0.10.0) (0.5.6)\r\n",
      "Requirement already satisfied: packaging>=21.3 in /usr/local/lib/python3.10/dist-packages (from statsmodels->python-terrier==0.10.0) (24.0)\r\n",
      "Requirement already satisfied: soupsieve>1.2 in /usr/local/lib/python3.10/dist-packages (from beautifulsoup4>=4.4.1->ir-datasets>=0.3.2->python-terrier==0.10.0) (2.5)\r\n",
      "Requirement already satisfied: six in /usr/lib/python3/dist-packages (from patsy>=0.5.6->statsmodels->python-terrier==0.10.0) (1.16.0)\r\n",
      "Requirement already satisfied: cbor>=1.0.0 in /home/anistor/.local/lib/python3.10/site-packages (from trec-car-tools>=2.5.4->ir-datasets>=0.3.2->python-terrier==0.10.0) (1.0.0)\r\n",
      "Note: you may need to restart the kernel to use updated packages.\n"
     ]
    }
   ],
   "source": [
    "pip install python-terrier==0.10.0 pyspellchecker"
   ]
  },
  {
   "cell_type": "markdown",
   "metadata": {},
   "source": [
    "Because we're going to use RM3 in this notebook, we'll need to load the `terrier-prf` plugin:\n"
   ]
  },
  {
   "cell_type": "code",
   "execution_count": 2,
   "metadata": {},
   "outputs": [
    {
     "name": "stderr",
     "output_type": "stream",
     "text": [
      "PyTerrier 0.10.0 has loaded Terrier 5.9 (built by craigm on 2024-05-02 17:40) and terrier-helper 0.0.8\n",
      "\n",
      "No etc/terrier.properties, using terrier.default.properties for bootstrap configuration.\n"
     ]
    }
   ],
   "source": [
    "import pyterrier as pt\n",
    "\n",
    "if not pt.started():\n",
    "    pt.init(\n",
    "        tqdm=\"notebook\", boot_packages=[\"com.github.terrierteam:terrier-prf:-SNAPSHOT\"]\n",
    "    )"
   ]
  },
  {
   "cell_type": "markdown",
   "metadata": {},
   "source": [
    "In the following, we'll illustrate the different kinds of transformers and data frames using examples. Note that we're only scratching the surface here, so **make sure to have a look at the [documentation](https://pyterrier.readthedocs.io/)**!\n",
    "\n",
    "We'll use the `nfcorpus` dataset:\n"
   ]
  },
  {
   "cell_type": "code",
   "execution_count": 3,
   "metadata": {},
   "outputs": [],
   "source": [
    "dataset = pt.get_dataset(\"irds:nfcorpus/test\")"
   ]
  },
  {
   "cell_type": "markdown",
   "metadata": {},
   "source": [
    "For this task we'll need an index with blocks (i.e., positional information), so we need to create a new one. Since memory indexes do not support blocks at the moment, we'll create one on disk:\n"
   ]
  },
  {
   "cell_type": "code",
   "execution_count": 4,
   "metadata": {},
   "outputs": [],
   "source": [
    "from pathlib import Path\n",
    "\n",
    "idx_path = Path(\"nfcorpus_index_with_blocks\").absolute()"
   ]
  },
  {
   "cell_type": "markdown",
   "metadata": {},
   "source": [
    "We index the corpus with `blocks=True`:\n"
   ]
  },
  {
   "cell_type": "code",
   "execution_count": 5,
   "metadata": {},
   "outputs": [
    {
     "data": {
      "text/plain": "nfcorpus/test documents:   0%|          | 0/5371 [00:00<?, ?it/s]",
      "application/vnd.jupyter.widget-view+json": {
       "version_major": 2,
       "version_minor": 0,
       "model_id": "80774543e0974b1f9d039160780241c9"
      }
     },
     "metadata": {},
     "output_type": "display_data"
    },
    {
     "data": {
      "text/plain": "<org.terrier.querying.IndexRef at 0x7f864cea3c40 jclass=org/terrier/querying/IndexRef jself=<LocalRef obj=0x5645b0104748 at 0x7f864c5ac950>>"
     },
     "execution_count": 5,
     "metadata": {},
     "output_type": "execute_result"
    }
   ],
   "source": [
    "pt.index.IterDictIndexer(\n",
    "    str(idx_path),\n",
    "    blocks=True,\n",
    ").index(dataset.get_corpus_iter(), fields=[\"title\", \"abstract\", \"url\"])"
   ]
  },
  {
   "cell_type": "markdown",
   "metadata": {},
   "source": [
    "## Data format\n",
    "\n",
    "Recall that the queries (topics) of a dataset can be accessed using the `get_topics` method. For this dataset, there are multiple variants; we choose `title`:\n"
   ]
  },
  {
   "cell_type": "code",
   "execution_count": 6,
   "metadata": {},
   "outputs": [
    {
     "data": {
      "text/plain": "            qid                                query\n0    PLAIN-1008                             deafness\n1    PLAIN-1018                                  dha\n2     PLAIN-102  stopping heart disease in childhood\n3    PLAIN-1028                      dietary scoring\n4    PLAIN-1039                          domoic acid\n..          ...                                  ...\n320   PLAIN-956                      cooking methods\n321   PLAIN-966                             cortisol\n322   PLAIN-977                           crib death\n323   PLAIN-987                                cumin\n324   PLAIN-997                       czechoslovakia\n\n[325 rows x 2 columns]",
      "text/html": "<div>\n<style scoped>\n    .dataframe tbody tr th:only-of-type {\n        vertical-align: middle;\n    }\n\n    .dataframe tbody tr th {\n        vertical-align: top;\n    }\n\n    .dataframe thead th {\n        text-align: right;\n    }\n</style>\n<table border=\"1\" class=\"dataframe\">\n  <thead>\n    <tr style=\"text-align: right;\">\n      <th></th>\n      <th>qid</th>\n      <th>query</th>\n    </tr>\n  </thead>\n  <tbody>\n    <tr>\n      <th>0</th>\n      <td>PLAIN-1008</td>\n      <td>deafness</td>\n    </tr>\n    <tr>\n      <th>1</th>\n      <td>PLAIN-1018</td>\n      <td>dha</td>\n    </tr>\n    <tr>\n      <th>2</th>\n      <td>PLAIN-102</td>\n      <td>stopping heart disease in childhood</td>\n    </tr>\n    <tr>\n      <th>3</th>\n      <td>PLAIN-1028</td>\n      <td>dietary scoring</td>\n    </tr>\n    <tr>\n      <th>4</th>\n      <td>PLAIN-1039</td>\n      <td>domoic acid</td>\n    </tr>\n    <tr>\n      <th>...</th>\n      <td>...</td>\n      <td>...</td>\n    </tr>\n    <tr>\n      <th>320</th>\n      <td>PLAIN-956</td>\n      <td>cooking methods</td>\n    </tr>\n    <tr>\n      <th>321</th>\n      <td>PLAIN-966</td>\n      <td>cortisol</td>\n    </tr>\n    <tr>\n      <th>322</th>\n      <td>PLAIN-977</td>\n      <td>crib death</td>\n    </tr>\n    <tr>\n      <th>323</th>\n      <td>PLAIN-987</td>\n      <td>cumin</td>\n    </tr>\n    <tr>\n      <th>324</th>\n      <td>PLAIN-997</td>\n      <td>czechoslovakia</td>\n    </tr>\n  </tbody>\n</table>\n<p>325 rows × 2 columns</p>\n</div>"
     },
     "execution_count": 6,
     "metadata": {},
     "output_type": "execute_result"
    }
   ],
   "source": [
    "queries = dataset.get_topics(variant=\"title\")\n",
    "queries"
   ]
  },
  {
   "cell_type": "markdown",
   "metadata": {},
   "source": [
    "In general, PyTerrier represents all data as `pandas.DataFrame` objects.\n",
    "\n",
    "The method above outputs a data frame with two columns, `qid` and `query`. In PyTerrier, data frames of this format are referred to as _data type_ `Q`, and they essentially represent a set of queries, each of which has a unique identifier. In fact, we have already constructed our own `Q` data frames in the scaffolding project.\n",
    "\n",
    "There are some other data types, and we will introduce them throughout the rest of this series. You can find an overview [here](https://pyterrier.readthedocs.io/en/latest/datamodel.html).\n",
    "\n",
    "## Transformers\n",
    "\n",
    "_Transformers_ directly operate on these data frames; in other words, a transformer takes as input a data frame of some type and outputs another data frame (of the same or another type). We'll take a look at several pre-implemented transformers in this notebook.\n",
    "\n",
    "### Retrieval transformers\n",
    "\n",
    "Retrievers are the most common transformers, and we have already used them plenty throughout this introductory series. For example, let's take a BM25 model as before:\n"
   ]
  },
  {
   "cell_type": "code",
   "execution_count": 7,
   "metadata": {},
   "outputs": [],
   "source": [
    "index = pt.IndexFactory.of(str(idx_path))\n",
    "bm25 = pt.BatchRetrieve(index, wmodel=\"BM25\")"
   ]
  },
  {
   "cell_type": "markdown",
   "metadata": {},
   "source": [
    "This transformer consumes data of type `Q` and returns data of type `R` (i.e., columns `qid`, `docno`, `score`, `rank`), which corresponds to a ranking. The transformation can be invoked by calling the `transform` method:\n"
   ]
  },
  {
   "cell_type": "code",
   "execution_count": 8,
   "metadata": {},
   "outputs": [
    {
     "name": "stdout",
     "output_type": "stream",
     "text": [
      "09:43:30.490 [main] WARN org.terrier.structures.FSADocumentIndex - This index has fields, but FSADocumentIndex is used (which stores fields lengths on disk); If using field-based models such as BM25F, change to index.document.class in the index  properties file to FSAFieldDocumentIndex or FSADocumentIndexInMemFields to support efficient retrieval. If you don't use (e.g.) BM25F, this warning can be ignored\n"
     ]
    },
    {
     "data": {
      "text/plain": "               qid  docid     docno  rank      score     query\n0       PLAIN-1008   4667  MED-4668     0  13.495859  deafness\n1       PLAIN-1018   5094  MED-5095     0  14.204196       dha\n2       PLAIN-1018    928   MED-929     1  14.033904       dha\n3       PLAIN-1018   4622  MED-4623     2  14.033904       dha\n4       PLAIN-1018   4930  MED-4931     3  14.033904       dha\n...            ...    ...       ...   ...        ...       ...\n143708   PLAIN-987   1292  MED-1293     2   9.748835     cumin\n143709   PLAIN-987    230   MED-231     3   8.698382     cumin\n143710   PLAIN-987    232   MED-233     4   8.698382     cumin\n143711   PLAIN-987   2827  MED-2828     5   8.698382     cumin\n143712   PLAIN-987   2829  MED-2830     6   8.698382     cumin\n\n[143713 rows x 6 columns]",
      "text/html": "<div>\n<style scoped>\n    .dataframe tbody tr th:only-of-type {\n        vertical-align: middle;\n    }\n\n    .dataframe tbody tr th {\n        vertical-align: top;\n    }\n\n    .dataframe thead th {\n        text-align: right;\n    }\n</style>\n<table border=\"1\" class=\"dataframe\">\n  <thead>\n    <tr style=\"text-align: right;\">\n      <th></th>\n      <th>qid</th>\n      <th>docid</th>\n      <th>docno</th>\n      <th>rank</th>\n      <th>score</th>\n      <th>query</th>\n    </tr>\n  </thead>\n  <tbody>\n    <tr>\n      <th>0</th>\n      <td>PLAIN-1008</td>\n      <td>4667</td>\n      <td>MED-4668</td>\n      <td>0</td>\n      <td>13.495859</td>\n      <td>deafness</td>\n    </tr>\n    <tr>\n      <th>1</th>\n      <td>PLAIN-1018</td>\n      <td>5094</td>\n      <td>MED-5095</td>\n      <td>0</td>\n      <td>14.204196</td>\n      <td>dha</td>\n    </tr>\n    <tr>\n      <th>2</th>\n      <td>PLAIN-1018</td>\n      <td>928</td>\n      <td>MED-929</td>\n      <td>1</td>\n      <td>14.033904</td>\n      <td>dha</td>\n    </tr>\n    <tr>\n      <th>3</th>\n      <td>PLAIN-1018</td>\n      <td>4622</td>\n      <td>MED-4623</td>\n      <td>2</td>\n      <td>14.033904</td>\n      <td>dha</td>\n    </tr>\n    <tr>\n      <th>4</th>\n      <td>PLAIN-1018</td>\n      <td>4930</td>\n      <td>MED-4931</td>\n      <td>3</td>\n      <td>14.033904</td>\n      <td>dha</td>\n    </tr>\n    <tr>\n      <th>...</th>\n      <td>...</td>\n      <td>...</td>\n      <td>...</td>\n      <td>...</td>\n      <td>...</td>\n      <td>...</td>\n    </tr>\n    <tr>\n      <th>143708</th>\n      <td>PLAIN-987</td>\n      <td>1292</td>\n      <td>MED-1293</td>\n      <td>2</td>\n      <td>9.748835</td>\n      <td>cumin</td>\n    </tr>\n    <tr>\n      <th>143709</th>\n      <td>PLAIN-987</td>\n      <td>230</td>\n      <td>MED-231</td>\n      <td>3</td>\n      <td>8.698382</td>\n      <td>cumin</td>\n    </tr>\n    <tr>\n      <th>143710</th>\n      <td>PLAIN-987</td>\n      <td>232</td>\n      <td>MED-233</td>\n      <td>4</td>\n      <td>8.698382</td>\n      <td>cumin</td>\n    </tr>\n    <tr>\n      <th>143711</th>\n      <td>PLAIN-987</td>\n      <td>2827</td>\n      <td>MED-2828</td>\n      <td>5</td>\n      <td>8.698382</td>\n      <td>cumin</td>\n    </tr>\n    <tr>\n      <th>143712</th>\n      <td>PLAIN-987</td>\n      <td>2829</td>\n      <td>MED-2830</td>\n      <td>6</td>\n      <td>8.698382</td>\n      <td>cumin</td>\n    </tr>\n  </tbody>\n</table>\n<p>143713 rows × 6 columns</p>\n</div>"
     },
     "execution_count": 8,
     "metadata": {},
     "output_type": "execute_result"
    }
   ],
   "source": [
    "bm25.transform(queries)"
   ]
  },
  {
   "cell_type": "markdown",
   "metadata": {},
   "source": [
    "Note that our result is actually a superset of `R` (we have an additional column, `query`). In general, data frames may have more columns than a specific transformer requires, but they can still be used.\n",
    "\n",
    "Alternatively, the transformer can be called directly, as we have done so far, which gives the same result:\n"
   ]
  },
  {
   "cell_type": "code",
   "execution_count": 9,
   "metadata": {},
   "outputs": [
    {
     "data": {
      "text/plain": "               qid  docid     docno  rank      score     query\n0       PLAIN-1008   4667  MED-4668     0  13.495859  deafness\n1       PLAIN-1018   5094  MED-5095     0  14.204196       dha\n2       PLAIN-1018    928   MED-929     1  14.033904       dha\n3       PLAIN-1018   4622  MED-4623     2  14.033904       dha\n4       PLAIN-1018   4930  MED-4931     3  14.033904       dha\n...            ...    ...       ...   ...        ...       ...\n143708   PLAIN-987   1292  MED-1293     2   9.748835     cumin\n143709   PLAIN-987    230   MED-231     3   8.698382     cumin\n143710   PLAIN-987    232   MED-233     4   8.698382     cumin\n143711   PLAIN-987   2827  MED-2828     5   8.698382     cumin\n143712   PLAIN-987   2829  MED-2830     6   8.698382     cumin\n\n[143713 rows x 6 columns]",
      "text/html": "<div>\n<style scoped>\n    .dataframe tbody tr th:only-of-type {\n        vertical-align: middle;\n    }\n\n    .dataframe tbody tr th {\n        vertical-align: top;\n    }\n\n    .dataframe thead th {\n        text-align: right;\n    }\n</style>\n<table border=\"1\" class=\"dataframe\">\n  <thead>\n    <tr style=\"text-align: right;\">\n      <th></th>\n      <th>qid</th>\n      <th>docid</th>\n      <th>docno</th>\n      <th>rank</th>\n      <th>score</th>\n      <th>query</th>\n    </tr>\n  </thead>\n  <tbody>\n    <tr>\n      <th>0</th>\n      <td>PLAIN-1008</td>\n      <td>4667</td>\n      <td>MED-4668</td>\n      <td>0</td>\n      <td>13.495859</td>\n      <td>deafness</td>\n    </tr>\n    <tr>\n      <th>1</th>\n      <td>PLAIN-1018</td>\n      <td>5094</td>\n      <td>MED-5095</td>\n      <td>0</td>\n      <td>14.204196</td>\n      <td>dha</td>\n    </tr>\n    <tr>\n      <th>2</th>\n      <td>PLAIN-1018</td>\n      <td>928</td>\n      <td>MED-929</td>\n      <td>1</td>\n      <td>14.033904</td>\n      <td>dha</td>\n    </tr>\n    <tr>\n      <th>3</th>\n      <td>PLAIN-1018</td>\n      <td>4622</td>\n      <td>MED-4623</td>\n      <td>2</td>\n      <td>14.033904</td>\n      <td>dha</td>\n    </tr>\n    <tr>\n      <th>4</th>\n      <td>PLAIN-1018</td>\n      <td>4930</td>\n      <td>MED-4931</td>\n      <td>3</td>\n      <td>14.033904</td>\n      <td>dha</td>\n    </tr>\n    <tr>\n      <th>...</th>\n      <td>...</td>\n      <td>...</td>\n      <td>...</td>\n      <td>...</td>\n      <td>...</td>\n      <td>...</td>\n    </tr>\n    <tr>\n      <th>143708</th>\n      <td>PLAIN-987</td>\n      <td>1292</td>\n      <td>MED-1293</td>\n      <td>2</td>\n      <td>9.748835</td>\n      <td>cumin</td>\n    </tr>\n    <tr>\n      <th>143709</th>\n      <td>PLAIN-987</td>\n      <td>230</td>\n      <td>MED-231</td>\n      <td>3</td>\n      <td>8.698382</td>\n      <td>cumin</td>\n    </tr>\n    <tr>\n      <th>143710</th>\n      <td>PLAIN-987</td>\n      <td>232</td>\n      <td>MED-233</td>\n      <td>4</td>\n      <td>8.698382</td>\n      <td>cumin</td>\n    </tr>\n    <tr>\n      <th>143711</th>\n      <td>PLAIN-987</td>\n      <td>2827</td>\n      <td>MED-2828</td>\n      <td>5</td>\n      <td>8.698382</td>\n      <td>cumin</td>\n    </tr>\n    <tr>\n      <th>143712</th>\n      <td>PLAIN-987</td>\n      <td>2829</td>\n      <td>MED-2830</td>\n      <td>6</td>\n      <td>8.698382</td>\n      <td>cumin</td>\n    </tr>\n  </tbody>\n</table>\n<p>143713 rows × 6 columns</p>\n</div>"
     },
     "execution_count": 9,
     "metadata": {},
     "output_type": "execute_result"
    }
   ],
   "source": [
    "bm25(queries)"
   ]
  },
  {
   "cell_type": "markdown",
   "metadata": {},
   "source": [
    "Furthermore, transformers implement the `search` method, which processes a single query:\n"
   ]
  },
  {
   "cell_type": "code",
   "execution_count": 10,
   "metadata": {},
   "outputs": [
    {
     "data": {
      "text/plain": "    qid  docid     docno  rank     score                        query\n0     1   2302  MED-2303     0  9.443163  what is the meaning of life\n1     1   2505  MED-2506     1  9.296906  what is the meaning of life\n2     1    257   MED-258     2  9.250432  what is the meaning of life\n3     1   2901  MED-2902     3  9.250432  what is the meaning of life\n4     1   3002  MED-3003     4  9.250432  what is the meaning of life\n..   ..    ...       ...   ...       ...                          ...\n995   1   3776  MED-3777   995  2.229604  what is the meaning of life\n996   1   3795  MED-3796   996  2.229604  what is the meaning of life\n997   1   4706  MED-4707   997  2.229604  what is the meaning of life\n998   1   4785  MED-4786   998  2.229604  what is the meaning of life\n999   1    938   MED-939   999  2.224531  what is the meaning of life\n\n[1000 rows x 6 columns]",
      "text/html": "<div>\n<style scoped>\n    .dataframe tbody tr th:only-of-type {\n        vertical-align: middle;\n    }\n\n    .dataframe tbody tr th {\n        vertical-align: top;\n    }\n\n    .dataframe thead th {\n        text-align: right;\n    }\n</style>\n<table border=\"1\" class=\"dataframe\">\n  <thead>\n    <tr style=\"text-align: right;\">\n      <th></th>\n      <th>qid</th>\n      <th>docid</th>\n      <th>docno</th>\n      <th>rank</th>\n      <th>score</th>\n      <th>query</th>\n    </tr>\n  </thead>\n  <tbody>\n    <tr>\n      <th>0</th>\n      <td>1</td>\n      <td>2302</td>\n      <td>MED-2303</td>\n      <td>0</td>\n      <td>9.443163</td>\n      <td>what is the meaning of life</td>\n    </tr>\n    <tr>\n      <th>1</th>\n      <td>1</td>\n      <td>2505</td>\n      <td>MED-2506</td>\n      <td>1</td>\n      <td>9.296906</td>\n      <td>what is the meaning of life</td>\n    </tr>\n    <tr>\n      <th>2</th>\n      <td>1</td>\n      <td>257</td>\n      <td>MED-258</td>\n      <td>2</td>\n      <td>9.250432</td>\n      <td>what is the meaning of life</td>\n    </tr>\n    <tr>\n      <th>3</th>\n      <td>1</td>\n      <td>2901</td>\n      <td>MED-2902</td>\n      <td>3</td>\n      <td>9.250432</td>\n      <td>what is the meaning of life</td>\n    </tr>\n    <tr>\n      <th>4</th>\n      <td>1</td>\n      <td>3002</td>\n      <td>MED-3003</td>\n      <td>4</td>\n      <td>9.250432</td>\n      <td>what is the meaning of life</td>\n    </tr>\n    <tr>\n      <th>...</th>\n      <td>...</td>\n      <td>...</td>\n      <td>...</td>\n      <td>...</td>\n      <td>...</td>\n      <td>...</td>\n    </tr>\n    <tr>\n      <th>995</th>\n      <td>1</td>\n      <td>3776</td>\n      <td>MED-3777</td>\n      <td>995</td>\n      <td>2.229604</td>\n      <td>what is the meaning of life</td>\n    </tr>\n    <tr>\n      <th>996</th>\n      <td>1</td>\n      <td>3795</td>\n      <td>MED-3796</td>\n      <td>996</td>\n      <td>2.229604</td>\n      <td>what is the meaning of life</td>\n    </tr>\n    <tr>\n      <th>997</th>\n      <td>1</td>\n      <td>4706</td>\n      <td>MED-4707</td>\n      <td>997</td>\n      <td>2.229604</td>\n      <td>what is the meaning of life</td>\n    </tr>\n    <tr>\n      <th>998</th>\n      <td>1</td>\n      <td>4785</td>\n      <td>MED-4786</td>\n      <td>998</td>\n      <td>2.229604</td>\n      <td>what is the meaning of life</td>\n    </tr>\n    <tr>\n      <th>999</th>\n      <td>1</td>\n      <td>938</td>\n      <td>MED-939</td>\n      <td>999</td>\n      <td>2.224531</td>\n      <td>what is the meaning of life</td>\n    </tr>\n  </tbody>\n</table>\n<p>1000 rows × 6 columns</p>\n</div>"
     },
     "execution_count": 10,
     "metadata": {},
     "output_type": "execute_result"
    }
   ],
   "source": [
    "bm25.search(\"what is the meaning of life\")"
   ]
  },
  {
   "cell_type": "markdown",
   "metadata": {},
   "source": [
    "### Query rewriting transformers\n",
    "\n",
    "You have already experimented with query rewriting in the scaffolding project. PyTerrier implements several transformers that rewrite queries.\n",
    "\n",
    "The simplest one is the _sequential dependence model_:\n"
   ]
  },
  {
   "cell_type": "code",
   "execution_count": 11,
   "metadata": {},
   "outputs": [],
   "source": [
    "sdm = pt.rewrite.SequentialDependence()"
   ]
  },
  {
   "cell_type": "markdown",
   "metadata": {},
   "source": [
    "SDM requires positional information in the index (that's why we needed to set a flag during indexing). More information about SDM can be found [here](https://pyterrier.readthedocs.io/en/latest/rewrite.html#sequentialdependence).\n",
    "\n",
    "It operates solely on the queries themselves; in other words, both input and output are data frames of type `Q`:\n"
   ]
  },
  {
   "cell_type": "code",
   "execution_count": 12,
   "metadata": {},
   "outputs": [
    {
     "data": {
      "text/plain": "            qid                                              query  \\\n0    PLAIN-1008                                           deafness   \n1    PLAIN-1018                                                dha   \n2     PLAIN-102  stopping heart disease childhood #combine:0=0....   \n3    PLAIN-1028  dietary scoring #combine:0=0.1:wmodel=org.terr...   \n4    PLAIN-1039  domoic acid #combine:0=0.1:wmodel=org.terrier....   \n..          ...                                                ...   \n320   PLAIN-956  cooking methods #combine:0=0.1:wmodel=org.terr...   \n321   PLAIN-966                                           cortisol   \n322   PLAIN-977  crib death #combine:0=0.1:wmodel=org.terrier.m...   \n323   PLAIN-987                                              cumin   \n324   PLAIN-997                                     czechoslovakia   \n\n                                 query_0  \n0                               deafness  \n1                                    dha  \n2    stopping heart disease in childhood  \n3                        dietary scoring  \n4                            domoic acid  \n..                                   ...  \n320                      cooking methods  \n321                             cortisol  \n322                           crib death  \n323                                cumin  \n324                       czechoslovakia  \n\n[325 rows x 3 columns]",
      "text/html": "<div>\n<style scoped>\n    .dataframe tbody tr th:only-of-type {\n        vertical-align: middle;\n    }\n\n    .dataframe tbody tr th {\n        vertical-align: top;\n    }\n\n    .dataframe thead th {\n        text-align: right;\n    }\n</style>\n<table border=\"1\" class=\"dataframe\">\n  <thead>\n    <tr style=\"text-align: right;\">\n      <th></th>\n      <th>qid</th>\n      <th>query</th>\n      <th>query_0</th>\n    </tr>\n  </thead>\n  <tbody>\n    <tr>\n      <th>0</th>\n      <td>PLAIN-1008</td>\n      <td>deafness</td>\n      <td>deafness</td>\n    </tr>\n    <tr>\n      <th>1</th>\n      <td>PLAIN-1018</td>\n      <td>dha</td>\n      <td>dha</td>\n    </tr>\n    <tr>\n      <th>2</th>\n      <td>PLAIN-102</td>\n      <td>stopping heart disease childhood #combine:0=0....</td>\n      <td>stopping heart disease in childhood</td>\n    </tr>\n    <tr>\n      <th>3</th>\n      <td>PLAIN-1028</td>\n      <td>dietary scoring #combine:0=0.1:wmodel=org.terr...</td>\n      <td>dietary scoring</td>\n    </tr>\n    <tr>\n      <th>4</th>\n      <td>PLAIN-1039</td>\n      <td>domoic acid #combine:0=0.1:wmodel=org.terrier....</td>\n      <td>domoic acid</td>\n    </tr>\n    <tr>\n      <th>...</th>\n      <td>...</td>\n      <td>...</td>\n      <td>...</td>\n    </tr>\n    <tr>\n      <th>320</th>\n      <td>PLAIN-956</td>\n      <td>cooking methods #combine:0=0.1:wmodel=org.terr...</td>\n      <td>cooking methods</td>\n    </tr>\n    <tr>\n      <th>321</th>\n      <td>PLAIN-966</td>\n      <td>cortisol</td>\n      <td>cortisol</td>\n    </tr>\n    <tr>\n      <th>322</th>\n      <td>PLAIN-977</td>\n      <td>crib death #combine:0=0.1:wmodel=org.terrier.m...</td>\n      <td>crib death</td>\n    </tr>\n    <tr>\n      <th>323</th>\n      <td>PLAIN-987</td>\n      <td>cumin</td>\n      <td>cumin</td>\n    </tr>\n    <tr>\n      <th>324</th>\n      <td>PLAIN-997</td>\n      <td>czechoslovakia</td>\n      <td>czechoslovakia</td>\n    </tr>\n  </tbody>\n</table>\n<p>325 rows × 3 columns</p>\n</div>"
     },
     "execution_count": 12,
     "metadata": {},
     "output_type": "execute_result"
    }
   ],
   "source": [
    "sdm(queries)"
   ]
  },
  {
   "cell_type": "markdown",
   "metadata": {},
   "source": [
    "In this case, the `query` column contains the new (rewritten) queries, while the original queries are retained in the `query_0` column.\n",
    "\n",
    "#### Query expansion\n",
    "\n",
    "_Query expansion_ differs from standard query rewriting in that it operates on queries **and** corresponding relevant documents (these need to be retrieved based on the original queries prior to the expansion). This is also known as _pseudo relevance feedback_ (PRF). A popular PRF model is _RM3_:\n"
   ]
  },
  {
   "cell_type": "code",
   "execution_count": 13,
   "metadata": {},
   "outputs": [],
   "source": [
    "rm3 = pt.rewrite.RM3(index)"
   ]
  },
  {
   "cell_type": "markdown",
   "metadata": {},
   "source": [
    "Since RM3 requires a set of documents for each query, its input type needs to be `R`. Consequently, we can use the result of our retriever as an input for the PRF model:\n"
   ]
  },
  {
   "cell_type": "code",
   "execution_count": 14,
   "metadata": {},
   "outputs": [
    {
     "data": {
      "text/plain": "            qid                              query_0  \\\n0    PLAIN-1008                             deafness   \n1    PLAIN-1018                                  dha   \n2     PLAIN-102  stopping heart disease in childhood   \n3    PLAIN-1028                      dietary scoring   \n4    PLAIN-1039                          domoic acid   \n..          ...                                  ...   \n304   PLAIN-946                                 coma   \n305   PLAIN-956                      cooking methods   \n306   PLAIN-966                             cortisol   \n307   PLAIN-977                           crib death   \n308   PLAIN-987                                cumin   \n\n                                                 query  \n0    applypipeline:off brain^0.027586209 common^0.0...  \n1    applypipeline:off cook^0.020857040 salmon^0.02...  \n2    applypipeline:off lifestyl^0.053418938 stop^0....  \n3    applypipeline:off dietari^0.300000012 yr^0.035...  \n4    applypipeline:off domoic^0.383134842 1987^0.01...  \n..                                                 ...  \n304  applypipeline:off domoic^0.041973736 melon^0.0...  \n305  applypipeline:off solubl^0.021026421 loss^0.03...  \n306  applypipeline:off symptom^0.030274920 faecal^0...  \n307  applypipeline:off death^0.441816151 million^0....  \n308  applypipeline:off solubl^0.054296277 nutmeg^0....  \n\n[309 rows x 3 columns]",
      "text/html": "<div>\n<style scoped>\n    .dataframe tbody tr th:only-of-type {\n        vertical-align: middle;\n    }\n\n    .dataframe tbody tr th {\n        vertical-align: top;\n    }\n\n    .dataframe thead th {\n        text-align: right;\n    }\n</style>\n<table border=\"1\" class=\"dataframe\">\n  <thead>\n    <tr style=\"text-align: right;\">\n      <th></th>\n      <th>qid</th>\n      <th>query_0</th>\n      <th>query</th>\n    </tr>\n  </thead>\n  <tbody>\n    <tr>\n      <th>0</th>\n      <td>PLAIN-1008</td>\n      <td>deafness</td>\n      <td>applypipeline:off brain^0.027586209 common^0.0...</td>\n    </tr>\n    <tr>\n      <th>1</th>\n      <td>PLAIN-1018</td>\n      <td>dha</td>\n      <td>applypipeline:off cook^0.020857040 salmon^0.02...</td>\n    </tr>\n    <tr>\n      <th>2</th>\n      <td>PLAIN-102</td>\n      <td>stopping heart disease in childhood</td>\n      <td>applypipeline:off lifestyl^0.053418938 stop^0....</td>\n    </tr>\n    <tr>\n      <th>3</th>\n      <td>PLAIN-1028</td>\n      <td>dietary scoring</td>\n      <td>applypipeline:off dietari^0.300000012 yr^0.035...</td>\n    </tr>\n    <tr>\n      <th>4</th>\n      <td>PLAIN-1039</td>\n      <td>domoic acid</td>\n      <td>applypipeline:off domoic^0.383134842 1987^0.01...</td>\n    </tr>\n    <tr>\n      <th>...</th>\n      <td>...</td>\n      <td>...</td>\n      <td>...</td>\n    </tr>\n    <tr>\n      <th>304</th>\n      <td>PLAIN-946</td>\n      <td>coma</td>\n      <td>applypipeline:off domoic^0.041973736 melon^0.0...</td>\n    </tr>\n    <tr>\n      <th>305</th>\n      <td>PLAIN-956</td>\n      <td>cooking methods</td>\n      <td>applypipeline:off solubl^0.021026421 loss^0.03...</td>\n    </tr>\n    <tr>\n      <th>306</th>\n      <td>PLAIN-966</td>\n      <td>cortisol</td>\n      <td>applypipeline:off symptom^0.030274920 faecal^0...</td>\n    </tr>\n    <tr>\n      <th>307</th>\n      <td>PLAIN-977</td>\n      <td>crib death</td>\n      <td>applypipeline:off death^0.441816151 million^0....</td>\n    </tr>\n    <tr>\n      <th>308</th>\n      <td>PLAIN-987</td>\n      <td>cumin</td>\n      <td>applypipeline:off solubl^0.054296277 nutmeg^0....</td>\n    </tr>\n  </tbody>\n</table>\n<p>309 rows × 3 columns</p>\n</div>"
     },
     "execution_count": 14,
     "metadata": {},
     "output_type": "execute_result"
    }
   ],
   "source": [
    "rm3(bm25(queries))"
   ]
  },
  {
   "cell_type": "markdown",
   "metadata": {},
   "source": [
    "## Pipelines\n",
    "\n",
    "You probably noticed that the transformers we've seen so far are mostly designed to work in sequence; for example, reformulating queries alone is pointless without an actual retrieval step afterwards.\n",
    "\n",
    "This is where _pipelines_ come into play. PyTerrier implements the `>>` operator to build sequences of transformers. Let's build a simple pipeline that applies SDM and then retrieves documents using BM25:\n"
   ]
  },
  {
   "cell_type": "code",
   "execution_count": 15,
   "metadata": {},
   "outputs": [],
   "source": [
    "pl_sdm = sdm >> bm25"
   ]
  },
  {
   "cell_type": "markdown",
   "metadata": {},
   "source": [
    "We can now use this pipeline like any other transformer:\n"
   ]
  },
  {
   "cell_type": "code",
   "execution_count": 16,
   "metadata": {},
   "outputs": [
    {
     "data": {
      "text/plain": "               qid  docid     docno  rank      score     query   query_0\n0       PLAIN-1008   4667  MED-4668     0  13.495859  deafness  deafness\n1       PLAIN-1018   5094  MED-5095     0  14.204196       dha       dha\n2       PLAIN-1018    928   MED-929     1  14.033904       dha       dha\n3       PLAIN-1018   4622  MED-4623     2  14.033904       dha       dha\n4       PLAIN-1018   4930  MED-4931     3  14.033904       dha       dha\n...            ...    ...       ...   ...        ...       ...       ...\n143708   PLAIN-987   1292  MED-1293     2   9.748835     cumin     cumin\n143709   PLAIN-987    230   MED-231     3   8.698382     cumin     cumin\n143710   PLAIN-987    232   MED-233     4   8.698382     cumin     cumin\n143711   PLAIN-987   2827  MED-2828     5   8.698382     cumin     cumin\n143712   PLAIN-987   2829  MED-2830     6   8.698382     cumin     cumin\n\n[143713 rows x 7 columns]",
      "text/html": "<div>\n<style scoped>\n    .dataframe tbody tr th:only-of-type {\n        vertical-align: middle;\n    }\n\n    .dataframe tbody tr th {\n        vertical-align: top;\n    }\n\n    .dataframe thead th {\n        text-align: right;\n    }\n</style>\n<table border=\"1\" class=\"dataframe\">\n  <thead>\n    <tr style=\"text-align: right;\">\n      <th></th>\n      <th>qid</th>\n      <th>docid</th>\n      <th>docno</th>\n      <th>rank</th>\n      <th>score</th>\n      <th>query</th>\n      <th>query_0</th>\n    </tr>\n  </thead>\n  <tbody>\n    <tr>\n      <th>0</th>\n      <td>PLAIN-1008</td>\n      <td>4667</td>\n      <td>MED-4668</td>\n      <td>0</td>\n      <td>13.495859</td>\n      <td>deafness</td>\n      <td>deafness</td>\n    </tr>\n    <tr>\n      <th>1</th>\n      <td>PLAIN-1018</td>\n      <td>5094</td>\n      <td>MED-5095</td>\n      <td>0</td>\n      <td>14.204196</td>\n      <td>dha</td>\n      <td>dha</td>\n    </tr>\n    <tr>\n      <th>2</th>\n      <td>PLAIN-1018</td>\n      <td>928</td>\n      <td>MED-929</td>\n      <td>1</td>\n      <td>14.033904</td>\n      <td>dha</td>\n      <td>dha</td>\n    </tr>\n    <tr>\n      <th>3</th>\n      <td>PLAIN-1018</td>\n      <td>4622</td>\n      <td>MED-4623</td>\n      <td>2</td>\n      <td>14.033904</td>\n      <td>dha</td>\n      <td>dha</td>\n    </tr>\n    <tr>\n      <th>4</th>\n      <td>PLAIN-1018</td>\n      <td>4930</td>\n      <td>MED-4931</td>\n      <td>3</td>\n      <td>14.033904</td>\n      <td>dha</td>\n      <td>dha</td>\n    </tr>\n    <tr>\n      <th>...</th>\n      <td>...</td>\n      <td>...</td>\n      <td>...</td>\n      <td>...</td>\n      <td>...</td>\n      <td>...</td>\n      <td>...</td>\n    </tr>\n    <tr>\n      <th>143708</th>\n      <td>PLAIN-987</td>\n      <td>1292</td>\n      <td>MED-1293</td>\n      <td>2</td>\n      <td>9.748835</td>\n      <td>cumin</td>\n      <td>cumin</td>\n    </tr>\n    <tr>\n      <th>143709</th>\n      <td>PLAIN-987</td>\n      <td>230</td>\n      <td>MED-231</td>\n      <td>3</td>\n      <td>8.698382</td>\n      <td>cumin</td>\n      <td>cumin</td>\n    </tr>\n    <tr>\n      <th>143710</th>\n      <td>PLAIN-987</td>\n      <td>232</td>\n      <td>MED-233</td>\n      <td>4</td>\n      <td>8.698382</td>\n      <td>cumin</td>\n      <td>cumin</td>\n    </tr>\n    <tr>\n      <th>143711</th>\n      <td>PLAIN-987</td>\n      <td>2827</td>\n      <td>MED-2828</td>\n      <td>5</td>\n      <td>8.698382</td>\n      <td>cumin</td>\n      <td>cumin</td>\n    </tr>\n    <tr>\n      <th>143712</th>\n      <td>PLAIN-987</td>\n      <td>2829</td>\n      <td>MED-2830</td>\n      <td>6</td>\n      <td>8.698382</td>\n      <td>cumin</td>\n      <td>cumin</td>\n    </tr>\n  </tbody>\n</table>\n<p>143713 rows × 7 columns</p>\n</div>"
     },
     "execution_count": 16,
     "metadata": {},
     "output_type": "execute_result"
    }
   ],
   "source": [
    "pl_sdm(queries)"
   ]
  },
  {
   "cell_type": "markdown",
   "metadata": {},
   "source": [
    "Let's compare SDM and RM3 in terms of performance.\n",
    "\n",
    "First, we create a pipeline for RM3:\n"
   ]
  },
  {
   "cell_type": "code",
   "execution_count": 17,
   "metadata": {},
   "outputs": [],
   "source": [
    "pl_rm3 = bm25 >> rm3 >> bm25"
   ]
  },
  {
   "cell_type": "markdown",
   "metadata": {},
   "source": [
    "Now we can run an experiment to evaluate and compare both of these pipelines. We'll also include standalone BM25:\n"
   ]
  },
  {
   "cell_type": "code",
   "execution_count": 18,
   "metadata": {},
   "outputs": [
    {
     "data": {
      "text/plain": "                  name        AP   nDCG@10\n0                 BM25  0.113101  0.265752\n1          SDM >> BM25  0.112938  0.265869\n2  BM25 >> RM3 >> BM25  0.129125  0.273099",
      "text/html": "<div>\n<style scoped>\n    .dataframe tbody tr th:only-of-type {\n        vertical-align: middle;\n    }\n\n    .dataframe tbody tr th {\n        vertical-align: top;\n    }\n\n    .dataframe thead th {\n        text-align: right;\n    }\n</style>\n<table border=\"1\" class=\"dataframe\">\n  <thead>\n    <tr style=\"text-align: right;\">\n      <th></th>\n      <th>name</th>\n      <th>AP</th>\n      <th>nDCG@10</th>\n    </tr>\n  </thead>\n  <tbody>\n    <tr>\n      <th>0</th>\n      <td>BM25</td>\n      <td>0.113101</td>\n      <td>0.265752</td>\n    </tr>\n    <tr>\n      <th>1</th>\n      <td>SDM &gt;&gt; BM25</td>\n      <td>0.112938</td>\n      <td>0.265869</td>\n    </tr>\n    <tr>\n      <th>2</th>\n      <td>BM25 &gt;&gt; RM3 &gt;&gt; BM25</td>\n      <td>0.129125</td>\n      <td>0.273099</td>\n    </tr>\n  </tbody>\n</table>\n</div>"
     },
     "execution_count": 18,
     "metadata": {},
     "output_type": "execute_result"
    }
   ],
   "source": [
    "from pyterrier.measures import MAP, nDCG\n",
    "\n",
    "pt.Experiment(\n",
    "    [bm25, pl_sdm, pl_rm3],\n",
    "    queries,\n",
    "    dataset.get_qrels(),\n",
    "    names=[\"BM25\", \"SDM >> BM25\", \"BM25 >> RM3 >> BM25\"],\n",
    "    eval_metrics=[MAP, nDCG @ 10],\n",
    ")"
   ]
  },
  {
   "cell_type": "markdown",
   "metadata": {},
   "source": [
    "### Operators\n",
    "\n",
    "There are a number of _operators_ that can be applied to transformers within pipelines. We've already seen the `>>` operator. Here, we'll look at a few more selected operators. You can find the complete list [here](https://pyterrier.readthedocs.io/en/latest/operators.html).\n",
    "\n",
    "#### Rank cutoff\n",
    "\n",
    "The `%` operator limits how many documents per query are kept (the lowest-scoring ones are removed). For example, we may want to consider only a single document for RM3:\n"
   ]
  },
  {
   "cell_type": "code",
   "execution_count": 19,
   "metadata": {},
   "outputs": [
    {
     "data": {
      "text/plain": "               name        AP   nDCG@10\n0               RM3  0.129125  0.273099\n1  RM3 (1 document)  0.128236  0.279708",
      "text/html": "<div>\n<style scoped>\n    .dataframe tbody tr th:only-of-type {\n        vertical-align: middle;\n    }\n\n    .dataframe tbody tr th {\n        vertical-align: top;\n    }\n\n    .dataframe thead th {\n        text-align: right;\n    }\n</style>\n<table border=\"1\" class=\"dataframe\">\n  <thead>\n    <tr style=\"text-align: right;\">\n      <th></th>\n      <th>name</th>\n      <th>AP</th>\n      <th>nDCG@10</th>\n    </tr>\n  </thead>\n  <tbody>\n    <tr>\n      <th>0</th>\n      <td>RM3</td>\n      <td>0.129125</td>\n      <td>0.273099</td>\n    </tr>\n    <tr>\n      <th>1</th>\n      <td>RM3 (1 document)</td>\n      <td>0.128236</td>\n      <td>0.279708</td>\n    </tr>\n  </tbody>\n</table>\n</div>"
     },
     "execution_count": 19,
     "metadata": {},
     "output_type": "execute_result"
    }
   ],
   "source": [
    "pl_rm3_1doc = (bm25 % 1) >> rm3 >> bm25\n",
    "\n",
    "pt.Experiment(\n",
    "    [pl_rm3, pl_rm3_1doc],\n",
    "    queries,\n",
    "    dataset.get_qrels(),\n",
    "    names=[\"RM3\", \"RM3 (1 document)\"],\n",
    "    eval_metrics=[MAP, nDCG @ 10],\n",
    ")"
   ]
  },
  {
   "cell_type": "markdown",
   "metadata": {},
   "source": [
    "#### Caching\n",
    "\n",
    "The `~` operator can be used to automatically cache the output of a transformer. Let's time our BM25 retriever without caching first:\n"
   ]
  },
  {
   "cell_type": "code",
   "execution_count": 20,
   "metadata": {},
   "outputs": [
    {
     "name": "stdout",
     "output_type": "stream",
     "text": [
      "2.36 s ± 124 ms per loop (mean ± std. dev. of 7 runs, 1 loop each)\n"
     ]
    }
   ],
   "source": [
    "%timeit bm25(queries)"
   ]
  },
  {
   "cell_type": "markdown",
   "metadata": {},
   "source": [
    "Now we enable caching. This should make it much faster:\n"
   ]
  },
  {
   "cell_type": "code",
   "execution_count": 21,
   "metadata": {},
   "outputs": [
    {
     "name": "stdout",
     "output_type": "stream",
     "text": [
      "142 ms ± 6.2 ms per loop (mean ± std. dev. of 7 runs, 1 loop each)\n"
     ]
    }
   ],
   "source": [
    "%timeit (~bm25)(queries)"
   ]
  },
  {
   "cell_type": "markdown",
   "metadata": {},
   "source": [
    "**Important**: When you use caching, make sure to clear the cache when you make changes to the transformers you cached. Otherwise, you might get unexpected results. The default location of the cache is `~/.pyterrier/transformer_cache/` (on Linux and macOS systems).\n"
   ]
  },
  {
   "cell_type": "markdown",
   "metadata": {},
   "source": [
    "#### Combining rankings\n",
    "\n",
    "The `+` and `*` operators can be used to linearly combine two transformers that output rankings (data type `R`). For example, we can use two different retrievers and combine them as follows:\n"
   ]
  },
  {
   "cell_type": "code",
   "execution_count": 22,
   "metadata": {},
   "outputs": [
    {
     "data": {
      "text/plain": "                name        AP   nDCG@10\n0             TF-IDF  0.112686  0.264950\n1               BM25  0.113101  0.265752\n2  2 * TF-IDF + BM25  0.112853  0.265925",
      "text/html": "<div>\n<style scoped>\n    .dataframe tbody tr th:only-of-type {\n        vertical-align: middle;\n    }\n\n    .dataframe tbody tr th {\n        vertical-align: top;\n    }\n\n    .dataframe thead th {\n        text-align: right;\n    }\n</style>\n<table border=\"1\" class=\"dataframe\">\n  <thead>\n    <tr style=\"text-align: right;\">\n      <th></th>\n      <th>name</th>\n      <th>AP</th>\n      <th>nDCG@10</th>\n    </tr>\n  </thead>\n  <tbody>\n    <tr>\n      <th>0</th>\n      <td>TF-IDF</td>\n      <td>0.112686</td>\n      <td>0.264950</td>\n    </tr>\n    <tr>\n      <th>1</th>\n      <td>BM25</td>\n      <td>0.113101</td>\n      <td>0.265752</td>\n    </tr>\n    <tr>\n      <th>2</th>\n      <td>2 * TF-IDF + BM25</td>\n      <td>0.112853</td>\n      <td>0.265925</td>\n    </tr>\n  </tbody>\n</table>\n</div>"
     },
     "execution_count": 22,
     "metadata": {},
     "output_type": "execute_result"
    }
   ],
   "source": [
    "tf_idf = pt.BatchRetrieve(index, wmodel=\"TF_IDF\")\n",
    "\n",
    "pt.Experiment(\n",
    "    [tf_idf, bm25, 2 * tf_idf + bm25],\n",
    "    queries,\n",
    "    dataset.get_qrels(),\n",
    "    names=[\"TF-IDF\", \"BM25\", \"2 * TF-IDF + BM25\"],\n",
    "    eval_metrics=[MAP, nDCG @ 10],\n",
    ")"
   ]
  },
  {
   "cell_type": "markdown",
   "metadata": {},
   "source": [
    "Note that the operations are applied to the scores computed by the retrievers. If a document is missing for one of the retrievers, a score of `0` is used.\n",
    "\n",
    "### Compiling pipelines\n",
    "\n",
    "Pipelines can be compiled. The compilation may (or may not) improve the efficiency for certain operations. For example, consider the following:\n"
   ]
  },
  {
   "cell_type": "code",
   "execution_count": 23,
   "metadata": {},
   "outputs": [
    {
     "name": "stdout",
     "output_type": "stream",
     "text": [
      "Applying 8 rules\n"
     ]
    }
   ],
   "source": [
    "pl = bm25 % 3\n",
    "pl_compiled = pl.compile()"
   ]
  },
  {
   "cell_type": "markdown",
   "metadata": {},
   "source": [
    "Let's time them both:\n"
   ]
  },
  {
   "cell_type": "code",
   "execution_count": 24,
   "metadata": {},
   "outputs": [
    {
     "name": "stdout",
     "output_type": "stream",
     "text": [
      "2.23 s ± 49.1 ms per loop (mean ± std. dev. of 7 runs, 1 loop each)\n"
     ]
    }
   ],
   "source": [
    "%timeit pl(queries)"
   ]
  },
  {
   "cell_type": "code",
   "execution_count": 25,
   "metadata": {},
   "outputs": [
    {
     "name": "stdout",
     "output_type": "stream",
     "text": [
      "2.32 s ± 97.4 ms per loop (mean ± std. dev. of 7 runs, 1 loop each)\n"
     ]
    }
   ],
   "source": [
    "%timeit pl_compiled(queries)"
   ]
  },
  {
   "cell_type": "markdown",
   "metadata": {},
   "source": [
    "## Custom transformers\n",
    "\n",
    "PyTerrier makes it easy for you to implement your own custom transformers. In fact, we've used a custom query transformer under the hood for the scaffolding project.\n",
    "\n",
    "### `apply` functions\n",
    "\n",
    "[`pyterrier.apply`](https://pyterrier.readthedocs.io/en/latest/apply.html) allows for applying a custom function to each row of a data frame. There are many `apply` functions, each of which focuses on different data types. An overview can be found [here](https://pyterrier.readthedocs.io/en/latest/apply.html#module-pyterrier.apply).\n",
    "\n",
    "Let's implement one that reformulates the query to sound a bit nicer:\n"
   ]
  },
  {
   "cell_type": "code",
   "execution_count": 26,
   "metadata": {},
   "outputs": [
    {
     "data": {
      "text/plain": "            qid                              query_0  \\\n0    PLAIN-1008                             deafness   \n1    PLAIN-1018                                  dha   \n2     PLAIN-102  stopping heart disease in childhood   \n3    PLAIN-1028                      dietary scoring   \n4    PLAIN-1039                          domoic acid   \n..          ...                                  ...   \n320   PLAIN-956                      cooking methods   \n321   PLAIN-966                             cortisol   \n322   PLAIN-977                           crib death   \n323   PLAIN-987                                cumin   \n324   PLAIN-997                       czechoslovakia   \n\n                                                 query  \n0          please find some information about deafness  \n1               please find some information about dha  \n2    please find some information about stopping he...  \n3    please find some information about dietary sco...  \n4       please find some information about domoic acid  \n..                                                 ...  \n320  please find some information about cooking met...  \n321        please find some information about cortisol  \n322      please find some information about crib death  \n323           please find some information about cumin  \n324  please find some information about czechoslovakia  \n\n[325 rows x 3 columns]",
      "text/html": "<div>\n<style scoped>\n    .dataframe tbody tr th:only-of-type {\n        vertical-align: middle;\n    }\n\n    .dataframe tbody tr th {\n        vertical-align: top;\n    }\n\n    .dataframe thead th {\n        text-align: right;\n    }\n</style>\n<table border=\"1\" class=\"dataframe\">\n  <thead>\n    <tr style=\"text-align: right;\">\n      <th></th>\n      <th>qid</th>\n      <th>query_0</th>\n      <th>query</th>\n    </tr>\n  </thead>\n  <tbody>\n    <tr>\n      <th>0</th>\n      <td>PLAIN-1008</td>\n      <td>deafness</td>\n      <td>please find some information about deafness</td>\n    </tr>\n    <tr>\n      <th>1</th>\n      <td>PLAIN-1018</td>\n      <td>dha</td>\n      <td>please find some information about dha</td>\n    </tr>\n    <tr>\n      <th>2</th>\n      <td>PLAIN-102</td>\n      <td>stopping heart disease in childhood</td>\n      <td>please find some information about stopping he...</td>\n    </tr>\n    <tr>\n      <th>3</th>\n      <td>PLAIN-1028</td>\n      <td>dietary scoring</td>\n      <td>please find some information about dietary sco...</td>\n    </tr>\n    <tr>\n      <th>4</th>\n      <td>PLAIN-1039</td>\n      <td>domoic acid</td>\n      <td>please find some information about domoic acid</td>\n    </tr>\n    <tr>\n      <th>...</th>\n      <td>...</td>\n      <td>...</td>\n      <td>...</td>\n    </tr>\n    <tr>\n      <th>320</th>\n      <td>PLAIN-956</td>\n      <td>cooking methods</td>\n      <td>please find some information about cooking met...</td>\n    </tr>\n    <tr>\n      <th>321</th>\n      <td>PLAIN-966</td>\n      <td>cortisol</td>\n      <td>please find some information about cortisol</td>\n    </tr>\n    <tr>\n      <th>322</th>\n      <td>PLAIN-977</td>\n      <td>crib death</td>\n      <td>please find some information about crib death</td>\n    </tr>\n    <tr>\n      <th>323</th>\n      <td>PLAIN-987</td>\n      <td>cumin</td>\n      <td>please find some information about cumin</td>\n    </tr>\n    <tr>\n      <th>324</th>\n      <td>PLAIN-997</td>\n      <td>czechoslovakia</td>\n      <td>please find some information about czechoslovakia</td>\n    </tr>\n  </tbody>\n</table>\n<p>325 rows × 3 columns</p>\n</div>"
     },
     "execution_count": 26,
     "metadata": {},
     "output_type": "execute_result"
    }
   ],
   "source": [
    "ask_nicely = pt.apply.query(\n",
    "    lambda row: \"please find some information about \" + row[\"query\"]\n",
    ")\n",
    "ask_nicely(queries)"
   ]
  },
  {
   "cell_type": "markdown",
   "metadata": {},
   "source": [
    "### Extending `pyterrier.Transformer`\n",
    "\n",
    "More complex transformers can be implemented by extending the base class directly.\n",
    "\n",
    "Here, we implement a transformer that naively corrects supposed spelling mistakes using a spell checking library. In order to do this, we only need to implement the `transform` method. We adapt the behavior of the other query rewriters and retain the original formulation in the `query_0` column:\n"
   ]
  },
  {
   "cell_type": "code",
   "execution_count": 27,
   "metadata": {},
   "outputs": [],
   "source": [
    "import pandas as pd\n",
    "from spellchecker import SpellChecker\n",
    "\n",
    "\n",
    "class CorrectQuerySpelling(pt.Transformer):\n",
    "    def __init__(self):\n",
    "        self.spellchecker = SpellChecker()\n",
    "        super().__init__()\n",
    "\n",
    "    def _correct_spelling(self, query: str) -> str:\n",
    "        result = []\n",
    "        for word in query.split(\" \"):\n",
    "            if len(self.spellchecker.unknown([word])) > 0:\n",
    "                result.append(self.spellchecker.correction(word) or word)\n",
    "            else:\n",
    "                result.append(word)\n",
    "        return \" \".join(result)\n",
    "\n",
    "    def transform(self, df: pd.DataFrame) -> pd.DataFrame:\n",
    "        df_new = df.copy()\n",
    "        df_new[\"query_0\"] = df_new[\"query\"]\n",
    "        df_new[\"query\"] = df_new[\"query_0\"].map(self._correct_spelling)\n",
    "        return df_new"
   ]
  },
  {
   "cell_type": "markdown",
   "metadata": {},
   "source": [
    "Let's give it a try:\n"
   ]
  },
  {
   "cell_type": "code",
   "execution_count": 28,
   "metadata": {},
   "outputs": [
    {
     "data": {
      "text/plain": "            qid                                query  \\\n0    PLAIN-1008                             deafness   \n1    PLAIN-1018                                   ha   \n2     PLAIN-102  stopping heart disease in childhood   \n3    PLAIN-1028                      dietary scoring   \n4    PLAIN-1039                           comic acid   \n..          ...                                  ...   \n320   PLAIN-956                      cooking methods   \n321   PLAIN-966                             cortisol   \n322   PLAIN-977                           crib death   \n323   PLAIN-987                                cumin   \n324   PLAIN-997                       czechoslovakia   \n\n                                 query_0  \n0                               deafness  \n1                                    dha  \n2    stopping heart disease in childhood  \n3                        dietary scoring  \n4                            domoic acid  \n..                                   ...  \n320                      cooking methods  \n321                             cortisol  \n322                           crib death  \n323                                cumin  \n324                       czechoslovakia  \n\n[325 rows x 3 columns]",
      "text/html": "<div>\n<style scoped>\n    .dataframe tbody tr th:only-of-type {\n        vertical-align: middle;\n    }\n\n    .dataframe tbody tr th {\n        vertical-align: top;\n    }\n\n    .dataframe thead th {\n        text-align: right;\n    }\n</style>\n<table border=\"1\" class=\"dataframe\">\n  <thead>\n    <tr style=\"text-align: right;\">\n      <th></th>\n      <th>qid</th>\n      <th>query</th>\n      <th>query_0</th>\n    </tr>\n  </thead>\n  <tbody>\n    <tr>\n      <th>0</th>\n      <td>PLAIN-1008</td>\n      <td>deafness</td>\n      <td>deafness</td>\n    </tr>\n    <tr>\n      <th>1</th>\n      <td>PLAIN-1018</td>\n      <td>ha</td>\n      <td>dha</td>\n    </tr>\n    <tr>\n      <th>2</th>\n      <td>PLAIN-102</td>\n      <td>stopping heart disease in childhood</td>\n      <td>stopping heart disease in childhood</td>\n    </tr>\n    <tr>\n      <th>3</th>\n      <td>PLAIN-1028</td>\n      <td>dietary scoring</td>\n      <td>dietary scoring</td>\n    </tr>\n    <tr>\n      <th>4</th>\n      <td>PLAIN-1039</td>\n      <td>comic acid</td>\n      <td>domoic acid</td>\n    </tr>\n    <tr>\n      <th>...</th>\n      <td>...</td>\n      <td>...</td>\n      <td>...</td>\n    </tr>\n    <tr>\n      <th>320</th>\n      <td>PLAIN-956</td>\n      <td>cooking methods</td>\n      <td>cooking methods</td>\n    </tr>\n    <tr>\n      <th>321</th>\n      <td>PLAIN-966</td>\n      <td>cortisol</td>\n      <td>cortisol</td>\n    </tr>\n    <tr>\n      <th>322</th>\n      <td>PLAIN-977</td>\n      <td>crib death</td>\n      <td>crib death</td>\n    </tr>\n    <tr>\n      <th>323</th>\n      <td>PLAIN-987</td>\n      <td>cumin</td>\n      <td>cumin</td>\n    </tr>\n    <tr>\n      <th>324</th>\n      <td>PLAIN-997</td>\n      <td>czechoslovakia</td>\n      <td>czechoslovakia</td>\n    </tr>\n  </tbody>\n</table>\n<p>325 rows × 3 columns</p>\n</div>"
     },
     "execution_count": 28,
     "metadata": {},
     "output_type": "execute_result"
    }
   ],
   "source": [
    "correct_query_spelling = CorrectQuerySpelling()\n",
    "correct_query_spelling(queries)"
   ]
  },
  {
   "cell_type": "markdown",
   "metadata": {},
   "source": [
    "## Further reading\n",
    "\n",
    "Check out the sections about the [data model](https://pyterrier.readthedocs.io/en/latest/datamodel.html) and [transformers](https://pyterrier.readthedocs.io/en/latest/transformer.html) in the PyTerrier documentation.\n"
   ]
  }
 ],
 "metadata": {
  "kernelspec": {
   "display_name": "pt",
   "language": "python",
   "name": "python3"
  },
  "language_info": {
   "codemirror_mode": {
    "name": "ipython",
    "version": 3
   },
   "file_extension": ".py",
   "mimetype": "text/x-python",
   "name": "python",
   "nbconvert_exporter": "python",
   "pygments_lexer": "ipython3",
   "version": "3.11.7"
  }
 },
 "nbformat": 4,
 "nbformat_minor": 2
}
