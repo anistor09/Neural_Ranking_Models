{
 "cells": [
  {
   "cell_type": "markdown",
   "metadata": {},
   "source": [
    "# Introduction to PyTerrier\n",
    "\n",
    "_IN4325: Information retrieval lecture, TU Delft_\n",
    "\n",
    "**Part 6: Learning to rank**\n",
    "\n",
    "In this part, we'll dive into learning-to-rank (LTR) models. Specifically, we'll cover how to use PyTerrier transformers to\n",
    "\n",
    "- compute query-document features and\n",
    "- train and evaluate LTR models.\n",
    "\n",
    "In order to run everything in this notebook, you'll need [NLTK](https://www.nltk.org/), [scikit-learn](https://scikit-learn.org/), and [LightGBM](https://github.com/microsoft/LightGBM/tree/master/python-package) installed:\n"
   ]
  },
  {
   "cell_type": "code",
   "execution_count": 1,
   "metadata": {
    "vscode": {
     "languageId": "shellscript"
    }
   },
   "outputs": [
    {
     "name": "stdout",
     "output_type": "stream",
     "text": [
      "Defaulting to user installation because normal site-packages is not writeable\r\n",
      "Requirement already satisfied: python-terrier==0.10.0 in /home/anistor/.local/lib/python3.10/site-packages (0.10.0)\r\n",
      "Requirement already satisfied: nltk in /home/anistor/.local/lib/python3.10/site-packages (3.8.1)\r\n",
      "Requirement already satisfied: scikit-learn in /home/anistor/.local/lib/python3.10/site-packages (1.4.2)\r\n",
      "Requirement already satisfied: lightgbm in /home/anistor/.local/lib/python3.10/site-packages (4.3.0)\r\n",
      "Requirement already satisfied: numpy in /home/anistor/.local/lib/python3.10/site-packages (from python-terrier==0.10.0) (1.26.4)\r\n",
      "Requirement already satisfied: pandas in /home/anistor/.local/lib/python3.10/site-packages (from python-terrier==0.10.0) (2.2.2)\r\n",
      "Requirement already satisfied: wget in /home/anistor/.local/lib/python3.10/site-packages (from python-terrier==0.10.0) (3.2)\r\n",
      "Requirement already satisfied: tqdm in /home/anistor/.local/lib/python3.10/site-packages (from python-terrier==0.10.0) (4.66.2)\r\n",
      "Requirement already satisfied: pyjnius>=1.4.2 in /home/anistor/.local/lib/python3.10/site-packages (from python-terrier==0.10.0) (1.6.1)\r\n",
      "Requirement already satisfied: matchpy in /home/anistor/.local/lib/python3.10/site-packages (from python-terrier==0.10.0) (0.5.5)\r\n",
      "Requirement already satisfied: deprecated in /home/anistor/.local/lib/python3.10/site-packages (from python-terrier==0.10.0) (1.2.14)\r\n",
      "Requirement already satisfied: chest in /home/anistor/.local/lib/python3.10/site-packages (from python-terrier==0.10.0) (0.2.3)\r\n",
      "Requirement already satisfied: scipy in /home/anistor/.local/lib/python3.10/site-packages (from python-terrier==0.10.0) (1.13.0)\r\n",
      "Requirement already satisfied: requests in /usr/local/lib/python3.10/dist-packages (from python-terrier==0.10.0) (2.31.0)\r\n",
      "Requirement already satisfied: joblib in /home/anistor/.local/lib/python3.10/site-packages (from python-terrier==0.10.0) (1.4.0)\r\n",
      "Requirement already satisfied: nptyping==1.4.4 in /home/anistor/.local/lib/python3.10/site-packages (from python-terrier==0.10.0) (1.4.4)\r\n",
      "Requirement already satisfied: more-itertools in /usr/lib/python3/dist-packages (from python-terrier==0.10.0) (8.10.0)\r\n",
      "Requirement already satisfied: ir-datasets>=0.3.2 in /home/anistor/.local/lib/python3.10/site-packages (from python-terrier==0.10.0) (0.5.6)\r\n",
      "Requirement already satisfied: jinja2 in /usr/lib/python3/dist-packages (from python-terrier==0.10.0) (3.0.3)\r\n",
      "Requirement already satisfied: statsmodels in /home/anistor/.local/lib/python3.10/site-packages (from python-terrier==0.10.0) (0.14.2)\r\n",
      "Requirement already satisfied: ir-measures>=0.3.1 in /home/anistor/.local/lib/python3.10/site-packages (from python-terrier==0.10.0) (0.3.3)\r\n",
      "Requirement already satisfied: dill in /home/anistor/.local/lib/python3.10/site-packages (from python-terrier==0.10.0) (0.3.8)\r\n",
      "Requirement already satisfied: pytrec-eval-terrier>=0.5.3 in /home/anistor/.local/lib/python3.10/site-packages (from python-terrier==0.10.0) (0.5.6)\r\n",
      "Requirement already satisfied: typish>=1.7.0 in /home/anistor/.local/lib/python3.10/site-packages (from nptyping==1.4.4->python-terrier==0.10.0) (1.9.3)\r\n",
      "Requirement already satisfied: click in /usr/lib/python3/dist-packages (from nltk) (8.0.3)\r\n",
      "Requirement already satisfied: regex>=2021.8.3 in /home/anistor/.local/lib/python3.10/site-packages (from nltk) (2024.4.16)\r\n",
      "Requirement already satisfied: threadpoolctl>=2.0.0 in /home/anistor/.local/lib/python3.10/site-packages (from scikit-learn) (3.4.0)\r\n",
      "Requirement already satisfied: beautifulsoup4>=4.4.1 in /usr/local/lib/python3.10/dist-packages (from ir-datasets>=0.3.2->python-terrier==0.10.0) (4.12.3)\r\n",
      "Requirement already satisfied: inscriptis>=2.2.0 in /home/anistor/.local/lib/python3.10/site-packages (from ir-datasets>=0.3.2->python-terrier==0.10.0) (2.5.0)\r\n",
      "Requirement already satisfied: lxml>=4.5.2 in /home/anistor/.local/lib/python3.10/site-packages (from ir-datasets>=0.3.2->python-terrier==0.10.0) (5.2.1)\r\n",
      "Requirement already satisfied: pyyaml>=5.3.1 in /usr/lib/python3/dist-packages (from ir-datasets>=0.3.2->python-terrier==0.10.0) (5.4.1)\r\n",
      "Requirement already satisfied: trec-car-tools>=2.5.4 in /home/anistor/.local/lib/python3.10/site-packages (from ir-datasets>=0.3.2->python-terrier==0.10.0) (2.6)\r\n",
      "Requirement already satisfied: lz4>=3.1.10 in /home/anistor/.local/lib/python3.10/site-packages (from ir-datasets>=0.3.2->python-terrier==0.10.0) (4.3.3)\r\n",
      "Requirement already satisfied: warc3-wet>=0.2.3 in /home/anistor/.local/lib/python3.10/site-packages (from ir-datasets>=0.3.2->python-terrier==0.10.0) (0.2.3)\r\n",
      "Requirement already satisfied: warc3-wet-clueweb09>=0.2.5 in /home/anistor/.local/lib/python3.10/site-packages (from ir-datasets>=0.3.2->python-terrier==0.10.0) (0.2.5)\r\n",
      "Requirement already satisfied: zlib-state>=0.1.3 in /home/anistor/.local/lib/python3.10/site-packages (from ir-datasets>=0.3.2->python-terrier==0.10.0) (0.1.6)\r\n",
      "Requirement already satisfied: ijson>=3.1.3 in /home/anistor/.local/lib/python3.10/site-packages (from ir-datasets>=0.3.2->python-terrier==0.10.0) (3.2.3)\r\n",
      "Requirement already satisfied: pyautocorpus>=0.1.1 in /home/anistor/.local/lib/python3.10/site-packages (from ir-datasets>=0.3.2->python-terrier==0.10.0) (0.1.12)\r\n",
      "Requirement already satisfied: unlzw3>=0.2.1 in /home/anistor/.local/lib/python3.10/site-packages (from ir-datasets>=0.3.2->python-terrier==0.10.0) (0.2.2)\r\n",
      "Requirement already satisfied: cwl-eval>=1.0.10 in /home/anistor/.local/lib/python3.10/site-packages (from ir-measures>=0.3.1->python-terrier==0.10.0) (1.0.12)\r\n",
      "Requirement already satisfied: charset-normalizer<4,>=2 in /usr/local/lib/python3.10/dist-packages (from requests->python-terrier==0.10.0) (3.3.2)\r\n",
      "Requirement already satisfied: idna<4,>=2.5 in /usr/lib/python3/dist-packages (from requests->python-terrier==0.10.0) (3.3)\r\n",
      "Requirement already satisfied: urllib3<3,>=1.21.1 in /usr/lib/python3/dist-packages (from requests->python-terrier==0.10.0) (1.26.5)\r\n",
      "Requirement already satisfied: certifi>=2017.4.17 in /usr/lib/python3/dist-packages (from requests->python-terrier==0.10.0) (2020.6.20)\r\n",
      "Requirement already satisfied: heapdict in /home/anistor/.local/lib/python3.10/site-packages (from chest->python-terrier==0.10.0) (1.0.1)\r\n",
      "Requirement already satisfied: wrapt<2,>=1.10 in /home/anistor/.local/lib/python3.10/site-packages (from deprecated->python-terrier==0.10.0) (1.16.0)\r\n",
      "Requirement already satisfied: multiset<3.0,>=2.0 in /home/anistor/.local/lib/python3.10/site-packages (from matchpy->python-terrier==0.10.0) (2.1.1)\r\n",
      "Requirement already satisfied: python-dateutil>=2.8.2 in /usr/local/lib/python3.10/dist-packages (from pandas->python-terrier==0.10.0) (2.9.0.post0)\r\n",
      "Requirement already satisfied: pytz>=2020.1 in /usr/lib/python3/dist-packages (from pandas->python-terrier==0.10.0) (2022.1)\r\n",
      "Requirement already satisfied: tzdata>=2022.7 in /home/anistor/.local/lib/python3.10/site-packages (from pandas->python-terrier==0.10.0) (2024.1)\r\n",
      "Requirement already satisfied: patsy>=0.5.6 in /home/anistor/.local/lib/python3.10/site-packages (from statsmodels->python-terrier==0.10.0) (0.5.6)\r\n",
      "Requirement already satisfied: packaging>=21.3 in /usr/local/lib/python3.10/dist-packages (from statsmodels->python-terrier==0.10.0) (24.0)\r\n",
      "Requirement already satisfied: soupsieve>1.2 in /usr/local/lib/python3.10/dist-packages (from beautifulsoup4>=4.4.1->ir-datasets>=0.3.2->python-terrier==0.10.0) (2.5)\r\n",
      "Requirement already satisfied: six in /usr/lib/python3/dist-packages (from patsy>=0.5.6->statsmodels->python-terrier==0.10.0) (1.16.0)\r\n",
      "Requirement already satisfied: cbor>=1.0.0 in /home/anistor/.local/lib/python3.10/site-packages (from trec-car-tools>=2.5.4->ir-datasets>=0.3.2->python-terrier==0.10.0) (1.0.0)\r\n",
      "Note: you may need to restart the kernel to use updated packages.\n"
     ]
    }
   ],
   "source": [
    "pip install python-terrier==0.10.0 nltk scikit-learn lightgbm"
   ]
  },
  {
   "cell_type": "code",
   "execution_count": 2,
   "metadata": {},
   "outputs": [
    {
     "name": "stderr",
     "output_type": "stream",
     "text": [
      "PyTerrier 0.10.0 has loaded Terrier 5.9 (built by craigm on 2024-05-02 17:40) and terrier-helper 0.0.8\n",
      "\n",
      "No etc/terrier.properties, using terrier.default.properties for bootstrap configuration.\n"
     ]
    }
   ],
   "source": [
    "import pyterrier as pt\n",
    "\n",
    "if not pt.started():\n",
    "    pt.init(tqdm=\"notebook\")"
   ]
  },
  {
   "cell_type": "markdown",
   "metadata": {},
   "source": [
    "We'll use NLTK for tokenization later. This requires some data that we need to download first:\n"
   ]
  },
  {
   "cell_type": "code",
   "execution_count": 3,
   "metadata": {},
   "outputs": [
    {
     "name": "stderr",
     "output_type": "stream",
     "text": [
      "[nltk_data] Downloading package punkt to /home/anistor/nltk_data...\n",
      "[nltk_data]   Package punkt is already up-to-date!\n"
     ]
    },
    {
     "data": {
      "text/plain": "True"
     },
     "execution_count": 3,
     "metadata": {},
     "output_type": "execute_result"
    }
   ],
   "source": [
    "import nltk\n",
    "\n",
    "nltk.download(\"punkt\")"
   ]
  },
  {
   "cell_type": "markdown",
   "metadata": {},
   "source": [
    "We'll use the `nfcorpus` dataset again, as before. In this notebook, we'll use a subset of the queries (`nontopic`). The only reason for this is that it makes the computations faster.\n"
   ]
  },
  {
   "cell_type": "code",
   "execution_count": 4,
   "metadata": {},
   "outputs": [],
   "source": [
    "dataset = pt.get_dataset(\"irds:nfcorpus\")"
   ]
  },
  {
   "cell_type": "markdown",
   "metadata": {},
   "source": [
    "As LTR models rely on query and document features, we'll include some metadata in our index, namely the titles, abstracts, and URLs.\n",
    "\n",
    "Note that this seems to slow down retrieval quite a bit (even when we're not retrieving the metadata from the index), so this notebook might run slower on your machine than the previous ones. We'll use caching on most transformers to mitigate this problem at least somewhat.\n"
   ]
  },
  {
   "cell_type": "code",
   "execution_count": 5,
   "metadata": {},
   "outputs": [
    {
     "data": {
      "text/plain": "nfcorpus documents:   0%|          | 0/5371 [00:00<?, ?it/s]",
      "application/vnd.jupyter.widget-view+json": {
       "version_major": 2,
       "version_minor": 0,
       "model_id": "5744000838c444789799ea759725cb5a"
      }
     },
     "metadata": {},
     "output_type": "display_data"
    }
   ],
   "source": [
    "from pathlib import Path\n",
    "\n",
    "index = pt.index.IterDictIndexer(\n",
    "    str(Path.cwd()),  # this will be ignored\n",
    "    meta={\n",
    "        \"docno\": 16,\n",
    "        \"title\": 256,\n",
    "        \"abstract\": 65536,\n",
    "        \"url\": 128,\n",
    "    },\n",
    "    type=pt.index.IndexingType.MEMORY,\n",
    ").index(dataset.get_corpus_iter(), fields=[\"title\", \"abstract\", \"url\"])"
   ]
  },
  {
   "cell_type": "markdown",
   "metadata": {},
   "source": [
    "## LTR paradigm\n",
    "\n",
    "The idea of learning-to-rank is to use a feature-based supervised machine learning model for ranking. PyTerrier supports end-to-end LTR pipelines, including first-stage retrieval, computation of features, training, and evaluation.\n",
    "\n",
    "### First-stage retrieval\n",
    "\n",
    "LTR models are commonly used in a two-stage process (_retrieve-and-re-rank_): A lightweight retrieval model is used for _candidate selection_ given a query, and the LTR model subsequently _re-ranks_ the candidates. This is because applying the LTR model directly on the whole corpus would be too expensive.\n",
    "\n",
    "We'll use good old BM25 for first-stage retrieval. In order to keep the runtime of this notebook down, we limit the number of documents to be re-ranked to `100`. We also include the metadata of the retrieved documents so we can use it to compute features later:\n"
   ]
  },
  {
   "cell_type": "code",
   "execution_count": 6,
   "metadata": {},
   "outputs": [],
   "source": [
    "first_stage_bm25 = pt.BatchRetrieve(\n",
    "    index,\n",
    "    wmodel=\"BM25\",\n",
    "    num_results=100,\n",
    "    metadata=[\"docno\", \"title\", \"abstract\", \"url\"],\n",
    ")"
   ]
  },
  {
   "cell_type": "markdown",
   "metadata": {},
   "source": [
    "### Computing features\n",
    "\n",
    "In order to compute features, we can use PyTerrier transformers. Specifically, the `**` operator (_feature union_) collects features computed by transformers in a designated column in the data frame.\n",
    "\n",
    "In order to illustrate this, we can use other retrievers to compute features. By applying the feature operator, we instruct PyTerrier to use these models for _scoring_ rather than retrieval. Here, we initialize two `pyterrier.BatchRetrieve` objects with the PL2 and DPH weighting models and include them in the pipeline:\n"
   ]
  },
  {
   "cell_type": "code",
   "execution_count": 7,
   "metadata": {},
   "outputs": [],
   "source": [
    "pipeline_with_features = ~first_stage_bm25 >> (\n",
    "    pt.BatchRetrieve(index, wmodel=\"PL2\") ** pt.BatchRetrieve(index, wmodel=\"DPH\")\n",
    ")"
   ]
  },
  {
   "cell_type": "markdown",
   "metadata": {},
   "source": [
    "What this pipeline does is the following: For each query,\n",
    "\n",
    "1. retrieve the top-`100` documents using the first-stage retriever (BM25), and\n",
    "2. compute the PL2 and DPH scores for each query-document pair (these are the features).\n",
    "\n",
    "Let's run this pipeline on a single query from the test set:\n"
   ]
  },
  {
   "cell_type": "code",
   "execution_count": 8,
   "metadata": {},
   "outputs": [
    {
     "name": "stdout",
     "output_type": "stream",
     "text": [
      "09:46:00.245 [main] WARN org.terrier.querying.ApplyTermPipeline - The index has no termpipelines configuration, and no control configuration is found. Defaulting to global termpipelines configuration of 'Stopwords,PorterStemmer'. Set a termpipelines control to remove this warning.\n",
      "09:46:00.398 [main] WARN org.terrier.querying.ApplyTermPipeline - The index has no termpipelines configuration, and no control configuration is found. Defaulting to global termpipelines configuration of 'Stopwords,PorterStemmer'. Set a termpipelines control to remove this warning.\n"
     ]
    },
    {
     "data": {
      "text/plain": "          qid  docid     docno  \\\n0   PLAIN-102   3953  MED-3954   \n1   PLAIN-102    762   MED-763   \n2   PLAIN-102   3113  MED-3114   \n3   PLAIN-102   4246  MED-4247   \n4   PLAIN-102   4615  MED-4616   \n..        ...    ...       ...   \n95  PLAIN-102   1380  MED-1381   \n96  PLAIN-102   5289  MED-5290   \n97  PLAIN-102   4631  MED-4632   \n98  PLAIN-102   1529  MED-1530   \n99  PLAIN-102   1986  MED-1987   \n\n                                                title  \\\n0   Does childhood meat eating contribute to sex d...   \n1   Can lifestyle changes reverse coronary heart d...   \n2   Can lifestyle changes reverse coronary heart d...   \n3   Can lifestyle changes reverse coronary heart d...   \n4   Can lifestyle changes reverse coronary heart d...   \n..                                                ...   \n95  Nut consumption, vegetarian diets, ischemic he...   \n96  By how much does dietary salt reduction lower ...   \n97  The effect of vegetarian diets on plasma lipid...   \n98  Cardiovascular disease mortality and cancer in...   \n99  Management of type 2 diabetes mellitus in chil...   \n\n                                             abstract  \\\n0   Abstract BACKGROUND: A male epidemic of ischae...   \n1   Abstract In a prospective, randomised, control...   \n2   Abstract In a prospective, randomised, control...   \n3   Abstract In a prospective, randomised, control...   \n4   Abstract In a prospective, randomised, control...   \n..                                                ...   \n95  Abstract Perhaps one of the most unexpected an...   \n96  Abstract OBJECTIVE: To determine whether the r...   \n97  Abstract Vegetarians have an apparent diminish...   \n98  Abstract BACKGROUND: Prospective cohort studie...   \n99  Abstract OBJECTIVE: Over the last 3 decades, t...   \n\n                                                  url  rank      score  \\\n0         http://www.ncbi.nlm.nih.gov/pubmed/20584727     0  16.655603   \n1          http://www.ncbi.nlm.nih.gov/pubmed/1973470     1  16.079502   \n2          http://www.ncbi.nlm.nih.gov/pubmed/1973470     2  16.079502   \n3          http://www.ncbi.nlm.nih.gov/pubmed/1973470     3  16.079502   \n4   http://www.ncbi.nlm.nih.gov/pubmed?term=197347...     4  16.006212   \n..                                                ...   ...        ...   \n95        http://www.ncbi.nlm.nih.gov/pubmed/10479222    95   7.464447   \n96         http://www.ncbi.nlm.nih.gov/pubmed/1827353    96   7.441086   \n97         http://www.ncbi.nlm.nih.gov/pubmed/3718107    97   7.424688   \n98        http://www.ncbi.nlm.nih.gov/pubmed/22677895    98   7.384765   \n99        http://www.ncbi.nlm.nih.gov/pubmed/23359584    99   7.357910   \n\n                                  query  \\\n0   stopping heart disease in childhood   \n1   stopping heart disease in childhood   \n2   stopping heart disease in childhood   \n3   stopping heart disease in childhood   \n4   stopping heart disease in childhood   \n..                                  ...   \n95  stopping heart disease in childhood   \n96  stopping heart disease in childhood   \n97  stopping heart disease in childhood   \n98  stopping heart disease in childhood   \n99  stopping heart disease in childhood   \n\n                                   features  \n0   [8.765510355432781, 11.141528677895415]  \n1    [8.024033817296976, 9.572516864813636]  \n2    [8.024033817296976, 9.572516864813636]  \n3    [8.024033817296976, 9.572516864813636]  \n4    [7.982582186272852, 9.542629848543106]  \n..                                      ...  \n95  [3.9439471553721486, 5.409153237736998]  \n96  [3.9580544332126895, 5.511288807456029]  \n97  [3.9115916379355955, 5.371299886428377]  \n98   [4.407142839906714, 6.110428965353158]  \n99   [3.1204649816265686, 4.92850855419999]  \n\n[100 rows x 10 columns]",
      "text/html": "<div>\n<style scoped>\n    .dataframe tbody tr th:only-of-type {\n        vertical-align: middle;\n    }\n\n    .dataframe tbody tr th {\n        vertical-align: top;\n    }\n\n    .dataframe thead th {\n        text-align: right;\n    }\n</style>\n<table border=\"1\" class=\"dataframe\">\n  <thead>\n    <tr style=\"text-align: right;\">\n      <th></th>\n      <th>qid</th>\n      <th>docid</th>\n      <th>docno</th>\n      <th>title</th>\n      <th>abstract</th>\n      <th>url</th>\n      <th>rank</th>\n      <th>score</th>\n      <th>query</th>\n      <th>features</th>\n    </tr>\n  </thead>\n  <tbody>\n    <tr>\n      <th>0</th>\n      <td>PLAIN-102</td>\n      <td>3953</td>\n      <td>MED-3954</td>\n      <td>Does childhood meat eating contribute to sex d...</td>\n      <td>Abstract BACKGROUND: A male epidemic of ischae...</td>\n      <td>http://www.ncbi.nlm.nih.gov/pubmed/20584727</td>\n      <td>0</td>\n      <td>16.655603</td>\n      <td>stopping heart disease in childhood</td>\n      <td>[8.765510355432781, 11.141528677895415]</td>\n    </tr>\n    <tr>\n      <th>1</th>\n      <td>PLAIN-102</td>\n      <td>762</td>\n      <td>MED-763</td>\n      <td>Can lifestyle changes reverse coronary heart d...</td>\n      <td>Abstract In a prospective, randomised, control...</td>\n      <td>http://www.ncbi.nlm.nih.gov/pubmed/1973470</td>\n      <td>1</td>\n      <td>16.079502</td>\n      <td>stopping heart disease in childhood</td>\n      <td>[8.024033817296976, 9.572516864813636]</td>\n    </tr>\n    <tr>\n      <th>2</th>\n      <td>PLAIN-102</td>\n      <td>3113</td>\n      <td>MED-3114</td>\n      <td>Can lifestyle changes reverse coronary heart d...</td>\n      <td>Abstract In a prospective, randomised, control...</td>\n      <td>http://www.ncbi.nlm.nih.gov/pubmed/1973470</td>\n      <td>2</td>\n      <td>16.079502</td>\n      <td>stopping heart disease in childhood</td>\n      <td>[8.024033817296976, 9.572516864813636]</td>\n    </tr>\n    <tr>\n      <th>3</th>\n      <td>PLAIN-102</td>\n      <td>4246</td>\n      <td>MED-4247</td>\n      <td>Can lifestyle changes reverse coronary heart d...</td>\n      <td>Abstract In a prospective, randomised, control...</td>\n      <td>http://www.ncbi.nlm.nih.gov/pubmed/1973470</td>\n      <td>3</td>\n      <td>16.079502</td>\n      <td>stopping heart disease in childhood</td>\n      <td>[8.024033817296976, 9.572516864813636]</td>\n    </tr>\n    <tr>\n      <th>4</th>\n      <td>PLAIN-102</td>\n      <td>4615</td>\n      <td>MED-4616</td>\n      <td>Can lifestyle changes reverse coronary heart d...</td>\n      <td>Abstract In a prospective, randomised, control...</td>\n      <td>http://www.ncbi.nlm.nih.gov/pubmed?term=197347...</td>\n      <td>4</td>\n      <td>16.006212</td>\n      <td>stopping heart disease in childhood</td>\n      <td>[7.982582186272852, 9.542629848543106]</td>\n    </tr>\n    <tr>\n      <th>...</th>\n      <td>...</td>\n      <td>...</td>\n      <td>...</td>\n      <td>...</td>\n      <td>...</td>\n      <td>...</td>\n      <td>...</td>\n      <td>...</td>\n      <td>...</td>\n      <td>...</td>\n    </tr>\n    <tr>\n      <th>95</th>\n      <td>PLAIN-102</td>\n      <td>1380</td>\n      <td>MED-1381</td>\n      <td>Nut consumption, vegetarian diets, ischemic he...</td>\n      <td>Abstract Perhaps one of the most unexpected an...</td>\n      <td>http://www.ncbi.nlm.nih.gov/pubmed/10479222</td>\n      <td>95</td>\n      <td>7.464447</td>\n      <td>stopping heart disease in childhood</td>\n      <td>[3.9439471553721486, 5.409153237736998]</td>\n    </tr>\n    <tr>\n      <th>96</th>\n      <td>PLAIN-102</td>\n      <td>5289</td>\n      <td>MED-5290</td>\n      <td>By how much does dietary salt reduction lower ...</td>\n      <td>Abstract OBJECTIVE: To determine whether the r...</td>\n      <td>http://www.ncbi.nlm.nih.gov/pubmed/1827353</td>\n      <td>96</td>\n      <td>7.441086</td>\n      <td>stopping heart disease in childhood</td>\n      <td>[3.9580544332126895, 5.511288807456029]</td>\n    </tr>\n    <tr>\n      <th>97</th>\n      <td>PLAIN-102</td>\n      <td>4631</td>\n      <td>MED-4632</td>\n      <td>The effect of vegetarian diets on plasma lipid...</td>\n      <td>Abstract Vegetarians have an apparent diminish...</td>\n      <td>http://www.ncbi.nlm.nih.gov/pubmed/3718107</td>\n      <td>97</td>\n      <td>7.424688</td>\n      <td>stopping heart disease in childhood</td>\n      <td>[3.9115916379355955, 5.371299886428377]</td>\n    </tr>\n    <tr>\n      <th>98</th>\n      <td>PLAIN-102</td>\n      <td>1529</td>\n      <td>MED-1530</td>\n      <td>Cardiovascular disease mortality and cancer in...</td>\n      <td>Abstract BACKGROUND: Prospective cohort studie...</td>\n      <td>http://www.ncbi.nlm.nih.gov/pubmed/22677895</td>\n      <td>98</td>\n      <td>7.384765</td>\n      <td>stopping heart disease in childhood</td>\n      <td>[4.407142839906714, 6.110428965353158]</td>\n    </tr>\n    <tr>\n      <th>99</th>\n      <td>PLAIN-102</td>\n      <td>1986</td>\n      <td>MED-1987</td>\n      <td>Management of type 2 diabetes mellitus in chil...</td>\n      <td>Abstract OBJECTIVE: Over the last 3 decades, t...</td>\n      <td>http://www.ncbi.nlm.nih.gov/pubmed/23359584</td>\n      <td>99</td>\n      <td>7.357910</td>\n      <td>stopping heart disease in childhood</td>\n      <td>[3.1204649816265686, 4.92850855419999]</td>\n    </tr>\n  </tbody>\n</table>\n<p>100 rows × 10 columns</p>\n</div>"
     },
     "execution_count": 8,
     "metadata": {},
     "output_type": "execute_result"
    }
   ],
   "source": [
    "test_queries = pt.get_dataset(\"irds:nfcorpus/test/nontopic\").get_topics()\n",
    "pipeline_with_features(test_queries[test_queries[\"qid\"] == \"PLAIN-102\"])"
   ]
  },
  {
   "cell_type": "markdown",
   "metadata": {},
   "source": [
    "Each row corresponds to one of the candidate documents for this query. The `score` column contains the first-stage retrieval score (BM25), by which the documents are ordered. Finally, the `features` column contains the list of features. In our case, the first feature is the PL2 score, and the second feature is the DPH score.\n",
    "\n",
    "#### Custom features\n",
    "\n",
    "It is also easy to compute our own features. This can be done with custom transformers.\n",
    "\n",
    "Say, for example, we want to compute very simple similarity scores of the query to the title and abstract of each document, respectively. We can do this by implementing a function that takes as input a single row of the data frame (as above) and outputs a list of features (as a `numpy.ndarray`). In our case, we compute the Jaccard similarity of the query to the title and abstract:\n"
   ]
  },
  {
   "cell_type": "code",
   "execution_count": 9,
   "metadata": {},
   "outputs": [],
   "source": [
    "import numpy as np\n",
    "\n",
    "\n",
    "def _jaccard_sim(row):\n",
    "    query_tokens = set(nltk.word_tokenize(row[\"query\"].lower()))\n",
    "    title_tokens = set(nltk.word_tokenize(row[\"title\"].lower()))\n",
    "    abstract_tokens = set(nltk.word_tokenize(row[\"abstract\"].lower()))\n",
    "    js_query_title = len(query_tokens & title_tokens) / len(query_tokens | title_tokens)\n",
    "    js_query_abstract = len(query_tokens & abstract_tokens) / len(\n",
    "        query_tokens | abstract_tokens\n",
    "    )\n",
    "    return np.array([js_query_title, js_query_abstract])"
   ]
  },
  {
   "cell_type": "markdown",
   "metadata": {},
   "source": [
    "_Side note: This way of doing it is inefficient, because each query is tokenized multiple times. Can you think of a better way of implementing this?_\n",
    "\n",
    "We can now include this function as a transformer in our pipeline by using [`pyterrier.apply.doc_features`](https://pyterrier.readthedocs.io/en/latest/apply.html#pyterrier.apply.doc_features).\n",
    "\n",
    "You might have noticed that we're accessing the `title` and `abstract` columns in the data frame. This is possible because we added them as metadata during indexing and specified the metadata to be retrieved by `first_stage_bm25`. Alternatively, you can use the [`pyterrier.text.get_text`](https://pyterrier.readthedocs.io/en/latest/text.html#pyterrier.text.get_text) transformer to retrieve metadata from the index.\n",
    "\n",
    "Our new pipeline looks like this:\n"
   ]
  },
  {
   "cell_type": "code",
   "execution_count": 10,
   "metadata": {},
   "outputs": [],
   "source": [
    "pipeline_with_features = ~first_stage_bm25 >> (\n",
    "    pt.apply.doc_features(_jaccard_sim)\n",
    "    ** pt.BatchRetrieve(index, wmodel=\"PL2\")\n",
    "    ** pt.BatchRetrieve(index, wmodel=\"DPH\")\n",
    ")"
   ]
  },
  {
   "cell_type": "markdown",
   "metadata": {},
   "source": [
    "Running the same query through the new pipeline, we can see that our four features show up in the list:\n"
   ]
  },
  {
   "cell_type": "code",
   "execution_count": 11,
   "metadata": {},
   "outputs": [
    {
     "name": "stdout",
     "output_type": "stream",
     "text": [
      "09:46:00.633 [main] WARN org.terrier.querying.ApplyTermPipeline - The index has no termpipelines configuration, and no control configuration is found. Defaulting to global termpipelines configuration of 'Stopwords,PorterStemmer'. Set a termpipelines control to remove this warning.\n",
      "09:46:00.659 [main] WARN org.terrier.querying.ApplyTermPipeline - The index has no termpipelines configuration, and no control configuration is found. Defaulting to global termpipelines configuration of 'Stopwords,PorterStemmer'. Set a termpipelines control to remove this warning.\n"
     ]
    },
    {
     "data": {
      "text/plain": "          qid  docid     docno  \\\n0   PLAIN-102   3953  MED-3954   \n1   PLAIN-102    762   MED-763   \n2   PLAIN-102   3113  MED-3114   \n3   PLAIN-102   4246  MED-4247   \n4   PLAIN-102   4615  MED-4616   \n..        ...    ...       ...   \n95  PLAIN-102   1380  MED-1381   \n96  PLAIN-102   5289  MED-5290   \n97  PLAIN-102   4631  MED-4632   \n98  PLAIN-102   1529  MED-1530   \n99  PLAIN-102   1986  MED-1987   \n\n                                                title  \\\n0   Does childhood meat eating contribute to sex d...   \n1   Can lifestyle changes reverse coronary heart d...   \n2   Can lifestyle changes reverse coronary heart d...   \n3   Can lifestyle changes reverse coronary heart d...   \n4   Can lifestyle changes reverse coronary heart d...   \n..                                                ...   \n95  Nut consumption, vegetarian diets, ischemic he...   \n96  By how much does dietary salt reduction lower ...   \n97  The effect of vegetarian diets on plasma lipid...   \n98  Cardiovascular disease mortality and cancer in...   \n99  Management of type 2 diabetes mellitus in chil...   \n\n                                             abstract  \\\n0   Abstract BACKGROUND: A male epidemic of ischae...   \n1   Abstract In a prospective, randomised, control...   \n2   Abstract In a prospective, randomised, control...   \n3   Abstract In a prospective, randomised, control...   \n4   Abstract In a prospective, randomised, control...   \n..                                                ...   \n95  Abstract Perhaps one of the most unexpected an...   \n96  Abstract OBJECTIVE: To determine whether the r...   \n97  Abstract Vegetarians have an apparent diminish...   \n98  Abstract BACKGROUND: Prospective cohort studie...   \n99  Abstract OBJECTIVE: Over the last 3 decades, t...   \n\n                                                  url  rank      score  \\\n0         http://www.ncbi.nlm.nih.gov/pubmed/20584727     0  16.655603   \n1          http://www.ncbi.nlm.nih.gov/pubmed/1973470     1  16.079502   \n2          http://www.ncbi.nlm.nih.gov/pubmed/1973470     2  16.079502   \n3          http://www.ncbi.nlm.nih.gov/pubmed/1973470     3  16.079502   \n4   http://www.ncbi.nlm.nih.gov/pubmed?term=197347...     4  16.006212   \n..                                                ...   ...        ...   \n95        http://www.ncbi.nlm.nih.gov/pubmed/10479222    95   7.464447   \n96         http://www.ncbi.nlm.nih.gov/pubmed/1827353    96   7.441086   \n97         http://www.ncbi.nlm.nih.gov/pubmed/3718107    97   7.424688   \n98        http://www.ncbi.nlm.nih.gov/pubmed/22677895    98   7.384765   \n99        http://www.ncbi.nlm.nih.gov/pubmed/23359584    99   7.357910   \n\n                                  query  \\\n0   stopping heart disease in childhood   \n1   stopping heart disease in childhood   \n2   stopping heart disease in childhood   \n3   stopping heart disease in childhood   \n4   stopping heart disease in childhood   \n..                                  ...   \n95  stopping heart disease in childhood   \n96  stopping heart disease in childhood   \n97  stopping heart disease in childhood   \n98  stopping heart disease in childhood   \n99  stopping heart disease in childhood   \n\n                                             features  \n0   [0.17391304347826086, 0.023952095808383235, 8....  \n1   [0.11764705882352941, 0.018867924528301886, 8....  \n2   [0.11764705882352941, 0.018867924528301886, 8....  \n3   [0.11764705882352941, 0.018867924528301886, 8....  \n4   [0.11764705882352941, 0.018867924528301886, 7....  \n..                                                ...  \n95  [0.08333333333333333, 0.024793388429752067, 3....  \n96  [0.0, 0.016304347826086956, 3.9580544332126895...  \n97  [0.0, 0.02631578947368421, 3.9115916379355955,...  \n98  [0.1, 0.02564102564102564, 4.407142839906714, ...  \n99  [0.05555555555555555, 0.015625, 3.120464981626...  \n\n[100 rows x 10 columns]",
      "text/html": "<div>\n<style scoped>\n    .dataframe tbody tr th:only-of-type {\n        vertical-align: middle;\n    }\n\n    .dataframe tbody tr th {\n        vertical-align: top;\n    }\n\n    .dataframe thead th {\n        text-align: right;\n    }\n</style>\n<table border=\"1\" class=\"dataframe\">\n  <thead>\n    <tr style=\"text-align: right;\">\n      <th></th>\n      <th>qid</th>\n      <th>docid</th>\n      <th>docno</th>\n      <th>title</th>\n      <th>abstract</th>\n      <th>url</th>\n      <th>rank</th>\n      <th>score</th>\n      <th>query</th>\n      <th>features</th>\n    </tr>\n  </thead>\n  <tbody>\n    <tr>\n      <th>0</th>\n      <td>PLAIN-102</td>\n      <td>3953</td>\n      <td>MED-3954</td>\n      <td>Does childhood meat eating contribute to sex d...</td>\n      <td>Abstract BACKGROUND: A male epidemic of ischae...</td>\n      <td>http://www.ncbi.nlm.nih.gov/pubmed/20584727</td>\n      <td>0</td>\n      <td>16.655603</td>\n      <td>stopping heart disease in childhood</td>\n      <td>[0.17391304347826086, 0.023952095808383235, 8....</td>\n    </tr>\n    <tr>\n      <th>1</th>\n      <td>PLAIN-102</td>\n      <td>762</td>\n      <td>MED-763</td>\n      <td>Can lifestyle changes reverse coronary heart d...</td>\n      <td>Abstract In a prospective, randomised, control...</td>\n      <td>http://www.ncbi.nlm.nih.gov/pubmed/1973470</td>\n      <td>1</td>\n      <td>16.079502</td>\n      <td>stopping heart disease in childhood</td>\n      <td>[0.11764705882352941, 0.018867924528301886, 8....</td>\n    </tr>\n    <tr>\n      <th>2</th>\n      <td>PLAIN-102</td>\n      <td>3113</td>\n      <td>MED-3114</td>\n      <td>Can lifestyle changes reverse coronary heart d...</td>\n      <td>Abstract In a prospective, randomised, control...</td>\n      <td>http://www.ncbi.nlm.nih.gov/pubmed/1973470</td>\n      <td>2</td>\n      <td>16.079502</td>\n      <td>stopping heart disease in childhood</td>\n      <td>[0.11764705882352941, 0.018867924528301886, 8....</td>\n    </tr>\n    <tr>\n      <th>3</th>\n      <td>PLAIN-102</td>\n      <td>4246</td>\n      <td>MED-4247</td>\n      <td>Can lifestyle changes reverse coronary heart d...</td>\n      <td>Abstract In a prospective, randomised, control...</td>\n      <td>http://www.ncbi.nlm.nih.gov/pubmed/1973470</td>\n      <td>3</td>\n      <td>16.079502</td>\n      <td>stopping heart disease in childhood</td>\n      <td>[0.11764705882352941, 0.018867924528301886, 8....</td>\n    </tr>\n    <tr>\n      <th>4</th>\n      <td>PLAIN-102</td>\n      <td>4615</td>\n      <td>MED-4616</td>\n      <td>Can lifestyle changes reverse coronary heart d...</td>\n      <td>Abstract In a prospective, randomised, control...</td>\n      <td>http://www.ncbi.nlm.nih.gov/pubmed?term=197347...</td>\n      <td>4</td>\n      <td>16.006212</td>\n      <td>stopping heart disease in childhood</td>\n      <td>[0.11764705882352941, 0.018867924528301886, 7....</td>\n    </tr>\n    <tr>\n      <th>...</th>\n      <td>...</td>\n      <td>...</td>\n      <td>...</td>\n      <td>...</td>\n      <td>...</td>\n      <td>...</td>\n      <td>...</td>\n      <td>...</td>\n      <td>...</td>\n      <td>...</td>\n    </tr>\n    <tr>\n      <th>95</th>\n      <td>PLAIN-102</td>\n      <td>1380</td>\n      <td>MED-1381</td>\n      <td>Nut consumption, vegetarian diets, ischemic he...</td>\n      <td>Abstract Perhaps one of the most unexpected an...</td>\n      <td>http://www.ncbi.nlm.nih.gov/pubmed/10479222</td>\n      <td>95</td>\n      <td>7.464447</td>\n      <td>stopping heart disease in childhood</td>\n      <td>[0.08333333333333333, 0.024793388429752067, 3....</td>\n    </tr>\n    <tr>\n      <th>96</th>\n      <td>PLAIN-102</td>\n      <td>5289</td>\n      <td>MED-5290</td>\n      <td>By how much does dietary salt reduction lower ...</td>\n      <td>Abstract OBJECTIVE: To determine whether the r...</td>\n      <td>http://www.ncbi.nlm.nih.gov/pubmed/1827353</td>\n      <td>96</td>\n      <td>7.441086</td>\n      <td>stopping heart disease in childhood</td>\n      <td>[0.0, 0.016304347826086956, 3.9580544332126895...</td>\n    </tr>\n    <tr>\n      <th>97</th>\n      <td>PLAIN-102</td>\n      <td>4631</td>\n      <td>MED-4632</td>\n      <td>The effect of vegetarian diets on plasma lipid...</td>\n      <td>Abstract Vegetarians have an apparent diminish...</td>\n      <td>http://www.ncbi.nlm.nih.gov/pubmed/3718107</td>\n      <td>97</td>\n      <td>7.424688</td>\n      <td>stopping heart disease in childhood</td>\n      <td>[0.0, 0.02631578947368421, 3.9115916379355955,...</td>\n    </tr>\n    <tr>\n      <th>98</th>\n      <td>PLAIN-102</td>\n      <td>1529</td>\n      <td>MED-1530</td>\n      <td>Cardiovascular disease mortality and cancer in...</td>\n      <td>Abstract BACKGROUND: Prospective cohort studie...</td>\n      <td>http://www.ncbi.nlm.nih.gov/pubmed/22677895</td>\n      <td>98</td>\n      <td>7.384765</td>\n      <td>stopping heart disease in childhood</td>\n      <td>[0.1, 0.02564102564102564, 4.407142839906714, ...</td>\n    </tr>\n    <tr>\n      <th>99</th>\n      <td>PLAIN-102</td>\n      <td>1986</td>\n      <td>MED-1987</td>\n      <td>Management of type 2 diabetes mellitus in chil...</td>\n      <td>Abstract OBJECTIVE: Over the last 3 decades, t...</td>\n      <td>http://www.ncbi.nlm.nih.gov/pubmed/23359584</td>\n      <td>99</td>\n      <td>7.357910</td>\n      <td>stopping heart disease in childhood</td>\n      <td>[0.05555555555555555, 0.015625, 3.120464981626...</td>\n    </tr>\n  </tbody>\n</table>\n<p>100 rows × 10 columns</p>\n</div>"
     },
     "execution_count": 11,
     "metadata": {},
     "output_type": "execute_result"
    }
   ],
   "source": [
    "pipeline_with_features(test_queries[test_queries[\"qid\"] == \"PLAIN-102\"])"
   ]
  },
  {
   "cell_type": "markdown",
   "metadata": {},
   "source": [
    "If you only want to compute a single feature in your custom transformer, you can use [`pyterrier.apply.doc_score`](https://pyterrier.readthedocs.io/en/latest/apply.html#pyterrier.apply.doc_score). Let's add two more features:\n",
    "\n",
    "1. By returning `row[\"score\"]`, we're simply adding the first-stage retrieval score to the feature set.\n",
    "2. We'll also include the length of the URL as a feature.\n",
    "\n",
    "We now have a complete pipeline with six features in total:\n"
   ]
  },
  {
   "cell_type": "code",
   "execution_count": 12,
   "metadata": {},
   "outputs": [],
   "source": [
    "pipeline_complete = ~first_stage_bm25 >> (\n",
    "    pt.apply.doc_features(_jaccard_sim)\n",
    "    ** pt.BatchRetrieve(index, wmodel=\"PL2\")\n",
    "    ** pt.BatchRetrieve(index, wmodel=\"DPH\")\n",
    "    ** pt.apply.doc_score(lambda row: row[\"score\"])\n",
    "    ** pt.apply.doc_score(lambda row: len(row[\"url\"]))\n",
    ")"
   ]
  },
  {
   "cell_type": "markdown",
   "metadata": {},
   "source": [
    "### Training LTR models\n",
    "\n",
    "The actual models used for re-ranking are not implemented in PyTerrier itself; rather, PyTerrier provides a transformer for trainable models (i.e., regression or LTR models) that implement a scikit-learn-like API (i.e., `fit` and `predict` methods). These trainable transformers are [`pyterrier.Estimator`](https://pyterrier.readthedocs.io/en/latest/transformer.html#pt-transformer-estimator) objects.\n",
    "\n",
    "We'll start by training a simple SVM regression model from scikit-learn. Estimators can be created using [`pyterrier.ltr.apply_learned_model`](https://pyterrier.readthedocs.io/en/latest/ltr.html#pyterrier.ltr.apply_learned_model):\n"
   ]
  },
  {
   "cell_type": "code",
   "execution_count": 13,
   "metadata": {},
   "outputs": [],
   "source": [
    "from sklearn.svm import SVR\n",
    "\n",
    "ltr_svm = ~pipeline_complete >> pt.ltr.apply_learned_model(SVR())"
   ]
  },
  {
   "cell_type": "markdown",
   "metadata": {},
   "source": [
    "Before we can do re-ranking, the model needs to be trained. The `nfcorpus` dataset provides a train/dev/test split, so we can easily load the training data.\n",
    "\n",
    "**Depending on your hardware, the next cell might take a while to execute.**\n"
   ]
  },
  {
   "cell_type": "code",
   "execution_count": 14,
   "metadata": {},
   "outputs": [],
   "source": [
    "ltr_svm.fit(\n",
    "    pt.get_dataset(\"irds:nfcorpus/train/nontopic\").get_topics(),\n",
    "    pt.get_dataset(\"irds:nfcorpus/train/nontopic\").get_qrels(),\n",
    ")"
   ]
  },
  {
   "cell_type": "markdown",
   "metadata": {},
   "source": [
    "We can also directly use gradient boosting methods from [XGBoost](https://xgboost.readthedocs.io/en/latest/) and [LightGBM](https://lightgbm.readthedocs.io/en/stable/) by specifying `form=\"ltr\"`. Let's train a [`lightgbm.LGBMRanker`](https://lightgbm.readthedocs.io/en/latest/pythonapi/lightgbm.LGBMRanker.html), which defaults to a LambdaMART model:\n"
   ]
  },
  {
   "cell_type": "code",
   "execution_count": 15,
   "metadata": {},
   "outputs": [],
   "source": [
    "from lightgbm import LGBMRanker\n",
    "\n",
    "ltr_lambdamart = ~pipeline_complete >> pt.ltr.apply_learned_model(\n",
    "    LGBMRanker(\n",
    "        metric=\"ndcg\",\n",
    "        importance_type=\"gain\",\n",
    "    ),\n",
    "    form=\"ltr\",\n",
    ")"
   ]
  },
  {
   "cell_type": "markdown",
   "metadata": {},
   "source": [
    "This model makes use of validation (dev) data:\n"
   ]
  },
  {
   "cell_type": "code",
   "execution_count": 16,
   "metadata": {},
   "outputs": [
    {
     "name": "stdout",
     "output_type": "stream",
     "text": [
      "09:48:30.415 [main] WARN org.terrier.querying.ApplyTermPipeline - The index has no termpipelines configuration, and no control configuration is found. Defaulting to global termpipelines configuration of 'Stopwords,PorterStemmer'. Set a termpipelines control to remove this warning.\n",
      "09:48:32.613 [main] WARN org.terrier.querying.ApplyTermPipeline - The index has no termpipelines configuration, and no control configuration is found. Defaulting to global termpipelines configuration of 'Stopwords,PorterStemmer'. Set a termpipelines control to remove this warning.\n",
      "[LightGBM] [Info] Auto-choosing col-wise multi-threading, the overhead of testing was 0.002372 seconds.\n",
      "You can set `force_col_wise=true` to remove the overhead.\n",
      "[LightGBM] [Info] Total Bins 1152\n",
      "[LightGBM] [Info] Number of data points in the train set: 109480, number of used features: 6\n"
     ]
    }
   ],
   "source": [
    "ltr_lambdamart.fit(\n",
    "    pt.get_dataset(\"irds:nfcorpus/train/nontopic\").get_topics(),\n",
    "    pt.get_dataset(\"irds:nfcorpus/train/nontopic\").get_qrels(),\n",
    "    pt.get_dataset(\"irds:nfcorpus/dev/nontopic\").get_topics(),\n",
    "    pt.get_dataset(\"irds:nfcorpus/dev/nontopic\").get_qrels(),\n",
    ")"
   ]
  },
  {
   "cell_type": "markdown",
   "metadata": {},
   "source": [
    "Finally, we can compare the baseline performance (no LTR) with the SVM and LambdaMART models on the test set:\n"
   ]
  },
  {
   "cell_type": "code",
   "execution_count": 17,
   "metadata": {},
   "outputs": [
    {
     "name": "stdout",
     "output_type": "stream",
     "text": [
      "09:48:36.850 [main] WARN org.terrier.querying.ApplyTermPipeline - The index has no termpipelines configuration, and no control configuration is found. Defaulting to global termpipelines configuration of 'Stopwords,PorterStemmer'. Set a termpipelines control to remove this warning.\n"
     ]
    },
    {
     "data": {
      "text/plain": "                       name   nDCG@10     RR@10        AP\n0                      BM25  0.243556  0.451312  0.092002\n1         BM25 >> LTR (SVM)  0.173418  0.340592  0.068667\n2  BM25 >> LTR (LambdaMART)  0.256345  0.483455  0.099090",
      "text/html": "<div>\n<style scoped>\n    .dataframe tbody tr th:only-of-type {\n        vertical-align: middle;\n    }\n\n    .dataframe tbody tr th {\n        vertical-align: top;\n    }\n\n    .dataframe thead th {\n        text-align: right;\n    }\n</style>\n<table border=\"1\" class=\"dataframe\">\n  <thead>\n    <tr style=\"text-align: right;\">\n      <th></th>\n      <th>name</th>\n      <th>nDCG@10</th>\n      <th>RR@10</th>\n      <th>AP</th>\n    </tr>\n  </thead>\n  <tbody>\n    <tr>\n      <th>0</th>\n      <td>BM25</td>\n      <td>0.243556</td>\n      <td>0.451312</td>\n      <td>0.092002</td>\n    </tr>\n    <tr>\n      <th>1</th>\n      <td>BM25 &gt;&gt; LTR (SVM)</td>\n      <td>0.173418</td>\n      <td>0.340592</td>\n      <td>0.068667</td>\n    </tr>\n    <tr>\n      <th>2</th>\n      <td>BM25 &gt;&gt; LTR (LambdaMART)</td>\n      <td>0.256345</td>\n      <td>0.483455</td>\n      <td>0.099090</td>\n    </tr>\n  </tbody>\n</table>\n</div>"
     },
     "execution_count": 17,
     "metadata": {},
     "output_type": "execute_result"
    }
   ],
   "source": [
    "from pyterrier.measures import nDCG, RR, MAP\n",
    "\n",
    "pt.Experiment(\n",
    "    [first_stage_bm25, ltr_svm, ltr_lambdamart],\n",
    "    pt.get_dataset(\"irds:nfcorpus/test/nontopic\").get_topics(),\n",
    "    pt.get_dataset(\"irds:nfcorpus/test/nontopic\").get_qrels(),\n",
    "    names=[\"BM25\", \"BM25 >> LTR (SVM)\", \"BM25 >> LTR (LambdaMART)\"],\n",
    "    eval_metrics=[nDCG @ 10, RR @ 10, MAP],\n",
    ")"
   ]
  },
  {
   "cell_type": "markdown",
   "metadata": {},
   "source": [
    "### FeaturesBatchRetrieve\n",
    "\n",
    "So far, we have used the feature union operator (`**`) to append PL2 and DPH scores to our feature list. This is not optimal, because each of the operations requires another index access to compute the features. If we're only interested in those retrieval-based features, we can use [`pyterrier.FeaturesBatchRetrieve`](https://pyterrier.readthedocs.io/en/latest/ltr.html#pyterrier.FeaturesBatchRetrieve) instead, which computes everything at once:\n"
   ]
  },
  {
   "cell_type": "code",
   "execution_count": 18,
   "metadata": {},
   "outputs": [],
   "source": [
    "bm25_fbr = pt.FeaturesBatchRetrieve(\n",
    "    index,\n",
    "    wmodel=\"BM25\",\n",
    "    features=[\"WMODEL:BM25\", \"WMODEL:PL2\", \"WMODEL:DPH\"],\n",
    "    num_results=100,\n",
    ")"
   ]
  },
  {
   "cell_type": "markdown",
   "metadata": {},
   "source": [
    "### Feature ablation\n",
    "\n",
    "Given our approach above (`bm25_fbr`) with three features, we might be interested to know which of these features has the greatest impact on ranking performance. In order to find out, we could create three separate pipelines, where each of them has one of the features removed, and then compare the performance.\n",
    "\n",
    "Luckily, PyTerrier has us covered and provides transformers to make our lives easier: [`pyterrier.ltr.ablate_features`](https://pyterrier.readthedocs.io/en/latest/ltr.html#pyterrier.ltr.ablate_features) can be included in a pipeline to dynamically remove a set of features; [`pyterrier.ltr.keep_features`](https://pyterrier.readthedocs.io/en/latest/ltr.html#pyterrier.ltr.keep_features) does the opposite. Hence, we can simply use it in a loop to get the effect we want:\n"
   ]
  },
  {
   "cell_type": "code",
   "execution_count": 19,
   "metadata": {},
   "outputs": [],
   "source": [
    "ltr_lambdamart_abl = {\n",
    "    feature: bm25_fbr\n",
    "    >> pt.ltr.ablate_features(feature)\n",
    "    >> pt.ltr.apply_learned_model(\n",
    "        LGBMRanker(\n",
    "            metric=\"ndcg\",\n",
    "            importance_type=\"gain\",\n",
    "        ),\n",
    "        form=\"ltr\",\n",
    "    )\n",
    "    for feature in [0, 1, 2]\n",
    "}"
   ]
  },
  {
   "cell_type": "markdown",
   "metadata": {},
   "source": [
    "We have to train each of these models individually:\n"
   ]
  },
  {
   "cell_type": "code",
   "execution_count": 20,
   "metadata": {},
   "outputs": [
    {
     "name": "stdout",
     "output_type": "stream",
     "text": [
      "09:48:44.971 [main] WARN org.terrier.querying.ApplyTermPipeline - The index has no termpipelines configuration, and no control configuration is found. Defaulting to global termpipelines configuration of 'Stopwords,PorterStemmer'. Set a termpipelines control to remove this warning.\n",
      "[LightGBM] [Info] Auto-choosing row-wise multi-threading, the overhead of testing was 0.000251 seconds.\n",
      "You can set `force_row_wise=true` to remove the overhead.\n",
      "And if memory is not enough, you can set `force_col_wise=true`.\n",
      "[LightGBM] [Info] Total Bins 510\n",
      "[LightGBM] [Info] Number of data points in the train set: 109480, number of used features: 2\n",
      "[LightGBM] [Info] Auto-choosing row-wise multi-threading, the overhead of testing was 0.000199 seconds.\n",
      "You can set `force_row_wise=true` to remove the overhead.\n",
      "And if memory is not enough, you can set `force_col_wise=true`.\n",
      "[LightGBM] [Info] Total Bins 510\n",
      "[LightGBM] [Info] Number of data points in the train set: 109480, number of used features: 2\n",
      "[LightGBM] [Info] Auto-choosing row-wise multi-threading, the overhead of testing was 0.000463 seconds.\n",
      "You can set `force_row_wise=true` to remove the overhead.\n",
      "And if memory is not enough, you can set `force_col_wise=true`.\n",
      "[LightGBM] [Info] Total Bins 510\n",
      "[LightGBM] [Info] Number of data points in the train set: 109480, number of used features: 2\n"
     ]
    }
   ],
   "source": [
    "for pipeline in ltr_lambdamart_abl.values():\n",
    "    pipeline.fit(\n",
    "        pt.get_dataset(\"irds:nfcorpus/train/nontopic\").get_topics(),\n",
    "        pt.get_dataset(\"irds:nfcorpus/train/nontopic\").get_qrels(),\n",
    "        pt.get_dataset(\"irds:nfcorpus/dev/nontopic\").get_topics(),\n",
    "        pt.get_dataset(\"irds:nfcorpus/dev/nontopic\").get_qrels(),\n",
    "    )"
   ]
  },
  {
   "cell_type": "markdown",
   "metadata": {},
   "source": [
    "Finally, let's compare them:\n"
   ]
  },
  {
   "cell_type": "code",
   "execution_count": 21,
   "metadata": {},
   "outputs": [
    {
     "data": {
      "text/plain": "                             name   nDCG@10     RR@10        AP\n0  LambdaMART (feature 0 removed)  0.240494  0.434262  0.091672\n1  LambdaMART (feature 1 removed)  0.242884  0.441082  0.095138\n2  LambdaMART (feature 2 removed)  0.238330  0.431275  0.092944",
      "text/html": "<div>\n<style scoped>\n    .dataframe tbody tr th:only-of-type {\n        vertical-align: middle;\n    }\n\n    .dataframe tbody tr th {\n        vertical-align: top;\n    }\n\n    .dataframe thead th {\n        text-align: right;\n    }\n</style>\n<table border=\"1\" class=\"dataframe\">\n  <thead>\n    <tr style=\"text-align: right;\">\n      <th></th>\n      <th>name</th>\n      <th>nDCG@10</th>\n      <th>RR@10</th>\n      <th>AP</th>\n    </tr>\n  </thead>\n  <tbody>\n    <tr>\n      <th>0</th>\n      <td>LambdaMART (feature 0 removed)</td>\n      <td>0.240494</td>\n      <td>0.434262</td>\n      <td>0.091672</td>\n    </tr>\n    <tr>\n      <th>1</th>\n      <td>LambdaMART (feature 1 removed)</td>\n      <td>0.242884</td>\n      <td>0.441082</td>\n      <td>0.095138</td>\n    </tr>\n    <tr>\n      <th>2</th>\n      <td>LambdaMART (feature 2 removed)</td>\n      <td>0.238330</td>\n      <td>0.431275</td>\n      <td>0.092944</td>\n    </tr>\n  </tbody>\n</table>\n</div>"
     },
     "execution_count": 21,
     "metadata": {},
     "output_type": "execute_result"
    }
   ],
   "source": [
    "pipelines, names = [], []\n",
    "for feature, pipeline in ltr_lambdamart_abl.items():\n",
    "    pipelines.append(pipeline)\n",
    "    names.append(f\"LambdaMART (feature {feature} removed)\")\n",
    "\n",
    "pt.Experiment(\n",
    "    pipelines,\n",
    "    pt.get_dataset(\"irds:nfcorpus/test/nontopic\").get_topics(),\n",
    "    pt.get_dataset(\"irds:nfcorpus/test/nontopic\").get_qrels(),\n",
    "    names=names,\n",
    "    eval_metrics=[nDCG @ 10, RR @ 10, MAP],\n",
    ")"
   ]
  },
  {
   "cell_type": "markdown",
   "metadata": {},
   "source": [
    "## Further reading\n",
    "\n",
    "Check out the [LTR section](https://pyterrier.readthedocs.io/en/latest/ltr.html) in the PyTerrier documentation.\n"
   ]
  }
 ],
 "metadata": {
  "kernelspec": {
   "display_name": "pt",
   "language": "python",
   "name": "python3"
  },
  "language_info": {
   "codemirror_mode": {
    "name": "ipython",
    "version": 3
   },
   "file_extension": ".py",
   "mimetype": "text/x-python",
   "name": "python",
   "nbconvert_exporter": "python",
   "pygments_lexer": "ipython3",
   "version": "3.1.undefined"
  }
 },
 "nbformat": 4,
 "nbformat_minor": 2
}
